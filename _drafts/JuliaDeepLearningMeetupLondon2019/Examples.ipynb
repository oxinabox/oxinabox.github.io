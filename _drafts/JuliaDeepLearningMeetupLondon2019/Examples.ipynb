{
 "cells": [
  {
   "cell_type": "code",
   "execution_count": 1,
   "metadata": {},
   "outputs": [],
   "source": [
    "using Pkg: @pkg_str\n",
    "pkg\"activate  .\"\n"
   ]
  },
  {
   "cell_type": "markdown",
   "metadata": {},
   "source": [
    "![](https://white.ucc.asn.au/posts_assets/Intro%20to%20Machine%20Learning%20with%20TensorFlow.jl_files/Intro%20to%20Machine%20Learning%20with%20TensorFlow.jl_28_0.png)\n",
    "\n"
   ]
  },
  {
   "cell_type": "code",
   "execution_count": 2,
   "metadata": {},
   "outputs": [
    {
     "name": "stderr",
     "output_type": "stream",
     "text": [
      "┌ Info: Recompiling stale cache file /Users/oxinabox/.julia/compiled/v1.1/MLDatasets/9CUQK.ji for MLDatasets [eb30cadb-4394-5ae3-aed4-317e484a6458]\n",
      "└ @ Base loading.jl:1184\n",
      "┌ Info: Recompiling stale cache file /Users/oxinabox/.julia/compiled/v1.1/Plots/ld3vC.ji for Plots [91a5bcdd-55d7-5caf-9e0b-520d859cae80]\n",
      "└ @ Base loading.jl:1184\n",
      "┌ Info: Recompiling stale cache file /Users/oxinabox/.julia/compiled/v1.1/MLDataUtils/CQWB9.ji for MLDataUtils [cc2ba9b6-d476-5e6d-8eaf-a92d5412d41d]\n",
      "└ @ Base loading.jl:1184\n",
      "┌ Info: Recompiling stale cache file /Users/oxinabox/.julia/compiled/v1.1/TensorFlow/IhIhf.ji for TensorFlow [1d978283-2c37-5f34-9a8e-e9c0ece82495]\n",
      "└ @ Base loading.jl:1184\n",
      "┌ Warning: Loading a new version of TensorFlow.jl for the first time. This initial load can take around 5 minutes as code is precompiled; subsequent usage will only take a few seconds.\n",
      "└ @ TensorFlow ~/Documents/oxinabox.github.io/_drafts/JuliaDeepLearningMeetupLondon2019/dev/TensorFlow/src/TensorFlow.jl:3\n"
     ]
    }
   ],
   "source": [
    "using MLDatasets\n",
    "using Plots\n",
    "using MLDataUtils\n",
    "\n",
    "using TensorFlow\n",
    "using TensorFlow: summary\n",
    "\n",
    "using Statistics"
   ]
  },
  {
   "cell_type": "markdown",
   "metadata": {},
   "source": [
    "## Network Definition"
   ]
  },
  {
   "cell_type": "code",
   "execution_count": 223,
   "metadata": {},
   "outputs": [
    {
     "data": {
      "text/plain": [
       "<Tensor Group:1 shape=() dtype=Any>"
      ]
     },
     "execution_count": 223,
     "metadata": {},
     "output_type": "execute_result"
    }
   ],
   "source": [
    "sess = Session(Graph())\n",
    "\n",
    "leaky_relu6(x) = 0.01x + nn.relu6(x)\n",
    "\n",
    "# Network Definition\n",
    "@tf begin\n",
    "    X = placeholder(Float32, shape=[-1, 28*28])\n",
    "    \n",
    "    # Network parameters\n",
    "    hl_sizes = [512, 128, 64, 2, 64, 128, 512]\n",
    "\n",
    "    Zs = [X]\n",
    "    for (ii, hlsize) in enumerate(hl_sizes)\n",
    "        Wii = get_variable(\"W_$ii\", [get_shape(Zs[end], 2), hlsize], Float32)\n",
    "        bii = get_variable(\"b_$ii\", [hlsize], Float32)\n",
    "        Zii = leaky_relu6(Zs[end]*Wii + bii)\n",
    "        push!(Zs, Zii)\n",
    "    end\n",
    "    \n",
    "    Wout = get_variable([get_shape(Zs[end], 2), 28*28], Float32)\n",
    "    bout = get_variable([28*28], Float32)\n",
    "    Y = nn.sigmoid(Zs[end]*Wout + bout)\n",
    "    \n",
    "    \n",
    "    Z_code = Zs[end÷2 + 1] # A name for the coding layer\n",
    "    @assert get_shape(Z_code,2) == 2\n",
    "end\n",
    "\n",
    "losses = 0.5(Y .- X).^2\n",
    "loss = reduce_mean(losses) + 0.01reduce_mean(bout.^2)\n",
    "optimizer = train.minimize(train.AdamOptimizer(), loss)"
   ]
  },
  {
   "cell_type": "markdown",
   "metadata": {},
   "source": [
    "## Visualisation Code"
   ]
  },
  {
   "cell_type": "code",
   "execution_count": 224,
   "metadata": {},
   "outputs": [
    {
     "data": {
      "text/plain": [
       "demo_plot (generic function with 1 method)"
      ]
     },
     "execution_count": 224,
     "metadata": {},
     "output_type": "execute_result"
    }
   ],
   "source": [
    "\n",
    "function one_image(img::Vector, frames_image_res=30)\n",
    "    ret = zeros((frames_image_res, frames_image_res))\n",
    "    ret[2:end-1, 2:end-1] = 1 .- rotl90(reshape(img, (28,28)))\n",
    "    ret\n",
    "end\n",
    "\n",
    "function scatter_image(images, res; frames_image_res=30, no_overlap=false)\n",
    "    canvas = ones(res, res)\n",
    "    images = reshape(images, (28*28, :));\n",
    "    codes = run(sess, Z_code, Dict(X=>images'))\n",
    "    for ii in 1:2\n",
    "        codes[:,ii] = (codes[:,ii] .- minimum(codes[:,ii]))./(maximum(codes[:,ii])-minimum(codes[:,ii]))\n",
    "        @assert(minimum(codes[:,ii]) >= 0.0)\n",
    "        @assert(maximum(codes[:,ii]) <= 1.0)\n",
    "    end\n",
    "    \n",
    "    function target_area(code)\n",
    "        central_res = res-frames_image_res-1\n",
    "        border_offset = frames_image_res/2 + 1\n",
    "        x,y = code*central_res .+ border_offset\n",
    "        \n",
    "        get_pos(v) = round(Int, v-frames_image_res/2)\n",
    "        x_min = get_pos(x)\n",
    "        x_max = x_min + frames_image_res-1\n",
    "        y_min =  get_pos(y)\n",
    "        y_max = y_min + frames_image_res-1\n",
    "        \n",
    "        @view canvas[x_min:x_max, y_min:y_max]\n",
    "    end\n",
    "    \n",
    "    for ii in 1:size(codes, 1)\n",
    "        code = codes[ii,:]\n",
    "        img = images[:,ii]\n",
    "        area = target_area(code)        \n",
    "        no_overlap && any(area.<1) && continue # Don't draw over anything\n",
    "        area[:] = one_image(img, frames_image_res)\n",
    "    end\n",
    "    canvas\n",
    "end\n",
    "\n",
    "\n",
    "function demo_plot()\n",
    "    code_plt = scatter_image(test_images[:,:,1:100], 700)\n",
    "\n",
    "    src_images = Float32.(test_images[:,:,6:7])\n",
    "    src1 = one_image(vec(src_images[:,:,1]))\n",
    "    src2 = one_image(vec(src_images[:,:,2]))\n",
    "\n",
    "    dst_vecs = run(sess, sess.graph[\"Y\"], Dict(X=>reshape(src_images, :, 28*28)))\n",
    "    \n",
    "    dst1 = one_image(dst_vecs[1,:])\n",
    "    dst2 = one_image(dst_vecs[2,:])\n",
    "\n",
    "    plot(\n",
    "        heatmap(code_plt),\n",
    "        plot(heatmap(src1), heatmap(dst1); layout=grid(2,1)),\n",
    "        plot(heatmap(src2), heatmap(dst2); layout=grid(2,1));\n",
    "        axis=false, colorbar=false,\n",
    "        layout=grid(1,3; widths=(0.7,0.15, 0.15))\n",
    "    )\n",
    "end"
   ]
  },
  {
   "cell_type": "markdown",
   "metadata": {},
   "source": [
    "# Training Code"
   ]
  },
  {
   "cell_type": "code",
   "execution_count": 225,
   "metadata": {},
   "outputs": [],
   "source": [
    "train_images = MNIST.traintensor()\n",
    "test_images = MNIST.testtensor();"
   ]
  },
  {
   "cell_type": "code",
   "execution_count": 235,
   "metadata": {},
   "outputs": [],
   "source": [
    "run(sess, global_variables_initializer())"
   ]
  },
  {
   "cell_type": "code",
   "execution_count": 237,
   "metadata": {},
   "outputs": [
    {
     "ename": "InterruptException",
     "evalue": "InterruptException:",
     "output_type": "error",
     "traceback": [
      "InterruptException:",
      "",
      "Stacktrace:",
      " [1] _string_n at ./strings/string.jl:60 [inlined]",
      " [2] getindex at ./strings/string.jl:252 [inlined]",
      " [3] joinpath(::String, ::String) at ./path.jl:267",
      " [4] joinpath at ./path.jl:259 [inlined]",
      " [5] get_code(::TensorFlow.Status) at /Users/oxinabox/Documents/oxinabox.github.io/_drafts/JuliaDeepLearningMeetupLondon2019/dev/TensorFlow/src/core.jl:18",
      " [6] check_status at /Users/oxinabox/Documents/oxinabox.github.io/_drafts/JuliaDeepLearningMeetupLondon2019/dev/TensorFlow/src/core.jl:373 [inlined]",
      " [7] run(::Session, ::Array{TensorFlow.Port,1}, ::Array{Any,1}, ::Array{TensorFlow.Port,1}, ::Array{Ptr{Nothing},1}) at /Users/oxinabox/Documents/oxinabox.github.io/_drafts/JuliaDeepLearningMeetupLondon2019/dev/TensorFlow/src/run.jl:109",
      " [8] run(::Session, ::Array{Tuple{Tensor{Float64},Tensor{Any}},1}, ::Dict{Tensor{Float32},LinearAlgebra.Adjoint{Float32,Array{Float32,2}}}) at /Users/oxinabox/Documents/oxinabox.github.io/_drafts/JuliaDeepLearningMeetupLondon2019/dev/TensorFlow/src/run.jl:210",
      " [9] run(::Session, ::Tuple{Tensor{Float64},Tensor{Any}}, ::Dict{Tensor{Float32},LinearAlgebra.Adjoint{Float32,Array{Float32,2}}}) at /Users/oxinabox/Documents/oxinabox.github.io/_drafts/JuliaDeepLearningMeetupLondon2019/dev/TensorFlow/src/run.jl:231",
      " [10] top-level scope at ./In[237]:9"
     ]
    }
   ],
   "source": [
    "auto_loss = Float64[]\n",
    "\n",
    "for epoch in 1:50\n",
    "    epoch_loss = Float64[]\n",
    "    \n",
    "    train_obs = shuffleobs(train_images_flat, ObsDim.Last())\n",
    "    batches = eachbatch(train_images_flat, 1_000, ObsDim.Last())\n",
    "    for (batch_ii, batch_x) in  enumerate(batches)\n",
    "        loss_o, _ = run(sess, (loss, optimizer), Dict(X=>batch_x'))\n",
    "        push!(epoch_loss, loss_o)\n",
    "        \n",
    "        if batch_ii % 10 == 1 \n",
    "            println(\"Epoch: $epoch, Batch $batch_ii loss: $(loss_o)\")\n",
    "            display(demo_plot())\n",
    "            IJulia.clear_output(true)\n",
    "        end\n",
    "    end\n",
    "end"
   ]
  },
  {
   "cell_type": "code",
   "execution_count": null,
   "metadata": {},
   "outputs": [],
   "source": []
  },
  {
   "cell_type": "code",
   "execution_count": null,
   "metadata": {},
   "outputs": [],
   "source": []
  },
  {
   "cell_type": "code",
   "execution_count": null,
   "metadata": {},
   "outputs": [],
   "source": []
  },
  {
   "cell_type": "code",
   "execution_count": null,
   "metadata": {},
   "outputs": [],
   "source": []
  },
  {
   "cell_type": "code",
   "execution_count": null,
   "metadata": {},
   "outputs": [],
   "source": []
  },
  {
   "cell_type": "code",
   "execution_count": null,
   "metadata": {},
   "outputs": [],
   "source": [
    "# Create a summary writer\n",
    "sess= Session(Graph())\n",
    "\n",
    "@tf begin\n",
    "    x = placeholder(Float64)\n",
    "    y = sin(x)\n",
    "end\n",
    "\n",
    "@show y\n",
    "\n",
    "run(sess, y, Dict(x=>0.5))\n",
    "summary_writer = TensorFlow.summary.FileWriter(mkpath(\"logs\"); graph=sess.graph)\n",
    "x_summary = TensorFlow.summary.scalar(\"x\", x)\n",
    "y_summary = TensorFlow.summary.scalar(\"y\", y)\n",
    "\n",
    "merged_summary_op = TensorFlow.summary.merge_all()\n",
    "\n",
    "for (ii, x_val) in enumerate(-1:0.1:1)\n",
    "    y_val, summaries = run(sess, [y, merged_summary_op], Dict(x=>x_val))\n",
    "    write(summary_writer, summaries,  ii)\n",
    "end\n"
   ]
  }
 ],
 "metadata": {
  "kernelspec": {
   "display_name": "Julia 1.1.0",
   "language": "julia",
   "name": "julia-1.1"
  },
  "language_info": {
   "file_extension": ".jl",
   "mimetype": "application/julia",
   "name": "julia",
   "version": "1.1.0"
  }
 },
 "nbformat": 4,
 "nbformat_minor": 2
}
