{
 "cells": [
  {
   "cell_type": "code",
   "execution_count": 1,
   "metadata": {
    "scrolled": true
   },
   "outputs": [],
   "source": [
    "using Pkg: @pkg_str\n",
    "pkg\"activate .\""
   ]
  },
  {
   "cell_type": "code",
   "execution_count": 2,
   "metadata": {},
   "outputs": [
    {
     "name": "stderr",
     "output_type": "stream",
     "text": [
      "┌ Info: Recompiling stale cache file /Users/oxinabox/.julia/compiled/v1.1/MLDatasets/9CUQK.ji for MLDatasets [eb30cadb-4394-5ae3-aed4-317e484a6458]\n",
      "└ @ Base loading.jl:1184\n",
      "┌ Info: Recompiling stale cache file /Users/oxinabox/.julia/compiled/v1.1/MLDataUtils/CQWB9.ji for MLDataUtils [cc2ba9b6-d476-5e6d-8eaf-a92d5412d41d]\n",
      "└ @ Base loading.jl:1184\n",
      "┌ Info: Recompiling stale cache file /Users/oxinabox/.julia/compiled/v1.1/Flux/QdkVy.ji for Flux [587475ba-b771-5e3f-ad9e-33799f191a9c]\n",
      "└ @ Base loading.jl:1184\n"
     ]
    },
    {
     "name": "stdout",
     "output_type": "stream",
     "text": [
      "loaded\n"
     ]
    }
   ],
   "source": [
    "using MLDatasets\n",
    "using MLDataUtils\n",
    "using Statistics\n",
    "using Flux"
   ]
  },
  {
   "cell_type": "markdown",
   "metadata": {},
   "source": [
    "# FashionMNIST\n",
    "https://github.com/zalandoresearch/fashion-mnist\n",
    "\n",
    "![](https://raw.githubusercontent.com/zalandoresearch/fashion-mnist/master/doc/img/fashion-mnist-sprite.png)\n",
    "\n",
    "| Label | Description |\n",
    "| --- | --- |\n",
    "| 0 | T-shirt/top |\n",
    "| 1 | Trouser |\n",
    "| 2 | Pullover |\n",
    "| 3 | Dress |\n",
    "| 4 | Coat |\n",
    "| 5 | Sandal |\n",
    "| 6 | Shirt |\n",
    "| 7 | Sneaker |\n",
    "| 8 | Bag |\n",
    "| 9 | Ankle boot |\n"
   ]
  },
  {
   "cell_type": "markdown",
   "metadata": {},
   "source": [
    "## As a programmer, I clearly just randomly grab two items of clothing out of my wardrobe without concern for if they would leaving me appropriately covered.\n",
    "\n",
    "I would like a ML system that looks at images of my two items of clothing,\n",
    "and tells me if they are going to cover me.\n",
    "That means a dress, or a top and trousers."
   ]
  },
  {
   "cell_type": "code",
   "execution_count": 3,
   "metadata": {},
   "outputs": [
    {
     "data": {
      "text/plain": [
       "appropriately_dressed (generic function with 1 method)"
      ]
     },
     "execution_count": 3,
     "metadata": {},
     "output_type": "execute_result"
    }
   ],
   "source": [
    "function appropriately_dressed(clothing_items...)\n",
    "    3 ∈ clothing_items && return true  # A dress is both top and bottoms\n",
    "    \n",
    "    # need trousers and a top of some kind\n",
    "    return 1 ∈ clothing_items && length(intersect(clothing_items,(0, 2, 4, 6))) > 0 \n",
    "end"
   ]
  },
  {
   "cell_type": "markdown",
   "metadata": {},
   "source": [
    "## Generate a dataset\n",
    "We are going to generate a dataset,\n",
    "by taking two copies of FashionMNIST,\n",
    "shuffling them, and drawing them off in pairs,\n",
    "labelling each with a suitable label."
   ]
  },
  {
   "cell_type": "code",
   "execution_count": 4,
   "metadata": {},
   "outputs": [
    {
     "data": {
      "text/plain": [
       "generate_pants_dataset (generic function with 2 methods)"
      ]
     },
     "execution_count": 4,
     "metadata": {},
     "output_type": "execute_result"
    }
   ],
   "source": [
    "function generate_pants_dataset(data, max_obs=Inf)\n",
    "    combination_images = Vector{Vector{Float32}}()\n",
    "    is_dressed_labels = Vector{Bool}()\n",
    "    for (img1, lbl1) in eachobs(shuffleobs(data)), (img2, lbl2) in eachobs(shuffleobs(data))\n",
    "        push!(combination_images, [img1[:]; img2[:]])\n",
    "        push!(is_dressed_labels,  appropriately_dressed(lbl1, lbl2))\n",
    "        if length(is_dressed_labels) >= max_obs\n",
    "            break\n",
    "        end\n",
    "    end\n",
    "    return combination_images, is_dressed_labels\n",
    "end"
   ]
  },
  {
   "cell_type": "code",
   "execution_count": 5,
   "metadata": {},
   "outputs": [
    {
     "name": "stdout",
     "output_type": "stream",
     "text": [
      "mean(last, eachobs(train_data)) = 0.49405\n",
      "mean(last, eachobs(test_data)) = 0.489\n"
     ]
    },
    {
     "data": {
      "text/plain": [
       "0.489"
      ]
     },
     "execution_count": 5,
     "metadata": {},
     "output_type": "execute_result"
    }
   ],
   "source": [
    "using Random\n",
    "#Random.seed!(4)\n",
    "Random.seed!(14)\n",
    "\n",
    "\n",
    "train_data = generate_pants_dataset((FashionMNIST.traintensor(), FashionMNIST.trainlabels()), 20_000)\n",
    "@show mean(last, eachobs(train_data))\n",
    "\n",
    "test_data = generate_pants_dataset((FashionMNIST.testtensor(), FashionMNIST.testlabels()), 1_000);\n",
    "@show mean(last, eachobs(test_data))"
   ]
  },
  {
   "cell_type": "markdown",
   "metadata": {},
   "source": [
    "# Construct a Balanced Training Set"
   ]
  },
  {
   "cell_type": "code",
   "execution_count": 6,
   "metadata": {},
   "outputs": [
    {
     "name": "stdout",
     "output_type": "stream",
     "text": [
      "nobs(balanced_train_data) = 19762\n",
      "mean(last, eachobs(balanced_train_data)) = 0.5\n"
     ]
    }
   ],
   "source": [
    "balanced_train_data = undersample(last, train_data);\n",
    "\n",
    "@show nobs(balanced_train_data)\n",
    "@show mean(last, eachobs(balanced_train_data));"
   ]
  },
  {
   "cell_type": "markdown",
   "metadata": {},
   "source": [
    "# Flux"
   ]
  },
  {
   "cell_type": "code",
   "execution_count": 39,
   "metadata": {},
   "outputs": [
    {
     "data": {
      "text/plain": [
       "demo_flux (generic function with 1 method)"
      ]
     },
     "execution_count": 39,
     "metadata": {},
     "output_type": "execute_result"
    }
   ],
   "source": [
    "function flux_model(in_size = 1568)\n",
    "    leaky_relu6(x) = 0.01x + clamp(x, 0, 6)\n",
    "\n",
    "    return Chain(\n",
    "        Dense(in_size, 512, leaky_relu6), \n",
    "        Dense(512, 128, leaky_relu6),\n",
    "        Dense(128, 64, leaky_relu6), \n",
    "        Dense(64, 1, σ),\n",
    "        vec\n",
    "    )\n",
    "    \n",
    "end\n",
    "\n",
    "function demo_flux(train_data, test_data)\n",
    "    mdl = flux_model()\n",
    "    \n",
    "    features = reduce(hcat, first(train_data))\n",
    "    labels = Float32.(last(train_data))\n",
    "    \n",
    "    Flux.train!(\n",
    "        params(mdl),\n",
    "        Iterators.repeated((features, labels), 50), # 50 epochs\n",
    "        Flux.ADAM()\n",
    "    ) do xs, ys # This block repressents 1 epoch\n",
    "        mean(Flux.binarycrossentropy.(ys, mdl(xs)))\n",
    "    end\n",
    "    \n",
    "    test_features, test_labels = test_data\n",
    "    \n",
    "    probs = mapreduce(Flux.data∘mdl, vcat, test_features)\n",
    "    classes = probs .> 0\n",
    "    @show mean(classes)\n",
    "    acc = mean(test_labels .== classes)\n",
    "    @show acc\n",
    "end"
   ]
  },
  {
   "cell_type": "code",
   "execution_count": 40,
   "metadata": {
    "scrolled": true
   },
   "outputs": [
    {
     "ename": "ErrorException",
     "evalue": "Loss is NaN",
     "output_type": "error",
     "traceback": [
      "Loss is NaN",
      "",
      "Stacktrace:",
      " [1] error(::String) at ./error.jl:33",
      " [2] #back!#20 at /Users/oxinabox/.julia/packages/Flux/8XpDt/src/tracker/lib/real.jl:15 [inlined]",
      " [3] back!(::Flux.Tracker.TrackedReal{Float32}) at /Users/oxinabox/.julia/packages/Flux/8XpDt/src/tracker/lib/real.jl:14",
      " [4] macro expansion at /Users/oxinabox/.julia/packages/Flux/8XpDt/src/optimise/train.jl:25 [inlined]",
      " [5] macro expansion at /Users/oxinabox/.julia/packages/Juno/nDCSn/src/progress.jl:133 [inlined]",
      " [6] #train!#5(::getfield(Flux.Optimise, Symbol(\"##7#11\")), ::Function, ::Function, ::Flux.Tracker.Params, ::Base.Iterators.Take{Base.Iterators.Repeated{Tuple{Array{Float32,2},Array{Float32,1}}}}, ::ADAM) at /Users/oxinabox/.julia/packages/Flux/8XpDt/src/optimise/train.jl:72",
      " [7] train! at /Users/oxinabox/.julia/packages/Flux/8XpDt/src/optimise/train.jl:70 [inlined]",
      " [8] demo_flux(::Tuple{Array{Array{Float32,1},1},Array{Bool,1}}, ::Tuple{Array{Array{Float32,1},1},Array{Bool,1}}) at ./In[39]:20",
      " [9] top-level scope at util.jl:156",
      " [10] top-level scope at In[40]:1"
     ]
    }
   ],
   "source": [
    "@time demo_flux(train_data, test_data)"
   ]
  },
  {
   "cell_type": "code",
   "execution_count": null,
   "metadata": {},
   "outputs": [],
   "source": [
    "@time demo_flux(balanced_train_data, test_data)"
   ]
  },
  {
   "cell_type": "code",
   "execution_count": 13,
   "metadata": {
    "scrolled": true
   },
   "outputs": [
    {
     "name": "stdout",
     "output_type": "stream",
     "text": [
      "  1.610899 seconds (2.40 M allocations: 308.420 MiB, 12.70% gc time)\n",
      "  1.578001 seconds (2.40 M allocations: 308.341 MiB)\n"
     ]
    }
   ],
   "source": [
    "function trail_1(train_data)\n",
    "    mdl = flux_model()\n",
    "    features = first(train_data)\n",
    "    map(mdl, features)\n",
    "end\n",
    "\n",
    "@time trail_1(train_data)\n",
    "@time trail_1(train_data);"
   ]
  },
  {
   "cell_type": "code",
   "execution_count": 34,
   "metadata": {
    "scrolled": true
   },
   "outputs": [
    {
     "name": "stdout",
     "output_type": "stream",
     "text": [
      "  1.357463 seconds (819.18 k allocations: 390.562 MiB, 43.48% gc time)\n",
      "  0.632675 seconds (239 allocations: 348.017 MiB, 64.92% gc time)\n"
     ]
    },
    {
     "data": {
      "text/plain": [
       "Tracked 20000-element Array{Float32,1}:\n",
       " 0.4894056f0 \n",
       " 0.50106543f0\n",
       " 0.49604225f0\n",
       " 0.4906915f0 \n",
       " 0.50077826f0\n",
       " 0.4745427f0 \n",
       " 0.4569315f0 \n",
       " 0.47123772f0\n",
       " 0.445683f0  \n",
       " 0.48552188f0\n",
       " 0.47005388f0\n",
       " 0.49978563f0\n",
       " 0.44844544f0\n",
       " ⋮           \n",
       " 0.43247086f0\n",
       " 0.47136745f0\n",
       " 0.5098584f0 \n",
       " 0.50043267f0\n",
       " 0.48318735f0\n",
       " 0.48956248f0\n",
       " 0.48548692f0\n",
       " 0.44235912f0\n",
       " 0.48430443f0\n",
       " 0.51597124f0\n",
       " 0.45009404f0\n",
       " 0.4508467f0 "
      ]
     },
     "execution_count": 34,
     "metadata": {},
     "output_type": "execute_result"
    }
   ],
   "source": [
    "\n",
    "function flux_model2(in_size = 1568)\n",
    "    leaky_relu6(x) = 0.01x + clamp(x, 0, 6)\n",
    "\n",
    "    return Chain(\n",
    "        Dense(in_size, 512, leaky_relu6), \n",
    "        Dense(512, 128, leaky_relu6),\n",
    "        Dense(128, 64, leaky_relu6), \n",
    "        Dense(64, 1, σ),\n",
    "        vec\n",
    "    )\n",
    "end    \n",
    "\n",
    "function trail_2(train_data)\n",
    "    mdl = flux_model2()\n",
    "    features = reduce(hcat, first(train_data))\n",
    "    mdl(features)\n",
    "end\n",
    "\n",
    "@time trail_2(train_data)\n",
    "@time trail_2(train_data)"
   ]
  },
  {
   "cell_type": "code",
   "execution_count": 19,
   "metadata": {},
   "outputs": [
    {
     "data": {
      "text/plain": [
       "20000×1568 LinearAlgebra.Adjoint{Float32,Array{Float32,2}}:\n",
       " 0.0  0.0  0.0  0.0  0.0  0.0  0.0  0.0  …  0.0        0.0        0.0  0.0\n",
       " 0.0  0.0  0.0  0.0  0.0  0.0  0.0  0.0     0.0        0.0        0.0  0.0\n",
       " 0.0  0.0  0.0  0.0  0.0  0.0  0.0  0.0     0.0        0.0        0.0  0.0\n",
       " 0.0  0.0  0.0  0.0  0.0  0.0  0.0  0.0     0.0        0.0        0.0  0.0\n",
       " 0.0  0.0  0.0  0.0  0.0  0.0  0.0  0.0     0.0        0.0        0.0  0.0\n",
       " 0.0  0.0  0.0  0.0  0.0  0.0  0.0  0.0  …  0.0        0.0        0.0  0.0\n",
       " 0.0  0.0  0.0  0.0  0.0  0.0  0.0  0.0     0.0        0.0        0.0  0.0\n",
       " 0.0  0.0  0.0  0.0  0.0  0.0  0.0  0.0     0.0        0.0        0.0  0.0\n",
       " 0.0  0.0  0.0  0.0  0.0  0.0  0.0  0.0     0.0        0.0        0.0  0.0\n",
       " 0.0  0.0  0.0  0.0  0.0  0.0  0.0  0.0     0.0        0.0        0.0  0.0\n",
       " 0.0  0.0  0.0  0.0  0.0  0.0  0.0  0.0  …  0.0313726  0.0        0.0  0.0\n",
       " 0.0  0.0  0.0  0.0  0.0  0.0  0.0  0.0     0.705882   0.415686   0.0  0.0\n",
       " 0.0  0.0  0.0  0.0  0.0  0.0  0.0  0.0     0.0        0.0        0.0  0.0\n",
       " ⋮                        ⋮              ⋱             ⋮                  \n",
       " 0.0  0.0  0.0  0.0  0.0  0.0  0.0  0.0     0.0        0.0        0.0  0.0\n",
       " 0.0  0.0  0.0  0.0  0.0  0.0  0.0  0.0     0.721569   0.215686   0.0  0.0\n",
       " 0.0  0.0  0.0  0.0  0.0  0.0  0.0  0.0  …  0.0        0.0        0.0  0.0\n",
       " 0.0  0.0  0.0  0.0  0.0  0.0  0.0  0.0     0.0        0.0        0.0  0.0\n",
       " 0.0  0.0  0.0  0.0  0.0  0.0  0.0  0.0     0.0        0.0        0.0  0.0\n",
       " 0.0  0.0  0.0  0.0  0.0  0.0  0.0  0.0     0.0        0.0        0.0  0.0\n",
       " 0.0  0.0  0.0  0.0  0.0  0.0  0.0  0.0     0.298039   0.639216   0.0  0.0\n",
       " 0.0  0.0  0.0  0.0  0.0  0.0  0.0  0.0  …  0.0        0.0        0.0  0.0\n",
       " 0.0  0.0  0.0  0.0  0.0  0.0  0.0  0.0     0.0        0.0        0.0  0.0\n",
       " 0.0  0.0  0.0  0.0  0.0  0.0  0.0  0.0     0.0392157  0.0588235  0.0  0.0\n",
       " 0.0  0.0  0.0  0.0  0.0  0.0  0.0  0.0     0.0        0.0        0.0  0.0\n",
       " 0.0  0.0  0.0  0.0  0.0  0.0  0.0  0.0     0.0        0.0        0.0  0.0"
      ]
     },
     "execution_count": 19,
     "metadata": {},
     "output_type": "execute_result"
    }
   ],
   "source": [
    "features = reduce(hcat, first(train_data))'"
   ]
  },
  {
   "cell_type": "code",
   "execution_count": null,
   "metadata": {},
   "outputs": [],
   "source": []
  }
 ],
 "metadata": {
  "kernelspec": {
   "display_name": "Julia 1.1.0",
   "language": "julia",
   "name": "julia-1.1"
  },
  "language_info": {
   "file_extension": ".jl",
   "mimetype": "application/julia",
   "name": "julia",
   "version": "1.1.0"
  }
 },
 "nbformat": 4,
 "nbformat_minor": 2
}
