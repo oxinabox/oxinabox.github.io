{
 "cells": [
  {
   "cell_type": "markdown",
   "metadata": {
    "slideshow": {
     "slide_type": "slide"
    }
   },
   "source": [
    "# TensorFlow and other tools for ML in Julia\n",
    "\n",
    "\n",
    "![](data:image/svg+xml;base64,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)\n",
    "\n",
    "\n",
    "\n",
    "**Lyndon White**\n",
    " - Research Software Engineer -- Invenia Labs, Cambridge\n",
    " - Technically still PhD Candidate -- The University of Western Australia"
   ]
  },
  {
   "cell_type": "code",
   "execution_count": 15,
   "metadata": {
    "slideshow": {
     "slide_type": "slide"
    }
   },
   "outputs": [
    {
     "name": "stdout",
     "output_type": "stream",
     "text": [
      "\u001b[32m\u001b[1m  Updating\u001b[22m\u001b[39m registry at `~/.julia/registries/General`\n",
      "\u001b[32m\u001b[1m  Updating\u001b[22m\u001b[39m git-repo `https://github.com/JuliaRegistries/General.git`\n",
      "\u001b[2K\u001b[?25h[1mFetching:\u001b[22m\u001b[39m [========================================>]  99.2 %0.0 %>]  100.0 %\u001b[32m\u001b[1m  Updating\u001b[22m\u001b[39m registry at `~/.julia/registries/Invenia`\n",
      "\u001b[32m\u001b[1m  Updating\u001b[22m\u001b[39m git-repo `git@gitlab.invenia.ca:invenia/PackageRegistry.git`\n",
      "\u001b[2K\u001b[?25h[1mFetching:\u001b[22m\u001b[39m [========================================>]  100.0 %.0 %\u001b[32m\u001b[1m Resolving\u001b[22m\u001b[39m package versions...\n",
      "\u001b[32m\u001b[1m Installed\u001b[22m\u001b[39m WeakRefStrings ─ v0.5.6\n",
      "\u001b[32m\u001b[1m  Updating\u001b[22m\u001b[39m `~/Documents/oxinabox.github.io/_drafts/JuliaDeepLearningMeetupLondon2019/Project.toml`\n",
      "\u001b[90m [no changes]\u001b[39m\n",
      "\u001b[32m\u001b[1m  Updating\u001b[22m\u001b[39m `~/Documents/oxinabox.github.io/_drafts/JuliaDeepLearningMeetupLondon2019/Manifest.toml`\n",
      " \u001b[90m [a93c6f00]\u001b[39m\u001b[93m ↑ DataFrames v0.17.0 ⇒ v0.17.1\u001b[39m\n",
      " \u001b[90m [4c63d2b9]\u001b[39m\u001b[93m ↑ StatsFuns v0.7.1 ⇒ v0.8.0\u001b[39m\n",
      " \u001b[90m [bd369af6]\u001b[39m\u001b[93m ↑ Tables v0.1.14 ⇒ v0.1.15\u001b[39m\n",
      " \u001b[90m [ea10d353]\u001b[39m\u001b[93m ↑ WeakRefStrings v0.5.4 ⇒ v0.5.6\u001b[39m\n"
     ]
    }
   ],
   "source": [
    "using Pkg: @pkg_str\n",
    "pkg\"activate  .\"\n"
   ]
  },
  {
   "cell_type": "markdown",
   "metadata": {
    "slideshow": {
     "slide_type": "slide"
    }
   },
   "source": [
    "using MLDatasets\n",
    "using Plots\n",
    "using MLDataUtils\n",
    "\n",
    "using TensorFlow\n",
    "using TensorFlow: summary\n",
    "\n",
    "using Statistics"
   ]
  },
  {
   "cell_type": "markdown",
   "metadata": {
    "slideshow": {
     "slide_type": "slide"
    }
   },
   "source": [
    "# Before TensorFlow\n",
    " \n",
    " - Researchers generally couldn't use Cafe etc as it is not suitably flexible.\n",
    " - One could use Theano, but it is painfully weird\n",
    " - Just write your neural networks by hand, as matrix math\n",
    " - And do your differenciation by hand, first with a blackboard then with more matrix math\n",
    " - While you are at it maybe write your own implementation of gradient descent etc\n",
    " - This was not long ago, I was still doing this in 2014\n",
    " - Julia is a fantasitic language to do this in."
   ]
  },
  {
   "cell_type": "markdown",
   "metadata": {
    "slideshow": {
     "slide_type": "slide"
    }
   },
   "source": [
    "# Static Graphs\n",
    "\n"
   ]
  },
  {
   "cell_type": "markdown",
   "metadata": {
    "slideshow": {
     "slide_type": "subslide"
    }
   },
   "source": [
    "## 👍 Easy to manipulate mathematically and easy to think about\n",
    " - It is literally an AST for a language without control flow\n",
    "    - i.e.  a language that is a lot like mathematical notation  \n",
    " - The dervitive of the graph can be calculated  via the chain rule -- generating another graph\n",
    " - Clear seperation of **defintion** from **execution**."
   ]
  },
  {
   "cell_type": "markdown",
   "metadata": {
    "slideshow": {
     "slide_type": "subslide"
    }
   },
   "source": [
    "## 👎 Dynamic stuctures are impossible.\n",
    "- A dynamic structure is on in which\n",
    " the network structure differs per input\n",
    "- RNNs have to be statically unrolled to their maximum length\n",
    "- If you want to represent say a tree structured network  (e.g. the work of Bowman, Socher and others for NLP)...  😿"
   ]
  },
  {
   "cell_type": "markdown",
   "metadata": {
    "slideshow": {
     "slide_type": "subslide"
    }
   },
   "source": [
    "## 🔮 Long-term static graphs are probably going away for good.\n",
    "\n",
    " - Dynamic structure makes deep learning more like normnal programming than math\n",
    " - much more flexible\n",
    " - Even TensorFlow is pushing this way wioth TensorFlow 2.0 and TensorFlow for Swift focusing on **TFEager**.\n"
   ]
  },
  {
   "cell_type": "markdown",
   "metadata": {
    "slideshow": {
     "slide_type": "slide"
    }
   },
   "source": [
    "## 4 Types of Nodes, i.e. `Tensors`\n",
    " - **Placeholders:** this is where you put your inputs\n",
    " - **Operations:** theres transform inputs into outputs, they do math\n",
    " - **Variables:** thes arre the things you train, they are mutable\n",
    " - **Actions:** These are operations with side effects, like logging (TensorBoard)) and mutating Variable (Optimizers)"
   ]
  },
  {
   "cell_type": "markdown",
   "metadata": {
    "slideshow": {
     "slide_type": "slide"
    }
   },
   "source": [
    "## Functions\n",
    "\n",
    "Functions mutate **the graph** to introduce nodes.\n",
    "\n",
    "For example:\n",
    " - `sin(::Float64)` in julia would return a `Float64` that is the answer.\n",
    " - `sin(::Tensor)` introduces a `sin` operation into the graph, and returns a `Tensor` that is a reference to it's output, this could be feed to other operations.\n",
    " \n",
    "The answer to that operation is not computed, until you execute the graph.\n"
   ]
  },
  {
   "cell_type": "code",
   "execution_count": 5,
   "metadata": {
    "slideshow": {
     "slide_type": "slide"
    }
   },
   "outputs": [
    {
     "name": "stdout",
     "output_type": "stream",
     "text": [
      "y = <Tensor y:1 shape=unknown dtype=Float64>\n"
     ]
    },
    {
     "name": "stderr",
     "output_type": "stream",
     "text": [
      "2019-02-06 10:43:35.595159: I tensorflow/core/platform/cpu_feature_guard.cc:141] Your CPU supports instructions that this TensorFlow binary was not compiled to use: SSE4.2 AVX AVX2 FMA\n"
     ]
    },
    {
     "data": {
      "text/plain": [
       "0.479425538604203"
      ]
     },
     "execution_count": 5,
     "metadata": {},
     "output_type": "execute_result"
    }
   ],
   "source": [
    "sess= Session(Graph())\n",
    "\n",
    "@tf begin\n",
    "    x = placeholder(Float64)\n",
    "    y = sin(x)\n",
    "end\n",
    "\n",
    "@show y\n",
    "\n",
    "run(sess, y, Dict(x=>0.5))"
   ]
  },
  {
   "cell_type": "code",
   "execution_count": 6,
   "metadata": {
    "slideshow": {
     "slide_type": "slide"
    }
   },
   "outputs": [
    {
     "name": "stdout",
     "output_type": "stream",
     "text": [
      "y = <Tensor y:1 shape=unknown dtype=Float64>\n"
     ]
    },
    {
     "name": "stderr",
     "output_type": "stream",
     "text": [
      "┌ Warning: Your Python TensorFlow client version (1.10.0) is below the TensorFlow backend version (1.12.0). This can cause various errors. Please upgrade your Python TensorFlow installation and then restart Julia.\n",
      "│ You can upgrade by calling `using Conda; Conda.update();` from Julia.\n",
      "└ @ TensorFlow /Users/oxinabox/Documents/oxinabox.github.io/_drafts/JuliaDeepLearningMeetupLondon2019/dev/TensorFlow/src/version.jl:57\n"
     ]
    }
   ],
   "source": [
    "# Create a summary writer\n",
    "sess= Session(Graph())\n",
    "\n",
    "@tf begin\n",
    "    x = placeholder(Float64)\n",
    "    y = sin(x)\n",
    "end\n",
    "\n",
    "@show y\n",
    "\n",
    "run(sess, y, Dict(x=>0.5))\n",
    "summary_writer = TensorFlow.summary.FileWriter(mkpath(\"logs\"); graph=sess.graph)\n",
    "x_summary = TensorFlow.summary.scalar(\"x\", x)\n",
    "y_summary = TensorFlow.summary.scalar(\"y\", y)\n",
    "\n",
    "merged_summary_op = TensorFlow.summary.merge_all()\n",
    "\n",
    "for (ii, x_val) in enumerate(-1:0.1:1)\n",
    "    y_val, summaries = run(sess, [y, merged_summary_op], Dict(x=>x_val))\n",
    "    write(summary_writer, summaries,  ii)\n",
    "end\n"
   ]
  },
  {
   "cell_type": "code",
   "execution_count": 7,
   "metadata": {
    "slideshow": {
     "slide_type": "skip"
    }
   },
   "outputs": [],
   "source": [
    "sess= Session(Graph())\n",
    "\n",
    "@tf begin\n",
    "    x = placeholder(Float64)\n",
    "    y = sin(x)\n",
    "end\n",
    "\n",
    "summary_writer = TensorFlow.summary.FileWriter(mkpath(\"logs\"); graph=sess.graph)\n",
    "close(summary_writer)"
   ]
  },
  {
   "cell_type": "code",
   "execution_count": 23,
   "metadata": {
    "slideshow": {
     "slide_type": "skip"
    }
   },
   "outputs": [],
   "source": [
    "event = TensorFlow.tensorflow.Event()\n",
    "data=convert(Vector{UInt8}, collect(\"\\n,\\n\\x01x\\x12\\vPlaceholder*\\v\\n\\x05dtype\\x12\\x020\\x02*\\r\\n\\x05shape\\x12\\x04:\\x02\\x18\\x01\\n\\x14\\n\\x01y\\x12\\x03Sin\\x1a\\x01x*\\a\\n\\x01T\\x12\\x020\\x02\\x12\\0\\\"\\x02\\b\\x1a\"))\n",
    "setfield!(event, :graph_def, data)\n",
    "write(summary_writer, event)\n"
   ]
  },
  {
   "cell_type": "code",
   "execution_count": null,
   "metadata": {
    "slideshow": {
     "slide_type": "skip"
    }
   },
   "outputs": [],
   "source": [
    "using TensorFlow\n",
    "using TensorFlow: summary\n",
    "logdir = \"logs\"\n",
    "mkpath(logdir)\n",
    "\n",
    "sess= Session(Graph())\n",
    "\n",
    "@tf begin\n",
    "    x = placeholder(Float64)\n",
    "    y = sin(x)\n",
    "end\n",
    "\n",
    "summary_writer = TensorFlow.summary.FileWriter(logdir; graph=sess.graph)\n",
    "close(summary_writer)\n"
   ]
  },
  {
   "cell_type": "markdown",
   "metadata": {
    "slideshow": {
     "slide_type": "slide"
    }
   },
   "source": [
    "## Automatic Node Naming\n",
    "\n",
    " - Notice before I did `@tf begin ... end`\n",
    " - **This is not at all required**\n",
    " - But it does enable automatic node naming\n",
    " - so `@tf y = sin(x)` actually becomes `y = sin(x; name=\"y\")`\n",
    " - This gives you a good graph in tensorboard, and also better error messages.\n",
    " - Further it lets us look up tensors from the graph by **name**"
   ]
  },
  {
   "cell_type": "code",
   "execution_count": 8,
   "metadata": {
    "slideshow": {
     "slide_type": "subslide"
    }
   },
   "outputs": [
    {
     "name": "stdout",
     "output_type": "stream",
     "text": [
      "sess.graph[\"x\"] = <Tensor x:1 shape=unknown dtype=Float64>\n",
      "sess.graph[\"y\"] = <Tensor y:1 shape=unknown dtype=Float64>\n"
     ]
    },
    {
     "data": {
      "text/plain": [
       "0.479425538604203"
      ]
     },
     "execution_count": 8,
     "metadata": {},
     "output_type": "execute_result"
    }
   ],
   "source": [
    "@show sess.graph[\"x\"]\n",
    "@show sess.graph[\"y\"]\n",
    "\n",
    "run(sess, sess.graph[\"y\"], Dict(sess.graph[\"x\"]=>0.5))"
   ]
  },
  {
   "cell_type": "markdown",
   "metadata": {
    "slideshow": {
     "slide_type": "slide"
    }
   },
   "source": [
    "# Lets have an exciting Demo\n",
    "\n",
    "![](https://white.ucc.asn.au/posts_assets/Intro%20to%20Machine%20Learning%20with%20TensorFlow.jl_files/Intro%20to%20Machine%20Learning%20with%20TensorFlow.jl_28_0.png) "
   ]
  },
  {
   "cell_type": "code",
   "execution_count": 9,
   "metadata": {
    "slideshow": {
     "slide_type": "subslide"
    }
   },
   "outputs": [
    {
     "ename": "RemoteException",
     "evalue": "On worker 2:\nPython error: PyObject ValueError(\"NodeDef mentions attr 'Truncate' not in Op<name=Cast; signature=x:SrcT -> y:DstT; attr=SrcT:type; attr=DstT:type>; NodeDef: Mul/Cast = Cast[DstT=DT_DOUBLE, SrcT=DT_FLOAT, Truncate=false](Add). (Check whether your GraphDef-interpreting binary is up to date with your GraphDef-generating binary.).\",)\nerror at ./error.jl:33\n#3 at /Users/oxinabox/Documents/oxinabox.github.io/_drafts/JuliaDeepLearningMeetupLondon2019/dev/TensorFlow/src/py.jl:45\npy_with at /Users/oxinabox/Documents/oxinabox.github.io/_drafts/JuliaDeepLearningMeetupLondon2019/dev/TensorFlow/src/py.jl:20\nmake_py_graph at /Users/oxinabox/Documents/oxinabox.github.io/_drafts/JuliaDeepLearningMeetupLondon2019/dev/TensorFlow/src/py.jl:52\npy_gradients at /Users/oxinabox/Documents/oxinabox.github.io/_drafts/JuliaDeepLearningMeetupLondon2019/dev/TensorFlow/src/py.jl:75\n#65 at /Users/oxinabox/Documents/oxinabox.github.io/_drafts/JuliaDeepLearningMeetupLondon2019/dev/TensorFlow/src/TensorFlow.jl:190\n#116 at /Users/osx/buildbot/slave/package_osx64/build/usr/share/julia/stdlib/v1.1/Distributed/src/process_messages.jl:276\nrun_work_thunk at /Users/osx/buildbot/slave/package_osx64/build/usr/share/julia/stdlib/v1.1/Distributed/src/process_messages.jl:56\nrun_work_thunk at /Users/osx/buildbot/slave/package_osx64/build/usr/share/julia/stdlib/v1.1/Distributed/src/process_messages.jl:65\n#102 at ./task.jl:259",
     "output_type": "error",
     "traceback": [
      "On worker 2:\nPython error: PyObject ValueError(\"NodeDef mentions attr 'Truncate' not in Op<name=Cast; signature=x:SrcT -> y:DstT; attr=SrcT:type; attr=DstT:type>; NodeDef: Mul/Cast = Cast[DstT=DT_DOUBLE, SrcT=DT_FLOAT, Truncate=false](Add). (Check whether your GraphDef-interpreting binary is up to date with your GraphDef-generating binary.).\",)\nerror at ./error.jl:33\n#3 at /Users/oxinabox/Documents/oxinabox.github.io/_drafts/JuliaDeepLearningMeetupLondon2019/dev/TensorFlow/src/py.jl:45\npy_with at /Users/oxinabox/Documents/oxinabox.github.io/_drafts/JuliaDeepLearningMeetupLondon2019/dev/TensorFlow/src/py.jl:20\nmake_py_graph at /Users/oxinabox/Documents/oxinabox.github.io/_drafts/JuliaDeepLearningMeetupLondon2019/dev/TensorFlow/src/py.jl:52\npy_gradients at /Users/oxinabox/Documents/oxinabox.github.io/_drafts/JuliaDeepLearningMeetupLondon2019/dev/TensorFlow/src/py.jl:75\n#65 at /Users/oxinabox/Documents/oxinabox.github.io/_drafts/JuliaDeepLearningMeetupLondon2019/dev/TensorFlow/src/TensorFlow.jl:190\n#116 at /Users/osx/buildbot/slave/package_osx64/build/usr/share/julia/stdlib/v1.1/Distributed/src/process_messages.jl:276\nrun_work_thunk at /Users/osx/buildbot/slave/package_osx64/build/usr/share/julia/stdlib/v1.1/Distributed/src/process_messages.jl:56\nrun_work_thunk at /Users/osx/buildbot/slave/package_osx64/build/usr/share/julia/stdlib/v1.1/Distributed/src/process_messages.jl:65\n#102 at ./task.jl:259",
      "",
      "Stacktrace:",
      " [1] #remotecall_wait#154(::Base.Iterators.Pairs{Union{},Union{},Tuple{},NamedTuple{(),Tuple{}}}, ::Function, ::Function, ::Distributed.Worker) at /Users/osx/buildbot/slave/package_osx64/build/usr/share/julia/stdlib/v1.1/Distributed/src/remotecall.jl:421",
      " [2] remotecall_wait(::Function, ::Distributed.Worker) at /Users/osx/buildbot/slave/package_osx64/build/usr/share/julia/stdlib/v1.1/Distributed/src/remotecall.jl:412",
      " [3] #remotecall_wait#157(::Base.Iterators.Pairs{Union{},Union{},Tuple{},NamedTuple{(),Tuple{}}}, ::Function, ::Function, ::Int64) at /Users/osx/buildbot/slave/package_osx64/build/usr/share/julia/stdlib/v1.1/Distributed/src/remotecall.jl:433",
      " [4] remotecall_wait(::Function, ::Int64) at /Users/osx/buildbot/slave/package_osx64/build/usr/share/julia/stdlib/v1.1/Distributed/src/remotecall.jl:433",
      " [5] top-level scope at /Users/oxinabox/Documents/oxinabox.github.io/_drafts/JuliaDeepLearningMeetupLondon2019/dev/TensorFlow/src/TensorFlow.jl:189",
      " [6] eval at ./boot.jl:328 [inlined]",
      " [7] eval at ./sysimg.jl:68 [inlined]",
      " [8] add_gradients_py(::Tensor{Float64}, ::Array{Any,1}, ::Nothing) at /Users/oxinabox/Documents/oxinabox.github.io/_drafts/JuliaDeepLearningMeetupLondon2019/dev/TensorFlow/src/core.jl:1548",
      " [9] gradients at /Users/oxinabox/Documents/oxinabox.github.io/_drafts/JuliaDeepLearningMeetupLondon2019/dev/TensorFlow/src/core.jl:1536 [inlined] (repeats 2 times)",
      " [10] compute_gradients(::TensorFlow.train.AdamOptimizer, ::Tensor{Float64}, ::Nothing) at /Users/oxinabox/Documents/oxinabox.github.io/_drafts/JuliaDeepLearningMeetupLondon2019/dev/TensorFlow/src/train.jl:49",
      " [11] #minimize#1(::Nothing, ::Nothing, ::Nothing, ::Function, ::TensorFlow.train.AdamOptimizer, ::Tensor{Float64}) at /Users/oxinabox/Documents/oxinabox.github.io/_drafts/JuliaDeepLearningMeetupLondon2019/dev/TensorFlow/src/train.jl:41",
      " [12] minimize(::TensorFlow.train.AdamOptimizer, ::Tensor{Float64}) at /Users/oxinabox/Documents/oxinabox.github.io/_drafts/JuliaDeepLearningMeetupLondon2019/dev/TensorFlow/src/train.jl:38",
      " [13] top-level scope at In[9]:31"
     ]
    }
   ],
   "source": [
    "sess = Session(Graph())\n",
    "\n",
    "leaky_relu6(x) = 0.01x + nn.relu6(x)\n",
    "\n",
    "# Network Definition\n",
    "@tf begin\n",
    "    X = placeholder(Float32, shape=[-1, 28*28])\n",
    "    \n",
    "    # Network parameters\n",
    "    hl_sizes = [512, 128, 64, 2, 64, 128, 512]\n",
    "\n",
    "    Zs = [X]\n",
    "    for (ii, hlsize) in enumerate(hl_sizes)\n",
    "        Wii = get_variable(\"W_$ii\", [get_shape(Zs[end], 2), hlsize], Float32)\n",
    "        bii = get_variable(\"b_$ii\", [hlsize], Float32)\n",
    "        Zii = leaky_relu6(Zs[end]*Wii + bii)\n",
    "        push!(Zs, Zii)\n",
    "    end\n",
    "    \n",
    "    Wout = get_variable([get_shape(Zs[end], 2), 28*28], Float32)\n",
    "    bout = get_variable([28*28], Float32)\n",
    "    Y = nn.sigmoid(Zs[end]*Wout + bout)\n",
    "    \n",
    "    \n",
    "    Z_code = Zs[end÷2 + 1] # A name for the coding layer\n",
    "    @assert get_shape(Z_code,2) == 2\n",
    "end\n",
    "\n",
    "losses = 0.5(Y .- X).^2\n",
    "loss = reduce_mean(losses)\n",
    "optimizer = train.minimize(train.AdamOptimizer(), loss)"
   ]
  },
  {
   "cell_type": "code",
   "execution_count": 10,
   "metadata": {
    "scrolled": true,
    "slideshow": {
     "slide_type": "skip"
    }
   },
   "outputs": [],
   "source": [
    "train_images = MNIST.traintensor()\n",
    "test_images = MNIST.testtensor();"
   ]
  },
  {
   "cell_type": "code",
   "execution_count": 11,
   "metadata": {
    "slideshow": {
     "slide_type": "skip"
    }
   },
   "outputs": [
    {
     "data": {
      "text/plain": [
       "scatter_image (generic function with 1 method)"
      ]
     },
     "execution_count": 11,
     "metadata": {},
     "output_type": "execute_result"
    }
   ],
   "source": [
    "\n",
    "function one_image(img::Vector, frames_image_res=30)\n",
    "    ret = zeros((frames_image_res, frames_image_res))\n",
    "    ret[2:end-1, 2:end-1] = 1 .- rotl90(reshape(img, (28,28)))\n",
    "    ret\n",
    "end\n",
    "\n",
    "function scatter_image(images, res; frames_image_res=30, no_overlap=false)\n",
    "    canvas = ones(res, res)\n",
    "    images = reshape(images, (28*28, :));\n",
    "    codes = run(sess, Z_code, Dict(X=>images'))\n",
    "    for ii in 1:2\n",
    "        codes[:,ii] = (codes[:,ii] .- minimum(codes[:,ii]))./(maximum(codes[:,ii])-minimum(codes[:,ii]))\n",
    "        @assert(minimum(codes[:,ii]) >= 0.0)\n",
    "        @assert(maximum(codes[:,ii]) <= 1.0)\n",
    "    \n",
    "    end\n",
    "    \n",
    "    function target_area(code)\n",
    "        central_res = res-frames_image_res-1\n",
    "        border_offset = frames_image_res/2 + 1\n",
    "        x,y = code*central_res .+ border_offset\n",
    "        \n",
    "        get_pos(v) = round(Int, v-frames_image_res/2)\n",
    "        x_min = get_pos(x)\n",
    "        x_max = x_min + frames_image_res-1\n",
    "        y_min =  get_pos(y)\n",
    "        y_max = y_min + frames_image_res-1\n",
    "        \n",
    "        @view canvas[x_min:x_max, y_min:y_max]\n",
    "    end\n",
    "    \n",
    "    for ii in 1:size(codes, 1)\n",
    "        code = codes[ii,:]\n",
    "        img = images[:,ii]\n",
    "        area = target_area(code)        \n",
    "        no_overlap && any(area.<1) && continue # Don't draw over anything\n",
    "        area[:] = one_image(img, frames_image_res)\n",
    "    end\n",
    "    canvas\n",
    "end"
   ]
  },
  {
   "cell_type": "code",
   "execution_count": 12,
   "metadata": {
    "slideshow": {
     "slide_type": "slide"
    }
   },
   "outputs": [
    {
     "ename": "UndefVarError",
     "evalue": "UndefVarError: ObsDim not defined",
     "output_type": "error",
     "traceback": [
      "UndefVarError: ObsDim not defined",
      "",
      "Stacktrace:",
      " [1] top-level scope at ./In[12]:5"
     ]
    }
   ],
   "source": [
    "#run(sess, global_variables_initializer())\n",
    "auto_loss = Float64[]\n",
    "for epoch in 1:20\n",
    "    epoch_loss = Float64[]\n",
    "    for (batch_ii, batch_x) in  enumerate(eachbatch(train_images, 1_000, ObsDim.Last()))\n",
    "        flat_batch_x = reshape(batch_x, (28*28, :))\n",
    "        loss_o, _ = run(sess, (loss, optimizer), Dict(X=>flat_batch_x'))\n",
    "        push!(epoch_loss, loss_o)\n",
    "        \n",
    "        if ii % 5 == 1 \n",
    "            println(\"Batch $batch_ii loss: $(loss_o)\")\n",
    "            display(heatmap(scatter_image(test_images[:,:,1:100], 700)))\n",
    "            IJulia.clear_output(true)\n",
    "        end\n",
    "    end\n",
    "    push!(auto_loss, mean(epoch_loss))\n",
    "    \n",
    "    #\n",
    "#    println(\"Epoch $epoch loss: $(auto_loss[end])\")\n",
    "#    display(heatmap(scatter_image(test_images[:,:,1:100], 700)))\n",
    "#    IJulia.clear_output(true)\n",
    "end"
   ]
  },
  {
   "cell_type": "markdown",
   "metadata": {
    "slideshow": {
     "slide_type": "slide"
    }
   },
   "source": [
    "# Lets break that example down"
   ]
  },
  {
   "cell_type": "markdown",
   "metadata": {
    "slideshow": {
     "slide_type": "subslide"
    }
   },
   "source": [
    "## Defining a Custom Activation Function\n",
    "```julia\n",
    "leaky_relu6(x) = 0.01x + nn.relu6(x)\n",
    "```\n",
    "\n",
    " - Trival in the modern day with Flux, etc\n",
    " - When TensorFlow came out, this was insane wizard tricks, for Cafe users.\n",
    " - But now we take it for granted.\n",
    " - Note that to do this TensorFlow needed to basically implement a full linear algebra and math library."
   ]
  },
  {
   "cell_type": "markdown",
   "metadata": {
    "slideshow": {
     "slide_type": "subslide"
    }
   },
   "source": [
    "## Building up our layers\n",
    "\n",
    "```julia\n",
    "    Zs = [X]\n",
    "    for (ii, hlsize) in enumerate(hl_sizes)\n",
    "        Wii = get_variable(\"W_$ii\", [get_shape(Zs[end], 2), hlsize], Float32)\n",
    "        bii = get_variable(\"b_$ii\", [hlsize], Float32)\n",
    "        Zii = leaky_relu6(Zs[end]*Wii + bii)\n",
    "        push!(Zs, Zii)\n",
    "    end\n",
    "```\n",
    "\n",
    "Remember what we are actually doing here is mutating the graph.\n"
   ]
  },
  {
   "cell_type": "markdown",
   "metadata": {
    "slideshow": {
     "slide_type": "subslide"
    }
   },
   "source": [
    "## MLDataUtils for training helpers\n",
    "\n",
    "```julia\n",
    "    for batch_x in eachbatch(train_images, 1_000, ObsDim.Last())\n",
    "        flat_batch_x = reshape(batch_x, (28*28, :))\n",
    "        loss_o, _ = run(sess, (loss, optimizer), Dict(X=>flat_batch_x'))\n",
    "        push!(epoch_loss, loss_o)\n",
    "    end\n",
    "```\n",
    "\n",
    " - MLDataUtils is a fantastic julia package full of helpers useful with all ML packages\n",
    " - Use it with TensorFlow, use it with Flux, use it with Knet\n",
    " - `eachbatch`/ `batchview`\n",
    " - `eachobs`/`obsview`\n",
    " - Various stratified sampling, `oversample`, `undersample`\n",
    " - test/train splitting"
   ]
  },
  {
   "cell_type": "markdown",
   "metadata": {
    "slideshow": {
     "slide_type": "slide"
    }
   },
   "source": [
    "# A Complicated Output Layer for HSV Color\n",
    "Saturation and Value are easy, but Hue is angular\n",
    "\n",
    "$$loss =   \\left(y^\\star_{sat} - y_{sat} \\right)^2 + \\left(y^\\star_{val} - y_{val} \\right)^2 \\\\\\ + \\frac{1}{2} \\left(\\sin(y^\\star_{hue}) - y_{shue} \\right)^2 + \\frac{1}{2} \\left(\\cos(y^\\star_{hue}) - y_{chue} \\right)^2 $$\n",
    " \n",
    "<img src=\"./figs/hsv_output_module.png\" width=\"50%\" height=\"50%\"/>\n"
   ]
  },
  {
   "cell_type": "markdown",
   "metadata": {
    "slideshow": {
     "slide_type": "subslide"
    }
   },
   "source": [
    "# How do we build this\n",
    "## (Syntax Overloading)\n",
    "\n",
    "\n",
    "```julia\n",
    "function hsv_output_layer(Y_logit::Tensor{Float32})\n",
    "    # Y_logit size: [missing, 4] \n",
    "\n",
    "    \n",
    "    # Prediction \n",
    "    Y_sat = nn.sigmoid(Y_logit[:,3])  # range 0:1\n",
    "    Y_val = nn.sigmoid(Y_logit[:,4])  # range 0:1\n",
    "\n",
    "    Y_shue = tanh(Y_logit[:,1])       # range -1:1 -- like sin\n",
    "    Y_chue = tanh(Y_logit[:,2])       # range -1:1 -- like cos\n",
    "\n",
    "\n",
    "    # Obs \n",
    "    Y_obs = placeholder(Float32; shape=[-1, 3])\n",
    "    Y_obs_hue = Y_obs[:,1]                       # Notice proper indexing         \n",
    "    Y_obs_sat = Y_obs[:,2]\n",
    "    Y_obs_val = Y_obs[:,3]\n",
    "\n",
    "    Y_obs_shue = sin(Float32(2π) .* Y_obs_hue)\n",
    "    Y_obs_chue = cos(Float32(2π) .* Y_obs_hue)\n",
    "    \n",
    "    \n",
    "    # Loss                        \n",
    "    loss_hue = 0.5reduce_mean((Y_shue - Y_obs_shue)^2 + (Y_chue - Y_obs_chue)^2))\n",
    "    loss_sat = reduce_mean((Y_sat-Y_obs_sat)^2)\n",
    "    loss_val = reduce_mean((Y_val-Y_obs_val)^2)\n",
    "\n",
    "    loss_total = identity(loss_hue + loss_sat + loss_val)\n",
    "\n",
    "                        \n",
    "    # For Output, we want hue angle measured in 0:1 (units of turns)\n",
    "    Y_hue_o1 = Ops.atan2(Y_shue, Y_chue)/(2Float32(π))\n",
    "    Y_hue_o2 = select(Y_hue_o1 > 0, Y_hue_o1, Y_hue_o1+1) # Wrap around things below 0\n",
    "    Y_hue = reshape(Y_hue_o2, [-1]) # force shape\n",
    "\n",
    "    Y = identity([Y_hue Y_sat Y_val]) # *** Notice Julia Style hcat***\n",
    "\n",
    "    return loss_total\n",
    "end\n",
    "```"
   ]
  },
  {
   "cell_type": "markdown",
   "metadata": {
    "slideshow": {
     "slide_type": "subslide"
    }
   },
   "source": [
    "## Overloading hcat & vcat\n",
    "\n",
    "Like in:\n",
    "\n",
    "```julia\n",
    " Y = identity([Y_hue Y_sat Y_val])\n",
    "```\n",
    "\n",
    "\n",
    "So that `[a b]` and `[a; b]` work.\n",
    "vs Base Tensorflow, would have you first make sure everything is the same number of dimensions,\n",
    "then `concat` them,\n",
    "And you couldn't use julia style syntax.\n",
    "\n",
    "https://github.com/malmaud/TensorFlow.jl/blob/7099f05f523556829164aab41eccd394d29df898/src/ops/transformations.jl#L129-L150\n"
   ]
  },
  {
   "cell_type": "markdown",
   "metadata": {
    "slideshow": {
     "slide_type": "subslide"
    }
   },
   "source": [
    "## Overloading getindex\n",
    "\n",
    "Like in:\n",
    "\n",
    "```julia\n",
    "    Y_sat = nn.sigmoid(Y_logit[:,3])  # range 0:1\n",
    "    Y_val = nn.sigmoid(Y_logit[:,4])  # range 0:1\n",
    "\n",
    "    Y_shue = tanh(Y_logit[:,1])       # range -1:1 -- like sin\n",
    "    Y_chue = tanh(Y_logit[:,2])       # range -1:1 -- like cos\n",
    "```\n",
    "\n",
    "Indexing with slices and ranges is much nicer than `tf.gather` and `tf.gather_nd` and even than `tf.slice`.\n",
    "\n",
    "So that `X[a:b]`, `X[a]`, `X[:, end÷2]` etc.\n",
    "\n",
    "https://github.com/malmaud/TensorFlow.jl/blob/master/src/ops/indexing.jl\n"
   ]
  },
  {
   "cell_type": "markdown",
   "metadata": {
    "slideshow": {
     "slide_type": "slide"
    }
   },
   "source": [
    "# TensorFlow.jl Conventions vs Julia Conventions vs Python TensorFlow Conventions"
   ]
  },
  {
   "cell_type": "markdown",
   "metadata": {
    "slideshow": {
     "slide_type": "subslide"
    }
   },
   "source": [
    "**Julia**: 1-based indexing   \n",
    "**Python TF**: 0-based indexing  \n",
    "**TensorFlow.jl**: 1-based indexing   \n"
   ]
  },
  {
   "cell_type": "markdown",
   "metadata": {
    "slideshow": {
     "slide_type": "subslide"
    }
   },
   "source": [
    "\n",
    "\n",
    "**Julia:** explicit broadcasting   \n",
    "**Python TF:** implicit broadcasting   \n",
    "**TensorFlow.jl:** implicit or explicit broadcasting  \n"
   ]
  },
  {
   "cell_type": "markdown",
   "metadata": {
    "slideshow": {
     "slide_type": "subslide"
    }
   },
   "source": [
    "\n",
    "\n",
    "**Julia:**  last index at `end`, 2nd last in `end-1`, etc.   \n",
    "**Python TF:** last index at `-1` second last in `-2`   \n",
    "**TensorFlow.jl** last index at `end` 2nd last in `end-1`  \n",
    "\n"
   ]
  },
  {
   "cell_type": "markdown",
   "metadata": {
    "slideshow": {
     "slide_type": "subslide"
    }
   },
   "source": [
    "\n",
    "**Julia:**  Operations in Julia ecosystem namespaces. (`SVD` in `LinearAlgebra`, `erfc` in `SpecialFunctions`, `cos` in `Base`)   \n",
    "**Python TF:** All operations in TensorFlow's namespaces (`SVD` in `tf.linalg`, `erfc` in `tf.math`, `cos` in `tf.math`, and all reexported from `tf`)  \n",
    "**TensorFlow.jl**  Existing Julia functions overloaded to call TensorFlow equivalents when called with TensorFlow arguments  \n",
    " \n"
   ]
  },
  {
   "cell_type": "markdown",
   "metadata": {
    "slideshow": {
     "slide_type": "subslide"
    }
   },
   "source": [
    "\n",
    "**Julia:** Container types are parametrized by number of dimensions and element type   \n",
    "**Python TF:** N/A -- python does not have a parametric type system   \n",
    "**TensorFlow.jl:** Tensors are parametrized by element type.  "
   ]
  },
  {
   "cell_type": "markdown",
   "metadata": {
    "slideshow": {
     "slide_type": "slide"
    }
   },
   "source": [
    "# Where are the bits that make TensorFlow.jl work defined?\n",
    "\n",
    "## TensorFlow.jl (Julia)\n",
    " - Nice Things\n",
    " - RNNs\n",
    " - Training / Optimizers\n",
    " \n",
    "## TensorFlow (PyCall)\n",
    " - Gradients\n",
    " - Writing tensorboard events to file\n",
    " \n",
    "## LibTensorFlow (C API)\n",
    " - Operations\n",
    " - Shape Inference"
   ]
  },
  {
   "cell_type": "markdown",
   "metadata": {
    "slideshow": {
     "slide_type": "slide"
    }
   },
   "source": [
    "# What doesn't work"
   ]
  },
  {
   "cell_type": "markdown",
   "metadata": {
    "slideshow": {
     "slide_type": "subslide"
    }
   },
   "source": [
    "# 😢 BatchNorm\n",
    "\n",
    " - There is a `BatchNorm` op in LibTensorFlow\n",
    " - Actually there are several, for different parts of the Fusing.\n",
    " - to get `BatchNorm` to work, you need to glue these together with the right predeclared variable for state and for reused working memory\n",
    " - This is hundreds (thousands?) of lines of python glue code, that needs to be reimplemented."
   ]
  },
  {
   "cell_type": "markdown",
   "metadata": {
    "slideshow": {
     "slide_type": "subslide"
    }
   },
   "source": [
    "#  😢 Windows Support\n",
    "\n",
    " - I've not tried to get this working in  a while but last time:\n",
    " - Unending segfaults on basic operations.\n",
    " - In theory it should just work."
   ]
  },
  {
   "cell_type": "markdown",
   "metadata": {
    "slideshow": {
     "slide_type": "subslide"
    }
   },
   "source": [
    "#  TFEager\n",
    "## Work In Progress\n",
    "\n",
    " - Jon Malmaud is working on this\n",
    " - Google apparently wants this.\n",
    " - But why? I have a perfectly nice eager NN framework called Flux\n"
   ]
  },
  {
   "cell_type": "markdown",
   "metadata": {
    "slideshow": {
     "slide_type": "subslide"
    }
   },
   "source": [
    "# Dropping the Python Dependency\n",
    " - Python dependency is a nasty hack\n",
    " - It is basically only used for getting gradients.\n",
    " - we actually interact with it primarily by:\n",
    "     - exporting the graph\n",
    "     - running some Python TF on it\n",
    "     - Importing the modified graph back\n",
    "     \n",
    " - We need it for gradients as they are not in the C API\n",
    " - They are coming to the C API, but not ready yet.]]\n",
    " "
   ]
  },
  {
   "cell_type": "markdown",
   "metadata": {
    "slideshow": {
     "slide_type": "slide"
    }
   },
   "source": [
    "# Invenia Labs\n",
    "\n",
    "![](https://www.invenia.ca/wp-content/themes/relish_theme/img/labs-logo.png)\n",
    "\n",
    "## We're hiring\n",
    "### People who know Julia\n",
    "### People who know Machine Learning\n",
    "I have left some fliers about open positions at the entrance."
   ]
  }
 ],
 "metadata": {
  "celltoolbar": "Slideshow",
  "kernelspec": {
   "display_name": "Julia 1.1.0",
   "language": "julia",
   "name": "julia-1.1"
  },
  "language_info": {
   "file_extension": ".jl",
   "mimetype": "application/julia",
   "name": "julia",
   "version": "1.1.0"
  }
 },
 "nbformat": 4,
 "nbformat_minor": 2
}
