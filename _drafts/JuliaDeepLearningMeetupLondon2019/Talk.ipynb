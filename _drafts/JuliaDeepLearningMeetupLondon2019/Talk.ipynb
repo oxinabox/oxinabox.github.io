{
 "cells": [
  {
   "cell_type": "markdown",
   "metadata": {
    "slideshow": {
     "slide_type": "slide"
    }
   },
   "source": [
    "# TensorFlow and other tools for ML in Julia\n",
    "\n",
    "\n",
    "![](data:image/svg+xml;base64,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)\n",
    "\n",
    "\n",
    "\n",
    "**Lyndon White**\n",
    " - Research Software Engineer -- Invenia Labs, Cambridge\n",
    " - Technically still PhD Candidate -- The University of Western Australia"
   ]
  },
  {
   "cell_type": "code",
   "execution_count": 29,
   "metadata": {},
   "outputs": [],
   "source": [
    "using Pkg: @pkg_str\n",
    "pkg\"activate  .\"\n",
    "\n",
    "\n",
    "using TensorFlow\n",
    "using MLDataUtils\n",
    "\n",
    "using MLDatasets\n",
    "using Statistics\n",
    "using Plots"
   ]
  },
  {
   "cell_type": "markdown",
   "metadata": {
    "slideshow": {
     "slide_type": "slide"
    }
   },
   "source": [
    "# Before TensorFlow\n",
    " \n",
    " - Researchers generally couldn't use Cafe etc as it is not suitably flexible.\n",
    " - One could use Theano, but it is painfully weird\n",
    " - Just write your neural networks by hand, as matrix math\n",
    " - And do your differenciation by hand, first with a blackboard then with more matrix math\n",
    " - While you are at it maybe write your own implementation of gradient descent etc\n",
    " - This was not long ago, I was still doing this in 2014\n",
    " - Julia is a fantasitic language to do this in."
   ]
  },
  {
   "cell_type": "markdown",
   "metadata": {
    "slideshow": {
     "slide_type": "slide"
    }
   },
   "source": [
    "# Static Graphs\n",
    "\n",
    " - TensorFlow is all about the statc graphs\n",
    " - It is basically a metaprogamming DSL for manipulating static graphs\n",
    " - which are then used to do differencation, and linear algebra"
   ]
  },
  {
   "cell_type": "markdown",
   "metadata": {
    "slideshow": {
     "slide_type": "subslide"
    }
   },
   "source": [
    "## 👍 Easy to manipulate mathematically and easy to think about\n",
    " - It is literally an AST for a language without control flow\n",
    "    - i.e.  a language that is a lot like mathematical notation  \n",
    " - The dervitive of the graph can be calculated  via the chain rule -- generating another graph\n",
    " - Clear seperation of **defintion** from **execution**."
   ]
  },
  {
   "cell_type": "markdown",
   "metadata": {
    "slideshow": {
     "slide_type": "subslide"
    }
   },
   "source": [
    "## 👎 Dynamic stuctures are impossible.\n",
    "- A dynamic structure is on in which\n",
    " the network structure differs per input\n",
    "- RNNs have to be statically unrolled to their maximum length\n",
    "- If you want to represent say a tree structured network  (e.g. the work of Bowman, Socher and others for NLP)...  😿"
   ]
  },
  {
   "cell_type": "markdown",
   "metadata": {
    "slideshow": {
     "slide_type": "subslide"
    }
   },
   "source": [
    "## 🔮 Long-term static graphs are probably going away for good.\n",
    "\n",
    " - Dynamic structure makes deep learning more like normnal programming than math\n",
    " - much more flexible\n",
    " - Even TensorFlow is pushing this way wioth TensorFlow 2.0 and TensorFlow for Swift focusing on **TFEager**.\n"
   ]
  },
  {
   "cell_type": "markdown",
   "metadata": {
    "slideshow": {
     "slide_type": "slide"
    }
   },
   "source": [
    "## 4 Types of Nodes, i.e. `Tensors`\n",
    " - **Placeholders:** this is where you put your inputs\n",
    " - **Operations:** theres transform inputs into outputs, they do math\n",
    " - **Variables:** thes are the things you train, they are mutable\n",
    " - **Actions:** These are operations with side effects, like logging (TensorBoard)) and mutating Variable (Optimizers)"
   ]
  },
  {
   "cell_type": "markdown",
   "metadata": {
    "slideshow": {
     "slide_type": "subslide"
    }
   },
   "source": [
    "## 1) Placeholders\n",
    " \n",
    "  - Use these to declare your networks inputs\n",
    "  \n",
    "```julia\n",
    "x = placeholder(Float64, name=\"x\", shape=[-1, 5])\n",
    "@tf x = placeholder(Float64, name=\"x\", shape=[missing, 5])\n",
    "```\n",
    "\n",
    "When you invoke a network this is done\n",
    "```julia\n",
    "run(sess, output, placeholder_value_dict)\n",
    "```\n",
    "\n",
    "e.g.\n",
    "```julia\n",
    "run(sess, 2x, Dict(x=>[1, 2, 3, 4, 5]')\n",
    "```\n",
    "\n",
    "It is worth noting that you do not have to provide all `placeholder`s on every invocation of your network.\n",
    "Only those on a path leading to your requested output."
   ]
  },
  {
   "cell_type": "markdown",
   "metadata": {
    "slideshow": {
     "slide_type": "subslide"
    }
   },
   "source": [
    "## Automatic Node Naming\n",
    "\n",
    " - Notice before I did `@tf begin ... end`\n",
    " - **This is not at all required**\n",
    " - But it does enable automatic node naming\n",
    " - so `@tf y = sin(x)` actually becomes `y = sin(x; name=\"y\")`\n",
    " - This gives you a good graph in tensorboard, and also better error messages.\n",
    " - Further it lets us look up tensors from the graph by **name**"
   ]
  },
  {
   "cell_type": "markdown",
   "metadata": {
    "slideshow": {
     "slide_type": "subslide"
    }
   },
   "source": [
    "## 2) Operators\n",
    " \n",
    "  - Use these to declare calculations\n",
    "  \n",
    "```julia\n",
    "z = *(x,y; name=\"z\")\n",
    "@tf z = x*y\n",
    "```\n",
    "\n",
    "When you invoke a network the  can be your outpurs\n",
    "```julia\n",
    "run(sess, output, placeholder_value_dict)\n",
    "```\n",
    "\n",
    "e.g.\n",
    "```julia\n",
    "run(sess, z, Dict(x=>1, y=>2)\n",
    "```\n"
   ]
  },
  {
   "cell_type": "markdown",
   "metadata": {
    "slideshow": {
     "slide_type": "subslide"
    }
   },
   "source": [
    "### Functions and Operators\n",
    "\n",
    "Functions mutate **the graph** to introduce **operators**.\n",
    "\n",
    "For example:\n",
    " - `sin(::Float64)` in julia would return a `Float64` that is the answer.\n",
    " - `sin(::Tensor)` introduces a `sin` operation into the graph, and returns a `Tensor` that is a reference to it's output, this could be feed to other operations.\n",
    " \n",
    "The answer to that operation is not computed, until you execute the graph.\n"
   ]
  },
  {
   "cell_type": "code",
   "execution_count": 30,
   "metadata": {
    "slideshow": {
     "slide_type": "subslide"
    }
   },
   "outputs": [
    {
     "name": "stdout",
     "output_type": "stream",
     "text": [
      "y = <Tensor y:1 shape=unknown dtype=Float64>\n",
      "run(sess, y, Dict(x => 0.5)) = 0.479425538604203\n"
     ]
    }
   ],
   "source": [
    "sess= Session(Graph())\n",
    "\n",
    "@tf begin\n",
    "    x = placeholder(Float64)\n",
    "    y = sin(x)\n",
    "end\n",
    "\n",
    "@show y\n",
    "\n",
    "@show run(sess, y, Dict(x=>0.5));"
   ]
  },
  {
   "cell_type": "code",
   "execution_count": 31,
   "metadata": {
    "slideshow": {
     "slide_type": "subslide"
    }
   },
   "outputs": [
    {
     "name": "stdout",
     "output_type": "stream",
     "text": [
      "sess.graph[\"x\"] = <Tensor x:1 shape=unknown dtype=Float64>\n",
      "sess.graph[\"y\"] = <Tensor y:1 shape=unknown dtype=Float64>\n"
     ]
    },
    {
     "data": {
      "text/plain": [
       "0.479425538604203"
      ]
     },
     "execution_count": 31,
     "metadata": {},
     "output_type": "execute_result"
    }
   ],
   "source": [
    "@show sess.graph[\"x\"]\n",
    "@show sess.graph[\"y\"]\n",
    "\n",
    "run(sess, sess.graph[\"y\"], Dict(sess.graph[\"x\"]=>0.5))"
   ]
  },
  {
   "cell_type": "markdown",
   "metadata": {
    "slideshow": {
     "slide_type": "subslide"
    }
   },
   "source": [
    "## 3) Variables\n",
    "\n",
    "```julia\n",
    "Wout = get_variable(Wout, [128, 128], Float32)\n",
    "@tf Wout = get_variable([128, 128], Float32)\n",
    "```\n",
    "\n",
    "Variables are what are trained.\n",
    "During a `run` of a network, if one of the outputs is an optimizer,\n",
    "it will mutate the variables according to it's loss.\n"
   ]
  },
  {
   "cell_type": "markdown",
   "metadata": {
    "slideshow": {
     "slide_type": "subslide"
    }
   },
   "source": [
    "## 4) Actions\n",
    " - Technically this is just a kind of operation, with side-effects\n",
    " - Any time a node occurs in the path between the input and the output, it's action is done.\n",
    " - This mean returning the optimizer causes optimization of the parameters to occur\n",
    " \n",
    "```julia\n",
    "opt = train.minimize(train.AdamOptimizer(), net_loss)\n",
    "```"
   ]
  },
  {
   "cell_type": "markdown",
   "metadata": {
    "slideshow": {
     "slide_type": "slide"
    }
   },
   "source": [
    "# Lets have an exciting Demo\n",
    "[Link](./Examples.ipynb)\n",
    "\n",
    "![](https://white.ucc.asn.au/posts_assets/Intro%20to%20Machine%20Learning%20with%20TensorFlow.jl_files/Intro%20to%20Machine%20Learning%20with%20TensorFlow.jl_28_0.png)\n",
    "\n"
   ]
  },
  {
   "cell_type": "markdown",
   "metadata": {
    "slideshow": {
     "slide_type": "slide"
    }
   },
   "source": [
    "# Lets break that example down"
   ]
  },
  {
   "cell_type": "markdown",
   "metadata": {
    "slideshow": {
     "slide_type": "subslide"
    }
   },
   "source": [
    "## Defining a Custom Activation Function\n",
    "```julia\n",
    "leaky_relu6(x) = 0.01x + nn.relu6(x)\n",
    "```\n",
    "\n",
    " - Trival in the modern day with Flux, etc\n",
    " - When TensorFlow came out, this was insane wizard tricks 🧙\n",
    " - But now we take it for granted.\n",
    " - Note that to do this TensorFlow needed to basically implement a full linear algebra and math library."
   ]
  },
  {
   "cell_type": "markdown",
   "metadata": {
    "slideshow": {
     "slide_type": "subslide"
    }
   },
   "source": [
    "## Building up our layers\n",
    "\n",
    "```julia\n",
    "Zs = [X]\n",
    "for (ii, hlsize) in enumerate(hl_sizes)\n",
    "    Wii = get_variable(\"W_$ii\", [get_shape(Zs[end], 2), hlsize], Float32)\n",
    "    bii = get_variable(\"b_$ii\", [hlsize], Float32)\n",
    "    Zii = leaky_relu6(Zs[end]*Wii + bii)\n",
    "    push!(Zs, Zii)\n",
    "end\n",
    "```\n",
    "\n",
    "Remember what we are actually doing here is mutating the graph.\n"
   ]
  },
  {
   "cell_type": "markdown",
   "metadata": {
    "slideshow": {
     "slide_type": "subslide"
    }
   },
   "source": [
    "## Loss function\n",
    "\n",
    "```julia\n",
    "losses = 0.5(Y .- X).^2\n",
    "loss = reduce_mean(losses) + 0.01reduce_mean(bout.^2)\n",
    "optimizer = train.minimize(train.AdamOptimizer(), loss)\n",
    "```"
   ]
  },
  {
   "cell_type": "markdown",
   "metadata": {
    "slideshow": {
     "slide_type": "slide"
    }
   },
   "source": [
    "# MLDataUtils for training helpers\n",
    "\n",
    "\n",
    "\n",
    " - MLDataUtils is a fantastic julia package full of helpers useful with all ML packages\n",
    " - Use it with TensorFlow, use it with Flux, use it with Knet, etc\n",
    " - `shuffleobs`\n",
    " - `eachbatch`/ `BatchView`\n",
    " - `eachobs`/`obsview`\n",
    " - Various stratified sampling, `oversample`, `undersample`\n",
    " - test/train splitting\n",
    " - feature normalizatin `rescale!`, `center!`\n",
    " - MLLabelUtils for encoding/decoding"
   ]
  },
  {
   "cell_type": "markdown",
   "metadata": {
    "slideshow": {
     "slide_type": "subslide"
    }
   },
   "source": [
    "## MLDataUtils Example\n",
    "```julia\n",
    "train_obs = shuffleobs(train_images_flat, ObsDim.Last())\n",
    "batches = eachbatch(train_images_flat, 1_000, ObsDim.Last())\n",
    "for (batch_ii, batch_x) in  enumerate(batches)\n",
    "    ...\n",
    "end\n",
    "```\n",
    "\n",
    "More examples:\n",
    "```julia\n",
    "for (batch_x, batch_y) in eachbatch((train_x, train_y), 1000, ObsDim.First())\n",
    "for (batch_x, batch_y) in eachbatch((train_x, train_y), 1000, obsdim=(ObsDim.First(), ObsDim.Last()))\n",
    "```"
   ]
  },
  {
   "cell_type": "code",
   "execution_count": 28,
   "metadata": {
    "slideshow": {
     "slide_type": "subslide"
    }
   },
   "outputs": [
    {
     "name": "stdout",
     "output_type": "stream",
     "text": [
      "FashionMNIST.testtensor() |> typeof = Base.ReinterpretArray{FixedPointNumbers.Normed{UInt8,8},3,UInt8,Array{UInt8,3}}\n",
      "FashionMNIST.testtensor() |> size = (28, 28, 10000)\n",
      "\n",
      "FashionMNIST.testlabels() |> typeof = Array{Int64,1}\n",
      "FashionMNIST.testlabels() |> size = (10000,)\n",
      "\n",
      "typeof(data) = Tuple{Base.ReinterpretArray{FixedPointNumbers.Normed{UInt8,8},3,UInt8,Array{UInt8,3}},Array{Int64,1}}\n",
      "\n",
      "(eachobs(data) |> first) |> typeof = Tuple{Array{FixedPointNumbers.Normed{UInt8,8},2},Int64}\n",
      "nobs(data) = 10000\n"
     ]
    }
   ],
   "source": [
    "@show FashionMNIST.testtensor() |> typeof  \n",
    "@show FashionMNIST.testtensor() |> size\n",
    "println()\n",
    "@show FashionMNIST.testlabels()  |> typeof\n",
    "@show FashionMNIST.testlabels()  |> size\n",
    "\n",
    "println()\n",
    "data = (FashionMNIST.testtensor(), FashionMNIST.testlabels())\n",
    "@show typeof(data)\n",
    "println()\n",
    "@show eachobs(data) |> first |> typeof\n",
    "@show nobs(data);\n"
   ]
  },
  {
   "cell_type": "markdown",
   "metadata": {
    "slideshow": {
     "slide_type": "slide"
    }
   },
   "source": [
    "# A Complicated Output Layer for HSV Color\n",
    "Saturation and Value are easy, but Hue is angular\n",
    "\n",
    "$$loss =   \\left(y^\\star_{sat} - y_{sat} \\right)^2 + \\left(y^\\star_{val} - y_{val} \\right)^2  + \\frac{1}{2} \\left(\\sin(y^\\star_{hue}) - y_{shue} \\right)^2 + \\frac{1}{2} \\left(\\cos(y^\\star_{hue}) - y_{chue} \\right)^2 $$\n",
    " \n",
    "---\n",
    " \n",
    "<img src=\"./figs/hsv_output_module.png\" width=\"50%\" height=\"50%\"/>\n"
   ]
  },
  {
   "cell_type": "markdown",
   "metadata": {
    "slideshow": {
     "slide_type": "subslide"
    }
   },
   "source": [
    "# How do we build this: Prediction & Output\n",
    "\n",
    "```julia\n",
    "# Y_logit size: [missing, 4] \n",
    "Y_sat = nn.sigmoid(Y_logit[:,3])  # range 0:1\n",
    "Y_val = nn.sigmoid(Y_logit[:,4])  # range 0:1\n",
    "\n",
    "Y_shue = tanh(Y_logit[:,1])       # range -1:1 -- like sin\n",
    "Y_chue = tanh(Y_logit[:,2])       # range -1:1 -- like cos\n",
    "\n",
    "# For Output, we want hue angle measured in 0:1 (units of turns)\n",
    "Y_hue_o1 = Ops.atan2(Y_shue, Y_chue)/(2Float32(π))\n",
    "Y_hue_o2 = select(Y_hue_o1 > 0, Y_hue_o1, Y_hue_o1+1) # Wrap around\n",
    "Y_hue = reshape(Y_hue_o2, [-1]) # force shape\n",
    "\n",
    "Y = identity([Y_hue Y_sat Y_val])\n",
    "```\n"
   ]
  },
  {
   "cell_type": "markdown",
   "metadata": {
    "slideshow": {
     "slide_type": "subslide"
    }
   },
   "source": [
    "# How do we build this: Observations & Loss\n",
    "```julia\n",
    "# Obs \n",
    "Y_obs = placeholder(Float32; shape=[-1, 3])\n",
    "Y_obs_hue = Y_obs[:,1]    \n",
    "Y_obs_sat = Y_obs[:,2]\n",
    "Y_obs_val = Y_obs[:,3]\n",
    "\n",
    "Y_obs_shue = sin(Float32(2π) .* Y_obs_hue)\n",
    "Y_obs_chue = cos(Float32(2π) .* Y_obs_hue)\n",
    "\n",
    "\n",
    "# Loss                        \n",
    "loss_hue = 0.5reduce_mean((Y_shue - Y_obs_shue)^2 + (Y_chue - Y_obs_chue)^2))\n",
    "loss_sat = reduce_mean((Y_sat-Y_obs_sat)^2)\n",
    "loss_val = reduce_mean((Y_val-Y_obs_val)^2)\n",
    "\n",
    "loss_total = identity(loss_hue + loss_sat + loss_val)\n",
    "```"
   ]
  },
  {
   "cell_type": "markdown",
   "metadata": {
    "slideshow": {
     "slide_type": "slide"
    }
   },
   "source": [
    "# Syntax Overloads\n",
    "\n",
    " - One of the nicest things about julia is how much of the syntax is available to be overloaded\n",
    " - This is used a lot in this example"
   ]
  },
  {
   "cell_type": "markdown",
   "metadata": {
    "slideshow": {
     "slide_type": "subslide"
    }
   },
   "source": [
    "## Overloading hcat & vcat\n",
    "\n",
    "Like in:\n",
    "\n",
    "```julia\n",
    " Y = identity([Y_hue Y_sat Y_val])\n",
    "```\n",
    "\n",
    "\n",
    "So that `[a b]` and `[a; b]` work.\n",
    "vs Base Tensorflow, would have you first make sure everything is the same number of dimensions,\n",
    "then `concat` them,\n",
    "And you couldn't use julia style syntax.\n",
    "\n",
    "https://github.com/malmaud/TensorFlow.jl/blob/7099f05f523556829164aab41eccd394d29df898/src/ops/transformations.jl#L129-L150\n"
   ]
  },
  {
   "cell_type": "markdown",
   "metadata": {
    "slideshow": {
     "slide_type": "subslide"
    }
   },
   "source": [
    "## Overloading getindex\n",
    "\n",
    "Like in:\n",
    "\n",
    "```julia\n",
    "    Y_sat = nn.sigmoid(Y_logit[:,3])  # range 0:1\n",
    "    Y_val = nn.sigmoid(Y_logit[:,4])  # range 0:1\n",
    "\n",
    "    Y_shue = tanh(Y_logit[:,1])       # range -1:1 -- like sin\n",
    "    Y_chue = tanh(Y_logit[:,2])       # range -1:1 -- like cos\n",
    "```\n",
    "\n",
    "Indexing with slices and ranges is much nicer than `tf.gather` and `tf.gather_nd` and even than `tf.slice`.\n",
    "\n",
    "So that `X[a:b]`, `X[a]`, `X[:, end÷2]` etc.\n",
    "\n",
    "https://github.com/malmaud/TensorFlow.jl/blob/master/src/ops/indexing.jl\n"
   ]
  },
  {
   "cell_type": "markdown",
   "metadata": {
    "slideshow": {
     "slide_type": "slide"
    }
   },
   "source": [
    "# TensorFlow.jl Conventions vs Julia Conventions vs Python TensorFlow Conventions"
   ]
  },
  {
   "cell_type": "markdown",
   "metadata": {
    "slideshow": {
     "slide_type": "subslide"
    }
   },
   "source": [
    "**Julia**: 1-based indexing   \n",
    "**Python TF**: 0-based indexing  \n",
    "**TensorFlow.jl**: 1-based indexing   \n"
   ]
  },
  {
   "cell_type": "markdown",
   "metadata": {
    "slideshow": {
     "slide_type": "subslide"
    }
   },
   "source": [
    "\n",
    "\n",
    "**Julia:** explicit broadcasting   \n",
    "**Python TF:** implicit broadcasting   \n",
    "**TensorFlow.jl:** implicit or explicit broadcasting  \n"
   ]
  },
  {
   "cell_type": "markdown",
   "metadata": {
    "slideshow": {
     "slide_type": "subslide"
    }
   },
   "source": [
    "\n",
    "\n",
    "**Julia:**  last index at `end`, second last in `end-1`, etc.   \n",
    "**Python TF:** last index at `-1`, second last in `-2`   \n",
    "**TensorFlow.jl** last index at `end`, second last in `end-1`  \n",
    "\n"
   ]
  },
  {
   "cell_type": "markdown",
   "metadata": {
    "slideshow": {
     "slide_type": "subslide"
    }
   },
   "source": [
    "\n",
    "**Julia:**  Operations in Julia ecosystem namespaces. (`SVD` in `LinearAlgebra`, `erfc` in `SpecialFunctions`, `cos` in `Base`)   \n",
    "**Python TF:** All operations in TensorFlow's namespaces (`SVD` in `tf.linalg`, `erfc` in `tf.math`, `cos` in `tf.math`, and all reexported from `tf`)  \n",
    "**TensorFlow.jl**  Existing Julia functions overloaded to call TensorFlow equivalents when called with TensorFlow arguments  \n",
    " \n"
   ]
  },
  {
   "cell_type": "markdown",
   "metadata": {
    "slideshow": {
     "slide_type": "subslide"
    }
   },
   "source": [
    "\n",
    "**Julia:** Container types are parametrized by number of dimensions and element type   \n",
    "**Python TF:** N/A -- python does not have a parametric type system   \n",
    "**TensorFlow.jl:** Tensors are parametrized by element type.  "
   ]
  },
  {
   "cell_type": "markdown",
   "metadata": {
    "slideshow": {
     "slide_type": "slide"
    }
   },
   "source": [
    "# Where are the bits that make TensorFlow.jl work defined?\n",
    "\n",
    "## TensorFlow.jl (Julia)\n",
    " - Nice Things\n",
    " - RNNs\n",
    " - Training / Optimizers\n",
    " \n",
    "## TensorFlow (PyCall)\n",
    " - Gradients\n",
    " - Writing tensorboard events to file\n",
    " \n",
    "## LibTensorFlow (C API)\n",
    " - Operations\n",
    " - Shape Inference"
   ]
  },
  {
   "cell_type": "markdown",
   "metadata": {
    "slideshow": {
     "slide_type": "slide"
    }
   },
   "source": [
    "# What doesn't work"
   ]
  },
  {
   "cell_type": "markdown",
   "metadata": {
    "slideshow": {
     "slide_type": "subslide"
    }
   },
   "source": [
    "# 😢 BatchNorm\n",
    "\n",
    " - There is a `BatchNorm` op in LibTensorFlow\n",
    " - Actually there are several, for different parts of the Fusing.\n",
    " - to get `BatchNorm` to work, you need to glue these together with the right predeclared variable for state and for reused working memory\n",
    " - This is hundreds (thousands?) of lines of python glue code, that needs to be reimplemented."
   ]
  },
  {
   "cell_type": "markdown",
   "metadata": {
    "slideshow": {
     "slide_type": "subslide"
    }
   },
   "source": [
    "#  😢 Windows Support\n",
    "\n",
    " - I've not tried to get this working in  a while but last time:\n",
    " - Unending segfaults on basic operations.\n",
    " - In theory it should just work."
   ]
  },
  {
   "cell_type": "markdown",
   "metadata": {
    "slideshow": {
     "slide_type": "subslide"
    }
   },
   "source": [
    "#  TFEager\n",
    "## Work In Progress\n",
    "\n",
    " - Jon Malmaud is working on this\n",
    " - Google apparently wants this.\n",
    " - But why? I have a perfectly nice eager NN framework called Flux\n"
   ]
  },
  {
   "cell_type": "markdown",
   "metadata": {
    "slideshow": {
     "slide_type": "subslide"
    }
   },
   "source": [
    "# Dropping the Python Dependency\n",
    " - Python dependency is a nasty hack\n",
    " - It is basically only used for getting gradients.\n",
    " - we actually interact with it primarily by:\n",
    "     - exporting the graph\n",
    "     - running some Python TF on it\n",
    "     - Importing the modified graph back\n",
    "     \n",
    " - We need it for gradients as they are not in the C API\n",
    " - They are coming to the C API, but not ready yet.]]\n",
    " "
   ]
  },
  {
   "cell_type": "markdown",
   "metadata": {
    "slideshow": {
     "slide_type": "slide"
    }
   },
   "source": [
    "# Invenia Labs\n",
    "\n",
    "![](https://www.invenia.ca/wp-content/themes/relish_theme/img/labs-logo.png)\n",
    "\n",
    "## We're hiring\n",
    "### People who know Julia\n",
    "### People who know Machine Learning\n",
    "I have left some fliers about open positions at the entrance."
   ]
  }
 ],
 "metadata": {
  "celltoolbar": "Slideshow",
  "kernelspec": {
   "display_name": "Julia 1.1.0",
   "language": "julia",
   "name": "julia-1.1"
  },
  "language_info": {
   "file_extension": ".jl",
   "mimetype": "application/julia",
   "name": "julia",
   "version": "1.1.0"
  }
 },
 "nbformat": 4,
 "nbformat_minor": 2
}
