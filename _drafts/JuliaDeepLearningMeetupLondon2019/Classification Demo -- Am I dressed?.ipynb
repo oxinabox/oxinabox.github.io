{
 "cells": [
  {
   "cell_type": "code",
   "execution_count": 1,
   "metadata": {
    "scrolled": true
   },
   "outputs": [],
   "source": [
    "using Pkg: @pkg_str\n",
    "pkg\"activate .\""
   ]
  },
  {
   "cell_type": "code",
   "execution_count": null,
   "metadata": {},
   "outputs": [],
   "source": [
    "using MLDatasets\n",
    "using MLDataUtils\n",
    "using Statistics\n",
    "using LIBSVM\n",
    "using DecisionTree\n",
    "using Flux\n",
    "using TensorFlow\n",
    "using Plots"
   ]
  },
  {
   "cell_type": "markdown",
   "metadata": {},
   "source": [
    "# FashionMNIST\n",
    "https://github.com/zalandoresearch/fashion-mnist\n",
    "\n",
    "![](https://raw.githubusercontent.com/zalandoresearch/fashion-mnist/master/doc/img/fashion-mnist-sprite.png)\n",
    "\n",
    "| Label | Description |\n",
    "| --- | --- |\n",
    "| 0 | T-shirt/top |\n",
    "| 1 | Trouser |\n",
    "| 2 | Pullover |\n",
    "| 3 | Dress |\n",
    "| 4 | Coat |\n",
    "| 5 | Sandal |\n",
    "| 6 | Shirt |\n",
    "| 7 | Sneaker |\n",
    "| 8 | Bag |\n",
    "| 9 | Ankle boot |\n"
   ]
  },
  {
   "cell_type": "markdown",
   "metadata": {},
   "source": [
    "## As a programmer, I clearly just randomly grab two items of clothing out of my wardrobe without concern for if they would leaving me appropriately covered.\n",
    "\n",
    "I would like a ML system that looks at images of my two items of clothing,\n",
    "and tells me if they are going to cover me.\n",
    "That means a dress, or a top and trousers."
   ]
  },
  {
   "cell_type": "code",
   "execution_count": 3,
   "metadata": {},
   "outputs": [
    {
     "data": {
      "text/plain": [
       "appropriately_dressed (generic function with 1 method)"
      ]
     },
     "execution_count": 3,
     "metadata": {},
     "output_type": "execute_result"
    }
   ],
   "source": [
    "function appropriately_dressed(clothing_items...)\n",
    "    3 ∈ clothing_items && return true  # A dress is both top and bottoms\n",
    "    \n",
    "    # need trousers and a top of some kind\n",
    "    return 1 ∈ clothing_items && length(intersect(clothing_items,(0, 2, 4, 6))) > 0 \n",
    "end"
   ]
  },
  {
   "cell_type": "markdown",
   "metadata": {},
   "source": [
    "## Generate a dataset\n",
    "We are going to generate a dataset,\n",
    "by taking two copies of FashionMNIST,\n",
    "shuffling them, and drawing them off in pairs,\n",
    "labelling each with a suitable label."
   ]
  },
  {
   "cell_type": "code",
   "execution_count": 4,
   "metadata": {},
   "outputs": [
    {
     "data": {
      "text/plain": [
       "generate_pants_dataset (generic function with 2 methods)"
      ]
     },
     "execution_count": 4,
     "metadata": {},
     "output_type": "execute_result"
    }
   ],
   "source": [
    "function generate_pants_dataset(data, max_obs=Inf)\n",
    "    combination_images = Vector{Vector{Float32}}()\n",
    "    is_dressed_labels = Vector{Bool}()\n",
    "    for (img1, lbl1) in eachobs(shuffleobs(data)), (img2, lbl2) in eachobs(shuffleobs(data))\n",
    "        push!(combination_images, [img1[:]; img2[:]])\n",
    "        push!(is_dressed_labels,  appropriately_dressed(lbl1, lbl2))\n",
    "        if length(is_dressed_labels) >= max_obs\n",
    "            break\n",
    "        end\n",
    "    end\n",
    "    return combination_images, is_dressed_labels\n",
    "end"
   ]
  },
  {
   "cell_type": "code",
   "execution_count": 5,
   "metadata": {},
   "outputs": [
    {
     "name": "stdout",
     "output_type": "stream",
     "text": [
      "mean(last, eachobs(train_data)) = 0.49405\n",
      "mean(last, eachobs(test_data)) = 0.489\n"
     ]
    },
    {
     "data": {
      "text/plain": [
       "0.489"
      ]
     },
     "execution_count": 5,
     "metadata": {},
     "output_type": "execute_result"
    }
   ],
   "source": [
    "using Random\n",
    "Random.seed!(14)\n",
    "\n",
    "\n",
    "train_data = generate_pants_dataset((FashionMNIST.traintensor(), FashionMNIST.trainlabels()), 20_000)\n",
    "@show mean(last, eachobs(train_data))\n",
    "\n",
    "test_data = generate_pants_dataset((FashionMNIST.testtensor(), FashionMNIST.testlabels()), 1_000);\n",
    "@show mean(last, eachobs(test_data))"
   ]
  },
  {
   "cell_type": "code",
   "execution_count": 6,
   "metadata": {},
   "outputs": [
    {
     "data": {
      "image/svg+xml": [
       "<?xml version=\"1.0\" encoding=\"utf-8\"?>\n",
       "<svg xmlns=\"http://www.w3.org/2000/svg\" xmlns:xlink=\"http://www.w3.org/1999/xlink\" width=\"600\" height=\"400\" viewBox=\"0 0 2400 1600\">\n",
       "<defs>\n",
       "  <clipPath id=\"clip7500\">\n",
       "    <rect x=\"0\" y=\"0\" width=\"2000\" height=\"2000\"/>\n",
       "  </clipPath>\n",
       "</defs>\n",
       "<defs>\n",
       "  <clipPath id=\"clip7501\">\n",
       "    <rect x=\"0\" y=\"0\" width=\"2400\" height=\"1600\"/>\n",
       "  </clipPath>\n",
       "</defs>\n",
       "<polygon clip-path=\"url(#clip7501)\" points=\"\n",
       "0,1600 2400,1600 2400,0 0,0 \n",
       "  \" fill=\"#ffffff\" fill-rule=\"evenodd\" fill-opacity=\"1\"/>\n",
       "<defs>\n",
       "  <clipPath id=\"clip7502\">\n",
       "    <rect x=\"480\" y=\"0\" width=\"1681\" height=\"1600\"/>\n",
       "  </clipPath>\n",
       "</defs>\n",
       "<polygon clip-path=\"url(#clip7501)\" points=\"\n",
       "750.579,1503.47 1478.69,1503.47 1478.69,47.2441 750.579,47.2441 \n",
       "  \" fill=\"#ffffff\" fill-rule=\"evenodd\" fill-opacity=\"1\"/>\n",
       "<defs>\n",
       "  <clipPath id=\"clip7503\">\n",
       "    <rect x=\"750\" y=\"47\" width=\"729\" height=\"1457\"/>\n",
       "  </clipPath>\n",
       "</defs>\n",
       "<polyline clip-path=\"url(#clip7503)\" style=\"stroke:#000000; stroke-width:2; stroke-opacity:0.1; fill:none\" points=\"\n",
       "  867.597,1503.47 867.597,47.2441 \n",
       "  \"/>\n",
       "<polyline clip-path=\"url(#clip7503)\" style=\"stroke:#000000; stroke-width:2; stroke-opacity:0.1; fill:none\" points=\"\n",
       "  997.618,1503.47 997.618,47.2441 \n",
       "  \"/>\n",
       "<polyline clip-path=\"url(#clip7503)\" style=\"stroke:#000000; stroke-width:2; stroke-opacity:0.1; fill:none\" points=\"\n",
       "  1127.64,1503.47 1127.64,47.2441 \n",
       "  \"/>\n",
       "<polyline clip-path=\"url(#clip7503)\" style=\"stroke:#000000; stroke-width:2; stroke-opacity:0.1; fill:none\" points=\"\n",
       "  1257.66,1503.47 1257.66,47.2441 \n",
       "  \"/>\n",
       "<polyline clip-path=\"url(#clip7503)\" style=\"stroke:#000000; stroke-width:2; stroke-opacity:0.1; fill:none\" points=\"\n",
       "  1387.68,1503.47 1387.68,47.2441 \n",
       "  \"/>\n",
       "<polyline clip-path=\"url(#clip7503)\" style=\"stroke:#000000; stroke-width:2; stroke-opacity:0.1; fill:none\" points=\"\n",
       "  750.579,1256.44 1478.69,1256.44 \n",
       "  \"/>\n",
       "<polyline clip-path=\"url(#clip7503)\" style=\"stroke:#000000; stroke-width:2; stroke-opacity:0.1; fill:none\" points=\"\n",
       "  750.579,996.394 1478.69,996.394 \n",
       "  \"/>\n",
       "<polyline clip-path=\"url(#clip7503)\" style=\"stroke:#000000; stroke-width:2; stroke-opacity:0.1; fill:none\" points=\"\n",
       "  750.579,736.353 1478.69,736.353 \n",
       "  \"/>\n",
       "<polyline clip-path=\"url(#clip7503)\" style=\"stroke:#000000; stroke-width:2; stroke-opacity:0.1; fill:none\" points=\"\n",
       "  750.579,476.312 1478.69,476.312 \n",
       "  \"/>\n",
       "<polyline clip-path=\"url(#clip7503)\" style=\"stroke:#000000; stroke-width:2; stroke-opacity:0.1; fill:none\" points=\"\n",
       "  750.579,216.271 1478.69,216.271 \n",
       "  \"/>\n",
       "<polyline clip-path=\"url(#clip7501)\" style=\"stroke:#000000; stroke-width:4; stroke-opacity:1; fill:none\" points=\"\n",
       "  750.579,1503.47 1478.69,1503.47 \n",
       "  \"/>\n",
       "<polyline clip-path=\"url(#clip7501)\" style=\"stroke:#000000; stroke-width:4; stroke-opacity:1; fill:none\" points=\"\n",
       "  750.579,1503.47 750.579,47.2441 \n",
       "  \"/>\n",
       "<polyline clip-path=\"url(#clip7501)\" style=\"stroke:#000000; stroke-width:4; stroke-opacity:1; fill:none\" points=\"\n",
       "  867.597,1503.47 867.597,1481.63 \n",
       "  \"/>\n",
       "<polyline clip-path=\"url(#clip7501)\" style=\"stroke:#000000; stroke-width:4; stroke-opacity:1; fill:none\" points=\"\n",
       "  997.618,1503.47 997.618,1481.63 \n",
       "  \"/>\n",
       "<polyline clip-path=\"url(#clip7501)\" style=\"stroke:#000000; stroke-width:4; stroke-opacity:1; fill:none\" points=\"\n",
       "  1127.64,1503.47 1127.64,1481.63 \n",
       "  \"/>\n",
       "<polyline clip-path=\"url(#clip7501)\" style=\"stroke:#000000; stroke-width:4; stroke-opacity:1; fill:none\" points=\"\n",
       "  1257.66,1503.47 1257.66,1481.63 \n",
       "  \"/>\n",
       "<polyline clip-path=\"url(#clip7501)\" style=\"stroke:#000000; stroke-width:4; stroke-opacity:1; fill:none\" points=\"\n",
       "  1387.68,1503.47 1387.68,1481.63 \n",
       "  \"/>\n",
       "<polyline clip-path=\"url(#clip7501)\" style=\"stroke:#000000; stroke-width:4; stroke-opacity:1; fill:none\" points=\"\n",
       "  750.579,1256.44 761.5,1256.44 \n",
       "  \"/>\n",
       "<polyline clip-path=\"url(#clip7501)\" style=\"stroke:#000000; stroke-width:4; stroke-opacity:1; fill:none\" points=\"\n",
       "  750.579,996.394 761.5,996.394 \n",
       "  \"/>\n",
       "<polyline clip-path=\"url(#clip7501)\" style=\"stroke:#000000; stroke-width:4; stroke-opacity:1; fill:none\" points=\"\n",
       "  750.579,736.353 761.5,736.353 \n",
       "  \"/>\n",
       "<polyline clip-path=\"url(#clip7501)\" style=\"stroke:#000000; stroke-width:4; stroke-opacity:1; fill:none\" points=\"\n",
       "  750.579,476.312 761.5,476.312 \n",
       "  \"/>\n",
       "<polyline clip-path=\"url(#clip7501)\" style=\"stroke:#000000; stroke-width:4; stroke-opacity:1; fill:none\" points=\"\n",
       "  750.579,216.271 761.5,216.271 \n",
       "  \"/>\n",
       "<g clip-path=\"url(#clip7501)\">\n",
       "<text style=\"fill:#000000; fill-opacity:1; font-family:Arial,Helvetica Neue,Helvetica,sans-serif; font-size:48px; text-anchor:middle;\" transform=\"rotate(0, 867.597, 1557.47)\" x=\"867.597\" y=\"1557.47\">5</text>\n",
       "</g>\n",
       "<g clip-path=\"url(#clip7501)\">\n",
       "<text style=\"fill:#000000; fill-opacity:1; font-family:Arial,Helvetica Neue,Helvetica,sans-serif; font-size:48px; text-anchor:middle;\" transform=\"rotate(0, 997.618, 1557.47)\" x=\"997.618\" y=\"1557.47\">10</text>\n",
       "</g>\n",
       "<g clip-path=\"url(#clip7501)\">\n",
       "<text style=\"fill:#000000; fill-opacity:1; font-family:Arial,Helvetica Neue,Helvetica,sans-serif; font-size:48px; text-anchor:middle;\" transform=\"rotate(0, 1127.64, 1557.47)\" x=\"1127.64\" y=\"1557.47\">15</text>\n",
       "</g>\n",
       "<g clip-path=\"url(#clip7501)\">\n",
       "<text style=\"fill:#000000; fill-opacity:1; font-family:Arial,Helvetica Neue,Helvetica,sans-serif; font-size:48px; text-anchor:middle;\" transform=\"rotate(0, 1257.66, 1557.47)\" x=\"1257.66\" y=\"1557.47\">20</text>\n",
       "</g>\n",
       "<g clip-path=\"url(#clip7501)\">\n",
       "<text style=\"fill:#000000; fill-opacity:1; font-family:Arial,Helvetica Neue,Helvetica,sans-serif; font-size:48px; text-anchor:middle;\" transform=\"rotate(0, 1387.68, 1557.47)\" x=\"1387.68\" y=\"1557.47\">25</text>\n",
       "</g>\n",
       "<g clip-path=\"url(#clip7501)\">\n",
       "<text style=\"fill:#000000; fill-opacity:1; font-family:Arial,Helvetica Neue,Helvetica,sans-serif; font-size:48px; text-anchor:end;\" transform=\"rotate(0, 726.579, 1273.94)\" x=\"726.579\" y=\"1273.94\">10</text>\n",
       "</g>\n",
       "<g clip-path=\"url(#clip7501)\">\n",
       "<text style=\"fill:#000000; fill-opacity:1; font-family:Arial,Helvetica Neue,Helvetica,sans-serif; font-size:48px; text-anchor:end;\" transform=\"rotate(0, 726.579, 1013.89)\" x=\"726.579\" y=\"1013.89\">20</text>\n",
       "</g>\n",
       "<g clip-path=\"url(#clip7501)\">\n",
       "<text style=\"fill:#000000; fill-opacity:1; font-family:Arial,Helvetica Neue,Helvetica,sans-serif; font-size:48px; text-anchor:end;\" transform=\"rotate(0, 726.579, 753.853)\" x=\"726.579\" y=\"753.853\">30</text>\n",
       "</g>\n",
       "<g clip-path=\"url(#clip7501)\">\n",
       "<text style=\"fill:#000000; fill-opacity:1; font-family:Arial,Helvetica Neue,Helvetica,sans-serif; font-size:48px; text-anchor:end;\" transform=\"rotate(0, 726.579, 493.812)\" x=\"726.579\" y=\"493.812\">40</text>\n",
       "</g>\n",
       "<g clip-path=\"url(#clip7501)\">\n",
       "<text style=\"fill:#000000; fill-opacity:1; font-family:Arial,Helvetica Neue,Helvetica,sans-serif; font-size:48px; text-anchor:end;\" transform=\"rotate(0, 726.579, 233.771)\" x=\"726.579\" y=\"233.771\">50</text>\n",
       "</g>\n",
       "<g clip-path=\"url(#clip7503)\">\n",
       "<image width=\"728\" height=\"1456\" xlink:href=\"data:image/png;base64,\n",
       "iVBORw0KGgoAAAANSUhEUgAAAtgAAAWwCAYAAABn0za8AAAgAElEQVR4nOzY3Y/l92HX8fM4Z3Z3\n",
       "ZjfrrB+yfozjpKSkUFeFJi2qkiBFEFUFqSltFalAoIJIcFEkxIO4LFdcAJVQBYhIIIUiBVWlQk2p\n",
       "2uI21GnSKE1VEruNHcf22onjTe19mp05Z845XHGJB00/+pzZ8ev1D3y+M/P7nfOe73AwmKwHwIn2\n",
       "2M6HKzu/+BduVnae/dZ9lZ1ffelSZedLN25Vdj5095nKzsfe99nKzg/894uVnX98/6OVnU+8eFDZ\n",
       "+cLeJys7wPGNNn0AAAA4TQQ2AAAECWwAAAgS2AAAECSwAQAgSGADAECQwAYAgCCBDQAAQQIbAACC\n",
       "BDYAAAQJbAAACBLYAAAQJLABACBIYAMAQJDABgCAIIENAABBAhsAAIIENgAABAlsAAAIEtgAABAk\n",
       "sAEAIEhgAwBAkMAGAIAggQ0AAEECGwAAgiabPgBwtK/881+t7Ox/7J9Udv7Up/9lZef7fvnBys6X\n",
       "n35XZed9n3i+srP17p+u7Pz0O/9XZeevf+QXKjs3fv4jlZ0vfK0yA/wJuMEGAIAggQ0AAEECGwAA\n",
       "ggQ2AAAECWwAAAgS2AAAECSwAQAgSGADAECQwAYAgCCBDQAAQQIbAACCBDYAAAQJbAAACBLYAAAQ\n",
       "JLABACBIYAMAQJDABgCAIIENAABBAhsAAIIENgAABAlsAAAIEtgAABAksAEAIEhgAwBAkMAGAICg\n",
       "4WAwWW/6EMAbm//rSWVn/8qlys6zv/edlZ0vvvRgZWdnuqjsfP3mTmXnd6527l7efWFY2Wm5e9Z5\n",
       "Dv7hc5+q7Bwur1V24DRygw0AAEECGwAAggQ2AAAECWwAAAgS2AAAECSwAQAgSGADAECQwAYAgCCB\n",
       "DQAAQQIbAACCBDYAAAQJbAAACBLYAAAQJLABACBIYAMAQJDABgCAIIENAABBAhsAAIIENgAABAls\n",
       "AAAIEtgAABAksAEAIEhgAwBAkMAGAIAggQ0AAEGTTR8A7mTfe/ajlZ39j16s7Bz801+p7Pzxzd3K\n",
       "zqUztys7LVujVWXnxx+5Wdl5ee9sZeelva3Kzmzc+ftcPvN4ZeeFm09UduA0coMNAABBAhsAAIIE\n",
       "NgAABAlsAAAIEtgAABAksAEAIEhgAwBAkMAGAIAggQ0AAEECGwAAggQ2AAAECWwAAAgS2AAAECSw\n",
       "AQAgSGADAECQwAYAgCCBDQAAQQIbAACCBDYAAAQJbAAACBLYAAAQJLABACBIYAMAQJDABgCAIIEN\n",
       "AABBk00fAO5kH3twVtk586VfquwMLswrMzfnnd/b9dJOy/npYtNHiJqvOnc8d28fVnYOlp2fZ3d9\n",
       "V2UHOD432AAAECSwAQAgSGADAECQwAYAgCCBDQAAQQIbAACCBDYAAAQJbAAACBLYAAAQJLABACBI\n",
       "YAMAQJDABgCAIIENAABBAhsAAIIENgAABAlsAAAIEtgAABAksAEAIEhgAwBAkMAGAIAggQ0AAEEC\n",
       "GwAAggQ2AAAECWwAAAgS2AAAEDTZ9AHgTva9b7tS2Tl88rXKzpnHbld2Hvq9q5WdL770YGXn+mJa\n",
       "2bl8dq+yc352UNkZ3NypzGyNVpWdlneN76nsfLmyAqeTG2wAAAgS2AAAECSwAQAgSGADAECQwAYA\n",
       "gCCBDQAAQQIbAACCBDYAAAQJbAAACBLYAAAQJLABACBIYAMAQJDABgCAIIENAABBAhsAAIIENgAA\n",
       "BAlsAAAIEtgAABAksAEAIEhgAwBAkMAGAIAggQ0AAEECGwAAggQ2AAAECWwAAAiabPoAcCd76JEX\n",
       "KzuLG+cqO8MPv7Oy88K/vVTZ2RqvKjuDRWdmvhp3dpadnctnb1d2Xt47U9lp2RoNN30E4AhusAEA\n",
       "IEhgAwBAkMAGAIAggQ0AAEECGwAAggQ2AAAECWwAAAgS2AAAECSwAQAgSGADAECQwAYAgCCBDQAA\n",
       "QQIbAACCBDYAAAQJbAAACBLYAAAQJLABACBIYAMAQJDABgCAIIENAABBAhsAAIIENgAABAlsAAAI\n",
       "EtgAABAksAEAIGiy6QPAnWzvxrnKztbOrcrO+OLlys7Xrp+v7Dx6/npl5+r+rLJzYzGt7FzeKf3e\n",
       "bp+p7AC0ucEGAIAggQ0AAEECGwAAggQ2AAAECWwAAAgS2AAAECSwAQAgSGADAECQwAYAgCCBDQAA\n",
       "QQIbAACCBDYAAAQJbAAACBLYAAAQJLABACBIYAMAQJDABgCAIIENAABBAhsAAIIENgAABAlsAAAI\n",
       "EtgAABAksAEAIEhgAwBAkMAGAICgyaYPABxtduFmZ+gTT1ZmXj34scrOpfmssjMbryo7u9NFZefe\n",
       "t7xW2blZ+vtc2TtT2dkuPQfAyecGGwAAggQ2AAAECWwAAAgS2AAAECSwAQAgSGADAECQwAYAgCCB\n",
       "DQAAQQIbAACCBDYAAAQJbAAACBLYAAAQJLABACBIYAMAQJDABgCAIIENAABBAhsAAIIENgAABAls\n",
       "AAAIEtgAABAksAEAIEhgAwBAkMAGAIAggQ0AAEECGwAAgiabPgDcyX77D99d2fmJH3u6svMH/+7P\n",
       "V3auzYeVnfmyc4cwGy0rO99x6ZXKztbWvLLTcrDqPG/urID/y6cBAAAECWwAAAgS2AAAECSwAQAg\n",
       "SGADAECQwAYAgCCBDQAAQQIbAACCBDYAAAQJbAAACBLYAAAQJLABACBIYAMAQJDABgCAIIENAABB\n",
       "AhsAAIIENgAABAlsAAAIEtgAABAksAEAIEhgAwBAkMAGAIAggQ0AAEECGwAAggQ2AAAETTZ9ALiT\n",
       "/do3dis7P37XXZWd6eSwsnNha13Zabl6MKvsfPtW53n7rg9+trLz1JWHKjuz0el63rbHw00fATiC\n",
       "G2wAAAgS2AAAECSwAQAgSGADAECQwAYAgCCBDQAAQQIbAACCBDYAAAQJbAAACBLYAAAQJLABACBI\n",
       "YAMAQJDABgCAIIENAABBAhsAAIIENgAABAlsAAAIEtgAABAksAEAIEhgAwBAkMAGAIAggQ0AAEEC\n",
       "GwAAggQ2AAAECWwAAAiabPoAcCe7erCs7Mzf/mcqO1tbVys7F6ad31vLC7c6H6U/9eHfreyML9yu\n",
       "7LTcvT2v7NxYdJ6D/eWwsgMcnxtsAAAIEtgAABAksAEAIEhgAwBAkMAGAIAggQ0AAEECGwAAggQ2\n",
       "AAAECWwAAAgS2AAAECSwAQAgSGADAECQwAYAgCCBDQAAQQIbAACCBDYAAAQJbAAACBLYAAAQJLAB\n",
       "ACBIYAMAQJDABgCAIIENAABBAhsAAIIENgAABAlsAAAImmz6AHAn+7WD/1bZGX3yVmVnPn+8snNt\n",
       "Ma7sPLKzqOxcPVhXdnb/amVmMBhcbg1VHCxP113S9ni46SMARzhdnzoAALBhAhsAAIIENgAABAls\n",
       "AAAIEtgAABAksAEAIEhgAwBAkMAGAIAggQ0AAEECGwAAggQ2AAAECWwAAAgS2AAAECSwAQAgSGAD\n",
       "AECQwAYAgCCBDQAAQQIbAACCBDYAAAQJbAAACBLYAAAQJLABACBIYAMAQJDABgCAIIENAABBk00f\n",
       "AO5kB4tvVnZWH/2hys7gyeudnZLzs4POznRY2flPf/8DlZ0f/cxuZeehu75S2Xn69bdUdvaXnTur\n",
       "LVdjcOJ5TQEAIEhgAwBAkMAGAIAggQ0AAEECGwAAggQ2AAAECWwAAAgS2AAAECSwAQAgSGADAECQ\n",
       "wAYAgCCBDQAAQQIbAACCBDYAAAQJbAAACBLYAAAQJLABACBIYAMAQJDABgCAIIENAABBAhsAAIIE\n",
       "NgAABAlsAAAIEtgAABAksAEAIGiy6QMA/x8+8WRp6D2VlQvTZWVnvhxXdh7bPazs/K2n/mNl50cH\n",
       "f6+yc+7sXmVnf9m5S9oeryo785W7MTjpvKUAABAksAEAIEhgAwBAkMAGAIAggQ0AAEECGwAAggQ2\n",
       "AAAECWwAAAgS2AAAECSwAQAgSGADAECQwAYAgCCBDQAAQQIbAACCBDYAAAQJbAAACBLYAAAQJLAB\n",
       "ACBIYAMAQJDABgCAIIENAABBAhsAAIIENgAABAlsAAAIEtgAABA02fQBgKMdXNup7GxtzSs7+8vO\n",
       "//Zb42Vl59piXNlp2fr6k5WdM2c7f5+W1nN9fbGq7ADH5wYbAACCBDYAAAQJbAAACBLYAAAQJLAB\n",
       "ACBIYAMAQJDABgCAIIENAABBAhsAAIIENgAABAlsAAAIEtgAABAksAEAIEhgAwBAkMAGAIAggQ0A\n",
       "AEECGwAAggQ2AAAECWwAAAgS2AAAECSwAQAgSGADAECQwAYAgCCBDQAAQQIbAACCJps+AHC0W1cv\n",
       "bvoIUTcWnf/tt8aHlZ1X94eVnZbR/q3Kzj3f83xlZ/vz31fZubYYV3bmq1VlBzg+N9gAABAksAEA\n",
       "IEhgAwBAkMAGAIAggQ0AAEECGwAAggQ2AAAECWwAAAgS2AAAECSwAQAgSGADAECQwAYAgCCBDQAA\n",
       "QQIbAACCBDYAAAQJbAAACBLYAAAQJLABACBIYAMAQJDABgCAIIENAABBAhsAAIIENgAABAlsAAAI\n",
       "EtgAABA02fQBgKPd8z1/WNl56XPvqezcXlZmBlvjw8rO9cW6stPyuX/0WGXnfX/na5Wda4txZadl\n",
       "azTc9BGAI7jBBgCAIIENAABBAhsAAIIENgAABAlsAAAIEtgAABAksAEAIEhgAwBAkMAGAIAggQ0A\n",
       "AEECGwAAggQ2AAAECWwAAAgS2AAAECSwAQAgSGADAECQwAYAgCCBDQAAQQIbAACCBDYAAAQJbAAA\n",
       "CBLYAAAQJLABACBIYAMAQJDABgCAoMmmDwAc7fDa2U0f4Y40my4qO6/O55Wdlv/yzMOVnffeXld2\n",
       "3rGzV9l59mbnPZ2vOr834PjcYAMAQJDABgCAIIENAABBAhsAAIIENgAABAlsAAAIEtgAABAksAEA\n",
       "IEhgAwBAkMAGAIAggQ0AAEECGwAAggQ2AAAECWwAAAgS2AAAECSwAQAgSGADAECQwAYAgCCBDQAA\n",
       "QQIbAACCBDYAAAQJbAAACBLYAAAQJLABACBIYAMAQNBk0wcAjnZwbWfTR4h6bHde2TlYTCs7v7t6\n",
       "orLT8p9v/FZl519VVgaDnemisjMbrSs7W6NhZQc4PjfYAAAQJLABACBIYAMAQJDABgCAIIENAABB\n",
       "AhsAAIIENgAABAlsAAAIEtgAABAksAEAIEhgAwBAkMAGAIAggQ0AAEECGwAAggQ2AAAECWwAAAgS\n",
       "2AAAECSwAQAgSGADAECQwAYAgCCBDQAAQQIbAACCBDYAAAQJbAAACBLYAAAQNNn0AYCj3bp6sbIz\n",
       "nS4qO7PxqrIzX3Y+4m7sP1vZaXlt739Xdtb7nb/P5d1rlZ3ff+1CZWfL1RiceF5TAAAIEtgAABAk\n",
       "sAEAIEhgAwBAkMAGAIAggQ0AAEECGwAAggQ2AAAECWwAAAgS2AAAECSwAQAgSGADAECQwAYAgCCB\n",
       "DQAAQQIbAACCBDYAAAQJbAAACBLYAAAQJLABACBIYAMAQJDABgCAIIENAABBAhsAAIIENgAABAls\n",
       "AAAImmz6AMDRFotpZefs7q3KzsGy87/91viwsjMazSo7q9VBZadl8a3zlZ2LuzcqO/PlsLJzvvNx\n",
       "APwJuMEGAIAggQ0AAEECGwAAggQ2AAAECWwAAAgS2AAAECSwAQAgSGADAECQwAYAgCCBDQAAQQIb\n",
       "AACCBDYAAAQJbAAACBLYAAAQJLABACBIYAMAQJDABgCAIIENAABBAhsAAIIENgAABAlsAAAIEtgA\n",
       "ABAksAEAIEhgAwBAkMAGAICgyaYPABxtOl1UdsZbnZ3ZeFXZefnGhcrOanVQ2TltXnn60crOpfte\n",
       "rezsPtV5rl89cDcGJ523FAAAggQ2AAAECWwAAAgS2AAAECSwAQAgSGADAECQwAYAgCCBDQAAQQIb\n",
       "AACCBDYAAAQJbAAACBLYAAAQJLABACBIYAMAQJDABgCAIIENAABBAhsAAIIENgAABAlsAAAIEtgA\n",
       "ABAksAEAIEhgAwBAkMAGAIAggQ0AAEECGwAAgiabPgBwtNt7Zyo7Fx58pbIzGy0rO5xslx69UtnZ\n",
       "e/ViZadly9UYnHheUwAACBLYAAAQJLABACBIYAMAQJDABgCAIIENAABBAhsAAIIENgAABAlsAAAI\n",
       "EtgAABAksAEAIEhgAwBAkMAGAIAggQ0AAEECGwAAggQ2AAAECWwAAAgS2AAAECSwAQAgSGADAECQ\n",
       "wAYAgCCBDQAAQQIbAACCBDYAAAQJbAAACJps+gDA0Z79xv2Vnfu/648qOzvTRWVne3JY2eF4Pv0/\n",
       "PljZ+eB7P1/Z2R6vKjvuxuDk85YCAECQwAYAgCCBDQAAQQIbAACCBDYAAAQJbAAACBLYAAAQJLAB\n",
       "ACBIYAMAQJDABgCAIIENAABBAhsAAIIENgAABAlsAAAIEtgAABAksAEAIEhgAwBAkMAGAIAggQ0A\n",
       "AEECGwAAggQ2AAAECWwAAAgS2AAAECSwAQAgSGADAEDQZNMHAI723PULlZ33zxaVnfOzg8rOyzd3\n",
       "Kjscz9dLf5/lfFrZ2Z0eVna2Rr664aRzgw0AAEECGwAAggQ2AAAECWwAAAgS2AAAECSwAQAgSGAD\n",
       "AECQwAYAgCCBDQAAQQIbAACCBDYAAAQJbAAACBLYAAAQJLABACBIYAMAQJDABgCAIIENAABBAhsA\n",
       "AIIENgAABAlsAAAIEtgAABAksAEAIEhgAwBAkMAGAIAggQ0AAEGTTR8AONpstKzsLG6cq+zsbO1X\n",
       "di7vVGY4pkd2blZ29krP9f3nOj9P6/Ng8EpnBk4jN9gAABAksAEAIEhgAwBAkMAGAIAggQ0AAEEC\n",
       "GwAAggQ2AAAECWwAAAgS2AAAECSwAQAgSGADAECQwAYAgCCBDQAAQQIbAACCBDYAAAQJbAAACBLY\n",
       "AAAQJLABACBIYAMAQJDABgCAIIENAABBAhsAAIIENgAABAlsAAAIEtgAABA02fQBgKN98Y/PVXZ+\n",
       "+NpOZafl11+6d9NH4A388ktvqexc3u08B1vjZWXnF17cruwAx+cGGwAAggQ2AAAECWwAAAgS2AAA\n",
       "ECSwAQAgSGADAECQwAYAgCCBDQAAQQIbAACCBDYAAAQJbAAACBLYAAAQJLABACBIYAMAQJDABgCA\n",
       "IIENAABBAhsAAIIENgAABAlsAAAIEtgAABAksAEAIEhgAwBAkMAGAIAggQ0AAEECGwAAgoaDwWS9\n",
       "6UMAb2x3+x2Vnb80+1Bl55M/8+8rO1ee+O7Kzt/9lccrO08Pv1rZubx6qLLzc99/pbLzwCMvVnZ+\n",
       "8Of/dGXnqVu/WNkBjs8NNgAABAlsAAAIEtgAABAksAEAIEhgAwBAkMAGAIAggQ0AAEECGwAAggQ2\n",
       "AAAECWwAAAgS2AAAECSwAQAgSGADAECQwAYAgCCBDQAAQQIbAACCBDYAAAQJbAAACBLYAAAQJLAB\n",
       "ACBIYAMAQJDABgCAIIENAABBAhsAAIIENgAABA0Hg8l604fg/204GFZ21oPOYzAaTis7/+BtP1XZ\n",
       "+Stvf76ys3t2r7LzzKv3VXbuP/9aZee7f7azM/2zH6/s7D//S5Wd0X0/UNlZffO3Kztf+Rs3Kzuv\n",
       "752r7FzavV7Z+Z0rD1d2fvbK1crO07c67w8MBm6wAQAgSmADAECQwAYAgCCBDQAAQQIbAACCBDYA\n",
       "AAQJbAAACBLYAAAQJLABACBIYAMAQJDABgCAIIENAABBAhsAAIIENgAABAlsAAAIEtgAABAksAEA\n",
       "IEhgAwBAkMAGAIAggQ0AAEECGwAAggQ2AAAECWwAAAgS2AAAECSwAQAgaDgYTNabPgRvHp/+cz9S\n",
       "2RkNO4/1K7d2KjvXF9PKzvZ4Wdl5/tZ2ZefZG507hL98/43Kznvue6my89kXH6nsfOZbnefg4XOd\n",
       "z4OHzh1Uds5ODis750o7d5/rvD//5ssPVHY+de3nKjucbG6wAQAgSGADAECQwAYAgCCBDQAAQQIb\n",
       "AACCBDYAAAQJbAAACBLYAAAQJLABACBIYAMAQJDABgCAIIENAABBAhsAAIIENgAABAlsAAAIEtgA\n",
       "ABAksAEAIEhgAwBAkMAGAIAggQ0AAEECGwAAggQ2AAAECWwAAAgS2AAAECSwAQAgaDgYTNabPgSb\n",
       "9yPnP17Z+YlHX6/sfOv2mcrOeNh5fWbjZWVnuRp2dtad/+23S7+3b+5vV3Zen48rO5dmh6Wdg8rO\n",
       "qPSe7i87f5+W1brzebBVek+/8+5vVnbe+5v/s7KzWi8qOxyPG2wAAAgS2AAAECSwAQAgSGADAECQ\n",
       "wAYAgCCBDQAAQQIbAACCBDYAAAQJbAAACBLYAAAQJLABACBIYAMAQJDABgCAIIENAABBAhsAAIIE\n",
       "NgAABAlsAAAIEtgAABAksAEAIEhgAwBAkMAGAIAggQ0AAEECGwAAggQ2AAAECWwAAAiabPoAnAwf\n",
       "urxf2VksT9f/dOPhurIzX44rO+PhqrLTcrv0e7tnu/P+3LddmamZrzqfB8NB5z1drYeVnVHpc+fM\n",
       "5LCyc1B6Tw8W08rO+8/8ZGXnN/b+Q2WH4zldtQMAABsmsAEAIEhgAwBAkMAGAIAggQ0AAEECGwAA\n",
       "ggQ2AAAECWwAAAgS2AAAECSwAQAgSGADAECQwAYAgCCBDQAAQQIbAACCBDYAAAQJbAAACBLYAAAQ\n",
       "JLABACBIYAMAQJDABgCAIIENAABBAhsAAIIENgAABAlsAAAIEtgAABA02fQBOBneur1f2Tm/1dkZ\n",
       "DdeVnW8fbFd2ZqNlZedgNa7stH6elsOVu4qTbD0YbvoId6S9w04iHCw778/B4bSy8xfv7fzefuO5\n",
       "ygzH5FsBAACCBDYAAAQJbAAACBLYAAAQJLABACBIYAMAQJDABgCAIIENAABBAhsAAIIENgAABAls\n",
       "AAAIEtgAABAksAEAIEhgAwBAkMAGAIAggQ0AAEECGwAAggQ2AAAECWwAAAgS2AAAECSwAQAgSGAD\n",
       "AECQwAYAgCCBDQAAQQIbAACCJps+AG9sNr2vsvP2u16t7HzupYcqO++48Hpl5+L27crOM9cuVnZm\n",
       "o2VlZ7n2v/1xjIerTR/hjrQeDCs7o+G6sjMbd97Tg+W4svOBR5+p7HzjtbsqOx944IXKzuC5zgzH\n",
       "41sOAACCBDYAAAQJbAAACBLYAAAQJLABACBIYAMAQJDABgCAIIENAABBAhsAAIIENgAABAlsAAAI\n",
       "EtgAABAksAEAIEhgAwBAkMAGAIAggQ0AAEECGwAAggQ2AAAECWwAAAgS2AAAECSwAQAgSGADAECQ\n",
       "wAYAgCCBDQAAQQIbAACCJps+AG/s8emHKjtb0+crO5PhurLzzgdfqOz8wXOPVnZW62FlZzzq/H3G\n",
       "g2Vlxw3CybaqLXWe64uz/crOV69dqOz84IOd74X73/lcZedzv/72ys67povKzkM776/svHDzicrO\n",
       "aeP7BwAAggQ2AAAECWwAAAgS2AAAECSwAQAgSGADAECQwAYAgCCBDQAAQQIbAACCBDYAAAQJbAAA\n",
       "CBLYAAAQJLABACBIYAMAQJDABgCAIIENAABBAhsAAIIENgAABAlsAAAIEtgAABAksAEAIEhgAwBA\n",
       "kMAGAIAggQ0AAEECGwAAgiabPgBv7CNvm1V2nr96T2VnNFxXdh744JcqO2995huVnX/xX3+4svPe\n",
       "3euVndcPtis7nadtMJgMV5Wd5fp03Ym0fprZeFnZGVZWBoOtUed5O7u9X9lZ7ne+51rPwfX9M5Wd\n",
       "n3n4rsrOT365MnPqnK5PawAA2DCBDQAAQQIbAACCBDYAAAQJbAAACBLYAAAQJLABACBIYAMAQJDA\n",
       "BgCAIIENAABBAhsAAIIENgAABAlsAAAIEtgAABAksAEAIEhgAwBAkMAGAIAggQ0AAEECGwAAggQ2\n",
       "AAAECWwAAAgS2AAAECSwAQAgSGADAECQwAYAgKDJpg/AG3v+1rSy8/2Xb1Z23nbhtcrOYN6Z+f3P\n",
       "P17ZecvWYWVntR6eqp3hcF3ZWa7dVZxkreeg5e7t/crOl648XNn5a//slcrOq09sV3Z+65Xdys6n\n",
       "bj5R2eF4fCsAAECQwAYAgCCBDQAAQQIbAACCBDYAAAQJbAAACBLYAAAQJLABACBIYAMAQJDABgCA\n",
       "IIENAABBAhsAAIIENgAABAlsAAAIEtgAABAksAEAIEhgAwBAkMAGAIAggQ0AAEECGwAAggQ2AAAE\n",
       "CWwAAAgS2AAAECSwAQAgSGADAEDQcDCYrDd9CN48zm+/q7JzY/+rlZ2/fffHKzsffuDblZ3D1biy\n",
       "c30+rexcmM0rO4tl565iue7sjIerys5o2Pn6mZee6zOTw8rOd9z7cmXnb37mgcrOF/Y+WdmBJjfY\n",
       "AAAQJLABACBIYAMAQJDABgCAIIENAABBAhsAAIIENgAABAlsAAAIEtgAABAksAEAIEhgAwBAkMAG\n",
       "AIAggQ0AAEECGwAAggQ2AAAECWwAAAgS2AAAECSwAQAgSGADAECQwAYAgCCBDQAAQQIbAACCBDYA\n",
       "AAQJbAAACBLYAAAQNNn0AXhzub7/R5s+QtRbZ+vKzr071ys7T129p7IzHXV+b/uHp+sjbjxcVXZG\n",
       "w87fZ1x6DuaLzl3Sej2t7MxmB5Wdu4ZnKzunzXA47gytO58H60HnPT1t3GADAECQwAYAgCCBDQAA\n",
       "QQIbAACCBDYAAAQJbAAACBLYAAAQJLABACBIYAMAQJDABgCAIIENAABBAhsAAIIENgAABAlsAAAI\n",
       "EtgAABAksAEAIEhgAwBAkMAGAIAggQ0AAEECGwAAggQ2AAAECWwAAAgS2AAAECSwAQAgSGADAEDQ\n",
       "ZNMHgDvZrcNhZWc2XVR21oPOzzMario7nGzT0bKyc3ZyWNl5bT6r7CwW08rOar2u7LQMS59v63Xn\n",
       "ueZkc4MNAABBAhsAAIIENgAABAlsAAAIEtgAABAksAEAIEhgAwBAkMAGAIAggQ0AAEECGwAAggQ2\n",
       "AAAECWwAAAgS2AAAECSwAQAgSGADAECQwK/K3wcAAAuLSURBVAYAgCCBDQAAQQIbAACCBDYAAAQJ\n",
       "bAAACBLYAAAQJLABACBIYAMAQJDABgCAIIENAABBk00fgDeX4WBY2VkP1pWdW4eVmcGtg+3Kzmrd\n",
       "+fuMh6vKznLtDuEkaz1v03HneTtcdX6e1arzXL8+uF3ZgdPItw8AAAQJbAAACBLYAAAQJLABACBI\n",
       "YAMAQJDABgCAIIENAABBAhsAAIIENgAABAlsAAAIEtgAABAksAEAIEhgAwBAkMAGAIAggQ0AAEEC\n",
       "GwAAggQ2AAAECWwAAAgS2AAAECSwAQAgSGADAECQwAYAgCCBDQAAQQIbAACCBDYAAARNNn0AuJMt\n",
       "Vp2d126freyMhuvKDsezXHfuREbDZWXncDWu7MzGh5Wdyajz/ty8faayM5MIcGxusAEAIEhgAwBA\n",
       "kMAGAIAggQ0AAEECGwAAggQ2AAAECWwAAAgS2AAAECSwAQAgSGADAECQwAYAgCCBDQAAQQIbAACC\n",
       "BDYAAAQJbAAACBLYAAAQJLABACBIYAMAQJDABgCAIIENAABBAhsAAIIENgAABAlsAAAIEtgAABAk\n",
       "sAEAIGiy6QMAR5svO6/qucmisrNcn67/7cfDVWVnNFxXdlqGpZ9nNjms7KzWw8rO/mKrsnN+NKvs\n",
       "wGl0ur7lAABgwwQ2AAAECWwAAAgS2AAAECSwAQAgSGADAECQwAYAgCCBDQAAQQIbAACCBDYAAAQJ\n",
       "bAAACBLYAAAQJLABACBIYAMAQJDABgCAIIENAABBAhsAAIIENgAABAlsAAAIEtgAABAksAEAIEhg\n",
       "AwBAkMAGAIAggQ0AAEECGwAAgiabPgBwtK3xYWVntW59JKxKO6fLaNjZOVx1hkbrysxgPOw8b2dK\n",
       "7+mt+ayyc3M1r+zAaeQGGwAAggQ2AAAECWwAAAgS2AAAECSwAQAgSGADAECQwAYAgCCBDQAAQQIb\n",
       "AACCBDYAAAQJbAAACBLYAAAQJLABACBIYAMAQJDABgCAIIENAABBAhsAAIIENgAABAlsAAAIEtgA\n",
       "ABAksAEAIEhgAwBAkMAGAIAggQ0AAEECGwAAgiabPgDcydalnfGws7RYjSs74+GqsnParEoP3Kj0\n",
       "vO0vO8/bct25S7owm1d2bi2mlZ2xOzg4Nm8PAAAECWwAAAgS2AAAECSwAQAgSGADAECQwAYAgCCB\n",
       "DQAAQQIbAACCBDYAAAQJbAAACBLYAAAQJLABACBIYAMAQJDABgCAIIENAABBAhsAAIIENgAABAls\n",
       "AAAIEtgAABAksAEAIEhgAwBAkMAGAIAggQ0AAEECGwAAggQ2AAAETTZ9AN5c1oP1po9wR5qOl5s+\n",
       "Am9gue7cVYyGnedgPOq8p/NF5/c2Hq4qO7tbB5WdvcW0svPA9nZlZ7DXmYEmN9gAABAksAEAIEhg\n",
       "AwBAkMAGAIAggQ0AAEECGwAAggQ2AAAECWwAAAgS2AAAECSwAYD/0479pLiW1nEczklO/dGy2zvw\n",
       "Coo4bGhwJu7DNbiqnjpyE85dgCDqQAeOFGmxtIu6devkuASh+fDLrfA8G/i+SU5Sn3qBkMAGAICQ\n",
       "wAYAgJDABgCAkMAGAICQwAYAgJDABgCAkMAGAICQwAYAgJDABgCAkMAGAICQwAYAgJDABgCAkMAG\n",
       "AICQwAYAgJDABgCA0HrpA8Bb9tOHfWTnvC8jO6flPLJzba7tfZt6Pfth5rne9pm7pNvT68jO1O/B\n",
       "tdkPM7/XcDi4wQYAgJTABgCAkMAGAICQwAYAgJDABgCAkMAGAICQwAYAgJDABgCAkMAGAICQwAYA\n",
       "gJDABgCAkMAGAICQwAYAgJDABgCAkMAGAICQwAYAgJDABgCAkMAGAICQwAYAgJDABgCAkMAGAICQ\n",
       "wAYAgJDABgCAkMAGAICQwAYAgNB66QPAW/budhvZefxwN7Kz7TP/c5+W88jOtTkd95Gd4zKz87B+\n",
       "HNn5x9PDyM5PPvv3yM6U75wufQJ4u9xgAwBASGADAEBIYAMAQEhgAwBASGADAEBIYAMAQEhgAwBA\n",
       "SGADAEBIYAMAQEhgAwBASGADAEBIYAMAQEhgAwBASGADAEBIYAMAQEhgAwBASGADAEBIYAMAQEhg\n",
       "AwBASGADAEBIYAMAQEhgAwBASGADAEBIYAMAQEhgAwBAaL30AYD/7359Hdk5f1xGdqZs+8wdwmk5\n",
       "j+zs+8zn87LN/GmYeq6/fr4f2Xn8MLNze9pGdm5cwcG35usDAAAhgQ0AACGBDQAAIYENAAAhgQ0A\n",
       "ACGBDQAAIYENAAAhgQ0AACGBDQAAIYENAAAhgQ0AACGBDQAAIYENAAAhgQ0AACGBDQAAIYENAAAh\n",
       "gQ0AACGBDQAAIYENAAAhgQ0AACGBDQAAIYENAAAhgQ0AACGBDQAAIYENAACh9dIHgLfsZVsufYTU\n",
       "ts/8z31aziM7N8dtZOe8X9dz8Hqeej2nkZXb08zz9vhyN7Lz/dsPIzsP6z6yA9fIDTYAAIQENgAA\n",
       "hAQ2AACEBDYAAIQENgAAhAQ2AACEBDYAAIQENgAAhAQ2AACEBDYAAIQENgAAhAQ2AACEBDYAAIQE\n",
       "NgAAhAQ2AACEBDYAAIQENgAAhAQ2AACEBDYAAIQENgAAhAQ2AACEBDYAAIQENgAAhAQ2AACEBDYA\n",
       "AITWSx8A3rLPb15Hdp5fZ76q+8jKnOMytTTzzq3HbWTn9TzzvJ2HHrh1OY/sbPvMndXU9/T9/czz\n",
       "BtfIDTYAAIQENgAAhAQ2AACEBDYAAIQENgAAhAQ2AACEBDYAAIQENgAAhAQ2AACEBDYAAIQENgAA\n",
       "hAQ2AACEBDYAAIQENgAAhAQ2AACEBDYAAIQENgAAhAQ2AACEBDYAAIQENgAAhAQ2AACEBDYAAIQE\n",
       "NgAAhAQ2AACEBDYAAITWSx+AT8NyWEZ29sM+sjPl/f3zyM5x5uMZsx6v6zmY+nyOy8z7NrVzGnoO\n",
       "ph639bCN7Dy+3I3svLv5OLID18gNNgAAhAQ2AACEBDYAAIQENgAAhAQ2AACEBDYAAIQENgAAhAQ2\n",
       "AACEBDYAAIQENgAAhAQ2AACEBDYAAIQENgAAhAQ2AACEBDYAAIQENgAAhAQ2AACEBDYAAIQENgAA\n",
       "hAQ2AACEBDYAAIQENgAAhAQ2AACEBDYAAIQENgAAhNZLHwDesi/e/31k569fvx/ZWUZWDofzPrNz\n",
       "Os4M7fvUOzfjOPRytvPM0O1pG9nZ9pk7q6mn7ec//tvIzvKn08jOvs88B8vQJ7Qfhn5I+VbcYAMA\n",
       "QEhgAwBASGADAEBIYAMAQEhgAwBASGADAEBIYAMAQEhgAwBASGADAEBIYAMAQEhgAwBASGADAEBI\n",
       "YAMAQEhgAwBASGADAEBIYAMAQEhgAwBASGADAEBIYAMAQEhgAwBASGADAEBIYAMAQEhgAwBASGAD\n",
       "AEBIYAMAQGi99AH4NOyH/dJHeJO++v0XIzu/+vIvIzv7vozsrKdtZOd1O43s/PObz0Z2jsvM9/Tz\n",
       "u+eRnbv148jOaTmP7Lz73n9Hdv7z9N2Rnd/8ceb3bd9/O7Izxd9TDgc32AAAkBLYAAAQEtgAABAS\n",
       "2AAAEBLYAAAQEtgAABAS2AAAEBLYAAAQEtgAABAS2AAAEBLYAAAQEtgAABAS2AAAEBLYAAAQEtgA\n",
       "ABAS2AAAEBLYAAAQEtgAABAS2AAAEBLYAAAQEtgAABAS2AAAEBLYAAAQEtgAABAS2AAAEFoOh3W/\n",
       "9CGAT8OXD78c2fnZ+qORnV/8YBvZ+eH988jOusz8XD+9riM7/3q5Gdn58+PM6/nD0zcjO797+vXI\n",
       "zrVZDsvIzn6QVbjBBgCAlMAGAICQwAYAgJDABgCAkMAGAICQwAYAgJDABgCAkMAGAICQwAYAgJDA\n",
       "BgCAkMAGAICQwAYAgJDABgCAkMAGAICQwAYAgJDABgCAkMAGAICQwAYAgJDABgCAkMAGAICQwAYA\n",
       "gJDABgCAkMAGAICQwAYAgJDABgCA0P8ARte0v1NmYzMAAAAASUVORK5CYII=\n",
       "\" transform=\"translate(751, 47)\"/>\n",
       "</g>\n",
       "<defs>\n",
       "  <clipPath id=\"clip7504\">\n",
       "    <rect x=\"1526\" y=\"47\" width=\"73\" height=\"1457\"/>\n",
       "  </clipPath>\n",
       "</defs>\n",
       "<g clip-path=\"url(#clip7504)\">\n",
       "<image width=\"72\" height=\"1456\" xlink:href=\"data:image/png;base64,\n",
       "iVBORw0KGgoAAAANSUhEUgAAAEgAAAWwCAYAAAD+FAeUAAAMbklEQVR4nO3dwY3sRhAFQY5Q/lsh\n",
       "L6XfLQtUeSQPERYMEg9LNMmZ/f17/r4P/+uvtz/A1wkUBAoCBYHCnPvv25/h0ywoCBQECgIFgcJc\n",
       "V7GVBQWBgkBBoCBQmHtcxTYWFAQKAgWBgqNGsKAgUBAoCBQECq5iwYKCQEGgIFAQKLiKBQsKAgWB\n",
       "gkDBU41gQUGgIFAQKAgUHDWCBQWBgkBBoCBQcBULFhQECgIFgcI8bpitLCgIFAQKAgWBgqtYsKAg\n",
       "UBAoCBQECvO4YbayoCBQECgIFBw1ggUFgYJAQaAgUHAVCxYUBAoCBYGCQGGe88/bn+HTLCgIFAQK\n",
       "AgVPNYIFBYGCQEGgIFBwwyxYUBAoCBQECgIFV7FgQUGgIFAQKAgU5nf/vP0ZPs2CgkBBoCBQmOf4\n",
       "I72xoCBQECgIFAQK83MVW1lQECgIFAQKAgVnsWBBQaAgUBAozOOpxsqCgkBBoCBQECi4YRYsKAgU\n",
       "BAoCBYGCG2bBgoJAQaAgUHDUCBYUBAoCBYGCQMFRI1hQECgIFAQKAoX5nfP2Z/g0CwoCBYGCQMFR\n",
       "I1hQECgIFAQKAgVXsWBBQaAgUBAoCBS8vBAsKAgUBAoChXk81VhZUBAoCBQECgIFR41gQUGgIFAQ\n",
       "KAgUPPYJFhQECgIFgYJAwVUsWFAQKAgUBAq+zBIsKAgUBAoCBYGClxeCBQWBgkBBoCBQcMMsWFAQ\n",
       "KAgUBAqOGsGCgkBBoCBQECi4igULCgIFgYJAQaDg5YVgQUGgIFAQKHiqESwoCBQECgIFgYIbZsGC\n",
       "gkBBoCBQECi4igULCgIFgYJAwR/pYEFBoCBQECgIFOY59+3P8GkWFAQKAgWBgkBhnusstrGgIFAQ\n",
       "KAgU3DALFhQECgIFgYJAwQ2zYEFBoCBQECgIFJzFggUFgYJAQaAgUHAVCxYUBAoCBYGCG2bBgoJA\n",
       "QaAgUBAoOGoECwoCBYGCQEGgMI+L2MqCgkBBoCBQ8Ec6WFAQKAgUBAoChfGNzJ0FBYGCQEGgIFBw\n",
       "FgsWFAQKAgWBgj/SwYKCQEGgIFAQKLiKBQsKAgWBgkBBoDCPL/usLCgIFAQKAoW55/f2Z/g0CwoC\n",
       "BYGCQEGg4IZZsKAgUBAoCBQECvM4i60sKAgUBAoChbnXH+mNBQWBgkBBoCBQcNQIFhQECgIFgYJA\n",
       "wVUsWFAQKAgUBAoCBXcUgwUFgYJAQaDgqBEsKAgUBAoCBYHCPEejjTpBoCBQECgIFNwwCxYUBAoC\n",
       "BYGCG2bBgoJAQaAgUBAo+HmcYEFBoCBQECgIFOa5Gm3UCQIFgYJAwVEjWFAQKAgUBAoCBVexYEFB\n",
       "oCBQECgIFLwnHdQJAgWBgkDBa8DBgoJAQaAgUBAoeE86WFAQKAgUBAoChblumK3UCQIFgYJAwQ2z\n",
       "YEFBoCBQECgIFNwwCxYUBAoCBYGCQMENs6BOECgIFAQKAgV3FIMFBYGCQEGg4CuZwYKCQEGgIFAQ\n",
       "KMz1G2YrdYJAQaAgUBAoeHkhWFAQKAgUBApumAULCgIFgYJAQaDg2XywoCBQECgIFAQK3pMO6gSB\n",
       "gkBBoOCoESwoCBQECgIFgYLHPsGCgkBBoCBQECg4iwULCgIFgYJAwVONoE4QKAgUBAoCBUeNYEFB\n",
       "oCBQECgIFDz2CRYUBAoCBYGCo0awoCBQECgIFAQKHvsEdYJAQaAgUBAoOIsFCwoCBYGCQEGg4CoW\n",
       "LCgIFAQKAgV/pIMFBYGCQEGgIFDwhlmwoCBQECgIFAQKc/wDtpU6QaAgUBAouGEWLCgIFAQKAgWB\n",
       "ghtmwYKCQEGgIFAQKDiLBQsKAgWBgkDBH+lgQUGgIFAQKAgUXMWCBQWBgkBBoCBQcBULFhQECgIF\n",
       "gcIcf6RXFhQECgIFgYJAwVEjWFAQKAgUBAoCBVexYEFBoCBQECj4Ix0sKAgUBAoCBYGCq1iwoCBQ\n",
       "ECgIFAQKrmLBgoJAQaAgUBAoeAUvWFAQKAgUBAqOGsGCgkBBoCBQECi4igULCgIFgYJAQaDgX9cE\n",
       "dYJAQaAgUHDUCBYUBAoCBYGCQMGz+WBBQaAgUBAoCBScxYIFBYGCQEGg4KgRLCgIFAQKAgWBgqNG\n",
       "sKAgUBAoCBQECq5iwYKCQEGgIFBwwyxYUBAoCBQECgKFuY+r2MaCgkBBoCBQECg4iwULCgIFgYJA\n",
       "wVONYEFBoCBQECgIFObctz/Ct1lQECgIFAQKAgVnsWBBQaAgUBAoCBQ89gkWFAQKAgWBwhxvmK0s\n",
       "KAgUBAoCBYGCG2bBgoJAQaAgUBAouGEWLCgIFAQKAgVHjWBBQaAgUBAoCBTmvP0JPs6CgkBBoCBQ\n",
       "ECg4iwULCgIFgYJAwVONYEFBoCBQECgIFPwSZ7CgIFAQKAgUBArOYsGCgkBBoCBQ8BtmwYKCQEGg\n",
       "IFAQKLhhFiwoCBQECgIFgYI3zIIFBYGCQEGg4MsswYKCQEGgIFAQKDhqBAsKAgWBgkBBoOAsFiwo\n",
       "CBQECgIFgYKzWLCgIFAQKAgUfJklWFAQKAgUBAoChfFln50FBYGCQEGgIFBwFgsWFAQKAgWBgqNG\n",
       "sKAgUBAoCBQECo4awYKCQEGgIFAQKDiLBQsKAgWBgkDBUSNYUBAoCBQECgIFvycdLCgIFAQKAgWB\n",
       "gt+TDhYUBAoCBYGCo0awoCBQECgIFAQKcxw1VhYUBAoCBYGCQGGus9jKgoJAQaAgUPCGWbCgIFAQ\n",
       "KAgUBAq+zBIsKAgUBAoCBYGClxeCBQWBgkBBoCBQ8PJCsKAgUBAoCBQ8mw8WFAQKAgWBgkDB/3oO\n",
       "FhQECgIFgYJAwSt4wYKCQEGgIFBwwyxYUBAoCBQECgIFN8yCBQWBgkBBoCBQcBYLFhQECgIFgYLX\n",
       "gIMFBYGCQEGgIFDwlcxgQUGgIFAQKAgU/DxOsKAgUBAoCBQcNYIFBYGCQEGgIFBwFQsWFAQKAgWB\n",
       "gkDB/3oOFhQECgIFgYKjRrCgIFAQKAgUBAqezQcLCgIFgYJAQaDgLBYsKAgUBAoCBYGCq1iwoCBQ\n",
       "ECgIFNwwCxYUBAoCBYGCQMFRI1hQECgIFAQKAgW/Jx0sKAgUBAoCBT+XHCwoCBQECgIFgYIbZsGC\n",
       "gkBBoCBQECh4eSFYUBAoCBQECo4awYKCQEGgIFAQKMx9XMY2FhQECgIFgYJAwVksWFAQKAgUBAqe\n",
       "agQLCgIFgYJAQaDgqBEsKAgUBAoCBYGCs1iwoCBQECgIFBw1ggUFgYJAQaAgUPDDAsGCgkBBoCBQ\n",
       "ECjM8Z70yoKCQEGgIFAQKDiLBQsKAgWBgkDBUSNYUBAoCBQECgIFP/ofLCgIFAQKAgWBwlx3zFYW\n",
       "FAQKAgWBgqNGsKAgUBAoCBQECr7tEywoCBQECgIFgYLfkw4WFAQKAgWBgqNGsKAgUBAoCBQECt6T\n",
       "DhYUBAoCBYGCQMENs2BBQaAgUBAoOGoECwoCBYGCQEGg4CoWLCgIFAQKAgWBwhxfyVxZUBAoCBQE\n",
       "Cp5qBAsKAgWBgkBBoOCGWbCgIFAQKAgUBAquYsGCgkBBoCBQECi4igULCgIFgYJAYe7jtzg3FhQE\n",
       "CgIFgYJAwVEjWFAQKAgUBAoChTk/Z7GNBQWBgkBBoDDHDbOVBQWBgkBBoCBQcBULFhQECgIFgYJA\n",
       "wcsLwYKCQEGgIFCY8/NsfmNBQaAgUBAoCBTcMAsWFAQKAgWBgkDBVSxYUBAoCBQECp5qBAsKAgWB\n",
       "gkBBoDDn+fP2Z/g0CwoCBYGCQEGg4IZZsKAgUBAoCBTmOmqsLCgIFAQKAgWBgqNGsKAgUBAoCBQE\n",
       "Cq5iwYKCQEGgIFAQKLijGCwoCBQECgIFR41gQUGgIFAQKAgUHDWCBQWBgkBBoCBQ8J3VYEFBoCBQ\n",
       "ECjMuf5IbywoCBQECgIFgYKjRrCgIFAQKAgUBApzncVWFhQECgIFgYKjRrCgIFAQKAgUBAreMAsW\n",
       "FAQKAgWBgkDBywvBgoJAQaAgUHDDLFhQECgIFAQKAgXP5oMFBYGCQEGgIFDw2CdYUBAoCBQECo4a\n",
       "wYKCQEGgIFAQKHjsEywoCBQECgIFgYKzWLCgIFAQKAgUBAoe+wQLCgIFgYJAwVEjWFAQKAgUBAoC\n",
       "BY99ggUFgYJAQaAgUJh73TDbWFAQKAgUBAqOGsGCgkBBoCBQECjMc+/bn+HTLCgIFAQKAgWBwjzO\n",
       "YisLCgIFgYJAwRtmwYKCQEGgIFAQKDhqBAsKAgWBgkBBoODlhWBBQaAgUBAozOOG2cqCgkBBoCBQ\n",
       "ECg4agQLCgIFgYJAQaDgsU+woCBQECgIFP4DPcHwb7pfSUoAAAAASUVORK5CYII=\n",
       "\" transform=\"translate(1527, 47)\"/>\n",
       "</g>\n",
       "<g clip-path=\"url(#clip7501)\">\n",
       "<text style=\"fill:#000000; fill-opacity:1; font-family:Arial,Helvetica Neue,Helvetica,sans-serif; font-size:48px; text-anchor:start;\" transform=\"rotate(0, 1634.69, 1517.13)\" x=\"1634.69\" y=\"1517.13\">0</text>\n",
       "</g>\n",
       "<g clip-path=\"url(#clip7501)\">\n",
       "<text style=\"fill:#000000; fill-opacity:1; font-family:Arial,Helvetica Neue,Helvetica,sans-serif; font-size:48px; text-anchor:start;\" transform=\"rotate(0, 1634.69, 1371.5)\" x=\"1634.69\" y=\"1371.5\">0.1</text>\n",
       "</g>\n",
       "<g clip-path=\"url(#clip7501)\">\n",
       "<text style=\"fill:#000000; fill-opacity:1; font-family:Arial,Helvetica Neue,Helvetica,sans-serif; font-size:48px; text-anchor:start;\" transform=\"rotate(0, 1634.69, 1225.88)\" x=\"1634.69\" y=\"1225.88\">0.2</text>\n",
       "</g>\n",
       "<g clip-path=\"url(#clip7501)\">\n",
       "<text style=\"fill:#000000; fill-opacity:1; font-family:Arial,Helvetica Neue,Helvetica,sans-serif; font-size:48px; text-anchor:start;\" transform=\"rotate(0, 1634.69, 1080.26)\" x=\"1634.69\" y=\"1080.26\">0.3</text>\n",
       "</g>\n",
       "<g clip-path=\"url(#clip7501)\">\n",
       "<text style=\"fill:#000000; fill-opacity:1; font-family:Arial,Helvetica Neue,Helvetica,sans-serif; font-size:48px; text-anchor:start;\" transform=\"rotate(0, 1634.69, 934.634)\" x=\"1634.69\" y=\"934.634\">0.4</text>\n",
       "</g>\n",
       "<g clip-path=\"url(#clip7501)\">\n",
       "<text style=\"fill:#000000; fill-opacity:1; font-family:Arial,Helvetica Neue,Helvetica,sans-serif; font-size:48px; text-anchor:start;\" transform=\"rotate(0, 1634.69, 789.011)\" x=\"1634.69\" y=\"789.011\">0.5</text>\n",
       "</g>\n",
       "<g clip-path=\"url(#clip7501)\">\n",
       "<text style=\"fill:#000000; fill-opacity:1; font-family:Arial,Helvetica Neue,Helvetica,sans-serif; font-size:48px; text-anchor:start;\" transform=\"rotate(0, 1634.69, 643.388)\" x=\"1634.69\" y=\"643.388\">0.6</text>\n",
       "</g>\n",
       "<g clip-path=\"url(#clip7501)\">\n",
       "<text style=\"fill:#000000; fill-opacity:1; font-family:Arial,Helvetica Neue,Helvetica,sans-serif; font-size:48px; text-anchor:start;\" transform=\"rotate(0, 1634.69, 497.764)\" x=\"1634.69\" y=\"497.764\">0.7</text>\n",
       "</g>\n",
       "<g clip-path=\"url(#clip7501)\">\n",
       "<text style=\"fill:#000000; fill-opacity:1; font-family:Arial,Helvetica Neue,Helvetica,sans-serif; font-size:48px; text-anchor:start;\" transform=\"rotate(0, 1634.69, 352.141)\" x=\"1634.69\" y=\"352.141\">0.8</text>\n",
       "</g>\n",
       "<g clip-path=\"url(#clip7501)\">\n",
       "<text style=\"fill:#000000; fill-opacity:1; font-family:Arial,Helvetica Neue,Helvetica,sans-serif; font-size:48px; text-anchor:start;\" transform=\"rotate(0, 1634.69, 206.518)\" x=\"1634.69\" y=\"206.518\">0.9</text>\n",
       "</g>\n",
       "<g clip-path=\"url(#clip7501)\">\n",
       "<text style=\"fill:#000000; fill-opacity:1; font-family:Arial,Helvetica Neue,Helvetica,sans-serif; font-size:48px; text-anchor:start;\" transform=\"rotate(0, 1634.69, 60.8953)\" x=\"1634.69\" y=\"60.8953\">1.0</text>\n",
       "</g>\n",
       "<polyline clip-path=\"url(#clip7501)\" style=\"stroke:#000000; stroke-width:4; stroke-opacity:1; fill:none\" points=\"\n",
       "  1598.69,1503.47 1598.69,1503.47 1622.69,1503.47 1598.69,1503.47 1598.69,1357.85 1622.69,1357.85 1598.69,1357.85 1598.69,1212.23 1622.69,1212.23 1598.69,1212.23 \n",
       "  1598.69,1066.61 1622.69,1066.61 1598.69,1066.61 1598.69,920.982 1622.69,920.982 1598.69,920.982 1598.69,775.359 1622.69,775.359 1598.69,775.359 1598.69,629.736 \n",
       "  1622.69,629.736 1598.69,629.736 1598.69,484.113 1622.69,484.113 1598.69,484.113 1598.69,338.49 1622.69,338.49 1598.69,338.49 1598.69,192.867 1622.69,192.867 \n",
       "  1598.69,192.867 1598.69,47.2441 1622.69,47.2441 1598.69,47.2441 \n",
       "  \"/>\n",
       "<g clip-path=\"url(#clip7501)\">\n",
       "<text style=\"fill:#000000; fill-opacity:1; font-family:Arial,Helvetica Neue,Helvetica,sans-serif; font-size:66px; text-anchor:middle;\" transform=\"rotate(-90, 1776.29, 775.359)\" x=\"1776.29\" y=\"775.359\"></text>\n",
       "</g>\n",
       "</svg>\n"
      ]
     },
     "execution_count": 6,
     "metadata": {},
     "output_type": "execute_result"
    }
   ],
   "source": [
    "heatmap(rotl90(reshape(train_data[1][2], 28,:)); aspectratio=1)"
   ]
  },
  {
   "cell_type": "markdown",
   "metadata": {},
   "source": [
    "# Construct a Balanced Training Set"
   ]
  },
  {
   "cell_type": "code",
   "execution_count": 7,
   "metadata": {},
   "outputs": [
    {
     "name": "stdout",
     "output_type": "stream",
     "text": [
      "nobs(balanced_train_data) = 19762\n",
      "mean(last, eachobs(balanced_train_data)) = 0.5\n"
     ]
    }
   ],
   "source": [
    "balanced_train_data = undersample(last, train_data);\n",
    "\n",
    "@show nobs(balanced_train_data)\n",
    "@show mean(last, eachobs(balanced_train_data));"
   ]
  },
  {
   "cell_type": "markdown",
   "metadata": {},
   "source": [
    "# DecisionTree"
   ]
  },
  {
   "cell_type": "code",
   "execution_count": 8,
   "metadata": {
    "scrolled": true
   },
   "outputs": [
    {
     "data": {
      "text/plain": [
       "demo_decision_tree (generic function with 1 method)"
      ]
     },
     "execution_count": 8,
     "metadata": {},
     "output_type": "execute_result"
    }
   ],
   "source": [
    "function demo_decision_tree(train_data, test_data)\n",
    "    train_features = collect(reduce(hcat, train_data[1])')\n",
    "    train_labels = collect(train_data[2])\n",
    "\n",
    "    # train full-tree classifier\n",
    "    model = build_tree(train_labels, train_features)\n",
    "    # prune tree: merge leaves having >= 90% combined purity (default: 100%)\n",
    "    model = prune_tree(model, 0.9)\n",
    "\n",
    "\n",
    "    test_features = collect(reduce(hcat, test_data[1])')\n",
    "    test_labels = collect(test_data[2]);\n",
    "    classes = apply_tree(model, test_features)\n",
    "    acc = mean(test_labels .== classes)\n",
    "    @show acc\n",
    "end"
   ]
  },
  {
   "cell_type": "code",
   "execution_count": 9,
   "metadata": {
    "scrolled": false
   },
   "outputs": [
    {
     "name": "stdout",
     "output_type": "stream",
     "text": [
      "acc = 0.972\n",
      "  7.088830 seconds (6.38 M allocations: 599.668 MiB, 4.72% gc time)\n"
     ]
    },
    {
     "data": {
      "text/plain": [
       "0.972"
      ]
     },
     "execution_count": 9,
     "metadata": {},
     "output_type": "execute_result"
    }
   ],
   "source": [
    "@time demo_decision_tree(train_data, test_data)"
   ]
  },
  {
   "cell_type": "code",
   "execution_count": 10,
   "metadata": {},
   "outputs": [
    {
     "name": "stdout",
     "output_type": "stream",
     "text": [
      "acc = 0.974\n",
      "  6.790610 seconds (5.06 M allocations: 548.854 MiB, 3.71% gc time)\n"
     ]
    },
    {
     "data": {
      "text/plain": [
       "0.974"
      ]
     },
     "execution_count": 10,
     "metadata": {},
     "output_type": "execute_result"
    }
   ],
   "source": [
    "@time demo_decision_tree(balanced_train_data, test_data)"
   ]
  },
  {
   "cell_type": "markdown",
   "metadata": {},
   "source": [
    "## RandomForest"
   ]
  },
  {
   "cell_type": "code",
   "execution_count": 11,
   "metadata": {},
   "outputs": [
    {
     "data": {
      "text/plain": [
       "demo_random_forest (generic function with 1 method)"
      ]
     },
     "execution_count": 11,
     "metadata": {},
     "output_type": "execute_result"
    }
   ],
   "source": [
    "function demo_random_forest(train_data, test_data)\n",
    "    train_features = collect(reduce(hcat, train_data[1])')\n",
    "    train_labels = collect(train_data[2])\n",
    "\n",
    "    model = build_forest(train_labels, train_features)\n",
    "\n",
    "    test_features = collect(reduce(hcat, test_data[1])')\n",
    "    test_labels = collect(test_data[2]);\n",
    "    classes = apply_forest(model, test_features)\n",
    "    acc = mean(test_labels .== classes)\n",
    "    @show acc\n",
    "end"
   ]
  },
  {
   "cell_type": "code",
   "execution_count": 12,
   "metadata": {},
   "outputs": [
    {
     "name": "stdout",
     "output_type": "stream",
     "text": [
      "acc = 0.983\n",
      "  4.352747 seconds (4.41 M allocations: 1.340 GiB, 19.04% gc time)\n"
     ]
    },
    {
     "data": {
      "text/plain": [
       "0.983"
      ]
     },
     "execution_count": 12,
     "metadata": {},
     "output_type": "execute_result"
    }
   ],
   "source": [
    "@time demo_random_forest(train_data, test_data)"
   ]
  },
  {
   "cell_type": "code",
   "execution_count": 13,
   "metadata": {},
   "outputs": [
    {
     "name": "stdout",
     "output_type": "stream",
     "text": [
      "acc = 0.983\n",
      "  2.010675 seconds (134.65 k allocations: 1.093 GiB, 9.70% gc time)\n"
     ]
    },
    {
     "data": {
      "text/plain": [
       "0.983"
      ]
     },
     "execution_count": 13,
     "metadata": {},
     "output_type": "execute_result"
    }
   ],
   "source": [
    "@time demo_random_forest(balanced_train_data, test_data)"
   ]
  },
  {
   "cell_type": "markdown",
   "metadata": {},
   "source": [
    "# LibSVM"
   ]
  },
  {
   "cell_type": "code",
   "execution_count": 14,
   "metadata": {},
   "outputs": [
    {
     "data": {
      "text/plain": [
       "demo_libsvm (generic function with 1 method)"
      ]
     },
     "execution_count": 14,
     "metadata": {},
     "output_type": "execute_result"
    }
   ],
   "source": [
    "function demo_libsvm(train_data, test_data)\n",
    "    train_features = reduce(hcat, train_data[1])\n",
    "    train_labels = train_data[2]\n",
    "\n",
    "    model = svmtrain(train_features, train_labels)\n",
    "\n",
    "    test_features = reduce(hcat, test_data[1])\n",
    "    test_labels = test_data[2];\n",
    "\n",
    "    classes, probs = svmpredict(model, test_features)\n",
    "    acc = mean(test_labels .== classes)\n",
    "    @show acc\n",
    "end\n",
    "\n"
   ]
  },
  {
   "cell_type": "code",
   "execution_count": 15,
   "metadata": {},
   "outputs": [
    {
     "name": "stdout",
     "output_type": "stream",
     "text": [
      "acc = 0.972\n",
      "344.503540 seconds (3.71 M allocations: 917.394 MiB, 0.11% gc time)\n"
     ]
    },
    {
     "data": {
      "text/plain": [
       "0.972"
      ]
     },
     "execution_count": 15,
     "metadata": {},
     "output_type": "execute_result"
    }
   ],
   "source": [
    "@time demo_libsvm(train_data, test_data)"
   ]
  },
  {
   "cell_type": "code",
   "execution_count": 16,
   "metadata": {},
   "outputs": [
    {
     "name": "stdout",
     "output_type": "stream",
     "text": [
      "acc = 0.971\n",
      "325.684953 seconds (1.06 M allocations: 762.931 MiB, 0.05% gc time)\n"
     ]
    },
    {
     "data": {
      "text/plain": [
       "0.971"
      ]
     },
     "execution_count": 16,
     "metadata": {},
     "output_type": "execute_result"
    }
   ],
   "source": [
    "@time demo_libsvm(balanced_train_data, test_data)"
   ]
  },
  {
   "cell_type": "markdown",
   "metadata": {},
   "source": [
    "## TensorFlow"
   ]
  },
  {
   "cell_type": "code",
   "execution_count": 27,
   "metadata": {},
   "outputs": [
    {
     "data": {
      "text/plain": [
       "demo_tf (generic function with 1 method)"
      ]
     },
     "execution_count": 27,
     "metadata": {},
     "output_type": "execute_result"
    }
   ],
   "source": [
    "function tensorflow_model(in_size = 1568)\n",
    "    sess = Session(Graph())\n",
    "\n",
    "    leaky_relu6(x) = 0.01x + nn.relu6(x)\n",
    "\n",
    "    # Network Definition\n",
    "    @tf begin\n",
    "        X = placeholder(Float32, shape=[-1, in_size])\n",
    "\n",
    "        # Network parameters\n",
    "        hl_sizes = [512, 128, 64]\n",
    "\n",
    "        Zs = [X]\n",
    "        for (ii, hlsize) in enumerate(hl_sizes)\n",
    "            Wii = get_variable(\"W_$ii\", [get_shape(Zs[end], 2), hlsize], Float32)\n",
    "            bii = get_variable(\"b_$ii\", [hlsize], Float32)\n",
    "            Zii = leaky_relu6(Zs[end]*Wii + bii)\n",
    "            push!(Zs, Zii)\n",
    "        end\n",
    "\n",
    "        Wout = get_variable([get_shape(Zs[end], 2), 1], Float32)\n",
    "        bout = get_variable([1], Float32)\n",
    "        Y_logits = Zs[end]*Wout + bout\n",
    "        \n",
    "        Y_mat = nn.sigmoid(Y_logits)\n",
    "        Y_pred = dropdims(Y_mat; dims=[2]) #drop first dimention\n",
    "        \n",
    "        Y_target = placeholder(Float32, shape=[-1])\n",
    "        loss = nn.sigmoid_cross_entropy_with_logits(;logits=Y_pred, targets=Y_target)\n",
    "        mean_loss = mean(loss)\n",
    "        optimizer = TensorFlow.train.minimize(train.AdamOptimizer(), loss)\n",
    "    end \n",
    "    run(sess, global_variables_initializer())\n",
    "\n",
    "    return (sess, optimizer)\n",
    "end\n",
    "\n",
    "function demo_tf(train_data, test_data)\n",
    "    sess, opt = tensorflow_model()\n",
    "    \n",
    "    train_features = reduce(hcat, train_data[1])'\n",
    "    train_labels = train_data[2]\n",
    "    \n",
    "    for epoch in 1:50\n",
    "        run(sess, opt, Dict(\n",
    "            sess.graph[\"X\"] => train_features,\n",
    "            sess.graph[\"Y_target\"] => train_labels\n",
    "        ))\n",
    "    end\n",
    "\n",
    "    test_features = collect(reduce(hcat, test_data[1])')\n",
    "    test_labels = collect(test_data[2]);\n",
    "    \n",
    "    classes = run(sess, sess.graph[\"Y_pred\"] > 0.5, Dict(\n",
    "            sess.graph[\"X\"] => test_features\n",
    "        ))\n",
    "    @show mean(classes)\n",
    "    acc = mean(test_labels .== classes)\n",
    "    @show acc\n",
    "end\n",
    "\n"
   ]
  },
  {
   "cell_type": "code",
   "execution_count": 30,
   "metadata": {},
   "outputs": [
    {
     "name": "stdout",
     "output_type": "stream",
     "text": [
      "mean(classes) = 0.486\n",
      "acc = 0.963\n",
      " 57.732387 seconds (6.90 M allocations: 12.283 GiB, 2.37% gc time)\n"
     ]
    },
    {
     "data": {
      "text/plain": [
       "0.963"
      ]
     },
     "execution_count": 30,
     "metadata": {},
     "output_type": "execute_result"
    }
   ],
   "source": [
    "@time demo_tf(train_data, test_data)"
   ]
  },
  {
   "cell_type": "code",
   "execution_count": 31,
   "metadata": {},
   "outputs": [
    {
     "name": "stdout",
     "output_type": "stream",
     "text": [
      "mean(classes) = 0.481\n",
      "acc = 0.96\n",
      " 63.206049 seconds (7.03 M allocations: 12.148 GiB, 2.35% gc time)\n"
     ]
    },
    {
     "data": {
      "text/plain": [
       "0.96"
      ]
     },
     "execution_count": 31,
     "metadata": {},
     "output_type": "execute_result"
    }
   ],
   "source": [
    "@time demo_tf(balanced_train_data, test_data)"
   ]
  },
  {
   "cell_type": "markdown",
   "metadata": {},
   "source": [
    "# Flux"
   ]
  },
  {
   "cell_type": "code",
   "execution_count": 20,
   "metadata": {},
   "outputs": [
    {
     "data": {
      "text/plain": [
       "demo_flux (generic function with 1 method)"
      ]
     },
     "execution_count": 20,
     "metadata": {},
     "output_type": "execute_result"
    }
   ],
   "source": [
    "function flux_model(in_size = 1568)\n",
    "    leaky_relu6(x) = oftype(x/1, 0.01f0)*x + clamp(x, 0, 6)\n",
    "\n",
    "    return Chain(\n",
    "        Dense(in_size, 512, leaky_relu6), \n",
    "        Dense(512, 128, leaky_relu6),\n",
    "        Dense(128, 64, leaky_relu6), \n",
    "        Dense(64, 1),\n",
    "        vec\n",
    "    )\n",
    "    \n",
    "end\n",
    "\n",
    "function demo_flux(train_data, test_data)\n",
    "    mdl = flux_model()\n",
    "    \n",
    "    features = reduce(hcat, first(train_data))\n",
    "    labels = Float32.(last(train_data))\n",
    "    \n",
    "    Flux.train!(\n",
    "        params(mdl),\n",
    "        Iterators.repeated((features, labels), 50), # 50 epochs\n",
    "        Flux.ADAM()\n",
    "    ) do xs, ys # This block repressents 1 epochs\n",
    "        mean(Flux.logitbinarycrossentropy.(mdl(xs), ys))\n",
    "    end\n",
    "    \n",
    "    test_features, test_labels = test_data\n",
    "    \n",
    "    probs = map(first∘Flux.data∘mdl, test_features)\n",
    "    classes = probs .> 0\n",
    "    @show mean(classes)\n",
    "    acc = mean(test_labels .== classes)\n",
    "    @show acc\n",
    "end"
   ]
  },
  {
   "cell_type": "code",
   "execution_count": 23,
   "metadata": {
    "scrolled": true
   },
   "outputs": [
    {
     "name": "stdout",
     "output_type": "stream",
     "text": [
      "mean(classes) = 0.488\n",
      "acc = 0.983\n",
      " 43.096371 seconds (148.81 k allocations: 19.618 GiB, 39.97% gc time)\n"
     ]
    },
    {
     "data": {
      "text/plain": [
       "0.983"
      ]
     },
     "execution_count": 23,
     "metadata": {},
     "output_type": "execute_result"
    }
   ],
   "source": [
    "@time demo_flux(train_data, test_data)"
   ]
  },
  {
   "cell_type": "code",
   "execution_count": 24,
   "metadata": {},
   "outputs": [
    {
     "name": "stdout",
     "output_type": "stream",
     "text": [
      "mean(classes) = 0.49\n",
      "acc = 0.983\n",
      " 43.991950 seconds (148.81 k allocations: 19.390 GiB, 40.20% gc time)\n"
     ]
    },
    {
     "data": {
      "text/plain": [
       "0.983"
      ]
     },
     "execution_count": 24,
     "metadata": {},
     "output_type": "execute_result"
    }
   ],
   "source": [
    "@time demo_flux(balanced_train_data, test_data)"
   ]
  },
  {
   "cell_type": "code",
   "execution_count": null,
   "metadata": {},
   "outputs": [],
   "source": []
  }
 ],
 "metadata": {
  "kernelspec": {
   "display_name": "Julia 1.1.0",
   "language": "julia",
   "name": "julia-1.1"
  },
  "language_info": {
   "file_extension": ".jl",
   "mimetype": "application/julia",
   "name": "julia",
   "version": "1.1.0"
  }
 },
 "nbformat": 4,
 "nbformat_minor": 2
}
