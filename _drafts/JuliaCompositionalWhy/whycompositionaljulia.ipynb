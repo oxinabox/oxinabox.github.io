{
 "cells": [
  {
   "cell_type": "markdown",
   "metadata": {
    "slideshow": {
     "slide_type": "slide"
    }
   },
   "source": [
    "# JuliaLang: The Ingredients for a Composable Programming Language\n",
    "\n",
    "Lyndon White   \n",
    "Research Software Engineer  \n",
    "Invenia Labs"
   ]
  },
  {
   "cell_type": "markdown",
   "metadata": {
    "slideshow": {
     "slide_type": "slide"
    }
   },
   "source": [
    "I am going to tell you some things that may sound counter-intuitive.\n",
    "I am going suggest, that some of the things Julia that make julia code so reusable,\n",
    "are because the language has the right combination of missing features, and good features to succeed.\n",
    "\n",
    "Not just missing features like:\n",
    " - Don't allow `eval` into local scope -- it destroys the ability to run an optimizer.\n",
    " \n",
    "But missing features like:\n",
    " - Never got round to making it easy to use local modules, outside of packages\n",
    " - A type system that can't be used to check correctness\n",
    "\n",
    "But that these are countered by, or allow for other features:\n",
    " - Very easy to create packages\n",
    " - Duck-typing, and multiple dispatch, together."
   ]
  },
  {
   "cell_type": "markdown",
   "metadata": {
    "slideshow": {
     "slide_type": "slide"
    }
   },
   "source": [
    "Some questions:\n",
    "\n",
    " - How often is code written by grad students reusable by others?\n",
    " - How often can you take someone elses types and uses them with your functions and your types? How many lines of code does that take?\n"
   ]
  },
  {
   "cell_type": "markdown",
   "metadata": {
    "slideshow": {
     "slide_type": "slide"
    }
   },
   "source": [
    "\n",
    "## Its easier to create a package than a local module.\n",
    "\n",
    "Many languages have one module per file,\n",
    "and you can load that module e.g. via `import Filename` from your current directory.\n",
    "\n",
    "You can make this work in Julia also, but it is surprisingly fiddly.\n",
    "\n",
    "What is easy however, is to create and use a package.\n"
   ]
  },
  {
   "cell_type": "markdown",
   "metadata": {
    "slideshow": {
     "slide_type": "subslide"
    }
   },
   "source": [
    "### What does making a local module generally give you?\n",
    "\n",
    " - Namespacing\n",
    " - The feeling you are doing good software engineering\n",
    " - Easier to transition later to a package\n",
    "\n"
   ]
  },
  {
   "cell_type": "markdown",
   "metadata": {
    "slideshow": {
     "slide_type": "subslide"
    }
   },
   "source": [
    "### What does making a Julia package give you?\n",
    " - All the above plus\n",
    " - Standard directory structure, `src`, `test` etc\n",
    " - Managed dependencies, both what they are, and what versions\n",
    " - Easy re-distributivity -- harder to have local state\n",
    " - Test-able using package manager's `pkg> test MyPackage` \n",
    "\n",
    "And if you use the recommended extension package:\n",
    " - Continuous Integration(/s) Setup\n",
    " - Code coverage\n",
    " - Documentation setup\n",
    " - License set"
   ]
  },
  {
   "cell_type": "markdown",
   "metadata": {
    "slideshow": {
     "slide_type": "subslide"
    }
   },
   "source": [
    "Testing Julia code is important.  \n",
    "Dynamic language: type system says nothing about correctness.\n",
    "\n",
    "You will note that many of those were to do with testing.\n",
    "Testing julia code is important.\n",
    "\n",
    "This gives us other things too:\n",
    "\n",
    " - Community is starting to build bots that do things like testing packages that depend on yours, and make PR to udate compat bounds before release.\n",
    " - Before any release of the language itself, all the tests of all registered packages are run to make sure that the language hasn't broken any packages."
   ]
  },
  {
   "cell_type": "markdown",
   "metadata": {
    "slideshow": {
     "slide_type": "slide"
    }
   },
   "source": [
    "### Julia types only give expressivity\n",
    "\n",
    " - Julia types don't prove correctness.\n",
    " - There are no statements made up front about what methods are valid for a given type.\n",
    " - Full static type-checking is impossible\n",
    " - but you get duck-typing"
   ]
  },
  {
   "cell_type": "markdown",
   "metadata": {
    "slideshow": {
     "slide_type": "slide"
    }
   },
   "source": [
    "\n",
    "Consider on might have a type from the **Ducks** library."
   ]
  },
  {
   "cell_type": "code",
   "execution_count": 3,
   "metadata": {
    "slideshow": {
     "slide_type": "fragment"
    }
   },
   "outputs": [
    {
     "data": {
      "text/plain": [
       "raise_young (generic function with 1 method)"
      ]
     },
     "execution_count": 3,
     "metadata": {},
     "output_type": "execute_result"
    }
   ],
   "source": [
    "struct Duck end\n",
    "\n",
    "walk(self) = println(\"🚶 Waddle\")\n",
    "talk(self) = println(\"🦆 Quack\")\n",
    "\n",
    "raise_young(self, child) = println(\"🐤 ➡️ 💧 Lead to water\")"
   ]
  },
  {
   "cell_type": "markdown",
   "metadata": {
    "slideshow": {
     "slide_type": "slide"
    }
   },
   "source": [
    "and I have some code I want to run, that I wrote:"
   ]
  },
  {
   "cell_type": "code",
   "execution_count": 4,
   "metadata": {
    "slideshow": {
     "slide_type": "fragment"
    }
   },
   "outputs": [
    {
     "data": {
      "text/plain": [
       "simulate_farm (generic function with 1 method)"
      ]
     },
     "execution_count": 4,
     "metadata": {},
     "output_type": "execute_result"
    }
   ],
   "source": [
    "function simulate_farm(adult_animals, baby_animals)\n",
    "    for animal in adult_animals\n",
    "        walk(animal)\n",
    "        talk(animal)\n",
    "    end\n",
    "\n",
    "    parent = first(adult_animals)\n",
    "    for child in baby_animals\n",
    "        raise_young(parent, child)\n",
    "    end\n",
    "end"
   ]
  },
  {
   "cell_type": "code",
   "execution_count": 5,
   "metadata": {
    "slideshow": {
     "slide_type": "fragment"
    }
   },
   "outputs": [
    {
     "name": "stdout",
     "output_type": "stream",
     "text": [
      "🚶 Waddle\n",
      "🦆 Quack\n",
      "🚶 Waddle\n",
      "🦆 Quack\n",
      "🚶 Waddle\n",
      "🦆 Quack\n",
      "🐤 ➡️ 💧 Lead to water\n",
      "🐤 ➡️ 💧 Lead to water\n"
     ]
    }
   ],
   "source": [
    "simulate_farm([Duck(), Duck(), Duck()], [Duck(), Duck()])"
   ]
  },
  {
   "cell_type": "markdown",
   "metadata": {
    "slideshow": {
     "slide_type": "subslide"
    }
   },
   "source": [
    "Ok now I want to extend it with my own type. A Swan"
   ]
  },
  {
   "cell_type": "code",
   "execution_count": 7,
   "metadata": {
    "slideshow": {
     "slide_type": "fragment"
    }
   },
   "outputs": [],
   "source": [
    "struct Swan end"
   ]
  },
  {
   "cell_type": "code",
   "execution_count": 8,
   "metadata": {
    "slideshow": {
     "slide_type": "fragment"
    }
   },
   "outputs": [
    {
     "name": "stdout",
     "output_type": "stream",
     "text": [
      "🚶 Waddle\n",
      "🦆 Quack\n"
     ]
    }
   ],
   "source": [
    "# Lets test with just 1 first:\n",
    "simulate_farm([Swan()], [])"
   ]
  },
  {
   "cell_type": "markdown",
   "metadata": {
    "slideshow": {
     "slide_type": "subslide"
    }
   },
   "source": [
    "The **Waddle** was right, but Swans don't **Quack**.\n",
    "\n",
    "We did some duck-typing -- Swans walk like ducks,\n",
    "but they don't talk like ducks.\n",
    "\n",
    "\n",
    "We can solve that with **single dispatch**."
   ]
  },
  {
   "cell_type": "code",
   "execution_count": 12,
   "metadata": {},
   "outputs": [
    {
     "data": {
      "text/plain": [
       "talk (generic function with 2 methods)"
      ]
     },
     "execution_count": 12,
     "metadata": {},
     "output_type": "execute_result"
    }
   ],
   "source": [
    "talk(self::Swan) = println(\"🦢 Hiss\")"
   ]
  },
  {
   "cell_type": "code",
   "execution_count": 13,
   "metadata": {},
   "outputs": [
    {
     "name": "stdout",
     "output_type": "stream",
     "text": [
      "🚶 Waddle\n",
      "🦢 Hiss\n"
     ]
    }
   ],
   "source": [
    "# Lets test with just 1 first:\n",
    "simulate_farm([Swan()], [])"
   ]
  },
  {
   "cell_type": "code",
   "execution_count": 14,
   "metadata": {},
   "outputs": [
    {
     "name": "stdout",
     "output_type": "stream",
     "text": [
      "🚶 Waddle\n",
      "🦢 Hiss\n",
      "🚶 Waddle\n",
      "🦢 Hiss\n",
      "🚶 Waddle\n",
      "🦢 Hiss\n",
      "🐤 ➡️ 💧 Lead to water\n",
      "🐤 ➡️ 💧 Lead to water\n"
     ]
    }
   ],
   "source": [
    "# Now the whole farm\n",
    "simulate_farm([Swan(), Swan(), Swan()], [Swan(), Swan()])"
   ]
  },
  {
   "cell_type": "markdown",
   "metadata": {},
   "source": [
    "That's not right. Swans do not lead their young to water.\n",
    "\n",
    "They carry them\n",
    "\n",
    "![](https://p1.pxfuel.com/preview/695/84/40/nature-bird-swan-young-royalty-free-thumbnail.jpg)"
   ]
  },
  {
   "cell_type": "code",
   "execution_count": 16,
   "metadata": {
    "slideshow": {
     "slide_type": "fragment"
    }
   },
   "outputs": [
    {
     "data": {
      "text/plain": [
       "raise_young (generic function with 2 methods)"
      ]
     },
     "execution_count": 16,
     "metadata": {},
     "output_type": "execute_result"
    }
   ],
   "source": [
    "# Same thing again:\n",
    "raise_young(self::Swan, child::Swan) = println(\"🐤 ↗️ 🦢 Carry on back\")"
   ]
  },
  {
   "cell_type": "code",
   "execution_count": 17,
   "metadata": {
    "slideshow": {
     "slide_type": "subslide"
    }
   },
   "outputs": [
    {
     "name": "stdout",
     "output_type": "stream",
     "text": [
      "🚶 Waddle\n",
      "🦢 Hiss\n",
      "🚶 Waddle\n",
      "🦢 Hiss\n",
      "🚶 Waddle\n",
      "🦢 Hiss\n",
      "🐤 ↗️ 🦢 Carry on back\n",
      "🐤 ↗️ 🦢 Carry on back\n"
     ]
    }
   ],
   "source": [
    "# Now the whole farm\n",
    "simulate_farm([Swan(), Swan(), Swan()], [Swan(), Swan()])"
   ]
  },
  {
   "cell_type": "markdown",
   "metadata": {
    "slideshow": {
     "slide_type": "subslide"
    }
   },
   "source": [
    "Now I want a Farm with mixed poultry.\n",
    " - 2 Ducks, a Swan, and 2 baby swans"
   ]
  },
  {
   "cell_type": "code",
   "execution_count": 20,
   "metadata": {},
   "outputs": [
    {
     "name": "stdout",
     "output_type": "stream",
     "text": [
      "🚶 Waddle\n",
      "🦆 Quack\n",
      "🚶 Waddle\n",
      "🦆 Quack\n",
      "🚶 Waddle\n",
      "🦢 Hiss\n",
      "🐤 ➡️ 💧 Lead to water\n",
      "🐤 ➡️ 💧 Lead to water\n"
     ]
    }
   ],
   "source": [
    "simulate_farm([Duck(), Duck(), Swan()], [Swan(), Swan()])"
   ]
  },
  {
   "cell_type": "markdown",
   "metadata": {
    "slideshow": {
     "slide_type": "slide"
    }
   },
   "source": [
    "Thats not right again. \n",
    "\n",
    "What happened?\n",
    "\n",
    "We had a Duck, raising a baby Swan, and it lead it to water.  \n",
    "\n",
    "Ducks given baby Swans to raise, will just abandon them.\n",
    "\n"
   ]
  },
  {
   "cell_type": "markdown",
   "metadata": {
    "slideshow": {
     "slide_type": "subslide"
    }
   },
   "source": [
    "But how will we code this?\n",
    "\n",
    "## Option 1: Rewrite the Duck\n",
    "\n",
    "```julia\n",
    "function raise_young(self::Duck, child::Any)\n",
    "    if child isa Swan\n",
    "        println(\"🐤😢 Abandon\")\n",
    "    else\n",
    "        println(\"🐤 ➡️ 💧 Lead to water\")\n",
    "    end\n",
    "end\n",
    "```"
   ]
  },
  {
   "cell_type": "markdown",
   "metadata": {},
   "source": [
    "### Rewriting the Duck has problems\n",
    " - Have to edit someone elses library, to add support for *my* type.\n",
    " - This could mean adding a lot of code for them to maintain\n",
    " - Does not scale, what if other people wanted to add Chickens, Geese etc.\n",
    " \n",
    "#### Varient: Monkey-patch\n",
    " - If the language supports monkey patching, could do it that way\n",
    " - but it means copying their code into my library, will run in to issues like not being able to update.\n",
    " - Scaled to other people adding new types even worse, since no longer a central canonical source to copy\n",
    " \n",
    "#### Varient: could fork their code\n",
    " - That is giving up on code reuse."
   ]
  },
  {
   "cell_type": "markdown",
   "metadata": {
    "slideshow": {
     "slide_type": "subslide"
    }
   },
   "source": [
    "## Option 2: Inherit from the Duck\n",
    "\n",
    "(NB: this example is not valid julia code)\n",
    "```julia\n",
    "struct DuckWithSwanSupport <: Duck end\n",
    "\n",
    "function raise_young(self::DuckWithSwanSupport, child::Any)\n",
    "    if child isa Swan\n",
    "        println(\"🐤😢 Abandon\")\n",
    "    else\n",
    "        raise_young(upcast(Duck, self), child)\n",
    "    end\n",
    "end\n",
    "```"
   ]
  },
  {
   "cell_type": "markdown",
   "metadata": {},
   "source": [
    "### Inheriting from the Duck has problems:\n",
    " - Have to replace every `Duck` in my code-base with `DuckWithSwanSupport`\n",
    " - If I am using other libraries that might return a `Duck` I have to deal with that also\n",
    "\n",
    "#### Still does not scale.\n",
    "If someone else implements `DuckWithChickenSupport`, and I want to use both there code and mine, what do?\n",
    " - Inherit from both? `DuckWithChickenAndSwanSupport`\n",
    " - This is the classic multiple inheritance Diamond problem.\n",
    " - It's hard. Even in languages supporting multiple inheritance, they may not support it in a useful way for this without me writing special cases for many things."
   ]
  },
  {
   "cell_type": "markdown",
   "metadata": {
    "slideshow": {
     "slide_type": "subslide"
    }
   },
   "source": [
    "### Option 3: Multiple Dispatch\n",
    "\n",
    "This is clean and easy:"
   ]
  },
  {
   "cell_type": "code",
   "execution_count": 26,
   "metadata": {
    "slideshow": {
     "slide_type": "fragment"
    }
   },
   "outputs": [
    {
     "data": {
      "text/plain": [
       "raise_young (generic function with 3 methods)"
      ]
     },
     "execution_count": 26,
     "metadata": {},
     "output_type": "execute_result"
    }
   ],
   "source": [
    "raise_young(parent::Duck, child::Swan) = println(\"🐤😢 Abandon\")"
   ]
  },
  {
   "cell_type": "code",
   "execution_count": 27,
   "metadata": {},
   "outputs": [
    {
     "name": "stdout",
     "output_type": "stream",
     "text": [
      "🚶 Waddle\n",
      "🦆 Quack\n",
      "🚶 Waddle\n",
      "🦆 Quack\n",
      "🚶 Waddle\n",
      "🦢 Hiss\n",
      "🐤😢 Abandon\n",
      "🐤😢 Abandon\n"
     ]
    }
   ],
   "source": [
    "simulate_farm([Duck(), Duck(), Swan()], [Swan(), Swan()])"
   ]
  },
  {
   "cell_type": "markdown",
   "metadata": {
    "slideshow": {
     "slide_type": "slide"
    }
   },
   "source": [
    "## But does this happen in the wild?\n",
    "\n",
    "Turns out it does.\n",
    "\n",
    "The need to extend operations to act on new combinations of types shows up all the time in scientific computing.  \n",
    "I suspect it shows up more generally, but we've learned to ignore it.  \n"
   ]
  },
  {
   "cell_type": "markdown",
   "metadata": {},
   "source": [
    "\n",
    "If you look at a list of BLAS, methods you will see just this,\n",
    "but encoded not in the types of the input but in the function name.\n",
    "E.g.\n",
    " - `SGEMM` - matrix matrix multiply\n",
    " - `SSYMM` - symmetric matrix matrix multiply\n",
    " - ...\n",
    " - `ZHBMV` - double complex - hermitian banded matrix vector multiply "
   ]
  },
  {
   "cell_type": "markdown",
   "metadata": {
    "slideshow": {
     "slide_type": "subslide"
    }
   },
   "source": [
    "And turns out people keep wanting to make more and more matrix types.\n",
    " - Banded Matrixes\n",
    " - Block Matrixes\n",
    " - Block Banded Matrixes\n",
    " - Block Banded Block Banded Matrixs\n",
    "    - where all the blocks are themselves block banded.\n",
    "\n",
    "\n",
    "And that is before other things you might like to to to a Matri, which you'd like to encode in its type:\n",
    " - Running on a GPU\n",
    " - Tracking Operations for AutoDiff\n",
    " - Naming dimensions, for easy lookup\n",
    " - Distributing over a cluster\n"
   ]
  },
  {
   "cell_type": "markdown",
   "metadata": {
    "slideshow": {
     "slide_type": "subslide"
    }
   },
   "source": [
    "\n",
    "These are all important and show up in crucial applications.  \n",
    "When you start applying things across disciplines, they show up even more.  \n",
    "Like advancements in Neural Differential Equations, which needs:\n",
    "\n",
    " - all the types Machine learning research has invented,\n",
    " - and all the types Differential equation solving research has invented,\n",
    "\n",
    "and wants to use them together.\n",
    "\n",
    "So its not a reasonable thing for a numerical language to say that they've enumerated all the matrix types you might ever need."
   ]
  },
  {
   "cell_type": "markdown",
   "metadata": {
    "slideshow": {
     "slide_type": "subslide"
    }
   },
   "source": [
    "## Inserting a human into the JIT\n",
    "\n",
    "### Basic functionality of an Tracing JIT:\n",
    "\n",
    " - Detect important cases via tracing\n",
    " - Compile specialized methods for them\n",
    "\n",
    "This is called specialization.\n",
    "\n",
    "### Basic functionalitionality of Julia's JIT:\n",
    " - Specialize all methods on all types that they are called on as they are called\n",
    " \n",
    "This is pretty good: its a reasonable assumption that the types are going to an important case.\n",
    "\n",
    "### What does multiple dispatch add?\n",
    "\n",
    "It lets a human tell it how that specialization should be done.  \n",
    "Which can add a lot of information."
   ]
  },
  {
   "cell_type": "markdown",
   "metadata": {
    "slideshow": {
     "slide_type": "slide"
    }
   },
   "source": [
    "### Consider Matrix multiplication.\n",
    "\n",
    "We have\n",
    " - `*(::Dense, ::Dense)`: multiply rows by columns and sum.\n",
    "    - Takes $O(n^3)$ time\n",
    " - `*(::Dense, ::Diagonal)`/`*(::Diagonal, ::Dense)`: column-wise/row-wise scaling. \n",
    "    - $O(n^2)$ time.\n",
    " - `*(::OneHot, ::Dense)` / `*(::Dense, ::OneHot)`: column-wise/row-wise slicing. \n",
    "    - $O(n)$ time.\n",
    " - `*(::Identity, ::Dense)` / `*(::Dense, ::Identity)`: no change. \n",
    "    - $O(1)$ time.\n",
    "\n",
    "Converting things to `Dense` in this case gives you the write answer, but much slower.\n",
    "Converting `Dense` to structured sparse, just gives you the wrong answer.\n",
    "\n",
    "This is why BLAS etc wanted that information.\n"
   ]
  },
  {
   "cell_type": "markdown",
   "metadata": {},
   "source": [
    "## Fast array processing doesn't matter\n",
    "Anyone can have basic fast array processing by throwing the problem to BLAS, or a GPU.\n",
    "\n",
    "### Having Array types that are parametric on their scalar types; with ability to be equally fast in both. Matters.\n",
    "\n",
    "Without this, your array code, and your scalar code can not be disentangled.\n",
    "\n",
    "BLAS for example does not have this.  \n",
    "It has a method for each combination of scalar and matrix type.\n",
    "\n",
    "With this seperation, one can add new scalar types:\n",
    " - Dual numbers\n",
    " - Measument Error tracking numbers\n",
    " - Symbolic Algebra numbers\n",
    "\n",
    "Without ever having to touch array code, except as a late-stage optimization.\n",
    "\n",
    "Otherwise, one needs to implement array support into one's scalars, to have reasnable performance at all."
   ]
  },
  {
   "cell_type": "markdown",
   "metadata": {},
   "source": [
    "People need to invent new languages.\n",
    "Its a good time to be inventing new languages.\n",
    "It's good for the world.\n",
    "\n",
    "\n",
    "I’ld just really like those new languages to please have:\n",
    " - multiple dispatch\n",
    " - array types that are parametric on their scalar types, at the type level\n",
    " - open classes, so you can add methods to things."
   ]
  },
  {
   "cell_type": "code",
   "execution_count": null,
   "metadata": {},
   "outputs": [],
   "source": []
  }
 ],
 "metadata": {
  "@webio": {
   "lastCommId": null,
   "lastKernelId": null
  },
  "celltoolbar": "Slideshow",
  "kernelspec": {
   "display_name": "Julia 1.3.0",
   "language": "julia",
   "name": "julia-1.3"
  },
  "language_info": {
   "file_extension": ".jl",
   "mimetype": "application/julia",
   "name": "julia",
   "version": "1.3.0"
  }
 },
 "nbformat": 4,
 "nbformat_minor": 2
}
