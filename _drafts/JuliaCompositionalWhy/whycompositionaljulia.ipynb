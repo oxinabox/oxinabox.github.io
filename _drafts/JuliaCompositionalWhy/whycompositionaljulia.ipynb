{
 "cells": [
  {
   "cell_type": "markdown",
   "metadata": {
    "slideshow": {
     "slide_type": "slide"
    }
   },
   "source": [
    "# JuliaLang: The Ingredients for a Composable Programming Language\n",
    "\n",
    "<img src=\"https://raw.githubusercontent.com/JuliaLang/julia-logo-graphics/master/images/julia-logo-color.png\">\n",
    "\n",
    "\n",
    "### Dr Lyndon White  \n",
    "Research Software Engineer  \n",
    "Invenia Labs"
   ]
  },
  {
   "cell_type": "markdown",
   "metadata": {
    "slideshow": {
     "slide_type": "subslide"
    }
   },
   "source": [
    "# What do I mean by composable ?"
   ]
  },
  {
   "cell_type": "markdown",
   "metadata": {
    "slideshow": {
     "slide_type": "fragment"
    }
   },
   "source": [
    "### Examples:\n",
    "\n",
    " - If you want to add tracking of measurement error to a scalar number, you shouldn't have to say anything about how your new type interacts with arrays **(Measurements.jl)**\n",
    " - If you have a Differential Equation solver, and a Neural Network library, then you should just be able to have neural ODEs (**DiffEq.jl / Flux.jl**)\n",
    " - If you have a package to add names to the dimensions of an array, and one to put arays on the GPU, then you shouldn't have to write code to have named arrays on the GPU (**NamedDims.jl / GPUArrays.jl**)"
   ]
  },
  {
   "cell_type": "markdown",
   "metadata": {
    "slideshow": {
     "slide_type": "slide"
    }
   },
   "source": [
    "### Why Julia is it this way?\n",
    "\n",
    "I am going to tell you some things that may sound counter-intuitive.\n",
    "\n",
    "I am going suggest, that julia code is so reusable,\n",
    "are because the language has not just good features, but **weak and missing features.**"
   ]
  },
  {
   "cell_type": "markdown",
   "metadata": {
    "slideshow": {
     "slide_type": "subslide"
    }
   },
   "source": [
    "Missing features like:\n",
    " - Weak conventions about namespace polution\n",
    " - Never got round to making it easy to use local modules, outside of packages\n",
    " - A type system that can't be used to check correctness"
   ]
  },
  {
   "cell_type": "markdown",
   "metadata": {
    "slideshow": {
     "slide_type": "fragment"
    }
   },
   "source": [
    "But that these are countered by, or allow for other features:\n",
    " - Strong convention about talking to other people\n",
    " - Very easy to create packages\n",
    " - Duck-typing, and multiple dispatch, together."
   ]
  },
  {
   "cell_type": "markdown",
   "metadata": {
    "slideshow": {
     "slide_type": "slide"
    }
   },
   "source": [
    "### Julia namespacing is used in a leaky way\n",
    "\n",
    "Common advise when loading code form another module in most languagage communities is:\n",
    "only import what you need.  \n",
    "e.g `using Foo: a, b c`\n",
    "\n",
    "Common practice in Julia is to do:\n",
    "`using Foo`,  \n",
    "which imports everything everything that the author of `Foo` marked to be **exported**.\n",
    "\n",
    "You don't have to, but it's common."
   ]
  },
  {
   "cell_type": "markdown",
   "metadata": {
    "slideshow": {
     "slide_type": "subslide"
    }
   },
   "source": [
    "But what happens if one has package:\n",
    " - `Bar` exporting `predict(::BarModel, data)`,\n",
    " - and another `Foo` exporting `predict(::FooModel, data)`\n",
    " \n",
    "and one does:\n",
    "```julia\n",
    "using Foo\n",
    "using Bar\n",
    "training_data, test_data = ...\n",
    "mbar = BarModel(training_data)\n",
    "mfoo = FooModel(training_data)\n",
    "evaluate(predict(mbar), test_data)\n",
    "evaluate(predict(mfoo), test_data)\n",
    "```"
   ]
  },
  {
   "cell_type": "markdown",
   "metadata": {
    "slideshow": {
     "slide_type": "subslide"
    }
   },
   "source": [
    "If you have multiple `using`s trying to bring the same name into scope,\n",
    "then julia throws an error. \n",
    "Since it can't work out which to use.\n",
    "\n",
    "As a user you can tell it what to use.\n",
    "\n",
    "```julia\n",
    "evaluate(Bar.predict(mbar), test_data)\n",
    "evaluate(Foo.predict(mfoo), test_data)\n",
    "```"
   ]
  },
  {
   "cell_type": "markdown",
   "metadata": {
    "slideshow": {
     "slide_type": "subslide"
    }
   },
   "source": [
    "### But the package authors can solve this:\n",
    "There is no name collision if both names *are* overloaded the from the same namespace.\n",
    "\n",
    "If both `Foo` and `Bar` are overloading `StatsBase.predict` everything works.\n",
    "\n",
    "```julia\n",
    "using StatsBase  # exports predict\n",
    "using Foo  # overloads `StatsBase.predict(::FooModel)\n",
    "using Bar  # overloads `StatsBase.predict(::BarModel)\n",
    "training_data, test_data = ...\n",
    "mbar = BarModel(training_data)\n",
    "mfoo = FooModel(training_data)\n",
    "evaluate(predict(mbar), test_data)\n",
    "evaluate(predict(mfoo), test_data)\n",
    "```\n"
   ]
  },
  {
   "cell_type": "markdown",
   "metadata": {
    "slideshow": {
     "slide_type": "subslide"
    }
   },
   "source": [
    "### This encourages people to work together\n",
    "\n",
    "Name collisions makes package authors to come together and create base package (like `StatsBase`) and agree on what the functions mean.\n",
    "\n",
    "They don't have to, since the user can still solve it, but it encourages it.  \n",
    "Thus you get package authors thinking about other packages that might be used with theirs.\n",
    "\n",
    "One can even overload functions from multiple namespaces if you want;  \n",
    "e.g. all of `MLJBase.predict`, `StatsBase.predict`, `SkLearn.predict`.  \n",
    "Which might all have slightly different interfaces targetting different use cases.\n"
   ]
  },
  {
   "cell_type": "markdown",
   "metadata": {
    "slideshow": {
     "slide_type": "slide"
    }
   },
   "source": [
    "\n",
    "## Its easier to create a package than a local module.\n",
    "\n",
    "Many languages have one module per file,\n",
    "and you can load that module e.g. via   \n",
    "`import Filename`  \n",
    "from your current directory.\n",
    "\n",
    "You can make this work in Julia also, but it is surprisingly fiddly.\n",
    "\n",
    "What is easy however, is to create and use a package."
   ]
  },
  {
   "cell_type": "markdown",
   "metadata": {
    "slideshow": {
     "slide_type": "subslide"
    }
   },
   "source": [
    "### What does making a local module generally give you?\n",
    "\n",
    " - Namespacing\n",
    " - The feeling you are doing good software engineering\n",
    " - Easier to transition later to a package\n",
    "\n"
   ]
  },
  {
   "cell_type": "markdown",
   "metadata": {
    "slideshow": {
     "slide_type": "subslide"
    }
   },
   "source": [
    "### What does making a Julia package give you?\n",
    " - All the above plus\n",
    " - Standard directory structure, `src`, `test` etc\n",
    " - Managed dependencies, both what they are, and what versions\n",
    " - Easy re-distributivity -- harder to have local state\n",
    " - Test-able using package manager's `pkg> test MyPackage` \n",
    "\n",
    "The recommended way to create packages also ensures:\n",
    "\n",
    " - Continuous Integration(/s) Setup\n",
    " - Code coverage\n",
    " - Documentation setup\n",
    " - License set"
   ]
  },
  {
   "cell_type": "markdown",
   "metadata": {
    "slideshow": {
     "slide_type": "subslide"
    }
   },
   "source": [
    "### Testing Julia code is important.  \n",
    "JIT compiler: even compilation errors don't arive til run-time.\n",
    "\n",
    "Dynamic language: type system says nothing about correctness.  \n",
    "\n",
    "Testing julia code is important.\n",
    "\n",
    "So its good to have CI etc all setup"
   ]
  },
  {
   "cell_type": "markdown",
   "metadata": {
    "slideshow": {
     "slide_type": "slide"
    }
   },
   "source": [
    "# Multiple Dispatch + Duck-typing\n",
    "\n",
    "Assume it walks like a duck and talks like a duck, and if it doesn't fix that.\n",
    "\n",
    "---\n",
    "Another closely related factor is **Open Classes.**  \n",
    "But I'm not going to talk about that today, its uninteresting.  \n",
    "You need to allow new methods to be added to existing classes, in the first place.  "
   ]
  },
  {
   "cell_type": "markdown",
   "metadata": {
    "slideshow": {
     "slide_type": "subslide"
    }
   },
   "source": [
    "Consider on might have a type from the **Ducks** library."
   ]
  },
  {
   "cell_type": "code",
   "execution_count": 3,
   "metadata": {
    "slideshow": {
     "slide_type": "fragment"
    }
   },
   "outputs": [
    {
     "data": {
      "text/plain": [
       "raise_young (generic function with 1 method)"
      ]
     },
     "execution_count": 3,
     "metadata": {},
     "output_type": "execute_result"
    }
   ],
   "source": [
    "struct Duck end\n",
    "\n",
    "walk(self) = println(\"🚶 Waddle\")\n",
    "talk(self) = println(\"🦆 Quack\")\n",
    "\n",
    "raise_young(self, child) = println(\"🐤 ➡️ 💧 Lead to water\")"
   ]
  },
  {
   "cell_type": "markdown",
   "metadata": {
    "slideshow": {
     "slide_type": "subslide"
    }
   },
   "source": [
    "and I have some code I want to run, that I wrote:"
   ]
  },
  {
   "cell_type": "code",
   "execution_count": 4,
   "metadata": {
    "slideshow": {
     "slide_type": "fragment"
    }
   },
   "outputs": [
    {
     "data": {
      "text/plain": [
       "simulate_farm (generic function with 1 method)"
      ]
     },
     "execution_count": 4,
     "metadata": {},
     "output_type": "execute_result"
    }
   ],
   "source": [
    "function simulate_farm(adult_animals, baby_animals)\n",
    "    for animal in adult_animals\n",
    "        walk(animal)\n",
    "        talk(animal)\n",
    "    end\n",
    "\n",
    "    parent = first(adult_animals)\n",
    "    for child in baby_animals\n",
    "        raise_young(parent, child)\n",
    "    end\n",
    "end"
   ]
  },
  {
   "cell_type": "code",
   "execution_count": 5,
   "metadata": {
    "slideshow": {
     "slide_type": "fragment"
    }
   },
   "outputs": [
    {
     "name": "stdout",
     "output_type": "stream",
     "text": [
      "🚶 Waddle\n",
      "🦆 Quack\n",
      "🚶 Waddle\n",
      "🦆 Quack\n",
      "🚶 Waddle\n",
      "🦆 Quack\n",
      "🐤 ➡️ 💧 Lead to water\n",
      "🐤 ➡️ 💧 Lead to water\n"
     ]
    }
   ],
   "source": [
    "simulate_farm([Duck(), Duck(), Duck()], [Duck(), Duck()])"
   ]
  },
  {
   "cell_type": "markdown",
   "metadata": {
    "slideshow": {
     "slide_type": "subslide"
    }
   },
   "source": [
    "Ok now I want to extend it with my own type. A Swan"
   ]
  },
  {
   "cell_type": "code",
   "execution_count": 7,
   "metadata": {
    "slideshow": {
     "slide_type": "fragment"
    }
   },
   "outputs": [],
   "source": [
    "struct Swan end"
   ]
  },
  {
   "cell_type": "code",
   "execution_count": 8,
   "metadata": {
    "slideshow": {
     "slide_type": "fragment"
    }
   },
   "outputs": [
    {
     "name": "stdout",
     "output_type": "stream",
     "text": [
      "🚶 Waddle\n",
      "🦆 Quack\n"
     ]
    }
   ],
   "source": [
    "# Lets test with just 1 first:\n",
    "simulate_farm([Swan()], [])"
   ]
  },
  {
   "cell_type": "markdown",
   "metadata": {
    "slideshow": {
     "slide_type": "subslide"
    }
   },
   "source": [
    "The **Waddle** was right, but Swans don't **Quack**.\n",
    "\n",
    "We did some duck-typing -- Swans walk like ducks,\n",
    "but they don't talk like ducks.\n",
    "\n",
    "\n",
    "We can solve that with **single dispatch**."
   ]
  },
  {
   "cell_type": "code",
   "execution_count": 12,
   "metadata": {
    "slideshow": {
     "slide_type": "fragment"
    }
   },
   "outputs": [
    {
     "data": {
      "text/plain": [
       "talk (generic function with 2 methods)"
      ]
     },
     "execution_count": 12,
     "metadata": {},
     "output_type": "execute_result"
    }
   ],
   "source": [
    "talk(self::Swan) = println(\"🦢 Hiss\")"
   ]
  },
  {
   "cell_type": "code",
   "execution_count": 13,
   "metadata": {
    "slideshow": {
     "slide_type": "fragment"
    }
   },
   "outputs": [
    {
     "name": "stdout",
     "output_type": "stream",
     "text": [
      "🚶 Waddle\n",
      "🦢 Hiss\n"
     ]
    }
   ],
   "source": [
    "# Lets test with just 1 first:\n",
    "simulate_farm([Swan()], [])"
   ]
  },
  {
   "cell_type": "code",
   "execution_count": 14,
   "metadata": {
    "slideshow": {
     "slide_type": "subslide"
    }
   },
   "outputs": [
    {
     "name": "stdout",
     "output_type": "stream",
     "text": [
      "🚶 Waddle\n",
      "🦢 Hiss\n",
      "🚶 Waddle\n",
      "🦢 Hiss\n",
      "🚶 Waddle\n",
      "🦢 Hiss\n",
      "🐤 ➡️ 💧 Lead to water\n",
      "🐤 ➡️ 💧 Lead to water\n"
     ]
    }
   ],
   "source": [
    "# Now the whole farm\n",
    "simulate_farm([Swan(), Swan(), Swan()], [Swan(), Swan()])"
   ]
  },
  {
   "cell_type": "markdown",
   "metadata": {
    "slideshow": {
     "slide_type": "subslide"
    }
   },
   "source": [
    "That's not right. Swans do not lead their young to water.\n",
    "\n",
    "They carry them\n",
    "\n",
    "![](https://p1.pxfuel.com/preview/695/84/40/nature-bird-swan-young-royalty-free-thumbnail.jpg)"
   ]
  },
  {
   "cell_type": "code",
   "execution_count": 16,
   "metadata": {
    "slideshow": {
     "slide_type": "fragment"
    }
   },
   "outputs": [
    {
     "data": {
      "text/plain": [
       "raise_young (generic function with 2 methods)"
      ]
     },
     "execution_count": 16,
     "metadata": {},
     "output_type": "execute_result"
    }
   ],
   "source": [
    "# Same thing again:\n",
    "raise_young(self::Swan, child::Swan) = println(\"🐤 ↗️ 🦢 Carry on back\")"
   ]
  },
  {
   "cell_type": "code",
   "execution_count": 17,
   "metadata": {
    "slideshow": {
     "slide_type": "subslide"
    }
   },
   "outputs": [
    {
     "name": "stdout",
     "output_type": "stream",
     "text": [
      "🚶 Waddle\n",
      "🦢 Hiss\n",
      "🚶 Waddle\n",
      "🦢 Hiss\n",
      "🚶 Waddle\n",
      "🦢 Hiss\n",
      "🐤 ↗️ 🦢 Carry on back\n",
      "🐤 ↗️ 🦢 Carry on back\n"
     ]
    }
   ],
   "source": [
    "# Now the whole farm\n",
    "simulate_farm([Swan(), Swan(), Swan()], [Swan(), Swan()])"
   ]
  },
  {
   "cell_type": "markdown",
   "metadata": {
    "slideshow": {
     "slide_type": "subslide"
    }
   },
   "source": [
    "Now I want a Farm with mixed poultry.\n",
    " - 2 Ducks, a Swan, and 2 baby swans"
   ]
  },
  {
   "cell_type": "code",
   "execution_count": 20,
   "metadata": {
    "slideshow": {
     "slide_type": "fragment"
    }
   },
   "outputs": [
    {
     "name": "stdout",
     "output_type": "stream",
     "text": [
      "🚶 Waddle\n",
      "🦆 Quack\n",
      "🚶 Waddle\n",
      "🦆 Quack\n",
      "🚶 Waddle\n",
      "🦢 Hiss\n",
      "🐤 ➡️ 💧 Lead to water\n",
      "🐤 ➡️ 💧 Lead to water\n"
     ]
    }
   ],
   "source": [
    "simulate_farm([Duck(), Duck(), Swan()], [Swan(), Swan()])"
   ]
  },
  {
   "cell_type": "markdown",
   "metadata": {
    "slideshow": {
     "slide_type": "subslide"
    }
   },
   "source": [
    "## Thats not right again. \n",
    "```\n",
    "🐤 ➡️ 💧 Lead to water\n",
    "```\n",
    "\n",
    "What happened?\n",
    "\n",
    "We had a Duck, raising a baby Swan, and it lead it to water.  \n",
    "\n",
    "Ducks given baby Swans to raise, will just abandon them.\n",
    "\n"
   ]
  },
  {
   "cell_type": "markdown",
   "metadata": {
    "slideshow": {
     "slide_type": "subslide"
    }
   },
   "source": [
    "But how will we code this?\n",
    "\n",
    "## Option 1: Rewrite the Duck\n",
    "\n",
    "```julia\n",
    "function raise_young(self::Duck, child::Any)\n",
    "    if child isa Swan\n",
    "        println(\"🐤😢 Abandon\")\n",
    "    else\n",
    "        println(\"🐤 ➡️ 💧 Lead to water\")\n",
    "    end\n",
    "end\n",
    "```"
   ]
  },
  {
   "cell_type": "markdown",
   "metadata": {
    "slideshow": {
     "slide_type": "subslide"
    }
   },
   "source": [
    "### Rewriting the Duck has problems\n",
    " - Have to edit someone elses library, to add support for *my* type.\n",
    " - This could mean adding a lot of code for them to maintain\n",
    " - Does not scale, what if other people wanted to add Chickens, Geese etc.\n",
    " \n",
    "#### Varient: Monkey-patch\n",
    " - If the language supports monkey patching, could do it that way\n",
    " - but it means copying their code into my library, will run in to issues like not being able to update.\n",
    " - Scaled to other people adding new types even worse, since no longer a central canonical source to copy\n",
    " \n",
    "#### Varient: could fork their code\n",
    " - That is giving up on code reuse."
   ]
  },
  {
   "cell_type": "markdown",
   "metadata": {
    "slideshow": {
     "slide_type": "subslide"
    }
   },
   "source": [
    "## Option 2: Inherit from the Duck\n",
    "\n",
    "(NB: this example is not valid julia code)\n",
    "```julia\n",
    "struct DuckWithSwanSupport <: Duck end\n",
    "\n",
    "function raise_young(self::DuckWithSwanSupport, child::Any)\n",
    "    if child isa Swan\n",
    "        println(\"🐤😢 Abandon\")\n",
    "    else\n",
    "        raise_young(upcast(Duck, self), child)\n",
    "    end\n",
    "end\n",
    "```"
   ]
  },
  {
   "cell_type": "markdown",
   "metadata": {
    "slideshow": {
     "slide_type": "subslide"
    }
   },
   "source": [
    "### Inheriting from the Duck has problems:\n",
    " - Have to replace every `Duck` in my code-base with `DuckWithSwanSupport`\n",
    " - If I am using other libraries that might return a `Duck` I have to deal with that also\n",
    "\n",
    "#### Still does not scale.\n",
    "If someone else implements `DuckWithChickenSupport`, and I want to use both there code and mine, what do?\n",
    " - Inherit from both? `DuckWithChickenAndSwanSupport`\n",
    " - This is the classic multiple inheritance Diamond problem.\n",
    " - It's hard. Even in languages supporting multiple inheritance, they may not support it in a useful way for this without me writing special cases for many things."
   ]
  },
  {
   "cell_type": "markdown",
   "metadata": {
    "slideshow": {
     "slide_type": "subslide"
    }
   },
   "source": [
    "### Option 3: Multiple Dispatch\n",
    "\n",
    "This is clean and easy:"
   ]
  },
  {
   "cell_type": "code",
   "execution_count": 26,
   "metadata": {
    "slideshow": {
     "slide_type": "fragment"
    }
   },
   "outputs": [
    {
     "data": {
      "text/plain": [
       "raise_young (generic function with 3 methods)"
      ]
     },
     "execution_count": 26,
     "metadata": {},
     "output_type": "execute_result"
    }
   ],
   "source": [
    "raise_young(parent::Duck, child::Swan) = println(\"🐤😢 Abandon\")"
   ]
  },
  {
   "cell_type": "code",
   "execution_count": 27,
   "metadata": {
    "slideshow": {
     "slide_type": "fragment"
    }
   },
   "outputs": [
    {
     "name": "stdout",
     "output_type": "stream",
     "text": [
      "🚶 Waddle\n",
      "🦆 Quack\n",
      "🚶 Waddle\n",
      "🦆 Quack\n",
      "🚶 Waddle\n",
      "🦢 Hiss\n",
      "🐤😢 Abandon\n",
      "🐤😢 Abandon\n"
     ]
    }
   ],
   "source": [
    "simulate_farm([Duck(), Duck(), Swan()], [Swan(), Swan()])"
   ]
  },
  {
   "cell_type": "markdown",
   "metadata": {
    "slideshow": {
     "slide_type": "slide"
    }
   },
   "source": [
    "# We will now take a short break\n",
    "\n",
    "<img src=\"./swanbreak2.jpg\" height=\"600\"/>"
   ]
  },
  {
   "cell_type": "markdown",
   "metadata": {
    "slideshow": {
     "slide_type": "slide"
    }
   },
   "source": [
    "## But does this happen in the wild?\n",
    "\n",
    "Turns out it does.\n",
    "\n",
    "The need to extend operations to act on new combinations of types shows up all the time in scientific computing.  \n",
    "I suspect it shows up more generally, but we've learned to ignore it.  \n"
   ]
  },
  {
   "cell_type": "markdown",
   "metadata": {
    "slideshow": {
     "slide_type": "subslide"
    }
   },
   "source": [
    "\n",
    "If you look at a list of BLAS, methods you will see just this, encoded in the function name\n",
    "E.g.\n",
    " - `SGEMM` - matrix matrix multiply\n",
    " - `SSYMM` - symmetric-matrix matrix multiply\n",
    " - ...\n",
    " - `ZHBMV` - complex hermitian-banded-matrix vector multiply "
   ]
  },
  {
   "cell_type": "markdown",
   "metadata": {
    "slideshow": {
     "slide_type": "subslide"
    }
   },
   "source": [
    "And turns out people keep wanting to make more and more matrix types."
   ]
  },
  {
   "cell_type": "code",
   "execution_count": 42,
   "metadata": {
    "slideshow": {
     "slide_type": "skip"
    }
   },
   "outputs": [
    {
     "name": "stdout",
     "output_type": "stream",
     "text": [
      "\u001b[32m\u001b[1mActivating\u001b[22m\u001b[39m environment at `~/Documents/oxinabox.github.io/_drafts/JuliaCompositionalWhy/Project.toml`\n"
     ]
    }
   ],
   "source": [
    "using Pkg\n",
    "Pkg.pkg\"activate .\"\n",
    "#Pkg.pkg\"add BlockArrays BlockBandedMatrices BandedMatrices\"\n",
    "using BlockArrays, BlockBandedMatrices, LinearAlgebra, BandedMatrices, SparseArrays\n",
    "l,u = 2,1          # block bandwidths\n",
    "λ,μ = 1,2          # sub-block bandwidths: the bandwidths of each block\n",
    "N = M = 4          # number of row/column blocks\n",
    "cols = rows = 1:N; # block sizes"
   ]
  },
  {
   "cell_type": "code",
   "execution_count": 75,
   "metadata": {
    "slideshow": {
     "slide_type": "subslide"
    }
   },
   "outputs": [
    {
     "data": {
      "text/plain": [
       "3×3-blocked 12×12 BlockArray{Bool,2,Array{SparseMatrixCSC{Bool,Int64},2},Tuple{BlockedUnitRange{Array{Int64,1}},BlockedUnitRange{Array{Int64,1}}}}:\n",
       " 1  0  0  0  │  0  1  0  0  │  1  0  0  0\n",
       " 0  1  1  1  │  1  1  1  1  │  1  1  0  0\n",
       " 0  0  1  0  │  1  0  0  0  │  1  0  0  1\n",
       " 0  0  0  0  │  0  0  1  0  │  1  0  0  0\n",
       " ────────────┼──────────────┼────────────\n",
       " 1  0  0  0  │  1  1  0  0  │  1  1  0  1\n",
       " 0  1  1  1  │  1  1  1  0  │  0  1  0  0\n",
       " 0  1  0  1  │  1  0  0  0  │  0  1  1  0\n",
       " 1  0  0  0  │  0  0  1  1  │  1  1  0  0\n",
       " ────────────┼──────────────┼────────────\n",
       " 0  0  1  0  │  1  1  0  0  │  0  0  1  0\n",
       " 1  0  0  0  │  0  0  0  0  │  0  1  1  0\n",
       " 0  1  0  0  │  1  0  0  0  │  1  0  1  1\n",
       " 1  1  0  1  │  0  1  1  1  │  0  1  1  1"
      ]
     },
     "execution_count": 75,
     "metadata": {},
     "output_type": "execute_result"
    }
   ],
   "source": [
    "b = BlockArray(0.5.<sprand(3*4,3*4,0.9), [4,4,4],[4,4,4])"
   ]
  },
  {
   "cell_type": "code",
   "execution_count": 65,
   "metadata": {
    "slideshow": {
     "slide_type": "subslide"
    }
   },
   "outputs": [
    {
     "data": {
      "text/plain": [
       "10×10 BandedMatrix{Int64,Array{Int64,2},Base.OneTo{Int64}}:\n",
       " 1  1  ⋅  ⋅  ⋅  ⋅  ⋅  ⋅  ⋅  ⋅\n",
       " 1  1  1  ⋅  ⋅  ⋅  ⋅  ⋅  ⋅  ⋅\n",
       " 1  1  1  1  ⋅  ⋅  ⋅  ⋅  ⋅  ⋅\n",
       " ⋅  1  1  1  1  ⋅  ⋅  ⋅  ⋅  ⋅\n",
       " ⋅  ⋅  1  1  1  1  ⋅  ⋅  ⋅  ⋅\n",
       " ⋅  ⋅  ⋅  1  1  1  1  ⋅  ⋅  ⋅\n",
       " ⋅  ⋅  ⋅  ⋅  1  1  1  1  ⋅  ⋅\n",
       " ⋅  ⋅  ⋅  ⋅  ⋅  1  1  1  1  ⋅\n",
       " ⋅  ⋅  ⋅  ⋅  ⋅  ⋅  1  1  1  1\n",
       " ⋅  ⋅  ⋅  ⋅  ⋅  ⋅  ⋅  1  1  1"
      ]
     },
     "execution_count": 65,
     "metadata": {},
     "output_type": "execute_result"
    }
   ],
   "source": [
    "# creates a banded matrix of 8, with l sub-diagonals and u super-diagonals\n",
    "BandedMatrix(Ones{Int}(10,10), (l,u))"
   ]
  },
  {
   "cell_type": "code",
   "execution_count": 59,
   "metadata": {
    "slideshow": {
     "slide_type": "subslide"
    }
   },
   "outputs": [
    {
     "data": {
      "text/plain": [
       "4×4-blocked 10×10 BlockSkylineMatrix{Int64,Array{Int64,1},BlockBandedMatrices.BlockSkylineSizes{Tuple{BlockedUnitRange{Array{Int64,1}},BlockedUnitRange{Array{Int64,1}}},Fill{Int64,1,Tuple{Base.OneTo{Int64}}},Fill{Int64,1,Tuple{Base.OneTo{Int64}}},BandedMatrix{Int64,Array{Int64,2},Base.OneTo{Int64}},Array{Int64,1}}}:\n",
       " 1  │  1  1  │  ⋅  ⋅  ⋅  │  ⋅  ⋅  ⋅  ⋅\n",
       " ───┼────────┼───────────┼────────────\n",
       " 1  │  1  1  │  1  1  1  │  ⋅  ⋅  ⋅  ⋅\n",
       " 1  │  1  1  │  1  1  1  │  ⋅  ⋅  ⋅  ⋅\n",
       " ───┼────────┼───────────┼────────────\n",
       " 1  │  1  1  │  1  1  1  │  1  1  1  1\n",
       " 1  │  1  1  │  1  1  1  │  1  1  1  1\n",
       " 1  │  1  1  │  1  1  1  │  1  1  1  1\n",
       " ───┼────────┼───────────┼────────────\n",
       " ⋅  │  1  1  │  1  1  1  │  1  1  1  1\n",
       " ⋅  │  1  1  │  1  1  1  │  1  1  1  1\n",
       " ⋅  │  1  1  │  1  1  1  │  1  1  1  1\n",
       " ⋅  │  1  1  │  1  1  1  │  1  1  1  1"
      ]
     },
     "execution_count": 59,
     "metadata": {},
     "output_type": "execute_result"
    }
   ],
   "source": [
    "# creates a block-banded matrix with ones in the non-zero entries\n",
    "x = BlockBandedMatrix(Ones{Int}(sum(rows),sum(cols)), rows,cols, (l,u))"
   ]
  },
  {
   "cell_type": "code",
   "execution_count": 60,
   "metadata": {
    "slideshow": {
     "slide_type": "subslide"
    }
   },
   "outputs": [
    {
     "data": {
      "text/plain": [
       "4×4-blocked 10×10 BandedBlockBandedMatrix{Int64,PseudoBlockArray{Int64,2,Array{Int64,2},Tuple{BlockedUnitRange{Array{Int64,1}},BlockedUnitRange{Array{Int64,1}}}},BlockedUnitRange{Array{Int64,1}}}:\n",
       " 1  │  1  1  │  ⋅  ⋅  ⋅  │  ⋅  ⋅  ⋅  ⋅\n",
       " ───┼────────┼───────────┼────────────\n",
       " 1  │  1  1  │  1  1  1  │  ⋅  ⋅  ⋅  ⋅\n",
       " 1  │  1  1  │  1  1  1  │  ⋅  ⋅  ⋅  ⋅\n",
       " ───┼────────┼───────────┼────────────\n",
       " 1  │  1  1  │  1  1  1  │  1  1  1  ⋅\n",
       " 1  │  1  1  │  1  1  1  │  1  1  1  1\n",
       " ⋅  │  ⋅  1  │  ⋅  1  1  │  ⋅  1  1  1\n",
       " ───┼────────┼───────────┼────────────\n",
       " ⋅  │  1  1  │  1  1  1  │  1  1  1  ⋅\n",
       " ⋅  │  1  1  │  1  1  1  │  1  1  1  1\n",
       " ⋅  │  ⋅  1  │  ⋅  1  1  │  ⋅  1  1  1\n",
       " ⋅  │  ⋅  ⋅  │  ⋅  ⋅  1  │  ⋅  ⋅  1  1"
      ]
     },
     "execution_count": 60,
     "metadata": {},
     "output_type": "execute_result"
    }
   ],
   "source": [
    "# creates a banded-block-banded matrix with 8 in the non-zero entries\n",
    "y = BandedBlockBandedMatrix(Ones{Int}(sum(rows),sum(cols)), rows,cols, (l,u), (λ,μ))"
   ]
  },
  {
   "cell_type": "markdown",
   "metadata": {
    "slideshow": {
     "slide_type": "subslide"
    }
   },
   "source": [
    "And that is before other things you might like to to to a Matrix, which you'd like to encode in its type:\n",
    " - Running on a GPU\n",
    " - Tracking Operations for AutoDiff\n",
    " - Naming dimensions, for easy lookup\n",
    " - Distributing over a cluster"
   ]
  },
  {
   "cell_type": "markdown",
   "metadata": {
    "slideshow": {
     "slide_type": "subslide"
    }
   },
   "source": [
    "These are all important and show up in crucial applications.  \n",
    "When you start applying things across disciplines, they show up even more.  \n",
    "Like advancements in Neural Differential Equations, which needs:\n",
    "\n",
    " - all the types machine learning research has invented,\n",
    " - and all the types differential equation solving research has invented,\n",
    "\n",
    "and wants to use them together.\n",
    "\n",
    "So its not a reasonable thing for a numerical language to say that they've enumerated all the matrix types you might ever need."
   ]
  },
  {
   "cell_type": "markdown",
   "metadata": {
    "slideshow": {
     "slide_type": "slide"
    }
   },
   "source": [
    "## Inserting a human into the JIT\n",
    "\n",
    "### Basic functionality of an Tracing JIT:\n",
    "\n",
    " - Detect important cases via tracing\n",
    " - Compile specialized methods for them\n",
    "\n",
    "This is called specialization.\n",
    "\n",
    "### Basic functionalitionality of Julia's JIT:\n",
    " - Specialize all methods on all types that they are called on as they are called\n",
    " \n",
    "This is pretty good: its a reasonable assumption that the types are going to an important case.\n",
    "\n",
    "### What does multiple dispatch add ontop of Julia's JIT?\n",
    "\n",
    "It lets a human tell it how that specialization should be done.  \n",
    "Which can add a lot of information."
   ]
  },
  {
   "cell_type": "markdown",
   "metadata": {
    "slideshow": {
     "slide_type": "subslide"
    }
   },
   "source": [
    "### Consider Matrix multiplication.\n",
    "\n",
    "We have"
   ]
  },
  {
   "cell_type": "markdown",
   "metadata": {
    "slideshow": {
     "slide_type": "fragment"
    }
   },
   "source": [
    "- `*(::Dense, ::Dense)`:\n",
    "    - multiply rows by columns and sum.\n",
    "    - Takes $O(n^3)$ time\n"
   ]
  },
  {
   "cell_type": "markdown",
   "metadata": {
    "slideshow": {
     "slide_type": "fragment"
    }
   },
   "source": [
    " - `*(::Dense, ::Diagonal)` or `*(::Diagonal, ::Dense)`: \n",
    "    - column-wise/row-wise scaling. \n",
    "    - $O(n^2)$ time.\n"
   ]
  },
  {
   "cell_type": "markdown",
   "metadata": {
    "slideshow": {
     "slide_type": "fragment"
    }
   },
   "source": [
    " - `*(::OneHot, ::Dense)` or `*(::Dense, ::OneHot)`:\n",
    "    - column-wise/row-wise slicing. \n",
    "    - $O(n)$ time.\n"
   ]
  },
  {
   "cell_type": "markdown",
   "metadata": {
    "slideshow": {
     "slide_type": "fragment"
    }
   },
   "source": [
    " - `*(::Identity, ::Dense)` or `*(::Dense, ::Identity)`: \n",
    "    - no change. \n",
    "    - $O(1)$ time."
   ]
  },
  {
   "cell_type": "markdown",
   "metadata": {
    "slideshow": {
     "slide_type": "subslide"
    }
   },
   "source": [
    "\n",
    "### Anyone can have basic fast array processing by throwing the problem to BLAS, or a GPU.\n",
    "\n",
    "But not everyone has Array types that are parametric on their scalar types;\n",
    "and the ability to be equally fast in both.\n",
    "\n",
    "Without this, your array code, and your scalar code can not be disentangled.\n",
    "\n",
    "BLAS for example does not have this.  \n",
    "It has a unique code for each combination of scalar and matrix type.\n",
    "\n",
    "With this seperation, one can add new scalar types:\n",
    " - Dual numbers\n",
    " - Measument Error tracking numbers\n",
    " - Symbolic Algebra numbers\n",
    "\n",
    "Without ever having to touch array code, except as a late-stage optimization.\n",
    "\n",
    "Otherwise, one needs to implement array support into one's scalars, to have reasonable performance at all."
   ]
  },
  {
   "cell_type": "markdown",
   "metadata": {
    "slideshow": {
     "slide_type": "slide"
    }
   },
   "source": [
    "People need to invent new languages.\n",
    "Its a good time to be inventing new languages.\n",
    "It's good for the world.\n",
    "\n",
    "\n",
    "I’ld just really like those new languages to please have:\n",
    " - multiple dispatch\n",
    " - open classes, so you can add methods to things.\n",
    " - array types that are parametric on their scalar types, at the type level\n",
    " - A package management solution built-in, that everyone uses."
   ]
  }
 ],
 "metadata": {
  "@webio": {
   "lastCommId": null,
   "lastKernelId": null
  },
  "celltoolbar": "Slideshow",
  "kernelspec": {
   "display_name": "Julia 1.3.0",
   "language": "julia",
   "name": "julia-1.3"
  },
  "language_info": {
   "file_extension": ".jl",
   "mimetype": "application/julia",
   "name": "julia",
   "version": "1.3.2"
  }
 },
 "nbformat": 4,
 "nbformat_minor": 2
}
