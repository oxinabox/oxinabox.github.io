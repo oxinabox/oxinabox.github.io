{
 "cells": [
  {
   "cell_type": "markdown",
   "metadata": {
    "slideshow": {
     "slide_type": "slide"
    }
   },
   "source": [
    "# The Emergent Features of JuliaLang\n",
    "<img src=\"https://github.com/JuliaLang/julia-logo-graphics/raw/master/images/julia-logo-color.png\" style=\"display: inline\"></img>\n",
    "\n",
    "## Lyndon White (@oxinabox)\n",
    "Research Software Engineer   \n",
    "<img  width=\"256\" src=\"https://www.invenia.ca/wp-content/themes/relish_theme/img/labs-logo.png\" />"
   ]
  },
  {
   "cell_type": "markdown",
   "metadata": {
    "slideshow": {
     "slide_type": "slide"
    }
   },
   "source": [
    "### Some features were not planned, but simply emerged from the combinations of other features.\n",
    "\n",
    "I will show you how these features are implemented:\n",
    "\n",
    " - ✅ Unit synatic sugar (`2kg`)\n",
    " - ✅ Traits\n",
    " - ❌ pseudo-OO objects with public/private methods\n",
    " - ❌ Dynamic Source Tranformation / Custom Compiler Passes (Cassette) \n",
    " \n",
    "Some of these you should do (✅) when appropriate,  \n",
    "others are rarely approriate (❌) but are interesting to understand how things work"
   ]
  },
  {
   "cell_type": "markdown",
   "metadata": {
    "slideshow": {
     "slide_type": "slide"
    }
   },
   "source": [
    "## ✖️ Juxtaposition multiplication, convenient syntax for Units\n",
    "\n",
    " - Unitful is really cool\n",
    " - units can protect you against artithmatic mistakes\n",
    " - You get to write `2m` for 2 meters, and units are use\n",
    " - It is not magic"
   ]
  },
  {
   "cell_type": "code",
   "execution_count": 112,
   "metadata": {
    "slideshow": {
     "slide_type": "subslide"
    }
   },
   "outputs": [
    {
     "data": {
      "text/plain": [
       "1 N"
      ]
     },
     "execution_count": 112,
     "metadata": {},
     "output_type": "execute_result"
    }
   ],
   "source": [
    "using Unitful.DefaultSymbols\n",
    "\n",
    "1N"
   ]
  },
  {
   "cell_type": "code",
   "execution_count": 113,
   "metadata": {
    "slideshow": {
     "slide_type": "fragment"
    }
   },
   "outputs": [
    {
     "data": {
      "text/plain": [
       "2 m^2"
      ]
     },
     "execution_count": 113,
     "metadata": {},
     "output_type": "execute_result"
    }
   ],
   "source": [
    "1m * 2m"
   ]
  },
  {
   "cell_type": "code",
   "execution_count": 114,
   "metadata": {
    "slideshow": {
     "slide_type": "fragment"
    }
   },
   "outputs": [
    {
     "data": {
      "text/plain": [
       "150.0 kg m s^-2"
      ]
     },
     "execution_count": 114,
     "metadata": {},
     "output_type": "execute_result"
    }
   ],
   "source": [
    "10kg * 15m / 1s^2"
   ]
  },
  {
   "cell_type": "code",
   "execution_count": 115,
   "metadata": {
    "slideshow": {
     "slide_type": "fragment"
    }
   },
   "outputs": [
    {
     "data": {
      "text/plain": [
       "true"
      ]
     },
     "execution_count": 115,
     "metadata": {},
     "output_type": "execute_result"
    }
   ],
   "source": [
    "150N == 10kg * 15m / 1s^2 "
   ]
  },
  {
   "cell_type": "markdown",
   "metadata": {
    "slideshow": {
     "slide_type": "subslide"
    }
   },
   "source": [
    "### 🖼🗿✖️ Juxtaposition Multiplication\n",
    " - A literal number placed before an expression results in multiplication"
   ]
  },
  {
   "cell_type": "code",
   "execution_count": 116,
   "metadata": {
    "slideshow": {
     "slide_type": "fragment"
    }
   },
   "outputs": [
    {
     "data": {
      "text/plain": [
       "1.5707963267948966"
      ]
     },
     "execution_count": 116,
     "metadata": {},
     "output_type": "execute_result"
    }
   ],
   "source": [
    "x = 0.5π"
   ]
  },
  {
   "cell_type": "code",
   "execution_count": 117,
   "metadata": {
    "slideshow": {
     "slide_type": "fragment"
    }
   },
   "outputs": [
    {
     "data": {
      "text/plain": [
       "2.0"
      ]
     },
     "execution_count": 117,
     "metadata": {},
     "output_type": "execute_result"
    }
   ],
   "source": [
    "2sin(x)"
   ]
  },
  {
   "cell_type": "markdown",
   "metadata": {
    "slideshow": {
     "slide_type": "subslide"
    }
   },
   "source": [
    "### 🤔𐄷 How do we use this to make Units work?\n",
    " - We just need to overload multiplication\n",
    " - In particular we will overload the multiplication with the constructor"
   ]
  },
  {
   "cell_type": "code",
   "execution_count": 118,
   "metadata": {
    "slideshow": {
     "slide_type": "subslide"
    }
   },
   "outputs": [],
   "source": [
    "abstract type Unit end\n",
    "struct Meter{T} <: Unit\n",
    "    val::T\n",
    "end\n",
    "\n",
    "Base.:*(x::Any, unit::Type{<:Unit}) = unit(x)"
   ]
  },
  {
   "cell_type": "markdown",
   "metadata": {
    "slideshow": {
     "slide_type": "subslide"
    }
   },
   "source": [
    "#### 🍧 Now we have our own units-style syntactic sugar"
   ]
  },
  {
   "cell_type": "code",
   "execution_count": 119,
   "metadata": {
    "slideshow": {
     "slide_type": "fragment"
    }
   },
   "outputs": [
    {
     "data": {
      "text/plain": [
       "Meter{Int64}(4)"
      ]
     },
     "execution_count": 119,
     "metadata": {},
     "output_type": "execute_result"
    }
   ],
   "source": [
    "4Meter"
   ]
  },
  {
   "cell_type": "code",
   "execution_count": 120,
   "metadata": {
    "slideshow": {
     "slide_type": "fragment"
    }
   },
   "outputs": [
    {
     "data": {
      "text/plain": [
       "Meter{Float64}(5.1)"
      ]
     },
     "execution_count": 120,
     "metadata": {},
     "output_type": "execute_result"
    }
   ],
   "source": [
    "5.1Meter"
   ]
  },
  {
   "cell_type": "markdown",
   "metadata": {
    "slideshow": {
     "slide_type": "slide"
    }
   },
   "source": [
    "# ✍️ Traits\n",
    " - (single) inheritances is a gun with only one bullet\n",
    " - Once you have a super-type, you can't have another\n",
    " - Traits are one method of multiple inheritance\n",
    " - They can be implemented using functions of types.\n",
    " \n",
    "This is based on [a blog post I wrote a while back explaining traits](https://white.ucc.asn.au/2018/10/03/Dispatch,-Traits-and-Metaprogramming-Over-Reflection.html#part-2-aslist-including-using-traits)"
   ]
  },
  {
   "cell_type": "markdown",
   "metadata": {
    "slideshow": {
     "slide_type": "subslide"
    }
   },
   "source": [
    "### 🙊 Some times people say julia doesn't have traits\n",
    " - Julia doesn't have syntatic sugar for traits\n",
    " - Julia doesn't have ubiqutious traits\n",
    " - But: traits are use in Base julia for iterators: `IteratorSize` and `IteratorEltype`."
   ]
  },
  {
   "cell_type": "markdown",
   "metadata": {
    "slideshow": {
     "slide_type": "subslide"
    }
   },
   "source": [
    "### 🙋🏻‍♂️ These are commonly called (Tim) Holy traits.\n",
    "<img src=\"https://avatars1.githubusercontent.com/u/1525481?s=160&v=4\"/>"
   ]
  },
  {
   "cell_type": "markdown",
   "metadata": {
    "slideshow": {
     "slide_type": "subslide"
    }
   },
   "source": [
    "### 👨‍👨‍👦‍👦 Different ways to implement traits\n",
    "There are a few different ways to implement them, though all are broadly similar.\n",
    " - We're going to talk about the way based-on concrete types.\n",
    " - But you can do similar with `Type{<:SomeAbstractType}`, (Ugly, but flexible).\n",
    " - or even with values if they constant fold (like bools) particularly if you are happy to wrap them in `Val` when you want to dispatch on them."
   ]
  },
  {
   "cell_type": "markdown",
   "metadata": {
    "slideshow": {
     "slide_type": "subslide"
    }
   },
   "source": [
    "### 🐍 AsList\n",
    "In Python TensorFlow, these is a helper function, `_AsList`:\n",
    "\n",
    "```python\n",
    "def _AsList(x):\n",
    "    return x if isinstance(x, (list, tuple)) else [x]\n",
    "```\n",
    "\n",
    " - Supposed to converts scalars to single item lists. \n",
    " - Useful. E.g. for only needing to write code that deals with lists.\n",
    " \n",
    "(Not really idiomatic python code, but eh TensorFlow uses it.   \n",
    "Should have just called `list(x)`, or fully trusted the 🦆s)"
   ]
  },
  {
   "cell_type": "markdown",
   "metadata": {
    "slideshow": {
     "slide_type": "subslide"
    }
   },
   "source": [
    "### 😨 AsList fails for numpy arrays\n",
    "```python\n",
    ">>> _AsList(np.asarray([1,2,3]))\n",
    "[array([1, 2, 3])]\n",
    "```"
   ]
  },
  {
   "cell_type": "markdown",
   "metadata": {
    "slideshow": {
     "slide_type": "subslide"
    }
   },
   "source": [
    "### 🔨 Fix it?\n",
    "\n",
    "```python\n",
    "def _AsList(x):\n",
    "    return x if isinstance(x, (list, tuple, np.ndarray)) else [x]\n",
    "```\n",
    "\n",
    "**But where will it end?**  \n",
    "**What if other packages want to extend this?**  \n",
    "**What about other functions that also depend on is something is a list or not?**\n"
   ]
  },
  {
   "cell_type": "markdown",
   "metadata": {
    "slideshow": {
     "slide_type": "subslide"
    }
   },
   "source": [
    "### ☑️✅ Answer: Traits\n",
    "\n",
    " - Traits let you mark types as having particular properties\n",
    " - In julia in particular you can dispatch on these traits\n",
    " - and often they will compile out of existance (due to static dispatch)\n",
    "\n",
    " - ⚠️ At some point you do have to document what properties a trait requires   \n",
    " (e.g. what methods must be implemented)\n"
   ]
  },
  {
   "cell_type": "markdown",
   "metadata": {
    "slideshow": {
     "slide_type": "subslide"
    }
   },
   "source": [
    "### ➕🙂  Advantages of Traits\n",
    " - You can do this after the type is declared (unlike a supertype)\n",
    " - You don't have to do it upfront and can add new types later (unike a `Union`)\n",
    " - and you can have otherwise unrelated types (unlike a supertype)\n",
    " "
   ]
  },
  {
   "cell_type": "markdown",
   "metadata": {
    "slideshow": {
     "slide_type": "subslide"
    }
   },
   "source": [
    "### 🧩 Traits have a few parts: \n",
    " - The trait types: these are the different traits a type can have\n",
    " - The trait function: this tells you what traits a type has\n",
    " - Trait dispatch: using the traits"
   ]
  },
  {
   "cell_type": "markdown",
   "metadata": {
    "slideshow": {
     "slide_type": "subslide"
    }
   },
   "source": [
    "### ⌨️ 📇 The type of types\n",
    " - Types are values, and so themselves have a type (`DataType`).\n",
    " - Though, they also act like `T<:Type{T}`\n",
    " \n",
    "```julia\n",
    "typeof(String) = DataType\n",
    "String isa Type{String} = true\n",
    "String isa Type{<:AbstractString} = true\n",
    "```\n",
    "\n",
    "We can dispatch on this and have it resolve at compile-time"
   ]
  },
  {
   "cell_type": "markdown",
   "metadata": {
    "slideshow": {
     "slide_type": "subslide"
    }
   },
   "source": [
    "### 🔪⌨️ Trait Type\n",
    "This is the type that is used to make having the particular trait.\n",
    " \n",
    "We will consider a trait that highlights the properties of a type for statistical modeling.   \n",
    "Like MLJ's Sci-type, or StatsModels schema."
   ]
  },
  {
   "cell_type": "code",
   "execution_count": 36,
   "metadata": {
    "slideshow": {
     "slide_type": "fragment"
    }
   },
   "outputs": [],
   "source": [
    "abstract type StatQualia end\n",
    "\n",
    "struct Continuous <: StatQualia end\n",
    "struct Ordinal <: StatQualia end\n",
    "struct Categorical <: StatQualia end\n",
    "struct Normable <: StatQualia end"
   ]
  },
  {
   "cell_type": "markdown",
   "metadata": {
    "slideshow": {
     "slide_type": "subslide"
    }
   },
   "source": [
    "## 🔪➡️ Trait function\n",
    "The trait function take a type as input, and returns an instance of the trait type.  \n",
    "This is how we declare what traits something has.\n"
   ]
  },
  {
   "cell_type": "code",
   "execution_count": 121,
   "metadata": {
    "slideshow": {
     "slide_type": "fragment"
    }
   },
   "outputs": [
    {
     "data": {
      "text/plain": [
       "statqualia (generic function with 16 methods)"
      ]
     },
     "execution_count": 121,
     "metadata": {},
     "output_type": "execute_result"
    }
   ],
   "source": [
    "statqualia(::Type{<:AbstractFloat}) = Continuous()\n",
    "statqualia(::Type{<:Integer}) = Ordinal()\n",
    "\n",
    "statqualia(::Type{<:Bool}) = Categorical()\n",
    "statqualia(::Type{<:AbstractString}) = Categorical()\n",
    "\n",
    "statqualia(::Type{<:Complex}) = Normable()"
   ]
  },
  {
   "cell_type": "markdown",
   "metadata": {
    "slideshow": {
     "slide_type": "subslide"
    }
   },
   "source": [
    "### 🏁 Using our traits\n",
    "To use a trait we need to re-dispatch upon it."
   ]
  },
  {
   "cell_type": "code",
   "execution_count": 70,
   "metadata": {
    "slideshow": {
     "slide_type": "fragment"
    }
   },
   "outputs": [
    {
     "data": {
      "text/plain": [
       "bounds (generic function with 4 methods)"
      ]
     },
     "execution_count": 70,
     "metadata": {},
     "output_type": "execute_result"
    }
   ],
   "source": [
    "using LinearAlgebra\n",
    "bounds(xs::AbstractVector{T}) where T = bounds(statqualia(T), xs)\n",
    "\n",
    "bounds(::Categorical, xs) = unique(xs)\n",
    "bounds(::Normable, xs) = maximum(norm.(xs))\n",
    "bounds(::Union{Ordinal, Continuous}, xs) = extrema(xs)"
   ]
  },
  {
   "cell_type": "code",
   "execution_count": 71,
   "metadata": {
    "slideshow": {
     "slide_type": "subslide"
    }
   },
   "outputs": [
    {
     "data": {
      "text/plain": [
       "1-element Array{Bool,1}:\n",
       " false"
      ]
     },
     "execution_count": 71,
     "metadata": {},
     "output_type": "execute_result"
    }
   ],
   "source": [
    "bounds([false, false])"
   ]
  },
  {
   "cell_type": "code",
   "execution_count": 72,
   "metadata": {
    "slideshow": {
     "slide_type": "fragment"
    }
   },
   "outputs": [
    {
     "data": {
      "text/plain": [
       "(1, 3)"
      ]
     },
     "execution_count": 72,
     "metadata": {},
     "output_type": "execute_result"
    }
   ],
   "source": [
    "bounds([1,2,3])"
   ]
  },
  {
   "cell_type": "code",
   "execution_count": 73,
   "metadata": {
    "slideshow": {
     "slide_type": "fragment"
    }
   },
   "outputs": [
    {
     "data": {
      "text/plain": [
       "4.47213595499958"
      ]
     },
     "execution_count": 73,
     "metadata": {},
     "output_type": "execute_result"
    }
   ],
   "source": [
    "bounds([1+1im, -2+4im, 0+-2im])"
   ]
  },
  {
   "cell_type": "code",
   "execution_count": 74,
   "metadata": {
    "slideshow": {
     "slide_type": "fragment"
    }
   },
   "outputs": [
    {
     "data": {
      "text/plain": [
       "4.47213595499958"
      ]
     },
     "execution_count": 74,
     "metadata": {},
     "output_type": "execute_result"
    }
   ],
   "source": [
    "statqualia(::Type{<:AbstractVector}) = Normable()\n",
    "\n",
    "bounds([[1,1], [-2,4], [0,-2]])"
   ]
  },
  {
   "cell_type": "markdown",
   "metadata": {
    "slideshow": {
     "slide_type": "subslide"
    }
   },
   "source": [
    "### 🔙 🐍 So back to `AsList`"
   ]
  },
  {
   "cell_type": "code",
   "execution_count": 91,
   "metadata": {
    "slideshow": {
     "slide_type": "fragment"
    }
   },
   "outputs": [
    {
     "data": {
      "text/plain": [
       "islist (generic function with 5 methods)"
      ]
     },
     "execution_count": 91,
     "metadata": {},
     "output_type": "execute_result"
    }
   ],
   "source": [
    "struct List end\n",
    "struct Nonlist end\n",
    "\n",
    "islist(::Type{<:AbstractVector}) = List()\n",
    "islist(::Type{<:Tuple}) = List()\n",
    "islist(::Type{<:Number}) = Nonlist()"
   ]
  },
  {
   "cell_type": "markdown",
   "metadata": {
    "slideshow": {
     "slide_type": "subslide"
    }
   },
   "source": [
    "### 🔀 Define our trait dispatch:"
   ]
  },
  {
   "cell_type": "code",
   "execution_count": 87,
   "metadata": {
    "slideshow": {
     "slide_type": "fragment"
    }
   },
   "outputs": [
    {
     "data": {
      "text/plain": [
       "aslist (generic function with 3 methods)"
      ]
     },
     "execution_count": 87,
     "metadata": {},
     "output_type": "execute_result"
    }
   ],
   "source": [
    "aslist(x::T) where T = aslist(islist(T), x)\n",
    "aslist(::List, x) = x\n",
    "aslist(::Nonlist, x) = [x]"
   ]
  },
  {
   "cell_type": "code",
   "execution_count": 88,
   "metadata": {
    "slideshow": {
     "slide_type": "fragment"
    }
   },
   "outputs": [
    {
     "data": {
      "text/plain": [
       "1-element Array{Int64,1}:\n",
       " 1"
      ]
     },
     "execution_count": 88,
     "metadata": {},
     "output_type": "execute_result"
    }
   ],
   "source": [
    "aslist(1)"
   ]
  },
  {
   "cell_type": "code",
   "execution_count": 92,
   "metadata": {
    "slideshow": {
     "slide_type": "fragment"
    }
   },
   "outputs": [
    {
     "data": {
      "text/plain": [
       "3-element Array{Int64,1}:\n",
       " 1\n",
       " 2\n",
       " 3"
      ]
     },
     "execution_count": 92,
     "metadata": {},
     "output_type": "execute_result"
    }
   ],
   "source": [
    "aslist([1,2,3])"
   ]
  },
  {
   "cell_type": "markdown",
   "metadata": {
    "slideshow": {
     "slide_type": "subslide"
    }
   },
   "source": [
    "### 🕳🔙 Dynamic dispatch as fallback.\n",
    "\n",
    "All the traits so far have been fully-static, \n",
    "and they compile-away.\n",
    "\n",
    "But we can also write runtime code,\n",
    "(at a small runtime cost.)"
   ]
  },
  {
   "cell_type": "code",
   "execution_count": 94,
   "metadata": {
    "slideshow": {
     "slide_type": "fragment"
    }
   },
   "outputs": [
    {
     "data": {
      "text/plain": [
       "islist (generic function with 5 methods)"
      ]
     },
     "execution_count": 94,
     "metadata": {},
     "output_type": "execute_result"
    }
   ],
   "source": [
    "islist(T) = hasmethod(iterate, Tuple{T}) ? List() : Nonlist()"
   ]
  },
  {
   "cell_type": "code",
   "execution_count": 95,
   "metadata": {
    "slideshow": {
     "slide_type": "fragment"
    }
   },
   "outputs": [
    {
     "data": {
      "text/plain": [
       "\"ABC\""
      ]
     },
     "execution_count": 95,
     "metadata": {},
     "output_type": "execute_result"
    }
   ],
   "source": [
    "aslist(\"ABC\")"
   ]
  },
  {
   "cell_type": "markdown",
   "metadata": {
    "slideshow": {
     "slide_type": "slide"
    }
   },
   "source": [
    "### 📇🔛 🧮 Traits on functions\n",
    "\n",
    " - We can attach traits to functions\n",
    " - becuase functions are instances of singleton types\n",
    " - `foo::typeof(foo)`\n",
    " - We can use this to do declarative input transforms."
   ]
  },
  {
   "cell_type": "markdown",
   "metadata": {
    "slideshow": {
     "slide_type": "subslide"
    }
   },
   "source": [
    "### 💻🧠 Example: different functions expect the arrangement of observations to be different\n",
    "\n",
    " - ML Models might expect the inputs be:\n",
    "    - Iterator of Observations\n",
    "    - Matrix with Observations in Rows\n",
    "    - Matrix with Observations in Columns\n",
    " - For performance reasons there is good reasons to use the different options depending on what operations you are doing.\n",
    "\n",
    " - We shouldn't have to deal with this as user though."
   ]
  },
  {
   "cell_type": "code",
   "execution_count": 2,
   "metadata": {
    "slideshow": {
     "slide_type": "subslide"
    }
   },
   "outputs": [],
   "source": [
    "using Statistics\n",
    "is_large(x) = mean(x) > 0.5\n",
    "get_true_classes(xs) = map(is_large, xs)\n",
    "\n",
    "\n",
    "inputs = rand(100, 1_000);  # 100 features, 1000 observations\n",
    "labels = get_true_classes(eachcol(inputs));"
   ]
  },
  {
   "cell_type": "code",
   "execution_count": 3,
   "metadata": {
    "slideshow": {
     "slide_type": "subslide"
    }
   },
   "outputs": [
    {
     "data": {
      "text/plain": [
       "0.928"
      ]
     },
     "execution_count": 3,
     "metadata": {},
     "output_type": "execute_result"
    }
   ],
   "source": [
    "using LIBSVM\n",
    "svm = svmtrain(inputs, labels)\n",
    "\n",
    "estimated_classes_svm, probs = svmpredict(svm, inputs)\n",
    "mean(estimated_classes_svm .== labels)"
   ]
  },
  {
   "cell_type": "code",
   "execution_count": 4,
   "metadata": {
    "slideshow": {
     "slide_type": "subslide"
    }
   },
   "outputs": [
    {
     "data": {
      "text/plain": [
       "0.981"
      ]
     },
     "execution_count": 4,
     "metadata": {},
     "output_type": "execute_result"
    }
   ],
   "source": [
    "using DecisionTree\n",
    "tree = DecisionTreeClassifier(max_depth=10)\n",
    "fit!(tree, permutedims(inputs), labels)\n",
    "\n",
    "estimated_classes_tree = predict(tree, permutedims(inputs))\n",
    "mean(estimated_classes_tree .== labels)"
   ]
  },
  {
   "cell_type": "markdown",
   "metadata": {
    "slideshow": {
     "slide_type": "subslide"
    }
   },
   "source": [
    "### 🕵️‍♂️ 🔪 Lets solve this with traits\n",
    "\n",
    "So we will attach a trait to each function that needed to rearrange its inputs.\n",
    "\n",
    "(There is a more sophisticated version of this that also attachs traits to inputs saying how the observations are currently arranged; or lets user specify.)"
   ]
  },
  {
   "cell_type": "markdown",
   "metadata": {
    "slideshow": {
     "slide_type": "subslide"
    }
   },
   "source": [
    "#### 🔪⌨️  Trait types"
   ]
  },
  {
   "cell_type": "code",
   "execution_count": null,
   "metadata": {
    "slideshow": {
     "slide_type": "fragment"
    }
   },
   "outputs": [],
   "source": [
    "abstract type ObsArrangement end\n",
    "\n",
    "struct IteratorOfObs <: ObsArrangement end\n",
    "struct MatrixColsOfObs <: ObsArrangement end\n",
    "struct MatrixRowsOfObs <: ObsArrangement end"
   ]
  },
  {
   "cell_type": "markdown",
   "metadata": {
    "slideshow": {
     "slide_type": "subslide"
    }
   },
   "source": [
    "#### 🔪➡️ Trait functions"
   ]
  },
  {
   "cell_type": "code",
   "execution_count": 5,
   "metadata": {
    "slideshow": {
     "slide_type": "fragment"
    }
   },
   "outputs": [
    {
     "data": {
      "text/plain": [
       "obs_arrangement (generic function with 5 methods)"
      ]
     },
     "execution_count": 5,
     "metadata": {},
     "output_type": "execute_result"
    }
   ],
   "source": [
    "obs_arrangement(::typeof(get_true_classes)) = IteratorOfObs()\n",
    "\n",
    "obs_arrangement(::typeof(svmtrain)) = MatrixColsOfObs()\n",
    "obs_arrangement(::typeof(svmpredict)) = MatrixColsOfObs()\n",
    "\n",
    "obs_arrangement(::typeof(fit!)) = MatrixRowsOfObs()\n",
    "obs_arrangement(::typeof(predict)) = MatrixRowsOfObs()"
   ]
  },
  {
   "cell_type": "code",
   "execution_count": 122,
   "metadata": {
    "slideshow": {
     "slide_type": "fragment"
    }
   },
   "outputs": [
    {
     "data": {
      "text/plain": [
       "isobs (generic function with 2 methods)"
      ]
     },
     "execution_count": 122,
     "metadata": {},
     "output_type": "execute_result"
    }
   ],
   "source": [
    "isobs(::AbstractMatrix) = Val{true}()\n",
    "\n",
    "# If an iterator, then must be iterator of vectors,\n",
    "# else it doesn't contain observations\n",
    "isobs(::T) where T = Val{eltype(T) isa AbstractVector}()"
   ]
  },
  {
   "cell_type": "markdown",
   "metadata": {
    "slideshow": {
     "slide_type": "subslide"
    }
   },
   "source": [
    "#### 🏁 Trait dispatch"
   ]
  },
  {
   "cell_type": "code",
   "execution_count": 7,
   "metadata": {
    "slideshow": {
     "slide_type": "fragment"
    }
   },
   "outputs": [
    {
     "data": {
      "text/plain": [
       "maybe_organise_obs (generic function with 3 methods)"
      ]
     },
     "execution_count": 7,
     "metadata": {},
     "output_type": "execute_result"
    }
   ],
   "source": [
    "function model_call(func, args...; kwargs...)\n",
    "    return func(maybe_organise_obs.(func, args)...; kwargs...)\n",
    "end\n",
    "\n",
    "# trait re-dispatch\n",
    "maybe_organise_obs(func, arg) = maybe_organise_obs(func, arg, isobs(arg))\n",
    "maybe_organise_obs(func, arg, ::Val{false}) = arg\n",
    "function maybe_organise_obs(func, arg, ::Val{true})\n",
    "    organise_obs(obs_arrangement(func), arg)\n",
    "end"
   ]
  },
  {
   "cell_type": "code",
   "execution_count": 124,
   "metadata": {
    "slideshow": {
     "slide_type": "subslide"
    }
   },
   "outputs": [
    {
     "data": {
      "text/plain": [
       "organise_obs (generic function with 5 methods)"
      ]
     },
     "execution_count": 124,
     "metadata": {},
     "output_type": "execute_result"
    }
   ],
   "source": [
    "organise_obs(::IteratorOfObs, obs_iter) = obs_iter\n",
    "organise_obs(::MatrixColsOfObs, obsmat::AbstractMatrix) = obsmat\n",
    "\n",
    "organise_obs(::IteratorOfObs, obsmat::AbstractMatrix) = eachcol(obsmat)\n",
    "function organise_obs(::MatrixColsOfObs, obs_iter)\n",
    "    reduce(hcat, obs_iter)\n",
    "end\n",
    "\n",
    "function organise_obs(::MatrixRowsOfObs, obs)\n",
    "    permutedims(organise_obs(MatrixColsOfObs(), obs))\n",
    "end"
   ]
  },
  {
   "cell_type": "markdown",
   "metadata": {
    "slideshow": {
     "slide_type": "subslide"
    }
   },
   "source": [
    "#### 🎢🧾 Demo\n",
    "now rather than calling things directly we use `model_call`\n",
    "which takes care of rearranging things."
   ]
  },
  {
   "cell_type": "code",
   "execution_count": 9,
   "metadata": {
    "slideshow": {
     "slide_type": "subslide"
    }
   },
   "outputs": [],
   "source": [
    "inputs = rand(100, 1_000);  # 100 features, 1000 observations\n",
    "labels = model_call(get_true_classes, inputs);"
   ]
  },
  {
   "cell_type": "code",
   "execution_count": 10,
   "metadata": {
    "slideshow": {
     "slide_type": "subslide"
    }
   },
   "outputs": [
    {
     "data": {
      "text/plain": [
       "0.937"
      ]
     },
     "execution_count": 10,
     "metadata": {},
     "output_type": "execute_result"
    }
   ],
   "source": [
    "using LIBSVM\n",
    "svm = model_call(svmtrain, inputs, labels)\n",
    "\n",
    "estimated_classes_svm, probs = model_call(svmpredict, svm, inputs)\n",
    "mean(estimated_classes_svm .== labels)"
   ]
  },
  {
   "cell_type": "code",
   "execution_count": 11,
   "metadata": {
    "slideshow": {
     "slide_type": "subslide"
    }
   },
   "outputs": [
    {
     "data": {
      "text/plain": [
       "0.984"
      ]
     },
     "execution_count": 11,
     "metadata": {},
     "output_type": "execute_result"
    }
   ],
   "source": [
    "using DecisionTree\n",
    "tree = DecisionTreeClassifier(max_depth=10)\n",
    "model_call(fit!, tree, inputs, labels)\n",
    "\n",
    "estimated_classes_tree = model_call(predict, tree, inputs)\n",
    "mean(estimated_classes_tree .== labels)"
   ]
  },
  {
   "cell_type": "markdown",
   "metadata": {
    "slideshow": {
     "slide_type": "subslide"
    }
   },
   "source": [
    "# 🔪😀 Traits: Useful"
   ]
  },
  {
   "cell_type": "markdown",
   "metadata": {
    "slideshow": {
     "slide_type": "slide"
    }
   },
   "source": [
    "### 🏛 Closures, they give you \"Classic OO\"\n",
    "\n",
    "Like classes, with member functions\n",
    "that can see private fields, and have public fields.\n",
    "\n",
    "This is a classic functional programming trick,\n",
    "but I first saw it applied to julia in one of   \n",
    "Jeff Bezanson's Stack Overflow posts. \n",
    "https://stackoverflow.com/a/39150509/179081\n",
    "\n",
    "And it is pretty elegant in julia.\n",
    "\n"
   ]
  },
  {
   "cell_type": "code",
   "execution_count": 99,
   "metadata": {
    "slideshow": {
     "slide_type": "subslide"
    }
   },
   "outputs": [
    {
     "data": {
      "text/plain": [
       "newDuck (generic function with 1 method)"
      ]
     },
     "execution_count": 99,
     "metadata": {},
     "output_type": "execute_result"
    }
   ],
   "source": [
    "function newDuck(name)\n",
    "    age=0\n",
    "    get_age() = age\n",
    "    inc_age() = age+=1\n",
    "    \n",
    "    quack() = println(\"Quack!\")\n",
    "    speak() = quack()\n",
    "    \n",
    "    #Declare public:\n",
    "    ()->(get_age, inc_age, speak, name)\n",
    "end\n"
   ]
  },
  {
   "cell_type": "markdown",
   "metadata": {
    "slideshow": {
     "slide_type": "subslide"
    }
   },
   "source": [
    "#### 🏗 Can construct an object and can call public methods"
   ]
  },
  {
   "cell_type": "code",
   "execution_count": 106,
   "metadata": {
    "slideshow": {
     "slide_type": "fragment"
    }
   },
   "outputs": [
    {
     "data": {
      "text/plain": [
       "0"
      ]
     },
     "execution_count": 106,
     "metadata": {},
     "output_type": "execute_result"
    }
   ],
   "source": [
    "duck1 = newDuck(\"Bill\")\n",
    "duck1.get_age()"
   ]
  },
  {
   "cell_type": "markdown",
   "metadata": {
    "slideshow": {
     "slide_type": "subslide"
    }
   },
   "source": [
    "#### 👛 Public methods can change state"
   ]
  },
  {
   "cell_type": "code",
   "execution_count": 107,
   "metadata": {
    "slideshow": {
     "slide_type": "fragment"
    }
   },
   "outputs": [
    {
     "data": {
      "text/plain": [
       "1"
      ]
     },
     "execution_count": 107,
     "metadata": {},
     "output_type": "execute_result"
    }
   ],
   "source": [
    "duck1.inc_age()\n",
    "duck1.get_age()"
   ]
  },
  {
   "cell_type": "markdown",
   "metadata": {
    "slideshow": {
     "slide_type": "subslide"
    }
   },
   "source": [
    "#### 🛑 Can't access private fields"
   ]
  },
  {
   "cell_type": "code",
   "execution_count": 108,
   "metadata": {
    "slideshow": {
     "slide_type": "fragment"
    }
   },
   "outputs": [
    {
     "ename": "ErrorException",
     "evalue": "type ##20#25 has no field age",
     "output_type": "error",
     "traceback": [
      "type ##20#25 has no field age",
      "",
      "Stacktrace:",
      " [1] getproperty(::Any, ::Symbol) at ./sysimg.jl:18",
      " [2] top-level scope at In[108]:1"
     ]
    }
   ],
   "source": [
    "duck1.age"
   ]
  },
  {
   "cell_type": "markdown",
   "metadata": {
    "slideshow": {
     "slide_type": "subslide"
    }
   },
   "source": [
    "##### ⛔️ Can't access private methods"
   ]
  },
  {
   "cell_type": "code",
   "execution_count": 104,
   "metadata": {
    "slideshow": {
     "slide_type": "fragment"
    }
   },
   "outputs": [
    {
     "name": "stdout",
     "output_type": "stream",
     "text": [
      "Quack!\n"
     ]
    }
   ],
   "source": [
    "duck1.speak()"
   ]
  },
  {
   "cell_type": "code",
   "execution_count": 105,
   "metadata": {
    "slideshow": {
     "slide_type": "fragment"
    }
   },
   "outputs": [
    {
     "ename": "ErrorException",
     "evalue": "type ##20#25 has no field quack",
     "output_type": "error",
     "traceback": [
      "type ##20#25 has no field quack",
      "",
      "Stacktrace:",
      " [1] getproperty(::Any, ::Symbol) at ./sysimg.jl:18",
      " [2] top-level scope at In[105]:1"
     ]
    }
   ],
   "source": [
    "duck1.quack()"
   ]
  },
  {
   "cell_type": "markdown",
   "metadata": {
    "slideshow": {
     "slide_type": "subslide"
    }
   },
   "source": [
    "### ❔👩‍🏫 How does this work?\n",
    " - Closures return singleton objects, with the directly referenced closed variables as fields.\n",
    " - All our public fields/methods are directly referenced.\n",
    " - Our private fields (e.g `age`, `quack`) is not directly referenced, but are closed over other methods that use them."
   ]
  },
  {
   "cell_type": "markdown",
   "metadata": {
    "slideshow": {
     "slide_type": "subslide"
    }
   },
   "source": [
    "#### 💡 So we can actually see those private fields via accessing the public method closures"
   ]
  },
  {
   "cell_type": "code",
   "execution_count": 109,
   "metadata": {
    "slideshow": {
     "slide_type": "fragment"
    }
   },
   "outputs": [
    {
     "data": {
      "text/plain": [
       "Core.Box(1)"
      ]
     },
     "execution_count": 109,
     "metadata": {},
     "output_type": "execute_result"
    }
   ],
   "source": [
    "duck1.inc_age.age"
   ]
  },
  {
   "cell_type": "code",
   "execution_count": 110,
   "metadata": {
    "slideshow": {
     "slide_type": "fragment"
    }
   },
   "outputs": [
    {
     "data": {
      "text/plain": [
       "(::getfield(Main, Symbol(\"#quack#23\"))) (generic function with 1 method)"
      ]
     },
     "execution_count": 110,
     "metadata": {},
     "output_type": "execute_result"
    }
   ],
   "source": [
    "duck1.speak.quack"
   ]
  },
  {
   "cell_type": "code",
   "execution_count": 111,
   "metadata": {
    "slideshow": {
     "slide_type": "fragment"
    }
   },
   "outputs": [
    {
     "name": "stdout",
     "output_type": "stream",
     "text": [
      "Quack!\n"
     ]
    }
   ],
   "source": [
    "duck1.speak.quack()"
   ]
  },
  {
   "cell_type": "markdown",
   "metadata": {
    "slideshow": {
     "slide_type": "slide"
    }
   },
   "source": [
    "# How Cassette etc. works\n",
    "\n",
    " <img src=\"https://raw.githubusercontent.com/jrevels/Cassette.jl/master/docs/img/cassette-logo.png\" width=\"256\" style=\"display: inline\"/>"
   ]
  },
  {
   "cell_type": "markdown",
   "metadata": {
    "slideshow": {
     "slide_type": "subslide"
    }
   },
   "source": [
    "## 📼 🎓 The compiler knows nothing of these \"custom compiler passes\"\n",
    "\n",
    " - Cassette / IRTools (Zygote) is a notable julia feature.\n",
    " - Sometimes called:\n",
    "    - Custom Compiler Passes\n",
    "    - Contextual Dispatch\n",
    "    - Dynamicaly-scoped Macros\n",
    "    - Dynamic-source rewritting\n",
    " - It does not work the way you might think it does.\n",
    " - The compiler knows nothing of Cassette."
   ]
  },
  {
   "cell_type": "markdown",
   "metadata": {
    "slideshow": {
     "slide_type": "subslide"
    }
   },
   "source": [
    "Issue [#21146](https://github.com/JuliaLang/julia/issues/21146)\n",
    "<img src=\"./figs/cassette-issue.png\"/>"
   ]
  },
  {
   "cell_type": "markdown",
   "metadata": {
    "slideshow": {
     "slide_type": "subslide"
    }
   },
   "source": [
    "PR [#22440](https://github.com/JuliaLang/julia/pull/22440)\n",
    "<img src=\"./figs/cassette-pr.png\"/>"
   ]
  },
  {
   "cell_type": "markdown",
   "metadata": {
    "slideshow": {
     "slide_type": "subslide"
    }
   },
   "source": [
    "## 🏋️‍♂️ Super-powerful\n",
    "\n",
    "This capacity allows one to build:\n",
    " - AutoDiff tools (ForwardDiff2, Zygote, Yota)\n",
    " - Mocking tools (Mocking.jl)\n",
    " - Debuggers (MagneticReadHead)\n",
    " - Code-proof related tools (ConcolicFuzzer)\n",
    " - Generally rewriting all the code (GPUifyLoops)\n",
    " \n",
    "and more"
   ]
  },
  {
   "cell_type": "markdown",
   "metadata": {
    "slideshow": {
     "slide_type": "subslide"
    }
   },
   "source": [
    "## 🔆⚡️ Generated Functions\n",
    "\n",
    "Generated functions take types as inputs and \n",
    "return the AST for what code should run.\n",
    "\n",
    "It is a kind of metaprogramming.\n"
   ]
  },
  {
   "cell_type": "markdown",
   "metadata": {
    "slideshow": {
     "slide_type": "subslide"
    }
   },
   "source": [
    "### 💤 Normal Function\n",
    "\n",
    "```julia\n",
    "function merge(a::NamedTuple{an}, b::NamedTuple{bn}) where {an, bn}\n",
    "    names = merge_names(an, bn)\n",
    "    types = merge_types(names, typeof(a), typeof(b))\n",
    "    NamedTuple{names,types}(map(n->getfield(sym_in(n, bn) ? b : a, n), names))\n",
    "end\n",
    "```\n",
    "\n",
    "It at runtime checks the what fields each nametuple has.\n",
    "To decide what will be in the merge.\n",
    "\n",
    "But we know all that information base on the types alone."
   ]
  },
  {
   "cell_type": "markdown",
   "metadata": {
    "slideshow": {
     "slide_type": "subslide"
    }
   },
   "source": [
    "### ⚡️ Generated function\n",
    "\n",
    "So as a computation of the types we can workout exactly what to return.\n",
    "And can generate code that only accesses the fields we want.\n",
    "\n",
    "```julia\n",
    "@generated function merge(a::NamedTuple{an}, b::NamedTuple{bn}) where {an, bn}\n",
    "    names = merge_names(an, bn)\n",
    "    types = merge_types(names, a, b)\n",
    "    vals = Any[ :(getfield($(sym_in(n, bn) ? :b : :a), $(QuoteNode(n)))) for n in names ]\n",
    "    :( NamedTuple{$names,$types}(($(vals...),)) )\n",
    "end\n",
    "```"
   ]
  },
  {
   "cell_type": "markdown",
   "metadata": {
    "slideshow": {
     "slide_type": "subslide"
    }
   },
   "source": [
    "## 🍰 Julia: layers of representenstation:\n",
    " - Source code (`CodeTracking.definition(String,....)`)\n",
    " - AST: (`CodeTracking.definition(Expr, ...`)\n",
    " - **Untyped IR**: `@code_lowered`\n",
    " - Typed IR: `@code_typed`\n",
    " - LLVM: `@code_llvm`\n",
    " - ASM: `@code_native`\n",
    " \n",
    "You can retrieve the different representations using the functions/macros."
   ]
  },
  {
   "cell_type": "markdown",
   "metadata": {
    "slideshow": {
     "slide_type": "subslide"
    }
   },
   "source": [
    "## 📼🚧 How Does Cassette Work?\n",
    " - It is not magic, Cassette is not specially baked into the compiler.\n",
    " - `@generated` function can return a `Expr` **or** a `CodeInfo`\n",
    " - We return a `CodeInfo` based on a modified version of one for a function argument.\n",
    " - We can use `@code_lowered` to look up what the original `CondeInfo` would have been\n"
   ]
  },
  {
   "cell_type": "markdown",
   "metadata": {
    "slideshow": {
     "slide_type": "subslide"
    }
   },
   "source": [
    "### 🚫⌨️ Untyped IR: this is what we are working with\n",
    " - basically a linearization of the AST.\n",
    " - Only 1 operation per statement (Nested expressions get broken up) \n",
    " - the return values for each statement is accessed as `SSAValue(index)`\n",
    " - Variables ↦ Slots\n",
    " - Control-flow ↦ Goto based expressions\n",
    " - function names ↦ `GlobalRef(mod, func)`"
   ]
  },
  {
   "cell_type": "markdown",
   "metadata": {
    "slideshow": {
     "slide_type": "subslide"
    }
   },
   "source": [
    "### ⚙️🤝 Manual pass\n",
    "```julia\n",
    "call_and_print(f, args...) = (println(f, \" \", args); f(args...))\n",
    "\n",
    "@generated function rewritten(f)\n",
    "    ci = deepcopy(@code_lowered f.instance())\n",
    "    for ii in eachindex(ci.code)\n",
    "        if ci.code[ii] isa Expr && ci.code[ii].head==:call\n",
    "            func = GlobalRef(Main, :call_and_print)\n",
    "            ci.code[ii] = Expr(:call, func, ci.code[ii].args...)\n",
    "        end\n",
    "    end\n",
    "    return ci\n",
    "end\n",
    "```"
   ]
  },
  {
   "cell_type": "markdown",
   "metadata": {
    "slideshow": {
     "slide_type": "subslide"
    }
   },
   "source": [
    "### ⚙️🤝 Result of our manual pass:\n",
    "```julia\n",
    "julia> foo() = 2*(1+1);\n",
    "julia> rewritten(foo)\n",
    "+ (1, 1)\n",
    "* (2, 2)\n",
    "4\n",
    "```"
   ]
  },
  {
   "cell_type": "markdown",
   "metadata": {
    "slideshow": {
     "slide_type": "subslide"
    }
   },
   "source": [
    "### 🔨📼 Rather than doing `call_and_print`:\n",
    "```julia\n",
    "function overdub(f, args...)\n",
    "    println(f, \" \", args)\n",
    "    rewritten(f, args...)\n",
    "end\n",
    "```\n",
    "\n",
    "This is how Cassette and IRTools work.   \n",
    "🌳 Arborist works similarly, but using AST level."
   ]
  },
  {
   "cell_type": "markdown",
   "metadata": {
    "slideshow": {
     "slide_type": "slide"
    }
   },
   "source": [
    "### 🚫 🧙‍♂️ JuliaLang is not magic\n",
    " - Features give rise to other features\n",
    " - Types turn out to be very powerful\n",
    " - Especially with multiple dispatch"
   ]
  },
  {
   "cell_type": "markdown",
   "metadata": {
    "slideshow": {
     "slide_type": "fragment"
    }
   },
   "source": [
    "All just fall out of the combination of other features.\n",
    " - Unit syntax\n",
    " - Traits\n",
    " - Closure-based Objects\n",
    " - Contextual Compiler Passes"
   ]
  },
  {
   "cell_type": "markdown",
   "metadata": {
    "slideshow": {
     "slide_type": "subslide"
    }
   },
   "source": [
    "## Bonus Q: When is a JIT not a JIT?\n",
    "## A: When it doesn't use tracing decide what to specialize\n",
    "\n",
    " - In julia by default all functions are specialized on all input types\n",
    " - This gives you a thing that looks a lot like a tracing JIT on a dynamic language. But without the tracing.\n",
    " - In theory: specialization is semi-orthogonal to your type system.\n",
    " - One can specialize on value (c.f. constant-folding)\n",
    "\n",
    "Also: Multiple dispatch is just adding a human into the loop for how specialization is done.\n",
    "\n",
    "\n",
    "### Julia just has a very late ahead-of-time compiler"
   ]
  }
 ],
 "metadata": {
  "@webio": {
   "lastCommId": null,
   "lastKernelId": null
  },
  "celltoolbar": "Slideshow",
  "kernelspec": {
   "display_name": "Julia 1.1.0",
   "language": "julia",
   "name": "julia-1.1"
  },
  "language_info": {
   "file_extension": ".jl",
   "mimetype": "application/julia",
   "name": "julia",
   "version": "1.1.0"
  }
 },
 "nbformat": 4,
 "nbformat_minor": 2
}
