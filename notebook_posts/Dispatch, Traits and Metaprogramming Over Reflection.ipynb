{
 "cells": [
  {
   "cell_type": "markdown",
   "metadata": {},
   "source": [
    "This is a blog post about about dispatch.\n",
    "Mostly, single dispatch, though it trivially generalises to multiple dispatch,\n",
    "because julia is a multiple dispatch language.\n",
    "\n",
    "This post starts simple, and becomes complex.\n",
    "\n",
    " - Beginning with, introductory julia skills: _dispatch_\n",
    " - continue to intermidate julia skills: _traits_\n",
    " - and finishing up with advanced techniques: _metaprogramming over reflection_\n",
    " \n",
    "The last of which is kinda evil.\n",
    "\n",
    "<!--see more-->\n"
   ]
  },
  {
   "cell_type": "markdown",
   "metadata": {},
   "source": [
    "I think dispatch is very intutitive as a concept.\n",
    "In C you learn that a function's signature,\n",
    "is composed of it's name, and the types of the arguments and the return type.\n",
    "So it would make sense that you could define a different function, depending on the types.\n",
    "(but you can't).\n",
    "\n",
    "\n",
    "In a dynamic language you are supposed  not worrying **too much** about the type of your values.\n",
    "I feel that the emphisis should be on on not worrying too much: you need to worry **just the right amount**.\n",
    "[Duck-typing](https://en.wikipedia.org/wiki/Duck_typing) is great.\n",
    "But reasoning about types is very easy.\n",
    "It is the kind of reasoning we do all the time.\n",
    "\n",
    "Dispatch is about striking the balance between exploiting knowledge of a type,\n",
    "and being general.\n",
    "I can write general code that doesn't worry about the types,\n",
    "and then add extra methods based on the types of the arguments for special cases."
   ]
  },
  {
   "cell_type": "markdown",
   "metadata": {},
   "source": [
    "## Part 1: Displaying a Percentage\n",
    "\n",
    "I would like to display a value as a percentage.\n",
    "So that is pretty easy, if I have some portion, (e.g `0.5`),\n",
    "I can convert it to a percentage by multipling it by `100` (e.g. `100 × 0.5 = 50`),\n",
    "then I print it and append a `%` sign.\n"
   ]
  },
  {
   "cell_type": "code",
   "execution_count": 1,
   "metadata": {},
   "outputs": [
    {
     "data": {
      "text/plain": [
       "display_percent (generic function with 1 method)"
      ]
     },
     "execution_count": 1,
     "metadata": {},
     "output_type": "execute_result"
    }
   ],
   "source": [
    "display_percent(x) = println(100x,\"%\") "
   ]
  },
  {
   "cell_type": "markdown",
   "metadata": {},
   "source": [
    "That gives me a general rule that works for most types."
   ]
  },
  {
   "cell_type": "code",
   "execution_count": 2,
   "metadata": {},
   "outputs": [
    {
     "name": "stdout",
     "output_type": "stream",
     "text": [
      "50.0%\n",
      "50.0%\n",
      "3.141592653589793238462643383279502884197169399375105820974944592307816406286212e+01%\n",
      "100%\n",
      "0%\n",
      "200//3%\n"
     ]
    }
   ],
   "source": [
    "display_percent(0.5) #Float64\n",
    "display_percent(0.5f0) #Float32\n",
    "display_percent(BigFloat(π)/10) #BigFloat\n",
    "display_percent(1) #Int64\n",
    "display_percent(false) #Bool\n",
    "display_percent(2//3) #Rational"
   ]
  },
  {
   "cell_type": "markdown",
   "metadata": {},
   "source": [
    "I'm not exactly happy with how that `Rational` displayed,\n",
    "it is correct, but I would rather it was displayed not as a fraction.\n",
    "So we can fix it by adding a new method for `Rational`s.\n",
    "\n",
    "Our current method has no type constraints.\n",
    "We will create one that has a constraint that the argument must be a `Rational`.\n",
    "More specific methods, i.e. ones with tighter type constraints are called over ones with looser constraints."
   ]
  },
  {
   "cell_type": "code",
   "execution_count": 3,
   "metadata": {},
   "outputs": [
    {
     "data": {
      "text/plain": [
       "display_percent (generic function with 2 methods)"
      ]
     },
     "execution_count": 3,
     "metadata": {},
     "output_type": "execute_result"
    }
   ],
   "source": [
    "display_percent(x::Rational) = println(round(100x; digits=2), \"%\")"
   ]
  },
  {
   "cell_type": "code",
   "execution_count": 4,
   "metadata": {},
   "outputs": [
    {
     "name": "stdout",
     "output_type": "stream",
     "text": [
      "66.67%\n"
     ]
    }
   ],
   "source": [
    "display_percent(2//3) #Rational"
   ]
  },
  {
   "cell_type": "markdown",
   "metadata": {},
   "source": [
    "That worked great.\n",
    "\n",
    "What if I am given a String as input,\n",
    "that is already a percentage?"
   ]
  },
  {
   "cell_type": "code",
   "execution_count": 5,
   "metadata": {},
   "outputs": [
    {
     "ename": "MethodError",
     "evalue": "MethodError: no method matching *(::Int64, ::String)\nClosest candidates are:\n  *(::Any, ::Any, !Matched::Any, !Matched::Any...) at operators.jl:502\n  *(!Matched::Missing, ::AbstractString) at missing.jl:139\n  *(::T<:Union{Int128, Int16, Int32, Int64, Int8, UInt128, UInt16, UInt32, UInt64, UInt8}, !Matched::T<:Union{Int128, Int16, Int32, Int64, Int8, UInt128, UInt16, UInt32, UInt64, UInt8}) where T<:Union{Int128, Int16, Int32, Int64, Int8, UInt128, UInt16, UInt32, UInt64, UInt8} at int.jl:54\n  ...",
     "output_type": "error",
     "traceback": [
      "MethodError: no method matching *(::Int64, ::String)\nClosest candidates are:\n  *(::Any, ::Any, !Matched::Any, !Matched::Any...) at operators.jl:502\n  *(!Matched::Missing, ::AbstractString) at missing.jl:139\n  *(::T<:Union{Int128, Int16, Int32, Int64, Int8, UInt128, UInt16, UInt32, UInt64, UInt8}, !Matched::T<:Union{Int128, Int16, Int32, Int64, Int8, UInt128, UInt16, UInt32, UInt64, UInt8}) where T<:Union{Int128, Int16, Int32, Int64, Int8, UInt128, UInt16, UInt32, UInt64, UInt8} at int.jl:54\n  ...",
      "",
      "Stacktrace:",
      " [1] display_percent(::String) at ./In[1]:1",
      " [2] top-level scope at In[5]:1"
     ]
    }
   ],
   "source": [
    "display_percent(\"5.81%\")"
   ]
  },
  {
   "cell_type": "markdown",
   "metadata": {},
   "source": [
    "We get an error, because there is no method to do 100 times a `String`;\n",
    "and multiplying the string by 100 isn't what we want to do anyway.\n",
    "So we can define a special method for how to display a string as a percent.\n",
    "It is going to check the string is in the correct format,\n",
    "and if so display it."
   ]
  },
  {
   "cell_type": "code",
   "execution_count": 6,
   "metadata": {},
   "outputs": [
    {
     "data": {
      "text/plain": [
       "display_percent (generic function with 3 methods)"
      ]
     },
     "execution_count": 6,
     "metadata": {},
     "output_type": "execute_result"
    }
   ],
   "source": [
    "function display_percent(str::AbstractString)\n",
    "    if occursin(r\"^\\d*\\.?\\d+%$\", str)  # any combination of numbers, followed by a percent sign\n",
    "        println(str)\n",
    "    else\n",
    "        throw(DomainError(str, \"Not valid percentage format\"))\n",
    "    end\n",
    "end"
   ]
  },
  {
   "cell_type": "code",
   "execution_count": 7,
   "metadata": {},
   "outputs": [
    {
     "name": "stdout",
     "output_type": "stream",
     "text": [
      "5.81%\n"
     ]
    }
   ],
   "source": [
    "display_percent(\"5.81%\")"
   ]
  },
  {
   "cell_type": "markdown",
   "metadata": {},
   "source": [
    "Great, fixed it.\n",
    "\n",
    "Where this really comes in handy is working with things you as the programmer don't know the type of, when you are writing the code.\n",
    "For example if you have a hetrogenous list of elements to process."
   ]
  },
  {
   "cell_type": "code",
   "execution_count": 8,
   "metadata": {},
   "outputs": [
    {
     "name": "stdout",
     "output_type": "stream",
     "text": [
      "51.0%\n",
      "60.0%\n",
      "50.0%\n",
      "10.0%\n",
      "2%\n"
     ]
    }
   ],
   "source": [
    "for x in [0.51, 0.6, 1//2, 0.1, \"2%\"]\n",
    "    display_percent(x)\n",
    "end"
   ]
  },
  {
   "cell_type": "markdown",
   "metadata": {},
   "source": [
    "Real world example of this sort of code is in [solving for indexing rules in TensorFlow.jl](https://github.com/malmaud/TensorFlow.jl/blob/d7ac7e306ca95122c2583c9db06f9e7405102275/src/ops/indexing.jl#L69-L98).\n",
    "\n",
    "So dispatch is useful, it lets you write different rules for how to handle different types.\n",
    "Dispatch goes very nicely in a dynamically typed language.\n",
    "Since (type-unstable) functions can return different types, depending on inputs,\n",
    "and some types (like our `String` and our `Rational`) might want to be handled differently,\n",
    "we need a good way of dealing with those cases.\n",
    "\n",
    "        \n",
    "It is also nicely extensible.\n",
    "Lets say we created a singlton type to represent a half."
   ]
  },
  {
   "cell_type": "code",
   "execution_count": 9,
   "metadata": {},
   "outputs": [
    {
     "data": {
      "text/plain": [
       "display_percent (generic function with 4 methods)"
      ]
     },
     "execution_count": 9,
     "metadata": {},
     "output_type": "execute_result"
    }
   ],
   "source": [
    "struct Half\n",
    "end\n",
    "\n",
    "display_percent(::Half) = println(\"50%\")"
   ]
  },
  {
   "cell_type": "code",
   "execution_count": 10,
   "metadata": {},
   "outputs": [
    {
     "name": "stdout",
     "output_type": "stream",
     "text": [
      "50%\n"
     ]
    }
   ],
   "source": [
    "display_percent(Half())"
   ]
  },
  {
   "cell_type": "markdown",
   "metadata": {},
   "source": [
    "So it was simple to just add a new method for it.\n",
    "\n",
    "Users can add support for new types,\n",
    "completely separate from the original definition.\n",
    "\n",
    "Constrast it to:"
   ]
  },
  {
   "cell_type": "code",
   "execution_count": 11,
   "metadata": {},
   "outputs": [
    {
     "data": {
      "text/plain": [
       "display_percent_bad (generic function with 1 method)"
      ]
     },
     "execution_count": 11,
     "metadata": {},
     "output_type": "execute_result"
    }
   ],
   "source": [
    "function display_percent_bad(x)\n",
    "     if x isa AbstractString\n",
    "        if occursin(r\"^\\d*\\.?\\d+%$\", x)  # any combination of numbers, followed by a percent sign\n",
    "            println(x)\n",
    "        else\n",
    "            throw(DomainError(x, \"Not valid percentage format\"))\n",
    "        end\n",
    "    else\n",
    "        println(100x, \"%\")\n",
    "    end\n",
    "end"
   ]
  },
  {
   "cell_type": "code",
   "execution_count": 12,
   "metadata": {},
   "outputs": [
    {
     "name": "stdout",
     "output_type": "stream",
     "text": [
      "5.3%\n",
      "50.0%\n"
     ]
    },
    {
     "ename": "MethodError",
     "evalue": "MethodError: no method matching *(::Int64, ::Half)\nClosest candidates are:\n  *(::Any, ::Any, !Matched::Any, !Matched::Any...) at operators.jl:502\n  *(::T<:Union{Int128, Int16, Int32, Int64, Int8, UInt128, UInt16, UInt32, UInt64, UInt8}, !Matched::T<:Union{Int128, Int16, Int32, Int64, Int8, UInt128, UInt16, UInt32, UInt64, UInt8}) where T<:Union{Int128, Int16, Int32, Int64, Int8, UInt128, UInt16, UInt32, UInt64, UInt8} at int.jl:54\n  *(::Union{Int16, Int32, Int64, Int8}, !Matched::BigInt) at gmp.jl:463\n  ...",
     "output_type": "error",
     "traceback": [
      "MethodError: no method matching *(::Int64, ::Half)\nClosest candidates are:\n  *(::Any, ::Any, !Matched::Any, !Matched::Any...) at operators.jl:502\n  *(::T<:Union{Int128, Int16, Int32, Int64, Int8, UInt128, UInt16, UInt32, UInt64, UInt8}, !Matched::T<:Union{Int128, Int16, Int32, Int64, Int8, UInt128, UInt16, UInt32, UInt64, UInt8}) where T<:Union{Int128, Int16, Int32, Int64, Int8, UInt128, UInt16, UInt32, UInt64, UInt8} at int.jl:54\n  *(::Union{Int16, Int32, Int64, Int8}, !Matched::BigInt) at gmp.jl:463\n  ...",
      "",
      "Stacktrace:",
      " [1] display_percent_bad(::Half) at ./In[11]:9",
      " [2] top-level scope at In[12]:3"
     ]
    }
   ],
   "source": [
    "display_percent_bad(\"5.3%\")\n",
    "display_percent_bad(0.5)\n",
    "display_percent_bad(Half())"
   ]
  },
  {
   "cell_type": "markdown",
   "metadata": {},
   "source": [
    "You can see, that since it doesn't include support for `Half` when it was declared,\n",
    "it doesn't work,\n",
    "and you can't do much to make it work.\n",
    "\n",
    "This kinda code is common in a fair bit of python code.\n"
   ]
  },
  {
   "cell_type": "markdown",
   "metadata": {},
   "source": [
    "## Part 2: `AsList`, (including using traits)\n",
    "\n",
    "The kind of code which uses `if` conditionals,\n",
    "is quiet common in practice.\n",
    "\n",
    "In [Python TensorFlow has a helper function](https://github.com/tensorflow/tensorflow/blob/r1.11/tensorflow/python/ops/gradients_impl.py#L202-L203), `_AsList`:\n",
    "\n",
    "```python\n",
    "def _AsList(x):\n",
    "    return x if isinstance(x, (list, tuple)) else [x]\n",
    "```\n",
    "\n",
    "It's purpose is to convert scalar values,\n",
    "into lists with one item.\n",
    "So it checks if the input is a `list` or a `tuple`,\n",
    "and if it is, then it makes no change,\n",
    "if not then it wraps it in a `list`.\n",
    "\n",
    "Problem with this is,\n",
    "what if my input is a type it didn't expect.\n",
    "But which actually \n",
    "[duck-types](https://en.wikipedia.org/wiki/Duck_typing) as a `list`, as fair as the functionality required is concerned.\n",
    "e.g. perhaps a [`dequeue`](https://docs.python.org/3/library/collections.html#collections.deque).\n",
    "Then the code will break.\n",
    "My `dequeue` will be mangled into a `list` containing a `deque`,\n",
    "which won't index or iterate correctly.\n",
    "And there is nothing I can do about it, except make a PR to TensorFlow.\n",
    "(or perhaps as a hack, [monkey-patch](https://en.wikipedia.org/wiki/Monkey_patch) it)."
   ]
  },
  {
   "cell_type": "markdown",
   "metadata": {},
   "source": [
    "### Example 2.1 direct\n",
    "The basic  way would be to write methods for each.\n",
    "Like before.\n"
   ]
  },
  {
   "cell_type": "code",
   "execution_count": 13,
   "metadata": {},
   "outputs": [
    {
     "data": {
      "text/plain": [
       "aslist_direct (generic function with 2 methods)"
      ]
     },
     "execution_count": 13,
     "metadata": {},
     "output_type": "execute_result"
    }
   ],
   "source": [
    "aslist_direct(x) = [x]\n",
    "aslist_direct(x::Union{AbstractArray,Tuple}) = x"
   ]
  },
  {
   "cell_type": "markdown",
   "metadata": {},
   "source": [
    "The `Union` is just a way of saying the argument needs ot match either of these types."
   ]
  },
  {
   "cell_type": "code",
   "execution_count": 14,
   "metadata": {},
   "outputs": [
    {
     "name": "stdout",
     "output_type": "stream",
     "text": [
      "aslist_direct([1, 2, 3]) = [1, 2, 3]\n",
      "aslist_direct(1) = [1]\n"
     ]
    }
   ],
   "source": [
    "@show aslist_direct([1,2,3])\n",
    "@show aslist_direct(1);"
   ]
  },
  {
   "cell_type": "markdown",
   "metadata": {},
   "source": [
    "What we are saying is that scalar values do one thing,\n",
    "and nonscalar values do another.\n",
    "We can add more rules to `aslist_direct`.\n",
    "Though we can't add more types to the `Union` so we would have to declare them separately,\n",
    "which would involve repreated code.\n",
    "\n",
    "e.g."
   ]
  },
  {
   "cell_type": "code",
   "execution_count": 15,
   "metadata": {},
   "outputs": [
    {
     "data": {
      "text/plain": [
       "aslist_direct (generic function with 3 methods)"
      ]
     },
     "execution_count": 15,
     "metadata": {},
     "output_type": "execute_result"
    }
   ],
   "source": [
    "aslist_direct(x::String) = x"
   ]
  },
  {
   "cell_type": "markdown",
   "metadata": {},
   "source": [
    "Repeating code is bad.\n",
    "Further what if we want the notion of _Scalarness_ elsewhere in our code?\n",
    "\n",
    "One way to handle this and avoid repeating code, would be to use abstract types.\n",
    "If all our scalar things were a subtype of `AbstractScalar`,\n",
    "and all out nonscalar things were not,\n",
    "then we could just write:\n",
    "\n",
    "```julia\n",
    "aslist(x::AbstractScalar) = [x]\n",
    "aslist(x) = x\n",
    "```\n",
    "\n",
    "But the types we are concerned with already have super-types (and you can only have one, not multiple inheritance here),\n",
    "and are already declared.\n",
    "Abstract supertypes are bit of a gun with only one bullet;\n",
    "and that bullet needs to be fired when they are declared.\n",
    "\n",
    "Instread we can use Traits.\n",
    "There are packages for traits in julia,\n",
    "but you don't really need them.\n",
    "We are just going to use Holy Traits (named for Tim Holy, who came up with the idea).\n"
   ]
  },
  {
   "cell_type": "markdown",
   "metadata": {},
   "source": [
    "### Example 2.2 Traits\n",
    "\n",
    "A trait in julia is basically just a pure function of a type, which returns a typed value that is used for dispatch.\n",
    "They are used to implement a bunch of rules for handling things related to indexing, broadcasting, iterators etc.\n",
    "\n",
    "Traits are uesful because they let you make declarative statements about a type.\n",
    "Declarative code is easy to write and read.\n",
    "\n",
    "Also, note that they are fast.\n",
    "Since they are pure functions of their input type,\n",
    "and Julia compiles (and optimises) specialised versions of every function for each combination of input types,\n",
    "they are compiled away to just being direct static dispatches to the targeted methods.\n",
    "The trait functions themselves are not actually evaluated at runtime.\n",
    "\n",
    "\n",
    "Explaining this is going to take a little bit,\n",
    "but I think traits are an important concept as you move from basic use of julia to something more advanced.\n",
    "They are are really expressive.\n",
    "So I think they are worth understanding."
   ]
  },
  {
   "cell_type": "markdown",
   "metadata": {},
   "source": [
    "#### Types are values and so have a type\n",
    "Before we start it is important to understand, is that types are first class in julia.\n",
    "They are values and they thus have a type."
   ]
  },
  {
   "cell_type": "code",
   "execution_count": 16,
   "metadata": {},
   "outputs": [
    {
     "name": "stdout",
     "output_type": "stream",
     "text": [
      "typeof(String) = DataType\n",
      "typeof(Int) = DataType\n"
     ]
    },
    {
     "data": {
      "text/plain": [
       "DataType"
      ]
     },
     "execution_count": 16,
     "metadata": {},
     "output_type": "execute_result"
    }
   ],
   "source": [
    "@show typeof(String)\n",
    "@show typeof(Int)"
   ]
  },
  {
   "cell_type": "code",
   "execution_count": 17,
   "metadata": {},
   "outputs": [
    {
     "data": {
      "text/plain": [
       "true"
      ]
     },
     "execution_count": 17,
     "metadata": {},
     "output_type": "execute_result"
    }
   ],
   "source": [
    "String isa DataType"
   ]
  },
  {
   "cell_type": "markdown",
   "metadata": {},
   "source": [
    "So the type of a type (such as `String`) is `DataType`.\n",
    "A special thing for types though,\n",
    "is they also act as if they are instances of the special type called `Type`.\n",
    "This is a parametric type,\n",
    "and it basically has a rule that `T <: Type{T}`.\n",
    "Every type  `T` is considered as if it were a subtype of `Type` with the parameter `T`.\n",
    "\n",
    "It can be used for value-type dispatch.\n",
    "(Which I will not be going into here, much more,\n",
    "but see my [StackOverflow post on it](https://stackoverflow.com/q/51568006/179081))"
   ]
  },
  {
   "cell_type": "code",
   "execution_count": 18,
   "metadata": {},
   "outputs": [
    {
     "name": "stdout",
     "output_type": "stream",
     "text": [
      "String isa Type{String} = true\n",
      "String isa Type{<:AbstractString} = true\n"
     ]
    },
    {
     "data": {
      "text/plain": [
       "true"
      ]
     },
     "execution_count": 18,
     "metadata": {},
     "output_type": "execute_result"
    }
   ],
   "source": [
    "@show String isa Type{String}\n",
    "@show String isa Type{<:AbstractString}"
   ]
  },
  {
   "cell_type": "markdown",
   "metadata": {},
   "source": [
    "Mostly, we will want to use triangular dispatch rules.\n",
    "That is the form `Type{<:AbstractString}`,\n",
    "also written `Type{T} where T<:AbstractString`,\n",
    "which allows use to place type constraints on the type parameters."
   ]
  },
  {
   "cell_type": "markdown",
   "metadata": {},
   "source": [
    "#### Trait Types\n",
    "\n",
    "To actually create the trait\n",
    "we will need to define types for the trait.\n",
    "This is what the trait function will return.\n",
    "These should be concrete types.\n",
    "They don't need any fields -- and indeed generally trait types shouldn't have any fields if possible (it is better to give them type parameters.)\n",
    "Though they could have super-types,\n",
    "and is often good to give them a super-type to make them similar."
   ]
  },
  {
   "cell_type": "code",
   "execution_count": 19,
   "metadata": {},
   "outputs": [],
   "source": [
    "abstract type Scalarness end\n",
    "struct Scalar <: Scalarness end\n",
    "struct NonScalar <: Scalarness end"
   ]
  },
  {
   "cell_type": "markdown",
   "metadata": {},
   "source": [
    "#### Trait Functions\n",
    "We are now going to create the trait functions.\n",
    "These should functions only of the type,\n",
    "not of the value, so that they can be optimised away at compile time."
   ]
  },
  {
   "cell_type": "code",
   "execution_count": 20,
   "metadata": {},
   "outputs": [
    {
     "data": {
      "text/plain": [
       "scalarness (generic function with 4 methods)"
      ]
     },
     "execution_count": 20,
     "metadata": {},
     "output_type": "execute_result"
    }
   ],
   "source": [
    "scalarness(::Type) = Scalar() #fall-back, by default everything is scalar\n",
    "scalarness(::Type{<:AbstractArray}) = NonScalar()\n",
    "scalarness(::Type{<:Tuple}) = NonScalar()\n",
    "scalarness(::Type{<:AbstractString}) = NonScalar()"
   ]
  },
  {
   "cell_type": "markdown",
   "metadata": {},
   "source": [
    "Nice, declarative code.\n",
    "Users can add the scalarness type to their types\n",
    "similarly."
   ]
  },
  {
   "cell_type": "code",
   "execution_count": 21,
   "metadata": {},
   "outputs": [
    {
     "name": "stdout",
     "output_type": "stream",
     "text": [
      "scalarness(typeof([1, 2, 3])) = NonScalar()\n",
      "scalarness(typeof(1)) = Scalar()\n"
     ]
    }
   ],
   "source": [
    "@show scalarness(typeof([1,2,3]))\n",
    "@show scalarness(typeof(1));"
   ]
  },
  {
   "cell_type": "markdown",
   "metadata": {},
   "source": [
    "Notice below that it is fully inferable and type-stable.\n",
    "This will result it being optimised away at compile time during specialisation."
   ]
  },
  {
   "cell_type": "code",
   "execution_count": 22,
   "metadata": {},
   "outputs": [
    {
     "name": "stdout",
     "output_type": "stream",
     "text": [
      "Body\u001b[36m::NonScalar\u001b[39m\n",
      "\u001b[90m\u001b[77G│\u001b[1G\u001b[39m\u001b[90m2 \u001b[39m1 ─     return $(QuoteNode(NonScalar()))\n"
     ]
    }
   ],
   "source": [
    "@code_warntype scalarness(typeof([1,2,3]))"
   ]
  },
  {
   "cell_type": "markdown",
   "metadata": {},
   "source": [
    "This is what makes it fast."
   ]
  },
  {
   "cell_type": "markdown",
   "metadata": {},
   "source": [
    "#### Dispatching on Traits\n",
    "\n",
    "The whole reason we defined these is so we can use them for dispatch.\n",
    "We will thus create three functions.\n",
    " - One for `aslist` of scalar types,\n",
    " - one for `aslist` of nonscalar types,\n",
    " - and one to re-dispatch on the trait value.\n",
    " \n",
    "We will begin with the last since it is the first that will be called.\n",
    "\n"
   ]
  },
  {
   "cell_type": "code",
   "execution_count": 23,
   "metadata": {},
   "outputs": [
    {
     "data": {
      "text/plain": [
       "aslist (generic function with 3 methods)"
      ]
     },
     "execution_count": 23,
     "metadata": {},
     "output_type": "execute_result"
    }
   ],
   "source": [
    "aslist(x::T) where T = aslist(scalarness(T), x)\n",
    "\n",
    "aslist(::Scalar, x) = [x]\n",
    "aslist(::NonScalar, x) = x"
   ]
  },
  {
   "cell_type": "markdown",
   "metadata": {},
   "source": [
    "Notice how the first is evaluating the trait function(on the type).\n",
    "The return type of this is used for the dispatch to one of the other two."
   ]
  },
  {
   "cell_type": "code",
   "execution_count": 24,
   "metadata": {},
   "outputs": [
    {
     "name": "stdout",
     "output_type": "stream",
     "text": [
      "aslist([1, 2, 3]) = [1, 2, 3]\n",
      "aslist(1) = [1]\n",
      "aslist(Set([1, 2])) = Set{Int64}[Set([2, 1])]\n"
     ]
    }
   ],
   "source": [
    "@show aslist([1,2,3])\n",
    "@show aslist(1);\n",
    "\n",
    "@show aslist(Set([1,2]));"
   ]
  },
  {
   "cell_type": "markdown",
   "metadata": {},
   "source": [
    "Notice that the `Set` was treated as a scalar, and wrapped in to an array.\n",
    "Adding a new type is easy."
   ]
  },
  {
   "cell_type": "code",
   "execution_count": 25,
   "metadata": {},
   "outputs": [
    {
     "name": "stdout",
     "output_type": "stream",
     "text": [
      "aslist(Set([1, 2])) = Set([2, 1])\n"
     ]
    }
   ],
   "source": [
    "scalarness(::Type{<:AbstractSet}) = NonScalar()\n",
    "@show aslist(Set([1,2]));"
   ]
  },
  {
   "cell_type": "markdown",
   "metadata": {},
   "source": [
    "## Part 3: Traits, falling back to `hasmethod`\n",
    "\n",
    "A more advanced stratergy is would be to fall back to `hasmethod`\n",
    "\n"
   ]
  },
  {
   "cell_type": "code",
   "execution_count": 26,
   "metadata": {},
   "outputs": [],
   "source": [
    "using LinearAlgebra # Load up LinearAlgebra for more types that might be interesting to know scalarness on"
   ]
  },
  {
   "cell_type": "code",
   "execution_count": 27,
   "metadata": {},
   "outputs": [
    {
     "data": {
      "text/plain": [
       "scalarness (generic function with 5 methods)"
      ]
     },
     "execution_count": 27,
     "metadata": {},
     "output_type": "execute_result"
    }
   ],
   "source": [
    "using InteractiveUtils: hasmethod\n",
    "scalarness(::Type{T}) where T = hasmethod(Base.iterate, (T,)) ? NonScalar() : Scalar()"
   ]
  },
  {
   "cell_type": "markdown",
   "metadata": {},
   "source": [
    "Now this makes may thing things work without having to define the scalarness trait,\n",
    "though you would be surprised how many things have `iterate` defined.\n"
   ]
  },
  {
   "cell_type": "code",
   "execution_count": 28,
   "metadata": {},
   "outputs": [
    {
     "name": "stdout",
     "output_type": "stream",
     "text": [
      "scalarness(Dict) = NonScalar()\n",
      "scalarness(Int) = NonScalar()\n",
      "aslist(1) = 1\n"
     ]
    },
    {
     "data": {
      "text/plain": [
       "1"
      ]
     },
     "execution_count": 28,
     "metadata": {},
     "output_type": "execute_result"
    }
   ],
   "source": [
    "@show scalarness(Dict)\n",
    "@show scalarness(Int);\n",
    "\n",
    "@show aslist(1)"
   ]
  },
  {
   "cell_type": "markdown",
   "metadata": {},
   "source": [
    "All `number` types have the iterate function defined on them.\n",
    "So we probably want to overwrite that."
   ]
  },
  {
   "cell_type": "code",
   "execution_count": 29,
   "metadata": {},
   "outputs": [
    {
     "name": "stdout",
     "output_type": "stream",
     "text": [
      "scalarness(Int) = Scalar()\n"
     ]
    }
   ],
   "source": [
    "scalarness(::Type{<:Number}) =  Scalar()\n",
    "\n",
    "@show scalarness(Int);"
   ]
  },
  {
   "cell_type": "code",
   "execution_count": 30,
   "metadata": {},
   "outputs": [
    {
     "data": {
      "text/plain": [
       "1-element Array{Int64,1}:\n",
       " 1"
      ]
     },
     "execution_count": 30,
     "metadata": {},
     "output_type": "execute_result"
    }
   ],
   "source": [
    "aslist(1)"
   ]
  },
  {
   "cell_type": "markdown",
   "metadata": {},
   "source": [
    "Also, **notice that it is now nolonger a nice clean static dispatch.**\n",
    "Because it depends on the global state of the method table.\n",
    "Which will mean that it has to resolve the trait at run-time.\n",
    "So it will be slower."
   ]
  },
  {
   "cell_type": "code",
   "execution_count": 31,
   "metadata": {},
   "outputs": [
    {
     "name": "stdout",
     "output_type": "stream",
     "text": [
      "Body\u001b[91m\u001b[1m::Union{NonScalar, Scalar}\u001b[22m\u001b[39m\n",
      "\u001b[90m\u001b[51G│╻╷        hasmethod\u001b[1G\u001b[39m\u001b[90m2 \u001b[39m1 ─ %1  = π (Tuple{Dict}, \u001b[36mType{Tuple{Dict}}\u001b[39m)\n",
      "\u001b[90m\u001b[51G││┃│        #hasmethod#19\u001b[1G\u001b[39m\u001b[90m  \u001b[39m│   %2  = π (typeof(iterate), \u001b[36mType{typeof(iterate)}\u001b[39m)\n",
      "\u001b[90m\u001b[51G│││╻         signature_type\u001b[1G\u001b[39m\u001b[90m  \u001b[39m│   %3  = (Base.getfield)(%1, :parameters)\u001b[36m::Core.SimpleVector\u001b[39m\n",
      "\u001b[90m\u001b[51G││││      \u001b[1G\u001b[39m\u001b[90m  \u001b[39m│   %4  = π (%3, \u001b[36mCore.SimpleVector\u001b[39m)\n",
      "\u001b[90m\u001b[51G││││      \u001b[1G\u001b[39m\u001b[90m  \u001b[39m│   %5  = π (%2, \u001b[36mType{typeof(iterate)}\u001b[39m)\n",
      "\u001b[90m\u001b[51G││││      \u001b[1G\u001b[39m\u001b[90m  \u001b[39m│   %6  = (Core.tuple)(Base.Tuple, %5)\u001b[36m::Tuple{DataType,DataType}\u001b[39m\n",
      "\u001b[90m\u001b[51G││││      \u001b[1G\u001b[39m\u001b[90m  \u001b[39m│   %7  = π (%4, \u001b[36mCore.SimpleVector\u001b[39m)\n",
      "\u001b[90m\u001b[51G││││      \u001b[1G\u001b[39m\u001b[90m  \u001b[39m│   %8  = (Core._apply)(Core.apply_type, %6, %7)\u001b[36m::Type{Tuple{typeof(iterate),Dict}}\u001b[39m\n",
      "\u001b[90m\u001b[51G│││╻         getproperty\u001b[1G\u001b[39m\u001b[90m  \u001b[39m│   %9  = (Base.getfield)(typeof(iterate), :name)\u001b[36m::Core.TypeName\u001b[39m\n",
      "\u001b[90m\u001b[51G││││      \u001b[1G\u001b[39m\u001b[90m  \u001b[39m│   %10 = (Base.getfield)(%9, :mt)\u001b[91m\u001b[1m::Any\u001b[22m\u001b[39m\n",
      "\u001b[90m\u001b[51G│││       \u001b[1G\u001b[39m\u001b[90m  \u001b[39m│   %11 = π (%8, \u001b[36mType{Tuple{typeof(iterate),Dict}}\u001b[39m)\n",
      "\u001b[90m\u001b[51G│││       \u001b[1G\u001b[39m\u001b[90m  \u001b[39m│   %12 = $(Expr(:foreigncall, :(:jl_method_exists), Int32, svec(Any, Any, UInt64), :(:ccall), 3, :(%10), :(%11), 0xffffffffffffffff, 0xffffffffffffffff))\u001b[36m::Int32\u001b[39m\n",
      "\u001b[90m\u001b[51G││││╻╷╷╷╷╷    ==\u001b[1G\u001b[39m\u001b[90m  \u001b[39m│   %13 = (Core.sext_int)(Core.Int64, %12)\u001b[36m::Int64\u001b[39m\n",
      "\u001b[90m\u001b[51G│││││╻         ==\u001b[1G\u001b[39m\u001b[90m  \u001b[39m│   %14 = (%13 === 0)\u001b[36m::Bool\u001b[39m\n",
      "\u001b[90m\u001b[51G││││╻         !\u001b[1G\u001b[39m\u001b[90m  \u001b[39m│   %15 = (Base.not_int)(%14)\u001b[36m::Bool\u001b[39m\n",
      "\u001b[90m\u001b[51G│         \u001b[1G\u001b[39m\u001b[90m  \u001b[39m└──       goto #3 if not %15\n",
      "\u001b[90m\u001b[51G│         \u001b[1G\u001b[39m\u001b[90m  \u001b[39m2 ─       return $(QuoteNode(NonScalar()))\n",
      "\u001b[90m\u001b[51G│         \u001b[1G\u001b[39m\u001b[90m  \u001b[39m3 ─       return $(QuoteNode(Scalar()))\n"
     ]
    }
   ],
   "source": [
    "@code_warntype(scalarness(Dict))"
   ]
  },
  {
   "cell_type": "markdown",
   "metadata": {},
   "source": [
    "Though types that we have defined an explict rule for will still be fast."
   ]
  },
  {
   "cell_type": "markdown",
   "metadata": {},
   "source": [
    "However, types that we have an more specific trait method for will still be fast,\n",
    "since they will not hit the type-unstable fallback."
   ]
  },
  {
   "cell_type": "code",
   "execution_count": 32,
   "metadata": {},
   "outputs": [
    {
     "name": "stdout",
     "output_type": "stream",
     "text": [
      "Body\u001b[36m::Scalar\u001b[39m\n",
      "\u001b[90m\u001b[77G│\u001b[1G\u001b[39m\u001b[90m1 \u001b[39m1 ─     return $(QuoteNode(Scalar()))\n"
     ]
    }
   ],
   "source": [
    "@code_warntype(scalarness(Int))"
   ]
  },
  {
   "cell_type": "markdown",
   "metadata": {},
   "source": [
    "On a theoretical level, `hasmethod` could be made type-stable and inferable; \n",
    "which would allow for the static dispatch that we see for the explict cases.\n",
    "This might be a thing in future versions of Julia.\n",
    "It requires triggering recompilations of code depending on the lists of methods when they change.\n",
    "There is [some discussion of that here.](https://github.com/mauro3/SimpleTraits.jl/issues/40)."
   ]
  },
  {
   "cell_type": "code",
   "execution_count": null,
   "metadata": {},
   "outputs": [],
   "source": []
  },
  {
   "cell_type": "markdown",
   "metadata": {},
   "source": [
    "## Part 4: Hard-core, reflecting upon `methods`\n",
    "\n",
    "To avoid the dynamic dispatch that needs to be done for `hasmethod`,\n",
    "we could declare all the `scalarness` of all types we know to have `iterate` methods.\n",
    "\n",
    "This can be done could use reflection and metaprogramming,\n",
    "which will generate a set of trait methods,\n",
    "based on the current state of the of method table.\n",
    "\n",
    "Be warned this gets intense.\n",
    "\n",
    "Notice the methods that exist for iterate: (I'll just show the first five)."
   ]
  },
  {
   "cell_type": "code",
   "execution_count": 33,
   "metadata": {},
   "outputs": [
    {
     "data": {
      "text/html": [
       "5-element Array{Method,1}:<ul><li> iterate(v::<b>Core.SimpleVector</b>) in Base at <a href=\"https://github.com/JuliaLang/julia/tree/5d4eaca0c9fa3d555c79dbacdccb9169fdf64b65/base/essentials.jl#L578\" target=\"_blank\">essentials.jl:578</a><li> iterate(v::<b>Core.SimpleVector</b>, i) in Base at <a href=\"https://github.com/JuliaLang/julia/tree/5d4eaca0c9fa3d555c79dbacdccb9169fdf64b65/base/essentials.jl#L578\" target=\"_blank\">essentials.jl:578</a><li> iterate(ebo::<b>ExponentialBackOff</b>) in Base at <a href=\"https://github.com/JuliaLang/julia/tree/5d4eaca0c9fa3d555c79dbacdccb9169fdf64b65/base/error.jl#L171\" target=\"_blank\">error.jl:171</a><li> iterate(ebo::<b>ExponentialBackOff</b>, state) in Base at <a href=\"https://github.com/JuliaLang/julia/tree/5d4eaca0c9fa3d555c79dbacdccb9169fdf64b65/base/error.jl#L171\" target=\"_blank\">error.jl:171</a><li> iterate(m::<b>Base.MethodList</b>, s...) in Base at <a href=\"https://github.com/JuliaLang/julia/tree/5d4eaca0c9fa3d555c79dbacdccb9169fdf64b65/base/reflection.jl#L730\" target=\"_blank\">reflection.jl:730</a></ul>"
      ],
      "text/plain": [
       "[1] iterate(v::Core.SimpleVector) in Base at essentials.jl:578\n",
       "[2] iterate(v::Core.SimpleVector, i) in Base at essentials.jl:578\n",
       "[3] iterate(ebo::ExponentialBackOff) in Base at error.jl:171\n",
       "[4] iterate(ebo::ExponentialBackOff, state) in Base at error.jl:171\n",
       "[5] iterate(m::Base.MethodList, s...) in Base at reflection.jl:730"
      ]
     },
     "execution_count": 33,
     "metadata": {},
     "output_type": "execute_result"
    }
   ],
   "source": [
    "collect(methods(Base.iterate))[1:5]"
   ]
  },
  {
   "cell_type": "markdown",
   "metadata": {},
   "source": [
    "We can extract their parameter types."
   ]
  },
  {
   "cell_type": "code",
   "execution_count": 34,
   "metadata": {},
   "outputs": [
    {
     "data": {
      "text/html": [
       "iterate(v::<b>Core.SimpleVector</b>) in Base at <a href=\"https://github.com/JuliaLang/julia/tree/5d4eaca0c9fa3d555c79dbacdccb9169fdf64b65/base/essentials.jl#L578\" target=\"_blank\">essentials.jl:578</a>"
      ],
      "text/plain": [
       "iterate(v::Core.SimpleVector) in Base at essentials.jl:578"
      ]
     },
     "execution_count": 34,
     "metadata": {},
     "output_type": "execute_result"
    }
   ],
   "source": [
    "mm = first(methods(Base.iterate))"
   ]
  },
  {
   "cell_type": "code",
   "execution_count": 35,
   "metadata": {},
   "outputs": [
    {
     "data": {
      "text/plain": [
       "Tuple{typeof(iterate),Core.SimpleVector}"
      ]
     },
     "execution_count": 35,
     "metadata": {},
     "output_type": "execute_result"
    }
   ],
   "source": [
    "mm.sig"
   ]
  },
  {
   "cell_type": "markdown",
   "metadata": {},
   "source": [
    "Note that that this is not a Tuple **value**, that is a Tuple **type**.\n",
    "First type-param is the function, and the rest are the arguments.\n",
    "We are actually going to write dispatch based rules to create out trait functions.\n"
   ]
  },
  {
   "cell_type": "code",
   "execution_count": 36,
   "metadata": {},
   "outputs": [
    {
     "data": {
      "text/plain": [
       "try_get_single_argtype (generic function with 4 methods)"
      ]
     },
     "execution_count": 36,
     "metadata": {},
     "output_type": "execute_result"
    }
   ],
   "source": [
    "try_get_single_argtype(f::Function) = map(try_get_single_argtype, methods(f)) # check each method of function\n",
    "\n",
    "try_get_single_argtype(mm::Method) = try_get_single_argtype(mm.sig)\n",
    "\n",
    "try_get_single_argtype(x::Any) = nothing # Fail, return nothing to indicate failure.\n",
    "\n",
    "# We are only intrested in doing things for the 1 argument signature.\n",
    "# which is the 2-tuple\n",
    "try_get_single_argtype(::Type{Tuple{F, T}}) where {F, T} = T"
   ]
  },
  {
   "cell_type": "code",
   "execution_count": 37,
   "metadata": {},
   "outputs": [
    {
     "data": {
      "text/plain": [
       "Core.SimpleVector"
      ]
     },
     "execution_count": 37,
     "metadata": {},
     "output_type": "execute_result"
    }
   ],
   "source": [
    "try_get_single_argtype(mm)"
   ]
  },
  {
   "cell_type": "code",
   "execution_count": 38,
   "metadata": {},
   "outputs": [
    {
     "data": {
      "text/plain": [
       "true"
      ]
     },
     "execution_count": 38,
     "metadata": {},
     "output_type": "execute_result"
    }
   ],
   "source": [
    "try_get_single_argtype(methods(Base.iterate).ms[2])==nothing"
   ]
  },
  {
   "cell_type": "markdown",
   "metadata": {},
   "source": [
    "Now we can go through and filter based on if `try_get_single_argtype` returned nothing,"
   ]
  },
  {
   "cell_type": "code",
   "execution_count": 39,
   "metadata": {},
   "outputs": [
    {
     "data": {
      "text/plain": [
       "75-element Array{Any,1}:\n",
       " Core.SimpleVector                      \n",
       " ExponentialBackOff                     \n",
       " Base.Iterators.ProductIterator{Tuple{}}\n",
       " BitSet                                 \n",
       " String                                 \n",
       " Base.RegexMatchIterator                \n",
       " Base.EnvDict                           \n",
       " Cmd                                    \n",
       " Base.AsyncCollector                    \n",
       " Base.AsyncGenerator                    \n",
       " LibGit2.GitBranchIter                  \n",
       " LibGit2.GitConfigIter                  \n",
       " LibGit2.GitRevWalker                   \n",
       " ⋮                                      \n",
       " QR                                     \n",
       " LinearAlgebra.QRCompactWY              \n",
       " QRPivoted                              \n",
       " Hessenberg                             \n",
       " LQ                                     \n",
       " Union{Eigen, GeneralizedEigen}         \n",
       " SVD                                    \n",
       " GeneralizedSVD                         \n",
       " LU                                     \n",
       " BunchKaufman                           \n",
       " Schur                                  \n",
       " GeneralizedSchur                       "
      ]
     },
     "execution_count": 39,
     "metadata": {},
     "output_type": "execute_result"
    }
   ],
   "source": [
    "is_nothing(::Nothing) = true\n",
    "is_nothing(::Any) = false\n",
    "\n",
    "nonscalar_types = unique(filter(!is_nothing, try_get_single_argtype(Base.iterate)))"
   ]
  },
  {
   "cell_type": "markdown",
   "metadata": {},
   "source": [
    "Notice however some of the types we found are from other modules -- modules that are loaded but not in\n",
    "a quick hack that lets use exclude those is to check if `occursin(\".\", string(T))`."
   ]
  },
  {
   "cell_type": "code",
   "execution_count": 40,
   "metadata": {},
   "outputs": [
    {
     "data": {
      "text/plain": [
       "34-element Array{Any,1}:\n",
       " ExponentialBackOff            \n",
       " BitSet                        \n",
       " String                        \n",
       " Cmd                           \n",
       " Tuple                         \n",
       " Pair                          \n",
       " Union{LinRange, StepRangeLen} \n",
       " OrdinalRange                  \n",
       " Number                        \n",
       " Ref                           \n",
       " LinearIndices                 \n",
       " Array                         \n",
       " BitArray                      \n",
       " ⋮                             \n",
       " Channel                       \n",
       " QR                            \n",
       " QRPivoted                     \n",
       " Hessenberg                    \n",
       " LQ                            \n",
       " Union{Eigen, GeneralizedEigen}\n",
       " SVD                           \n",
       " GeneralizedSVD                \n",
       " LU                            \n",
       " BunchKaufman                  \n",
       " Schur                         \n",
       " GeneralizedSchur              "
      ]
     },
     "execution_count": 40,
     "metadata": {},
     "output_type": "execute_result"
    }
   ],
   "source": [
    "nonscalar_types = filter(nonscalar_types) do T\n",
    "    !occursin(\".\", string(T)) #Quick hack to see if it is in a module that is loaded\n",
    "end\n"
   ]
  },
  {
   "cell_type": "markdown",
   "metadata": {},
   "source": [
    "Once we have out types we need to generate the code.\n",
    "The following is a pretty hacky way to do so, abusing strings.\n",
    "But does give a nice example of dispatch again."
   ]
  },
  {
   "cell_type": "code",
   "execution_count": 41,
   "metadata": {},
   "outputs": [
    {
     "data": {
      "text/plain": [
       "scalarness_function_expr (generic function with 3 methods)"
      ]
     },
     "execution_count": 41,
     "metadata": {},
     "output_type": "execute_result"
    }
   ],
   "source": [
    "string_form(T) = string(T)\n",
    "string_form(T::UnionAll) = string(T.body, \" where \", T.var)\n",
    "\n",
    "\n",
    "function scalarness_function_expr(T)\n",
    "    str_T = string_form(T)\n",
    "    parts = split(str_T, \"where\"; limit=2)\n",
    "    scalarness_function_expr(parts...)\n",
    "end\n",
    "\n",
    "\n",
    "# 1 arg means no where clause\n",
    "function scalarness_function_expr(type_str::AbstractString)\n",
    "    type_expr = Meta.parse(type_str)\n",
    "    \n",
    "    :(scalarness(::Type{<:$(type_expr)}) = NonScalar())\n",
    "end\n",
    "\n",
    "# 2 arg means found a where clause\n",
    "function scalarness_function_expr(type_str::AbstractString, where_str::AbstractString)\n",
    "    type_expr = Meta.parse(type_str)\n",
    "    Meta.parse(string(:(scalarness(::Type{<:$(type_expr)}))) * \" where $(where_str) = NonScalar()\")\n",
    "end\n"
   ]
  },
  {
   "cell_type": "code",
   "execution_count": 42,
   "metadata": {},
   "outputs": [
    {
     "data": {
      "text/plain": [
       ":(scalarness(::Type{<:BitSet}) = begin\n",
       "          #= In[41]:16 =#\n",
       "          NonScalar()\n",
       "      end)"
      ]
     },
     "execution_count": 42,
     "metadata": {},
     "output_type": "execute_result"
    }
   ],
   "source": [
    "scalarness_function_expr(BitSet)"
   ]
  },
  {
   "cell_type": "code",
   "execution_count": 43,
   "metadata": {},
   "outputs": [
    {
     "data": {
      "text/plain": [
       ":(((scalarness(::Type{<:GeneralizedSchur{Ty, M}}) where M <: (AbstractArray{T, 2} where T)) where Ty) = begin\n",
       "          #= none:1 =#\n",
       "          NonScalar()\n",
       "      end)"
      ]
     },
     "execution_count": 43,
     "metadata": {},
     "output_type": "execute_result"
    }
   ],
   "source": [
    "scalarness_function_expr(last(nonscalar_types))"
   ]
  },
  {
   "cell_type": "code",
   "execution_count": 44,
   "metadata": {},
   "outputs": [
    {
     "data": {
      "text/plain": [
       ":(((scalarness(::Type{<:Pair{A, B}}) where B) where A) = begin\n",
       "          #= none:1 =#\n",
       "          NonScalar()\n",
       "      end)"
      ]
     },
     "execution_count": 44,
     "metadata": {},
     "output_type": "execute_result"
    }
   ],
   "source": [
    "scalarness_function_expr(nonscalar_types[6])"
   ]
  },
  {
   "cell_type": "markdown",
   "metadata": {},
   "source": [
    "Looks like good code that we could evaluate.\n",
    "I know it doesn't capture all cases,\n",
    "but it is more than enough for demonstration."
   ]
  },
  {
   "cell_type": "code",
   "execution_count": 45,
   "metadata": {},
   "outputs": [
    {
     "name": "stdout",
     "output_type": "stream",
     "text": [
      "\n",
      "err = TypeError(:<:, \"\", Type, R<:Tuple{})\n",
      "T = CartesianIndices{0,R} where R<:Tuple{}\n",
      "scalarness_function_expr(T) = :((scalarness(::Type{<:CartesianIndices{0, R <: Tuple{}}}) where R <: Tuple{}) = begin\n",
      "          #= none:1 =#\n",
      "          NonScalar()\n",
      "      end)\n",
      "\n",
      "err = ErrorException(\"syntax: incomplete: premature end of input\")\n",
      "T = Union{KeySet{#s57,#s56} where #s56<:Dict where #s57, ValueIterator{#s55} where #s55<:Dict}\n",
      "scalarness_function_expr(T) = :($(Expr(:incomplete, \"incomplete: premature end of input\")))\n",
      "\n",
      "err = TypeError(:<:, \"\", Type, T<:AbstractString)\n",
      "T = SubString\n",
      "scalarness_function_expr(T) = :((scalarness(::Type{<:SubString{T <: AbstractString}}) where T <: AbstractString) = begin\n",
      "          #= none:1 =#\n",
      "          NonScalar()\n",
      "      end)\n",
      "\n",
      "err = ErrorException(\"syntax: invalid variable expression in \\\"where\\\"\")\n",
      "T = BunchKaufman\n",
      "scalarness_function_expr(T) = :(((scalarness(::Type{<:BunchKaufman{T, S}}) where S <: (AbstractArray{T, 2} where T)) where T) = begin\n",
      "          #= none:1 =#\n",
      "          NonScalar()\n",
      "      end)\n"
     ]
    }
   ],
   "source": [
    "for T in nonscalar_types\n",
    "    try\n",
    "        eval(scalarness_function_expr(T))\n",
    "    catch err\n",
    "        println()\n",
    "        @show err\n",
    "        @show T\n",
    "        @show scalarness_function_expr(T)\n",
    "    end        \n",
    "end"
   ]
  },
  {
   "cell_type": "markdown",
   "metadata": {},
   "source": [
    "So, this worked for most of them.\n",
    "It would be possible to go back and tweak out metaprogramming to catch the last few."
   ]
  },
  {
   "cell_type": "code",
   "execution_count": 46,
   "metadata": {},
   "outputs": [
    {
     "data": {
      "text/html": [
       "34 methods for generic function <b>scalarness</b>:<ul><li> scalarness(::<b>Type{#s11} where #s11<:Union{LinRange, StepRangeLen}</b>) in Main at In[41]:16</li> <li> scalarness<i>{T, S}</i>(::<b>Type{#s11} where #s11<:OrdinalRange{T,S}</b>) in Main at none:1</li> <li> scalarness<i>{N, R<:Tuple{Vararg{AbstractUnitRange{Int64},N}}}</i>(::<b>Type{#s11} where #s11<:LinearIndices{N,R}</b>) in Main at none:1</li> <li> scalarness<i>{T, N}</i>(::<b>Type{#s11} where #s11<:Array{T,N}</b>) in Main at none:1</li> <li> scalarness<i>{N}</i>(::<b>Type{#s11} where #s11<:BitArray{N}</b>) in Main at none:1</li> <li> scalarness<i>{N, R<:Tuple{Vararg{AbstractUnitRange{Int64},N}}}</i>(::<b>Type{#s11} where #s11<:CartesianIndices{N,R}</b>) in Main at none:1</li> <li> scalarness<i>{T, N}</i>(::<b>Type{#s11} where #s11<:AbstractArray{T,N}</b>) in Main at none:1</li> <li> scalarness(::<b>Type{#s1} where #s1<:AbstractArray</b>) in Main at In[20]:2</li> <li> scalarness(::<b>Type{#s11} where #s11<:String</b>) in Main at In[41]:16</li> <li> scalarness(::<b>Type{#s1} where #s1<:AbstractString</b>) in Main at In[20]:4</li> <li> scalarness(::<b>Type{#s11} where #s11<:BitSet</b>) in Main at In[41]:16</li> <li> scalarness(::<b>Type{#s11} where #s11<:AbstractSet</b>) in Main at In[25]:1</li> <li> scalarness(::<b>Type{#s11} where #s11<:ExponentialBackOff</b>) in Main at In[41]:16</li> <li> scalarness(::<b>Type{#s11} where #s11<:Cmd</b>) in Main at In[41]:16</li> <li> scalarness(::<b>Type{#s11} where #s11<:Tuple</b>) in Main at In[41]:16</li> <li> scalarness<i>{A, B}</i>(::<b>Type{#s11} where #s11<:Pair{A,B}</b>) in Main at none:1</li> <li> scalarness(::<b>Type{#s11} where #s11<:Number</b>) in Main at In[41]:16</li> <li> scalarness<i>{T}</i>(::<b>Type{#s11} where #s11<:Ref{T}</b>) in Main at none:1</li> <li> scalarness<i>{names, T<:Tuple}</i>(::<b>Type{#s11} where #s11<:NamedTuple{names,T}</b>) in Main at none:1</li> <li> scalarness<i>{K, V}</i>(::<b>Type{#s11} where #s11<:Dict{K,V}</b>) in Main at none:1</li> <li> scalarness(::<b>Type{#s11} where #s11<:AbstractChar</b>) in Main at In[41]:16</li> <li> scalarness<i>{N}</i>(::<b>Type{#s11} where #s11<:CartesianIndex{N}</b>) in Main at none:1</li> <li> scalarness<i>{T}</i>(::<b>Type{#s11} where #s11<:Channel{T}</b>) in Main at none:1</li> <li> scalarness<i>{T, S<:AbstractArray{T,2}}</i>(::<b>Type{#s11} where #s11<:QR{T,S}</b>) in Main at none:1</li> <li> scalarness<i>{T, S<:AbstractArray{T,2}}</i>(::<b>Type{#s11} where #s11<:QRPivoted{T,S}</b>) in Main at none:1</li> <li> scalarness<i>{T, S<:AbstractArray{T,2}}</i>(::<b>Type{#s11} where #s11<:Hessenberg{T,S}</b>) in Main at none:1</li> <li> scalarness<i>{T, S<:AbstractArray{T,2}}</i>(::<b>Type{#s11} where #s11<:LQ{T,S}</b>) in Main at none:1</li> <li> scalarness(::<b>Type{#s11} where #s11<:Union{Eigen, GeneralizedEigen}</b>) in Main at In[41]:16</li> <li> scalarness<i>{T, Tr, M<:(AbstractArray{T,N} where N)}</i>(::<b>Type{#s11} where #s11<:SVD{T,Tr,M}</b>) in Main at none:1</li> <li> scalarness<i>{T, S}</i>(::<b>Type{#s11} where #s11<:GeneralizedSVD{T,S}</b>) in Main at none:1</li> <li> scalarness<i>{T, S<:AbstractArray{T,2}}</i>(::<b>Type{#s11} where #s11<:LU{T,S}</b>) in Main at none:1</li> <li> scalarness<i>{Ty, S<:(AbstractArray{T,2} where T)}</i>(::<b>Type{#s11} where #s11<:Schur{Ty,S}</b>) in Main at none:1</li> <li> scalarness<i>{Ty, M<:(AbstractArray{T,2} where T)}</i>(::<b>Type{#s1} where #s1<:GeneralizedSchur{Ty,M}</b>) in Main at none:1</li> <li> scalarness<i>{T}</i>(::<b>Type{T}</b>) in Main at In[27]:2</li> </ul>"
      ],
      "text/plain": [
       "# 34 methods for generic function \"scalarness\":\n",
       "[1] scalarness(::Type{#s11} where #s11<:Union{LinRange, StepRangeLen}) in Main at In[41]:16\n",
       "[2] scalarness(::Type{#s11} where #s11<:OrdinalRange{T,S}) where {T, S} in Main at none:1\n",
       "[3] scalarness(::Type{#s11} where #s11<:LinearIndices{N,R}) where {N, R<:Tuple{Vararg{AbstractUnitRange{Int64},N}}} in Main at none:1\n",
       "[4] scalarness(::Type{#s11} where #s11<:Array{T,N}) where {T, N} in Main at none:1\n",
       "[5] scalarness(::Type{#s11} where #s11<:BitArray{N}) where N in Main at none:1\n",
       "[6] scalarness(::Type{#s11} where #s11<:CartesianIndices{N,R}) where {N, R<:Tuple{Vararg{AbstractUnitRange{Int64},N}}} in Main at none:1\n",
       "[7] scalarness(::Type{#s11} where #s11<:AbstractArray{T,N}) where {T, N} in Main at none:1\n",
       "[8] scalarness(::Type{#s1} where #s1<:AbstractArray) in Main at In[20]:2\n",
       "[9] scalarness(::Type{#s11} where #s11<:String) in Main at In[41]:16\n",
       "[10] scalarness(::Type{#s1} where #s1<:AbstractString) in Main at In[20]:4\n",
       "[11] scalarness(::Type{#s11} where #s11<:BitSet) in Main at In[41]:16\n",
       "[12] scalarness(::Type{#s11} where #s11<:AbstractSet) in Main at In[25]:1\n",
       "[13] scalarness(::Type{#s11} where #s11<:ExponentialBackOff) in Main at In[41]:16\n",
       "[14] scalarness(::Type{#s11} where #s11<:Cmd) in Main at In[41]:16\n",
       "[15] scalarness(::Type{#s11} where #s11<:Tuple) in Main at In[41]:16\n",
       "[16] scalarness(::Type{#s11} where #s11<:Pair{A,B}) where {A, B} in Main at none:1\n",
       "[17] scalarness(::Type{#s11} where #s11<:Number) in Main at In[41]:16\n",
       "[18] scalarness(::Type{#s11} where #s11<:Ref{T}) where T in Main at none:1\n",
       "[19] scalarness(::Type{#s11} where #s11<:NamedTuple{names,T}) where {names, T<:Tuple} in Main at none:1\n",
       "[20] scalarness(::Type{#s11} where #s11<:Dict{K,V}) where {K, V} in Main at none:1\n",
       "[21] scalarness(::Type{#s11} where #s11<:AbstractChar) in Main at In[41]:16\n",
       "[22] scalarness(::Type{#s11} where #s11<:CartesianIndex{N}) where N in Main at none:1\n",
       "[23] scalarness(::Type{#s11} where #s11<:Channel{T}) where T in Main at none:1\n",
       "[24] scalarness(::Type{#s11} where #s11<:QR{T,S}) where {T, S<:AbstractArray{T,2}} in Main at none:1\n",
       "[25] scalarness(::Type{#s11} where #s11<:QRPivoted{T,S}) where {T, S<:AbstractArray{T,2}} in Main at none:1\n",
       "[26] scalarness(::Type{#s11} where #s11<:Hessenberg{T,S}) where {T, S<:AbstractArray{T,2}} in Main at none:1\n",
       "[27] scalarness(::Type{#s11} where #s11<:LQ{T,S}) where {T, S<:AbstractArray{T,2}} in Main at none:1\n",
       "[28] scalarness(::Type{#s11} where #s11<:Union{Eigen, GeneralizedEigen}) in Main at In[41]:16\n",
       "[29] scalarness(::Type{#s11} where #s11<:SVD{T,Tr,M}) where {T, Tr, M<:(AbstractArray{T,N} where N)} in Main at none:1\n",
       "[30] scalarness(::Type{#s11} where #s11<:GeneralizedSVD{T,S}) where {T, S} in Main at none:1\n",
       "[31] scalarness(::Type{#s11} where #s11<:LU{T,S}) where {T, S<:AbstractArray{T,2}} in Main at none:1\n",
       "[32] scalarness(::Type{#s11} where #s11<:Schur{Ty,S}) where {Ty, S<:(AbstractArray{T,2} where T)} in Main at none:1\n",
       "[33] scalarness(::Type{#s1} where #s1<:GeneralizedSchur{Ty,M}) where {Ty, M<:(AbstractArray{T,2} where T)} in Main at none:1\n",
       "[34] scalarness(::Type{T}) where T in Main at In[27]:2"
      ]
     },
     "execution_count": 46,
     "metadata": {},
     "output_type": "execute_result"
    }
   ],
   "source": [
    "methods(scalarness)"
   ]
  },
  {
   "cell_type": "code",
   "execution_count": 47,
   "metadata": {},
   "outputs": [
    {
     "name": "stdout",
     "output_type": "stream",
     "text": [
      "scalarness(Dict{Int, Int}) = NonScalar()\n",
      "scalarness(typeof(([1, 3, 2])')) = NonScalar()\n"
     ]
    },
    {
     "data": {
      "text/plain": [
       "NonScalar()"
      ]
     },
     "execution_count": 47,
     "metadata": {},
     "output_type": "execute_result"
    }
   ],
   "source": [
    "@show scalarness(Dict{Int,Int})\n",
    "@show scalarness(typeof([1,3,2]'))"
   ]
  },
  {
   "cell_type": "code",
   "execution_count": 48,
   "metadata": {},
   "outputs": [
    {
     "name": "stdout",
     "output_type": "stream",
     "text": [
      "Body\u001b[36m::NonScalar\u001b[39m\n",
      "\u001b[90m\u001b[77G│\u001b[1G\u001b[39m\u001b[90m1 \u001b[39m1 ─     return $(QuoteNode(NonScalar()))\n"
     ]
    }
   ],
   "source": [
    "@code_warntype scalarness(typeof([1,3,2]'))"
   ]
  },
  {
   "cell_type": "code",
   "execution_count": null,
   "metadata": {},
   "outputs": [],
   "source": []
  },
  {
   "cell_type": "markdown",
   "metadata": {},
   "source": [
    "So we have done this,\n",
    "and generated a ton of methods.\n",
    "And we avoid doing a dynamic dispatch on `hasmethod`,\n",
    "except as a fallback,\n",
    "for types that were not loaded when our metaprogramming run.\n",
    "A function could be exposed to rerun this.\n",
    "\n",
    "The whole thing of metaprograming over reflection is kinda evil though.\n",
    "But it is perhaps interesting to see how it can be done."
   ]
  }
 ],
 "metadata": {
  "kernelspec": {
   "display_name": "Julia 1.0.0",
   "language": "julia",
   "name": "julia-1.0"
  },
  "language_info": {
   "file_extension": ".jl",
   "mimetype": "application/julia",
   "name": "julia",
   "version": "1.0.0"
  }
 },
 "nbformat": 4,
 "nbformat_minor": 2
}
