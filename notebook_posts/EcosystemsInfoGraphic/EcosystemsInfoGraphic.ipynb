{
 "cells": [
  {
   "cell_type": "code",
   "execution_count": 1,
   "metadata": {},
   "outputs": [
    {
     "name": "stdout",
     "output_type": "stream",
     "text": [
      "\u001b[32m\u001b[1mActivating\u001b[22m\u001b[39m environment at `~/Documents/oxinabox.github.io/notebook_posts/EcosystemsInfoGraphic/Project.toml`\n"
     ]
    }
   ],
   "source": [
    "using Pkg: @pkg_str\n",
    "pkg\"activate .\""
   ]
  },
  {
   "cell_type": "code",
   "execution_count": 2,
   "metadata": {},
   "outputs": [
    {
     "data": {
      "text/plain": [
       "GitHubAPI(NoToken(), \"https://api.github.com\", true, GitForge.ORL_RETURN, GitForge.RateLimiter(1, 0), GitForge.RateLimiter(1, 0))"
      ]
     },
     "execution_count": 2,
     "metadata": {},
     "output_type": "execute_result"
    }
   ],
   "source": [
    "using GitForge, GitForge.GitHub\n",
    "using GitForge: Endpoint, request, parserels, response, HTTP\n",
    "\n",
    "github = GitHubAPI()"
   ]
  },
  {
   "cell_type": "code",
   "execution_count": 3,
   "metadata": {},
   "outputs": [],
   "source": [
    "GitForge.into(::GitHubAPI, ::Function) = Any"
   ]
  },
  {
   "cell_type": "code",
   "execution_count": 16,
   "metadata": {},
   "outputs": [],
   "source": [
    "function contibutors(forge, owner, repo; kwargs...)\n",
    "    endpoint = Endpoint(:GET, \"/repos/$owner/$repo/contributors\"; allow_404=true)\n",
    "    #request(forge, identity, endpoint)\n",
    "    #GitForge.paginate(request, forge, collect, endpoint)\n",
    "    GitForge.Paginator{Vector}(\n",
    "        request, \n",
    "        (forge, identity, endpoint),\n",
    "        kwargs, 1, 100\n",
    "    )\n",
    "    \n",
    "    res1 = request(forge, identity, endpoint)\n",
    "    _, last_page = parserels(HTTP.header(response(res1), \"Link\"))\n",
    "    last_page===nothing && (last_page=-1) \n",
    "    next_page_qs = [Dict(\"page\"=>p) for p in 2:last_page]\n",
    "    \n",
    "    initial_results = res1.val\n",
    "    csize = length(initial_results)\n",
    "    ctype = typeof(first(initial_results))  # all are same type\n",
    "    return Channel(ctype=ctype; csize=csize) do channel\n",
    "        for val in initial_results\n",
    "            push!(channel, val)\n",
    "        end\n",
    "        @sync for next_page_q in next_page_qs\n",
    "            @async begin\n",
    "                res = request(forge, identity, endpoint; query=next_page_q)\n",
    "                res.ex !== nothing && throw(res.ex)\n",
    "                for val in res.val\n",
    "                    push!(channel, val)\n",
    "                end\n",
    "            end\n",
    "        end\n",
    "    end\n",
    "end\n",
    "\n",
    "#x_res = contibutors(github, \"pandas-dev\", \"pandas\");\n",
    "\n"
   ]
  },
  {
   "cell_type": "code",
   "execution_count": 11,
   "metadata": {},
   "outputs": [],
   "source": [
    "x_all = [x for x in contibutors(github, \"christopher-dG\", \"GitForge.jl\")];"
   ]
  },
  {
   "cell_type": "code",
   "execution_count": 12,
   "metadata": {},
   "outputs": [
    {
     "data": {
      "text/plain": [
       "(login = \"christopher-dG\", id = 17228795, node_id = \"MDQ6VXNlcjE3MjI4Nzk1\", avatar_url = \"https://avatars0.githubusercontent.com/u/17228795?v=4\", gravatar_id = \"\", url = \"https://api.github.com/users/christopher-dG\", html_url = \"https://github.com/christopher-dG\", followers_url = \"https://api.github.com/users/christopher-dG/followers\", following_url = \"https://api.github.com/users/christopher-dG/following{/other_user}\", gists_url = \"https://api.github.com/users/christopher-dG/gists{/gist_id}\", starred_url = \"https://api.github.com/users/christopher-dG/starred{/owner}{/repo}\", subscriptions_url = \"https://api.github.com/users/christopher-dG/subscriptions\", organizations_url = \"https://api.github.com/users/christopher-dG/orgs\", repos_url = \"https://api.github.com/users/christopher-dG/repos\", events_url = \"https://api.github.com/users/christopher-dG/events{/privacy}\", received_events_url = \"https://api.github.com/users/christopher-dG/received_events\", type = \"User\", site_admin = false, contributions = 54)"
      ]
     },
     "execution_count": 12,
     "metadata": {},
     "output_type": "execute_result"
    }
   ],
   "source": [
    "x1 = first(x_all)\n",
    "x1."
   ]
  },
  {
   "cell_type": "code",
   "execution_count": 19,
   "metadata": {},
   "outputs": [
    {
     "ename": "MethodError",
     "evalue": "MethodError: no method matching header(::Nothing, ::String)\nClosest candidates are:\n  header(!Matched::HTTP.Messages.Message, ::Any) at /Users/oxinabox/.julia/packages/HTTP/ceBZF/src/Messages.jl:310\n  header(!Matched::HTTP.Messages.Message, ::Any, !Matched::Any) at /Users/oxinabox/.julia/packages/HTTP/ceBZF/src/Messages.jl:310\n  header(!Matched::Array{Pair{SubString{String},SubString{String}},1}, ::AbstractString) at /Users/oxinabox/.julia/packages/HTTP/ceBZF/src/Messages.jl:311\n  ...",
     "output_type": "error",
     "traceback": [
      "MethodError: no method matching header(::Nothing, ::String)\nClosest candidates are:\n  header(!Matched::HTTP.Messages.Message, ::Any) at /Users/oxinabox/.julia/packages/HTTP/ceBZF/src/Messages.jl:310\n  header(!Matched::HTTP.Messages.Message, ::Any, !Matched::Any) at /Users/oxinabox/.julia/packages/HTTP/ceBZF/src/Messages.jl:310\n  header(!Matched::Array{Pair{SubString{String},SubString{String}},1}, ::AbstractString) at /Users/oxinabox/.julia/packages/HTTP/ceBZF/src/Messages.jl:311\n  ...",
      "",
      "Stacktrace:",
      " [1] #contibutors#42(::Base.Iterators.Pairs{Union{},Union{},Tuple{},NamedTuple{(),Tuple{}}}, ::typeof(contibutors), ::GitHubAPI, ::String, ::String) at ./In[16]:12",
      " [2] contibutors(::GitHubAPI, ::String, ::String) at ./In[16]:2",
      " [3] top-level scope at In[19]:1"
     ]
    }
   ],
   "source": [
    "[x.login for x in contibutors(github, \"pandas-dev\", \"pandas\")]"
   ]
  },
  {
   "cell_type": "code",
   "execution_count": null,
   "metadata": {},
   "outputs": [],
   "source": []
  },
  {
   "cell_type": "code",
   "execution_count": null,
   "metadata": {},
   "outputs": [],
   "source": [
    "repo_res = get_repo(github, \"pandas-dev\", \"pandas\");\n",
    "repo_res.ex === nothing || throw(ex)\n",
    "repo = repo_res.val;"
   ]
  },
  {
   "cell_type": "code",
   "execution_count": null,
   "metadata": {},
   "outputs": [],
   "source": [
    "repo_res"
   ]
  },
  {
   "cell_type": "code",
   "execution_count": null,
   "metadata": {},
   "outputs": [],
   "source": []
  },
  {
   "cell_type": "code",
   "execution_count": 6,
   "metadata": {},
   "outputs": [
    {
     "data": {
      "text/plain": [
       "21055"
      ]
     },
     "execution_count": 6,
     "metadata": {},
     "output_type": "execute_result"
    }
   ],
   "source": [
    "repo.stargazers_count\n",
    "repo.created_at"
   ]
  },
  {
   "cell_type": "code",
   "execution_count": 5,
   "metadata": {},
   "outputs": [],
   "source": []
  },
  {
   "cell_type": "code",
   "execution_count": null,
   "metadata": {},
   "outputs": [],
   "source": []
  },
  {
   "cell_type": "code",
   "execution_count": 16,
   "metadata": {},
   "outputs": [
    {
     "data": {
      "text/plain": [
       "Base.Broadcast.Broadcasted(Array{T,1} where T, ())"
      ]
     },
     "execution_count": 16,
     "metadata": {},
     "output_type": "execute_result"
    }
   ],
   "source": [
    "Base.Broadcast.broadcasted(Vector)"
   ]
  },
  {
   "cell_type": "code",
   "execution_count": 179,
   "metadata": {},
   "outputs": [
    {
     "data": {
      "text/plain": [
       "Endpoint(:GET, \"/repos/pandas-dev/pandas/contributors\", Pair{SubString{String},SubString{String}}[], Dict{Any,Any}(), true)"
      ]
     },
     "execution_count": 179,
     "metadata": {},
     "output_type": "execute_result"
    }
   ],
   "source": [
    "owner = \"pandas-dev\"\n",
    "repo = \"pandas\"\n",
    "forge = github\n",
    "endpoint = Endpoint(:GET, \"/repos/$owner/$repo/contributors\"; allow_404=true)\n"
   ]
  },
  {
   "cell_type": "code",
   "execution_count": 181,
   "metadata": {},
   "outputs": [],
   "source": [
    "x_res = request(forge, identity, endpoint);"
   ]
  },
  {
   "cell_type": "code",
   "execution_count": 191,
   "metadata": {},
   "outputs": [
    {
     "data": {
      "text/plain": [
       "(Dict(\"page\" => \"2\"), 14)"
      ]
     },
     "execution_count": 191,
     "metadata": {},
     "output_type": "execute_result"
    }
   ],
   "source": [
    "next, last = parserels(HTTP.header(response(x_res), \"Link\"))"
   ]
  },
  {
   "cell_type": "code",
   "execution_count": 207,
   "metadata": {},
   "outputs": [
    {
     "data": {
      "text/plain": [
       "(nothing, nothing)"
      ]
     },
     "execution_count": 207,
     "metadata": {},
     "output_type": "execute_result"
    }
   ],
   "source": []
  },
  {
   "cell_type": "code",
   "execution_count": 205,
   "metadata": {},
   "outputs": [
    {
     "data": {
      "text/plain": [
       "10-element Array{Any,1}:\n",
       " (login = \"HyukjinKwon\", id = 6477701, node_id = \"MDQ6VXNlcjY0Nzc3MDE=\", avatar_url = \"https://avatars0.githubusercontent.com/u/6477701?v=4\", gravatar_id = \"\", url = \"https://api.github.com/users/HyukjinKwon\", html_url = \"https://github.com/HyukjinKwon\", followers_url = \"https://api.github.com/users/HyukjinKwon/followers\", following_url = \"https://api.github.com/users/HyukjinKwon/following{/other_user}\", gists_url = \"https://api.github.com/users/HyukjinKwon/gists{/gist_id}\", starred_url = \"https://api.github.com/users/HyukjinKwon/starred{/owner}{/repo}\", subscriptions_url = \"https://api.github.com/users/HyukjinKwon/subscriptions\", organizations_url = \"https://api.github.com/users/HyukjinKwon/orgs\", repos_url = \"https://api.github.com/users/HyukjinKwon/repos\", events_url = \"https://api.github.com/users/HyukjinKwon/events{/privacy}\", received_events_url = \"https://api.github.com/users/HyukjinKwon/received_events\", type = \"User\", site_admin = false, contributions = 2)                                                                                                                                                                        \n",
       " (login = \"HyunTruth\", id = 22214136, node_id = \"MDQ6VXNlcjIyMjE0MTM2\", avatar_url = \"https://avatars0.githubusercontent.com/u/22214136?v=4\", gravatar_id = \"\", url = \"https://api.github.com/users/HyunTruth\", html_url = \"https://github.com/HyunTruth\", followers_url = \"https://api.github.com/users/HyunTruth/followers\", following_url = \"https://api.github.com/users/HyunTruth/following{/other_user}\", gists_url = \"https://api.github.com/users/HyunTruth/gists{/gist_id}\", starred_url = \"https://api.github.com/users/HyunTruth/starred{/owner}{/repo}\", subscriptions_url = \"https://api.github.com/users/HyunTruth/subscriptions\", organizations_url = \"https://api.github.com/users/HyunTruth/orgs\", repos_url = \"https://api.github.com/users/HyunTruth/repos\", events_url = \"https://api.github.com/users/HyunTruth/events{/privacy}\", received_events_url = \"https://api.github.com/users/HyunTruth/received_events\", type = \"User\", site_admin = false, contributions = 2)                                                                                                                                                                                              \n",
       " (login = \"htkm\", id = 6189096, node_id = \"MDQ6VXNlcjYxODkwOTY=\", avatar_url = \"https://avatars1.githubusercontent.com/u/6189096?v=4\", gravatar_id = \"\", url = \"https://api.github.com/users/htkm\", html_url = \"https://github.com/htkm\", followers_url = \"https://api.github.com/users/htkm/followers\", following_url = \"https://api.github.com/users/htkm/following{/other_user}\", gists_url = \"https://api.github.com/users/htkm/gists{/gist_id}\", starred_url = \"https://api.github.com/users/htkm/starred{/owner}{/repo}\", subscriptions_url = \"https://api.github.com/users/htkm/subscriptions\", organizations_url = \"https://api.github.com/users/htkm/orgs\", repos_url = \"https://api.github.com/users/htkm/repos\", events_url = \"https://api.github.com/users/htkm/events{/privacy}\", received_events_url = \"https://api.github.com/users/htkm/received_events\", type = \"User\", site_admin = false, contributions = 2)                                                                                                                                                                                                                                                            \n",
       " (login = \"insertinterestingnamehere\", id = 1847484, node_id = \"MDQ6VXNlcjE4NDc0ODQ=\", avatar_url = \"https://avatars0.githubusercontent.com/u/1847484?v=4\", gravatar_id = \"\", url = \"https://api.github.com/users/insertinterestingnamehere\", html_url = \"https://github.com/insertinterestingnamehere\", followers_url = \"https://api.github.com/users/insertinterestingnamehere/followers\", following_url = \"https://api.github.com/users/insertinterestingnamehere/following{/other_user}\", gists_url = \"https://api.github.com/users/insertinterestingnamehere/gists{/gist_id}\", starred_url = \"https://api.github.com/users/insertinterestingnamehere/starred{/owner}{/repo}\", subscriptions_url = \"https://api.github.com/users/insertinterestingnamehere/subscriptions\", organizations_url = \"https://api.github.com/users/insertinterestingnamehere/orgs\", repos_url = \"https://api.github.com/users/insertinterestingnamehere/repos\", events_url = \"https://api.github.com/users/insertinterestingnamehere/events{/privacy}\", received_events_url = \"https://api.github.com/users/insertinterestingnamehere/received_events\", type = \"User\", site_admin = false, contributions = 2)\n",
       " (login = \"isantolin\", id = 264640, node_id = \"MDQ6VXNlcjI2NDY0MA==\", avatar_url = \"https://avatars2.githubusercontent.com/u/264640?v=4\", gravatar_id = \"\", url = \"https://api.github.com/users/isantolin\", html_url = \"https://github.com/isantolin\", followers_url = \"https://api.github.com/users/isantolin/followers\", following_url = \"https://api.github.com/users/isantolin/following{/other_user}\", gists_url = \"https://api.github.com/users/isantolin/gists{/gist_id}\", starred_url = \"https://api.github.com/users/isantolin/starred{/owner}{/repo}\", subscriptions_url = \"https://api.github.com/users/isantolin/subscriptions\", organizations_url = \"https://api.github.com/users/isantolin/orgs\", repos_url = \"https://api.github.com/users/isantolin/repos\", events_url = \"https://api.github.com/users/isantolin/events{/privacy}\", received_events_url = \"https://api.github.com/users/isantolin/received_events\", type = \"User\", site_admin = false, contributions = 2)                                                                                                                                                                                                  \n",
       " (login = \"ischurov\", id = 2717321, node_id = \"MDQ6VXNlcjI3MTczMjE=\", avatar_url = \"https://avatars3.githubusercontent.com/u/2717321?v=4\", gravatar_id = \"\", url = \"https://api.github.com/users/ischurov\", html_url = \"https://github.com/ischurov\", followers_url = \"https://api.github.com/users/ischurov/followers\", following_url = \"https://api.github.com/users/ischurov/following{/other_user}\", gists_url = \"https://api.github.com/users/ischurov/gists{/gist_id}\", starred_url = \"https://api.github.com/users/ischurov/starred{/owner}{/repo}\", subscriptions_url = \"https://api.github.com/users/ischurov/subscriptions\", organizations_url = \"https://api.github.com/users/ischurov/orgs\", repos_url = \"https://api.github.com/users/ischurov/repos\", events_url = \"https://api.github.com/users/ischurov/events{/privacy}\", received_events_url = \"https://api.github.com/users/ischurov/received_events\", type = \"User\", site_admin = false, contributions = 2)                                                                                                                                                                                                            \n",
       " (login = \"aldanor\", id = 2418513, node_id = \"MDQ6VXNlcjI0MTg1MTM=\", avatar_url = \"https://avatars0.githubusercontent.com/u/2418513?v=4\", gravatar_id = \"\", url = \"https://api.github.com/users/aldanor\", html_url = \"https://github.com/aldanor\", followers_url = \"https://api.github.com/users/aldanor/followers\", following_url = \"https://api.github.com/users/aldanor/following{/other_user}\", gists_url = \"https://api.github.com/users/aldanor/gists{/gist_id}\", starred_url = \"https://api.github.com/users/aldanor/starred{/owner}{/repo}\", subscriptions_url = \"https://api.github.com/users/aldanor/subscriptions\", organizations_url = \"https://api.github.com/users/aldanor/orgs\", repos_url = \"https://api.github.com/users/aldanor/repos\", events_url = \"https://api.github.com/users/aldanor/events{/privacy}\", received_events_url = \"https://api.github.com/users/aldanor/received_events\", type = \"User\", site_admin = false, contributions = 2)                                                                                                                                                                                                                        \n",
       " (login = \"JackKelly\", id = 460756, node_id = \"MDQ6VXNlcjQ2MDc1Ng==\", avatar_url = \"https://avatars2.githubusercontent.com/u/460756?v=4\", gravatar_id = \"\", url = \"https://api.github.com/users/JackKelly\", html_url = \"https://github.com/JackKelly\", followers_url = \"https://api.github.com/users/JackKelly/followers\", following_url = \"https://api.github.com/users/JackKelly/following{/other_user}\", gists_url = \"https://api.github.com/users/JackKelly/gists{/gist_id}\", starred_url = \"https://api.github.com/users/JackKelly/starred{/owner}{/repo}\", subscriptions_url = \"https://api.github.com/users/JackKelly/subscriptions\", organizations_url = \"https://api.github.com/users/JackKelly/orgs\", repos_url = \"https://api.github.com/users/JackKelly/repos\", events_url = \"https://api.github.com/users/JackKelly/events{/privacy}\", received_events_url = \"https://api.github.com/users/JackKelly/received_events\", type = \"User\", site_admin = false, contributions = 2)                                                                                                                                                                                                  \n",
       " (login = \"jacobschaer\", id = 5303784, node_id = \"MDQ6VXNlcjUzMDM3ODQ=\", avatar_url = \"https://avatars2.githubusercontent.com/u/5303784?v=4\", gravatar_id = \"\", url = \"https://api.github.com/users/jacobschaer\", html_url = \"https://github.com/jacobschaer\", followers_url = \"https://api.github.com/users/jacobschaer/followers\", following_url = \"https://api.github.com/users/jacobschaer/following{/other_user}\", gists_url = \"https://api.github.com/users/jacobschaer/gists{/gist_id}\", starred_url = \"https://api.github.com/users/jacobschaer/starred{/owner}{/repo}\", subscriptions_url = \"https://api.github.com/users/jacobschaer/subscriptions\", organizations_url = \"https://api.github.com/users/jacobschaer/orgs\", repos_url = \"https://api.github.com/users/jacobschaer/repos\", events_url = \"https://api.github.com/users/jacobschaer/events{/privacy}\", received_events_url = \"https://api.github.com/users/jacobschaer/received_events\", type = \"User\", site_admin = false, contributions = 2)                                                                                                                                                                        \n",
       " (login = \"r00ta\", id = 18282531, node_id = \"MDQ6VXNlcjE4MjgyNTMx\", avatar_url = \"https://avatars3.githubusercontent.com/u/18282531?v=4\", gravatar_id = \"\", url = \"https://api.github.com/users/r00ta\", html_url = \"https://github.com/r00ta\", followers_url = \"https://api.github.com/users/r00ta/followers\", following_url = \"https://api.github.com/users/r00ta/following{/other_user}\", gists_url = \"https://api.github.com/users/r00ta/gists{/gist_id}\", starred_url = \"https://api.github.com/users/r00ta/starred{/owner}{/repo}\", subscriptions_url = \"https://api.github.com/users/r00ta/subscriptions\", organizations_url = \"https://api.github.com/users/r00ta/orgs\", repos_url = \"https://api.github.com/users/r00ta/repos\", events_url = \"https://api.github.com/users/r00ta/events{/privacy}\", received_events_url = \"https://api.github.com/users/r00ta/received_events\", type = \"User\", site_admin = false, contributions = 2)                                                                                                                                                                                                                                              "
      ]
     },
     "execution_count": 205,
     "metadata": {},
     "output_type": "execute_result"
    }
   ],
   "source": [
    "x_res2.val"
   ]
  },
  {
   "cell_type": "code",
   "execution_count": 206,
   "metadata": {},
   "outputs": [
    {
     "data": {
      "text/plain": [
       "HTTP.Messages.Response:\n",
       "\"\"\"\n",
       "HTTP/1.1 200 OK\r\n",
       "Date: Sun, 01 Sep 2019 09:47:48 GMT\r\n",
       "Content-Type: application/json; charset=utf-8\r\n",
       "Content-Length: 9467\r\n",
       "Server: GitHub.com\r\n",
       "Status: 200 OK\r\n",
       "X-RateLimit-Limit: 60\r\n",
       "X-RateLimit-Remaining: 53\r\n",
       "X-RateLimit-Reset: 1567334868\r\n",
       "Cache-Control: public, max-age=60, s-maxage=60\r\n",
       "Vary: Accept\r\n",
       "ETag: \"9dffcf82f53fd58ac00c9d078447a3d6\"\r\n",
       "Last-Modified: Sun, 01 Sep 2019 08:25:27 GMT\r\n",
       "X-GitHub-Media-Type: github.v3; format=json\r\n",
       "Link: <https://api.github.com/repositories/858127/contributors?page=13>; rel=\"prev\", <https://api.github.com/repositories/858127/contributors?page=1>; rel=\"first\"\r\n",
       "Access-Control-Expose-Headers: ETag, Link, Location, Retry-After, X-GitHub-OTP, X-RateLimit-Limit, X-RateLimit-Remaining, X-RateLimit-Reset, X-OAuth-Scopes, X-Accepted-OAuth-Scopes, X-Poll-Interval, X-GitHub-Media-Type\r\n",
       "Access-Control-Allow-Origin: *\r\n",
       "Strict-Transport-Security: max-age=31536000; includeSubdomains; preload\r\n",
       "X-Frame-Options: deny\r\n",
       "X-Content-Type-Options: nosniff\r\n",
       "X-XSS-Protection: 1; mode=block\r\n",
       "Referrer-Policy: origin-when-cross-origin, strict-origin-when-cross-origin\r\n",
       "Content-Security-Policy: default-src 'none'\r\n",
       "Vary: Accept-Encoding\r\n",
       "X-GitHub-Request-Id: E9AE:1EED4:302D7B0:3A61106:5D6B9399\r\n",
       "\r\n",
       "[{\"login\":\"HyukjinKwon\",\"id\":6477701,\"node_id\":\"MDQ6VXNlcjY0Nzc3MDE=\",\"avatar_url\":\"https://avatars0.githubusercontent.com/u/6477701?v=4\",\"gravatar_id\":\"\",\"url\":\"https://api.github.com/users/HyukjinKwon\",\"html_url\":\"https://github.com/HyukjinKwon\",\"followers_url\":\"https://api.github.com/users/HyukjinKwon/followers\",\"following_url\":\"https://api.github.com/users/HyukjinKwon/following{/other_user}\",\"gists_url\":\"https://api.github.com/users/HyukjinKwon/gists{/gist_id}\",\"starred_url\":\"https://api.github.com/users/HyukjinKwon/starred{/owner}{/repo}\",\"subscriptions_url\":\"https://api.github.com/users/HyukjinKwon/subscriptions\",\"organizations_url\":\"https://api.github.com/users/HyukjinKwon/orgs\",\"repos_url\":\"https://api.github.com/users/HyukjinKwon/repos\",\"events_url\":\"https://api.github.com/users/HyukjinKwon/events{/privacy}\",\"received_events_url\":\"https://api.github.com/users/HyukjinKwon/received_events\",\"type\":\"User\",\"site_admin\":false,\"contributions\":2},{\"login\":\"HyunTruth\",\"id\":22214136,\"no\n",
       "⋮\n",
       "9467-byte body\n",
       "\"\"\""
      ]
     },
     "execution_count": 206,
     "metadata": {},
     "output_type": "execute_result"
    }
   ],
   "source": [
    "x_res2.resp"
   ]
  },
  {
   "cell_type": "code",
   "execution_count": null,
   "metadata": {},
   "outputs": [],
   "source": []
  }
 ],
 "metadata": {
  "kernelspec": {
   "display_name": "Julia 1.3.0-DEV",
   "language": "julia",
   "name": "julia-1.3"
  },
  "language_info": {
   "file_extension": ".jl",
   "mimetype": "application/julia",
   "name": "julia",
   "version": "1.3.0"
  }
 },
 "nbformat": 4,
 "nbformat_minor": 2
}
