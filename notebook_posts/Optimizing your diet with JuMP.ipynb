{
 "cells": [
  {
   "cell_type": "markdown",
   "metadata": {},
   "source": [
    "I've been wanting to do a [JuMP](https://github.com/JuliaOpt/JuMP.jl) blog post for a while.\n",
    "JuMP is a Julia mathematical programing library.\n",
    "It is to an extent a [DSL](https://en.wikipedia.org/wiki/Domain-specific_language) for describing constrained optimisation problems.\n",
    "\n",
    "A while ago, a friend came to me who was looking to get \"buff\",\n",
    "what he wanted to do, was maximise his protein intake, while maintaining a generally healthy diet.\n",
    "He wanted to know what foods he should be eating.\n",
    "To devise a diet.\n",
    "\n",
    "If one thinks about this,\n",
    "this is actually a [Linear Programming](https://en.wikipedia.org/wiki/Linear_programming) problem -- constrained linear optimisation.\n",
    "The variables are how much of each food to eat,\n",
    "and the contraints are around making sure you have enough (but not too much) of all the essential vitamins and minerals.\n",
    "\n",
    "Note: this is a bit of fun, in absolutely no way do I recommend using the diets the code I am about to show off generates.\n",
    "I am in no way qualified to be giving dietry or medical advice, etc.\n",
    "But this is a great way to play around with optimisation.\n",
    "<!--more-->"
   ]
  },
  {
   "cell_type": "markdown",
   "metadata": {},
   "source": [
    "So lets get started:\n",
    "Humans need nutrients, food contains nutrients do humans eat food.\n",
    "We could go down the path of consuming nutrient soup directly, but it is considered [unfun](https://en.wikipedia.org/wiki/Soylent_(meal_replacement)).\n",
    "People are also dubious of it ability to provide a complete diet due to sciences incomplete knowledge of exactly what trace minerals we might need.\n",
    "The same criticism kinda occurs here too.\n"
   ]
  },
  {
   "cell_type": "code",
   "execution_count": 1,
   "metadata": {},
   "outputs": [],
   "source": [
    "using JuMP\n",
    "using GLPKMathProgInterface"
   ]
  },
  {
   "cell_type": "markdown",
   "metadata": {},
   "source": [
    "We are going to load up JuMP.\n",
    "We are using [GLPK](https://www.gnu.org/software/glpk/) as the solver.\n",
    "We actually have many options for the [solver](http://www.juliaopt.org/JuMP.jl/0.18/installation.html#getting-solvers)\n",
    "Last time I checked (which was a while back), GLPK was the only free solver that supported callbacks with Mixed Integer Programming.\n",
    "We are not requiring that so our choices are much wider.\n",
    "I find the commercial Gurobi solver to be orders of magnitude faster the GLPK (for MIP problems); and they are nice enough to give away liscense to accademics, but I do not have it installed on this computer, so GLPK will do."
   ]
  },
  {
   "cell_type": "markdown",
   "metadata": {},
   "source": [
    "So when defining a diet the goal is the choose to eat certain amounts of different foods,\n",
    "such that when totalled all your nutrient needs are taken care off.\n",
    "\n",
    "So the first thing we are going to need to know is what are the nutrient contents of various foods we can buy.\n",
    "A table breaking that down has been produced by Food Standards Australia.\n",
    "Someone might like to try and get this working with\n",
    "[USDA Food Composition Databases](https://ndb.nal.usda.gov/ndb/),\n",
    "which is likely a bit more comprehensive.\n",
    "\n",
    "We define a data dependency of this program on that database using [DataDeps.jl](https://github.com/oxinabox/DataDeps.jl):"
   ]
  },
  {
   "cell_type": "code",
   "execution_count": 2,
   "metadata": {},
   "outputs": [],
   "source": [
    "using DataDeps\n",
    "register(DataDep(\n",
    "    \"AUSNUT Food Nutrient Database\",\n",
    "    \"\"\"\n",
    "        Website: http://www.foodstandards.gov.au/science/monitoringnutrients/\n",
    "        Excel spreedsheet of food nutrient values prepared by Food Standard Australia New Zealand, between 2011 and 2013.\n",
    "    \"\"\",\n",
    "    \"http://www.foodstandards.gov.au/science/monitoringnutrients/ausnut/Documents/8b.%20AUSNUT%202011-13%20AHS%20Food%20Nutrient%20Database.xls\",\n",
    "     \"4bac90de8ab2673a2f9b19f0be4c822aac1832ed8314117666e5464ed57cb544\"\n",
    "        ;\n",
    "    post_fetch_method = (fn)->mv(fn, \"database.xls\")\n",
    "));"
   ]
  },
  {
   "cell_type": "code",
   "execution_count": 3,
   "metadata": {},
   "outputs": [
    {
     "data": {
      "text/html": [
       "<table class=\"data-frame\"><thead><tr><th></th><th>Food ID</th><th>Survey ID</th><th>Food Name</th><th>Survey flag</th><th>Energy, with dietary fibre (kJ)</th><th>Energy, without dietary fibre (kJ)</th><th>Moisture (g)</th><th>Protein (g)</th><th>Total fat (g)</th><th>Available carbohydrates, with sugar alcohols (g)</th><th>Available carbohydrates, without sugar alcohol (g)</th><th>Starch (g)</th><th>Total sugars (g)</th><th>Added sugars (g)</th><th>Free sugars (g)</th><th>Dietary fibre (g)</th><th>Alcohol (g)</th><th>Ash (g)</th><th>Preformed vitamin A (retinol) (µg)</th><th>Beta-carotene (µg)</th><th>Provitamin A (b-carotene equivalents) (µg)</th><th>Vitamin A retinol equivalents (µg)</th><th>Thiamin (B1) (mg)</th><th>Riboflavin (B2) (mg)</th><th>Niacin (B3) (mg)</th><th>Niacin derived equivalents (mg)</th><th>Folate, natural  (µg)</th><th>Folic acid  (µg)</th><th>Total Folates  (µg)</th><th>Dietary folate equivalents  (µg)</th><th>Vitamin B6 (mg)</th><th>Vitamin B12  (µg)</th><th>Vitamin C (mg)</th><th>Alpha-tocopherol (mg)</th><th>Vitamin E (mg)</th><th>Calcium (Ca) (mg)</th><th>Iodine (I) (µg)</th><th>Iron (Fe) (mg)</th><th>Magnesium (Mg) (mg)</th><th>Phosphorus (P) (mg)</th><th>Potassium (K) (mg)</th><th>Selenium (Se) (µg)</th><th>Sodium (Na) (mg)</th><th>Zinc (Zn) (mg)</th><th>Caffeine (mg)</th><th>Cholesterol (mg)</th><th>Tryptophan (mg)</th><th>Total saturated fat (g)</th><th>Total monounsaturated fat (g)</th><th>Total polyunsaturated fat (g)</th><th>Linoleic acid (g)</th><th>Alpha-linolenic acid (g)</th><th>C20:5w3 Eicosapentaenoic (mg)</th><th>C22:5w3 Docosapentaenoic (mg)</th><th>C22:6w3 Docosahexaenoic (mg)</th><th>Total long chain omega 3 fatty acids (mg)</th><th>Total trans fatty acids (mg)</th></tr></thead><tbody><tr><th>1</th><td>10F40019</td><td>3.1103e7</td><td>Beef, extract, bonox</td><td>missing</td><td>401.0</td><td>401.0</td><td>56.6</td><td>16.6</td><td>0.2</td><td>6.5</td><td>6.5</td><td>6.5</td><td>0.0</td><td>0.0</td><td>0.0</td><td>0.0</td><td>0.0</td><td>19.8</td><td>0.0</td><td>0.0</td><td>0.0</td><td>0.0</td><td>0.36</td><td>0.27</td><td>5.4</td><td>7.71</td><td>6.0</td><td>0.0</td><td>6.0</td><td>6.0</td><td>0.23</td><td>8.0</td><td>0.0</td><td>0.6</td><td>0.6</td><td>110.0</td><td>9.1</td><td>2.0</td><td>60.0</td><td>360.0</td><td>690.0</td><td>4.0</td><td>6660.0</td><td>1.5</td><td>0.0</td><td>0.0</td><td>136.0</td><td>0.0</td><td>0.0</td><td>0.0</td><td>0.0</td><td>0.0</td><td>0.0</td><td>0.0</td><td>0.0</td><td>0.0</td><td>0.0</td></tr><tr><th>2</th><td>13A12001</td><td>3.1302e7</td><td>Basil, dried</td><td>missing</td><td>1079.0</td><td>774.0</td><td>10.0</td><td>18.2</td><td>5.5</td><td>15.5</td><td>15.5</td><td>15.5</td><td>0.0</td><td>0.0</td><td>0.0</td><td>38.2</td><td>0.0</td><td>15.5</td><td>0.0</td><td>27135.0</td><td>27334.0</td><td>4556.0</td><td>0.327</td><td>1.9</td><td>7.79</td><td>11.62</td><td>436.0</td><td>0.0</td><td>436.0</td><td>436.0</td><td>1.34</td><td>0.0</td><td>337.0</td><td>6.9</td><td>6.91</td><td>2091.0</td><td>57.0</td><td>16.36</td><td>273.0</td><td>291.0</td><td>3818.0</td><td>2.7</td><td>118.0</td><td>17.27</td><td>0.0</td><td>0.0</td><td>225.0</td><td>2.36</td><td>1.4</td><td>0.61</td><td>0.26</td><td>0.34</td><td>0.0</td><td>0.0</td><td>0.0</td><td>0.0</td><td>0.0</td></tr><tr><th>3</th><td>10E10113</td><td>3.1302e7</td><td>Cardamom, seeds, ground</td><td>missing</td><td>1333.0</td><td>1109.0</td><td>8.3</td><td>10.8</td><td>6.7</td><td>40.5</td><td>40.5</td><td>31.0</td><td>9.5</td><td>0.0</td><td>0.0</td><td>28.0</td><td>0.0</td><td>5.8</td><td>0.0</td><td>0.0</td><td>0.0</td><td>0.0</td><td>0.198</td><td>0.182</td><td>1.1</td><td>3.74</td><td>0.0</td><td>0.0</td><td>0.0</td><td>0.0</td><td>0.23</td><td>0.0</td><td>21.0</td><td>0.5</td><td>0.5</td><td>383.0</td><td>0.5</td><td>13.97</td><td>229.0</td><td>178.0</td><td>1119.0</td><td>0.5</td><td>18.0</td><td>7.47</td><td>0.0</td><td>0.0</td><td>155.0</td><td>2.2</td><td>2.81</td><td>1.39</td><td>1.0</td><td>0.39</td><td>0.0</td><td>0.0</td><td>0.0</td><td>0.0</td><td>0.0</td></tr><tr><th>4</th><td>10E10098</td><td>3.1302e7</td><td>Chilli (chili) powder</td><td>missing</td><td>1441.0</td><td>1167.0</td><td>7.8</td><td>12.3</td><td>16.8</td><td>20.5</td><td>20.5</td><td>10.4</td><td>10.1</td><td>0.0</td><td>0.0</td><td>34.2</td><td>0.0</td><td>11.8</td><td>0.0</td><td>15000.0</td><td>17790.0</td><td>2965.0</td><td>0.35</td><td>0.79</td><td>7.9</td><td>8.98</td><td>9.0</td><td>0.0</td><td>9.0</td><td>9.0</td><td>2.09</td><td>0.0</td><td>0.0</td><td>38.1</td><td>38.14</td><td>278.0</td><td>0.5</td><td>14.3</td><td>170.0</td><td>303.0</td><td>1920.0</td><td>20.4</td><td>1010.0</td><td>2.7</td><td>0.0</td><td>0.0</td><td>64.0</td><td>2.41</td><td>3.15</td><td>7.85</td><td>7.32</td><td>0.52</td><td>0.0</td><td>0.0</td><td>0.0</td><td>0.0</td><td>0.0</td></tr></tbody></table>"
      ],
      "text/plain": [
       "4×57 DataFrames.DataFrame. Omitted printing of 53 columns\n",
       "│ Row │ Food ID  │ Survey ID │ Food Name               │ Survey flag │\n",
       "├─────┼──────────┼───────────┼─────────────────────────┼─────────────┤\n",
       "│ 1   │ 10F40019 │ 3.1103e7  │ Beef, extract, bonox    │ \u001b[90mmissing\u001b[39m     │\n",
       "│ 2   │ 13A12001 │ 3.1302e7  │ Basil, dried            │ \u001b[90mmissing\u001b[39m     │\n",
       "│ 3   │ 10E10113 │ 3.1302e7  │ Cardamom, seeds, ground │ \u001b[90mmissing\u001b[39m     │\n",
       "│ 4   │ 10E10098 │ 3.1302e7  │ Chilli (chili) powder   │ \u001b[90mmissing\u001b[39m     │"
      ]
     },
     "execution_count": 3,
     "metadata": {},
     "output_type": "execute_result"
    }
   ],
   "source": [
    "using ExcelFiles, DataFrames\n",
    "\n",
    "const nutrients = DataFrame(load(datadep\"AUSNUT Food Nutrient Database/database.xls\", \"Food Nutrient Database\"))\n",
    "nutrients[1:4,:]"
   ]
  },
  {
   "cell_type": "markdown",
   "metadata": {},
   "source": [
    "If you talk a look at that table is should quickly become apparent that everything is for 100g of that foodstuffs.\n",
    "So basical dataframes usage lets us look up a column:"
   ]
  },
  {
   "cell_type": "code",
   "execution_count": 4,
   "metadata": {},
   "outputs": [
    {
     "data": {
      "text/plain": [
       "5740-element Array{Float64,1}:\n",
       " 16.6\n",
       " 18.2\n",
       " 10.8\n",
       " 12.3\n",
       " 14.1\n",
       "  4.2\n",
       "  6.0\n",
       " 13.0\n",
       " 18.4\n",
       " 12.7\n",
       " 23.0\n",
       "  8.5\n",
       " 11.1\n",
       "  ⋮  \n",
       "  3.3\n",
       "  3.2\n",
       "  2.2\n",
       "  2.6\n",
       "  0.9\n",
       "  1.3\n",
       "  1.3\n",
       "  1.2\n",
       "  1.2\n",
       "  1.2\n",
       "  1.1\n",
       "  1.0"
      ]
     },
     "execution_count": 4,
     "metadata": {},
     "output_type": "execute_result"
    }
   ],
   "source": [
    "nutrients[:, Symbol(\"Protein (g)\")] "
   ]
  },
  {
   "cell_type": "markdown",
   "metadata": {},
   "source": [
    "If I wanted to know how much Protein was in  100g of Beef extract (the first food in the list)."
   ]
  },
  {
   "cell_type": "code",
   "execution_count": 5,
   "metadata": {},
   "outputs": [
    {
     "data": {
      "text/plain": [
       "16.6"
      ]
     },
     "execution_count": 5,
     "metadata": {},
     "output_type": "execute_result"
    }
   ],
   "source": [
    "nutrients[1, Symbol(\"Protein (g)\")]"
   ]
  },
  {
   "cell_type": "markdown",
   "metadata": {},
   "source": [
    "If I wanted to know how much Protein was in 100g of Beef extract (the first food in the list) and 150g of Cardamom seeds (the 3rd item). \n",
    "That would be:"
   ]
  },
  {
   "cell_type": "code",
   "execution_count": 6,
   "metadata": {},
   "outputs": [
    {
     "data": {
      "text/plain": [
       "32.800000000000004"
      ]
     },
     "execution_count": 6,
     "metadata": {},
     "output_type": "execute_result"
    }
   ],
   "source": [
    "1*nutrients[1, Symbol(\"Protein (g)\")] + 1.5*nutrients[3, Symbol(\"Protein (g)\")]"
   ]
  },
  {
   "cell_type": "markdown",
   "metadata": {},
   "source": [
    "If I had a big list (a vector) of how much of each item I was having (in units of 100g),\n",
    "I could write it using the [dot product](https://en.wikipedia.org/wiki/Dot_product)."
   ]
  },
  {
   "cell_type": "code",
   "execution_count": 7,
   "metadata": {},
   "outputs": [
    {
     "data": {
      "text/plain": [
       "32.800000000000004"
      ]
     },
     "execution_count": 7,
     "metadata": {},
     "output_type": "execute_result"
    }
   ],
   "source": [
    "x = zeros(size(nutrients,1))\n",
    "x[1] = 1   # 100g Beef extract\n",
    "x[3] = 1.5 # 150g Cardamom seeds\n",
    "nutrients[:, Symbol(\"Protein (g)\")] ⋅ x"
   ]
  },
  {
   "cell_type": "markdown",
   "metadata": {},
   "source": [
    "Our \"diet\" is just that, it is a long list specifying how much of each food is to be eaten each day.\n",
    "(It is hopefully a sparse list).\n",
    "So we can use that to express our constraints.\n",
    "\n",
    "I'm going to define a function to construct such as diet as a JuMP variable.\n",
    "The syntax\n",
    "`@variable(m, x[1:10], lowerbound=0)`\n",
    "says: within the model `m` to declare a new variable `x` that is a vector indexed between 1 and 10,\n",
    "and it comes with the built in constraint that is its greater than `0`.\n",
    "\n",
    "A JuMP model is basically the representation of the system of contraints and the optimisation function etc;\n",
    "so when we declare a new constraint or variable we always pass in the model to specify which system we are working with.\n",
    "(You might be building multiple systems at once.)"
   ]
  },
  {
   "cell_type": "code",
   "execution_count": 8,
   "metadata": {},
   "outputs": [
    {
     "data": {
      "text/plain": [
       "new_diet (generic function with 2 methods)"
      ]
     },
     "execution_count": 8,
     "metadata": {},
     "output_type": "execute_result"
    }
   ],
   "source": [
    "using JuMP\n",
    "function new_diet(solver = GLPKSolverLP())\n",
    "    m = Model(solver= solver)\n",
    "    @variable(m, diet[1:size(nutrients,1)], lowerbound=0)\n",
    "    m, diet \n",
    "end"
   ]
  },
  {
   "cell_type": "markdown",
   "metadata": {},
   "source": [
    "The syntax:\n",
    "```\n",
    "@constraints(m, begin\n",
    "    5 <= x\n",
    "    3 <= y <= 10\n",
    "end)\n",
    "```\n",
    "Says to that in model `m` with declare that the variable `x` must be 5 or greater, and that variable `y` must be between 3 and 10 (inclusive).\n",
    "\n",
    "Our constraints are going to be a bit more complicated than that.\n",
    "In particular I am going to use the dot product we expressed before to calcuate the total intake of a particular nutrient.\n",
    "To do that I will define a closure over the variable `diet`,\n",
    "which I will call `intake`. One might need to spend a little time looking at this.\n",
    "\n",
    "\n",
    "I spent some time digging up some constraints on what nutrients people need.\n",
    "You can see the references below in the comments.\n",
    "\n",
    "We are going to use them to define our basic constraints before considering what we are working with.\n",
    "We'ld define a function to add those constraints to our model."
   ]
  },
  {
   "cell_type": "code",
   "execution_count": 9,
   "metadata": {},
   "outputs": [
    {
     "data": {
      "text/plain": [
       "basic_nutrient_requirements (generic function with 2 methods)"
      ]
     },
     "execution_count": 9,
     "metadata": {},
     "output_type": "execute_result"
    }
   ],
   "source": [
    "function total_intake(nutrient_name, diet)\n",
    "    nutrients[:, Symbol(nutrient_name)] ⋅ diet\n",
    "end\n",
    "\n",
    "function basic_nutrient_requirements(m::Model, diet, weight = 62) # average human is 62 kg\n",
    "    intake(nutrient_name) = total_intake(nutrient_name, diet) \n",
    "    # ^ closure over the diet given as an argument\n",
    "        \n",
    "    @constraints(m, begin\n",
    "        70 <= intake(\"Protein (g)\") \n",
    "        70 <= intake(\"Total fat (g)\") \n",
    "        24 <= intake(\"Total saturated fat (g)\") \n",
    "        90 <= intake(\"Total sugars (g)\") \n",
    "        intake(\"Alcohol (g)\") <= 100\n",
    "        310 <= intake(\"Available carbohydrates, with sugar alcohols (g)\") \n",
    "        intake(\"Sodium (Na) (mg)\") <= 2300 # Heart Council\n",
    "        intake(\"Caffeine (mg)\") <= 400\n",
    "        25 <=intake(\"Dietary fibre (g)\") \n",
    "        24 <= intake(\"Total trans fatty acids (mg)\") \n",
    "        25 <= intake(\"Vitamin A retinol equivalents (µg)\") <= 900\n",
    "        1.2 <= intake(\"Thiamin (B1) (mg)\") \n",
    "        400 <= intake(\"Dietary folate equivalents  (µg)\") \n",
    "        1000 <= intake(\"Folic acid  (µg)\") # https://ods.od.nih.gov/factsheets/Folate-HealthProfessional/\n",
    "        75 <= intake(\"Vitamin C (mg)\") <= 2000 ##https://en.wikipedia.org/wiki/Dietary_Reference_Intake\n",
    "        95 <= intake(\"Iodine (I) (µg)\") <=1100 ##https://en.wikipedia.org/wiki/Dietary_Reference_Intake\n",
    "        6 <= intake(\"Iron (Fe) (mg)\") <= 45 # #https://en.wikipedia.org/wiki/Dietary_Reference_Intake\n",
    "        330 <= intake(\"Magnesium (Mg) (mg)\") \n",
    "        580 <= intake(\"Phosphorus (P) (mg)\") <= 4000 #https://en.wikipedia.org/wiki/Dietary_Reference_Intake\n",
    "        4700 <= intake(\"Potassium (K) (mg)\") \n",
    "        800 <= intake(\"Calcium (Ca) (mg)\") <= 2500 #https://en.wikipedia.org/wiki/Dietary_Reference_Intake\n",
    "        3.5*weight <= intake(\"Tryptophan (mg)\") <= 0.5*weight*1600 #0.5 * LD50 https://books.google.com.au/books?id=he7LBQAAQBAJ&pg=PA210&lpg=PA210&dq=Tryptophan+LD-50&source=bl&ots=yzi5Hx7hM2&sig=sd78LGAnavIwtT5AP-L4fzsFLZM&hl=en&sa=X&ved=0ahUKEwjJhcjFn6rQAhUKkJQKHbw6AiwQ6AEIMTAE#v=onepage&q=Tryptophan%20LD-50&f=false\n",
    "                                                #http://www.livestrong.com/article/541961-how-much-tryptophan-per-day/\n",
    "        17 <= intake(\"Linoleic acid (g)\") \n",
    "\n",
    "        45 <= intake(\"Selenium (Se) (µg)\") <= 400 #https://en.wikipedia.org/wiki/Dietary_Reference_Intake\n",
    "        11 <= intake(\"Zinc (Zn) (mg)\") <= 40 #https://en.wikipedia.org/wiki/Dietary_Reference_Intake\n",
    "            \n",
    "            \n",
    "        6 <= intake(\"Vitamin E (mg)\") <= 1_200    #https://www.livestrong.com/article/465706-vitamin-e-overdose-levels/\n",
    "            \n",
    "        1.3 <= intake(\"Vitamin B6 (mg)\") <= 300  #https://www.news-medical.net/health/Can-You-Take-Too-Much-Vitamin-B.aspx\n",
    "        2.4 <= intake(\"Vitamin B12  (µg)\")   #https://www.news-medical.net/health/Can-You-Take-Too-Much-Vitamin-B.aspx\n",
    "            \n",
    "    end)\n",
    "    \n",
    "end\n",
    "\n"
   ]
  },
  {
   "cell_type": "markdown",
   "metadata": {},
   "source": [
    "Note this list is not comprehensive, (or necessarily entirely correct).\n",
    "I started with a fairly small list of constraints then added to it based on the weirdnesses of the diets that were being generated.\n",
    "For example, some of my initial diets generated included something like _\"Drink 4L coffee per day\"_,\n",
    "so I added a constrain against consuming more than 400 mg of caffine."
   ]
  },
  {
   "cell_type": "markdown",
   "metadata": {},
   "source": [
    "Feel encourage to mess around, and change or add constraints (like we will below).\n",
    "The snippit below is useful to search for the column name if you don't know how it is specified -- the table is a bit large to do that by hand.\n",
    "I'd recommend against ever trying to display the full model: JuMP  will display it mathematically,\n",
    "and in JuPyTer even will render it as LaTeX.\n",
    "But it is utterly huge:\n",
    "the system so far has 25 constraints, each referring to 5740 variables"
   ]
  },
  {
   "cell_type": "code",
   "execution_count": 10,
   "metadata": {},
   "outputs": [
    {
     "data": {
      "text/plain": [
       "2-element Array{String,1}:\n",
       " \"Vitamin B6 (mg)\"  \n",
       " \"Vitamin B12  (µg)\""
      ]
     },
     "execution_count": 10,
     "metadata": {},
     "output_type": "execute_result"
    }
   ],
   "source": [
    "filter(x->contains(x, \"Vitamin B\"), String.(collect(names(nutrients))))"
   ]
  },
  {
   "cell_type": "markdown",
   "metadata": {},
   "source": [
    "The last thing we will need before we can start getting solutions is a way to view the result.\n",
    "`getvalue(diet)` will return the solve value (once solved).\n",
    "But since out diet is defines is a vector with 5740 entries, just showing it doesn't get us much.\n",
    "So I define an function to print it out neatly"
   ]
  },
  {
   "cell_type": "code",
   "execution_count": 11,
   "metadata": {},
   "outputs": [
    {
     "data": {
      "text/plain": [
       "show_diet (generic function with 1 method)"
      ]
     },
     "execution_count": 11,
     "metadata": {},
     "output_type": "execute_result"
    }
   ],
   "source": [
    "function show_diet(diet)\n",
    "    for ii in eachindex(diet)\n",
    "        amount = getvalue(diet[ii])\n",
    "        if amount > 0\n",
    "            name = nutrients[ii, Symbol(\"Food Name\")]\n",
    "            grams = round(Int, 100amount) # amount is expressed in units of 100 grams\n",
    "            display_as = grams < 1  ? \">0\" : string(grams) #Make things that are \"0.001 grams\" show as \">0 grams\"\n",
    "            println(lpad(display_as, 5, \" \"), \" grams \\t\", name)\n",
    "        end\n",
    "    end\n",
    "end"
   ]
  },
  {
   "cell_type": "markdown",
   "metadata": {},
   "source": [
    "## Diet 1: Minimize Energy, with only basic nutritional constraints\n",
    "\n",
    "So now we are ready to go.\n",
    "We set up out system of constraints, \n",
    "add an objective to minimze the total energy (I guess for weight loss),\n",
    "and solve it.\n",
    "It is a linear programming problem.\n",
    "It is actually underconstrained, so almost certainly has multiple optimal solutions.\n",
    "But that is fine we just want one."
   ]
  },
  {
   "cell_type": "code",
   "execution_count": 12,
   "metadata": {},
   "outputs": [
    {
     "name": "stdout",
     "output_type": "stream",
     "text": [
      "status = solve(m) = :Optimal\n",
      "    5 grams \tCream of tartar, dry powder\n",
      "   16 grams \tFibre\n",
      "   10 grams \tFolic acid\n",
      "   >0 grams \tThiamin\n",
      "   >0 grams \tVitamin C\n",
      " 2353 grams \tTea, regular, white, brewed from leaf or teabags, with cows milk not further defined\n",
      "32011 grams \tWater, rainwater or tank water\n",
      "  148 grams \tMilk, almond, fluid\n",
      " 2848 grams \tMilk & water, skim cow's milk & tap water\n",
      "   48 grams \tFat, dairy blend or margarine spread, not further defined\n",
      "   12 grams \tOil, safflower\n",
      "    1 grams \tFat, solid, vegetable oil based\n",
      "   10 grams \tShortening, commercial, vegetable fat (for coatings, creams, icings, confectionery & fillings)\n",
      "  228 grams \tLolly, non-mint flavours, intense sweetened\n",
      "   42 grams \tCabbage, pickled, canned, drained\n",
      "  263 grams \tMixed vegetables, Asian greens, boiled, microwaved or steamed, drained\n"
     ]
    }
   ],
   "source": [
    "m, diet = new_diet()\n",
    "basic_nutrient_requirements(m, diet);\n",
    "\n",
    "@objective(m, Min,  total_intake(\"Energy, with dietary fibre (kJ)\" , diet))\n",
    "@show status = solve(m)\n",
    "show_diet(diet)"
   ]
  },
  {
   "cell_type": "markdown",
   "metadata": {},
   "source": [
    "So looking at that result it is fairly ok.\n",
    "A buch of basically supplements, plus some oils, and vegetables.\n",
    "That makes up your vitamins and minerals I'ld say.\n",
    "The packet of \"Lolly, non-mint flavours, intense sweetened\", makes up your carbs.\n",
    "\n",
    "2 Problems:\n",
    "\n",
    "Firstly, it is suggesting dringking 32L of water in a day.\n",
    "Why is that? This is because water has basically no nutritional impact to our constraints,\n",
    "so it can take almost any value.\n",
    "To solve this, a simple trick is to add a small factor to out objective,\n",
    "saying _\"All other things being equal, a diet with less total mass, is better\"_.\n",
    "This can be done by adding a term  `+ 0.01sum(diet)`.\n",
    "The 0.001 is small enough that it shouldn't impact the true objective much.\n",
    "\n",
    "Secondly, it recommends drinking over 2 kg of tea, and 2 kg of watered milk.\n",
    "That is pretty boring,\n",
    "so lets add a constraint that one shouldn't ever consume >500gram of the same item.\n"
   ]
  },
  {
   "cell_type": "markdown",
   "metadata": {},
   "source": [
    "## Diet 2: Minimize Energy, improved"
   ]
  },
  {
   "cell_type": "code",
   "execution_count": 13,
   "metadata": {},
   "outputs": [
    {
     "name": "stdout",
     "output_type": "stream",
     "text": [
      "status = solve(m) = :Optimal\n",
      "  192 grams \tStock, liquid, all flavours (except fish), homemade from basic ingredients\n",
      "   10 grams \tFolic acid\n",
      "   >0 grams \tThiamin\n",
      "  500 grams \tCoffee, from ground coffee beans, with regular fat coffee whitener\n",
      "  500 grams \tCoffee, macchiato, from ground coffee beans, decaffeinated, with regular fat cows milk\n",
      "   39 grams \tCoffee, long black style, from ground coffee beans, double shot, without milk\n",
      "  500 grams \tTea, regular, white, brewed from leaf or teabags, with cows milk not further defined\n",
      "  500 grams \tMilk, almond, fluid\n",
      "  468 grams \tMilk, cow, fluid, prepared from dry powder, regular fat, standard dilution\n",
      "  500 grams \tMilk & water, reduced fat cow's milk & tap water\n",
      "  500 grams \tMilk & water, skim cow's milk & tap water\n",
      "   14 grams \tOil, safflower\n",
      "   61 grams \tCumquat (kumquat), raw\n",
      "   13 grams \tCoconut, milk, canned, not further defined\n",
      "    5 grams \tOyster, cooked, with or without added fat\n",
      "  228 grams \tLolly, non-mint flavours, intense sweetened\n",
      "  425 grams \tBok choy or choy sum, baked, roasted, fried, stir-fried, grilled or BBQ'd, no added fat\n",
      "  119 grams \tCabbage, white, baked, roasted, fried, stir-fried, grilled or BBQ'd, fat not further defined\n",
      "   43 grams \tCabbage, pickled, canned, drained\n"
     ]
    }
   ],
   "source": [
    "m, diet = new_diet()\n",
    "basic_nutrient_requirements(m, diet);\n",
    "\n",
    "@constraint(m, diet .<= 5) # nothing more than 500g\n",
    "\n",
    "@objective(m, Min,  \n",
    "    total_intake(\"Energy, with dietary fibre (kJ)\", diet) + 0.01sum(diet)\n",
    ")\n",
    "@show status = solve(m)\n",
    "show_diet(diet)"
   ]
  },
  {
   "cell_type": "markdown",
   "metadata": {},
   "source": [
    "This is a bit better than before.\n",
    "I particularly appreciate the handful of Cumquats and the half an oster.\n",
    "\n",
    "Still rather high on Milk, since it has basically worked around the 500g limit, by using 3 different types of watered-down Milk.\n",
    "Also that seems like a whole lot of coffee, even if some is decaff.\n",
    "How much caffine is that?"
   ]
  },
  {
   "cell_type": "code",
   "execution_count": 14,
   "metadata": {},
   "outputs": [
    {
     "data": {
      "text/plain": [
       "399.99999999999943"
      ]
     },
     "execution_count": 14,
     "metadata": {},
     "output_type": "execute_result"
    }
   ],
   "source": [
    "total_intake(\"Caffeine (mg)\", getvalue(diet))"
   ]
  },
  {
   "cell_type": "markdown",
   "metadata": {},
   "source": [
    "So it is right up against out boundary of <400g caffine per day.\n",
    "This isn't surprising, since the optimal solution to a linear programming problem is somewhere on the edge of the feasible region.\n",
    "\n",
    "I'm just not happy with the amount of liquid in this diet still though.\n"
   ]
  },
  {
   "cell_type": "markdown",
   "metadata": {},
   "source": [
    "## Diet 4: Minimize Energy, improved, limit liquid portions\n",
    "\n",
    "I think, I'ld just like my diet to be less than 5% liquid by mass.\n",
    "After all I do drink water on my own."
   ]
  },
  {
   "cell_type": "code",
   "execution_count": 15,
   "metadata": {},
   "outputs": [
    {
     "name": "stdout",
     "output_type": "stream",
     "text": [
      "status = solve(m) = :Optimal\n",
      "  500 grams \tSalt substitute, potassium chloride\n",
      "    1 grams \tSalt, flavoured\n",
      "  500 grams \tCream of tartar, dry powder\n",
      "    2 grams \tCaffeine\n",
      "   13 grams \tCalcium\n",
      "    8 grams \tFibre\n",
      "  500 grams \tFolic acid\n",
      "    9 grams \tIodine\n",
      "  500 grams \tThiamin\n",
      "   19 grams \tVitamin C\n",
      "   12 grams \tVitamin E\n",
      "  124 grams \tCoffee, macchiato, from ground coffee beans, with skim cows milk\n",
      "  144 grams \tTea, regular, white, brewed from leaf or teabags, with cows milk not further defined\n",
      "   19 grams \tOil, safflower\n",
      "    3 grams \tShortening, commercial, vegetable fat (for coatings, creams, icings, confectionery & fillings)\n",
      "  291 grams \tOctopus, cooked, with or without added fat\n",
      "    2 grams \tOyster, cooked, with or without added fat\n",
      "  152 grams \tBar, nougat & caramel centre, milk chocolate-coated\n",
      "  217 grams \tLolly, non-mint flavours, intense sweetened\n",
      "  167 grams \tBok choy or choy sum, baked, roasted, fried, stir-fried, grilled or BBQ'd, no added fat\n",
      "  229 grams \tMixed vegetables, Asian greens, stir-fried or fried, fat not further defined\n"
     ]
    }
   ],
   "source": [
    "m, diet = new_diet()\n",
    "basic_nutrient_requirements(m, diet);\n",
    "\n",
    "@constraint(m, diet .<= 5) # nothing more than 500g\n",
    "@constraint(m, total_intake(\"Moisture (g)\", diet) <= 0.25sum(diet)*100) # Less than 25% liquid\n",
    "\n",
    "@objective(m, Min,  \n",
    "    total_intake(\"Energy, with dietary fibre (kJ)\", diet) + 0.01sum(diet)\n",
    ")\n",
    "@show status = solve(m)\n",
    "show_diet(diet)"
   ]
  },
  {
   "cell_type": "markdown",
   "metadata": {},
   "source": [
    "mmmmmmmmmm, yum. Powdered suppliments.\n",
    "For interest: a Pipi is a tiny Australian Molusc that lives in the sand.\n",
    "As a child I would watch them wash up on the beach,  and try and grab then before the burrowed into the ground.\n",
    "2grams would be about 1 of them, you could cook it with a lighter.\n",
    "\n",
    "One thing that is going on here is that it is stocking up on powder's to bring the total moister portion down.\n",
    "For example Thiamin  is B1 suppliments,\n",
    "Apparently [you can't normally overdose on B1](https://www.livestrong.com/article/367247-vitamin-b1-overdose-symptoms/),\n",
    "and so we have no containts on B1 intake, except the 500gram max."
   ]
  },
  {
   "cell_type": "markdown",
   "metadata": {},
   "source": [
    "## Diet 5: Minimize Energy, improved, ban liquids\n",
    "What I really want to do is just remove items from the list that are basically liquids.\n",
    "I could filter the list to remove anything with more than 96% liquid,\n",
    "but actually that knocks out things like lettuce, but doesn't knock out all the varients milk.\n",
    "More sensible is to just blacklist by name, and cross-ref with moisture."
   ]
  },
  {
   "cell_type": "code",
   "execution_count": 16,
   "metadata": {},
   "outputs": [
    {
     "data": {
      "text/plain": [
       "forbid_liquids (generic function with 2 methods)"
      ]
     },
     "execution_count": 16,
     "metadata": {},
     "output_type": "execute_result"
    }
   ],
   "source": [
    "function forbid_liquids(m::Model, diet, keywords=[\"milk\", \"drink\", \"Water\", \"Milk\"])\n",
    "    # not blocking lowercase \"water\" as that would block \"Soup made with water\"\n",
    "    \n",
    "    inds = keyword_using_inds = find(x->any(contains.(x, keywords)), nutrients[:, Symbol(\"Food Name\")])\n",
    "    high_moisture_inds =  find(x->x>50, nutrients[:, Symbol(\"Moisture (g)\")])\n",
    "    inds = intersect(keyword_using_inds, high_moisture_inds)\n",
    "    #@show nutrients[inds, Symbol(\"Food Name\")]\n",
    "    @constraint(m, diet[inds] .== 0 ) # nothing more than 500g\n",
    "\n",
    "end"
   ]
  },
  {
   "cell_type": "code",
   "execution_count": 17,
   "metadata": {},
   "outputs": [
    {
     "name": "stdout",
     "output_type": "stream",
     "text": [
      "status = solve(m) = :Optimal\n",
      "  500 grams \tStock, liquid, all flavours (except fish), homemade from basic ingredients\n",
      "   87 grams \tStock, liquid, fish, homemade from basic ingredients\n",
      "    2 grams \tCream of tartar, dry powder\n",
      "   10 grams \tFolic acid\n",
      "    1 grams \tIodine\n",
      "   >0 grams \tThiamin\n",
      "  500 grams \tCoffee, from ground coffee beans, with regular fat coffee whitener\n",
      "   20 grams \tOil, safflower\n",
      "  118 grams \tBeef, rump steak, fully-trimmed, raw\n",
      "   12 grams \tLamb, easy carve shoulder, semi-trimmed, raw\n",
      "    6 grams \tGoat, separable fat (composite), raw\n",
      "    1 grams \tNut, brazil, with or without skin, raw, unsalted\n",
      "  136 grams \tBar, nougat & caramel centre, milk chocolate-coated\n",
      "  218 grams \tLolly, non-mint flavours, intense sweetened\n",
      "  500 grams \tBok choy or choy sum, baked, roasted, fried, stir-fried, grilled or BBQ'd, no added fat\n",
      "   73 grams \tCabbage, white, baked, roasted, fried, stir-fried, grilled or BBQ'd, fat not further defined\n",
      "   29 grams \tMixed vegetables, Asian greens, stir-fried or fried, fat not further defined\n",
      "   87 grams \tMixed vegetables, Asian greens, boiled, microwaved or steamed, drained\n"
     ]
    }
   ],
   "source": [
    "m, diet = new_diet()\n",
    "basic_nutrient_requirements(m, diet);\n",
    "forbid_liquids(m, diet)\n",
    "\n",
    "@constraint(m, diet .<= 5) # nothing more than 500g\n",
    "\n",
    "@objective(m, Min,  \n",
    "    total_intake(\"Energy, with dietary fibre (kJ)\", diet) + 0.01sum(diet)\n",
    ")\n",
    "@show status = solve(m)\n",
    "show_diet(diet)"
   ]
  },
  {
   "cell_type": "markdown",
   "metadata": {},
   "source": [
    "I hope you enjoy your shashi slice of lamb and goat."
   ]
  },
  {
   "cell_type": "markdown",
   "metadata": {},
   "source": [
    "## Diet 6: Maximize protein \n",
    "\n",
    "So by friend trying to get buff, he wanted to maximize protein."
   ]
  },
  {
   "cell_type": "code",
   "execution_count": 18,
   "metadata": {},
   "outputs": [
    {
     "name": "stdout",
     "output_type": "stream",
     "text": [
      "status = solve(m) = :Optimal\n",
      "   10 grams \tFolic acid\n",
      "    1 grams \tVitamin C\n",
      "  667 grams \tFlour, soya\n",
      "24034 grams \tLard\n",
      "  800 grams \tSuet\n",
      "  845 grams \tAmino acid or creatine powder\n",
      "42752 grams \tIntense sweetener, containing aspartame, powdered formulation\n"
     ]
    }
   ],
   "source": [
    "m, diet = new_diet()\n",
    "basic_nutrient_requirements(m, diet);\n",
    "\n",
    "\n",
    "@objective(m, Max,  \n",
    "    total_intake(\"Protein (g)\", diet)\n",
    ")\n",
    "@show status = solve(m)\n",
    "show_diet(diet)"
   ]
  },
  {
   "cell_type": "markdown",
   "metadata": {},
   "source": [
    "Again, if we just want to maximize Protein, then the solution comes out rather silly.\n",
    "It basically says eat as much protein containing food as you can until you hit one of the nutrient upper bounds.\n",
    "Almost 25Kg, of Lard, over 42Kg of powerered sweetener.\n",
    "It is kinda amazing that this is apparently hitting all the nutritonal requirements.\n",
    "\n",
    "\n",
    "Obvious mistake is we forgot to bound the amount of energy."
   ]
  },
  {
   "cell_type": "markdown",
   "metadata": {},
   "source": [
    "## Diet 7: Maximize Protein with Energy Constraints\n",
    "We could do the [Basal Metabolic Rate](https://en.wikipedia.org/wiki/Basal_metabolic_rate) calculations,\n",
    "to determine how much energy a person needs,\n",
    "but I'm willing to just ball-park it.\n",
    "For an person not doing much exercise [Nutrition Australia says](http://www.nutritionaustralia.org/national/resource/balancing-energy-and-out) roughly says between 7,000Kj and 11,000Kj.\n",
    "Using their calculator for my friend who is working out tons,\n",
    "says up to 15,000Kj.\n",
    "So lets say between 8,000Kj and 15,000Kj."
   ]
  },
  {
   "cell_type": "code",
   "execution_count": 19,
   "metadata": {},
   "outputs": [
    {
     "name": "stdout",
     "output_type": "stream",
     "text": [
      "status = solve(m) = :Optimal\n",
      "   17 grams \tFibre\n",
      "   10 grams \tFolic acid\n",
      "   >0 grams \tVitamin C\n",
      " 2353 grams \tTea, regular, white, brewed from leaf or teabags, with cows milk not further defined\n",
      " 2913 grams \tMilk & water, skim cow's milk & tap water\n",
      "   20 grams \tOil, safflower\n",
      "  125 grams \tEgg, chicken, white (albumen) only, fried, no added fat\n",
      "  332 grams \tBeef, rump steak, fully-trimmed, raw\n",
      "  539 grams \tPork, topside steak, untrimmed, baked, roasted, fried, grilled or BBQ'd, no added fat\n",
      "   52 grams \tKangaroo, rump, raw\n",
      "   61 grams \tCoconut, milk, canned, not further defined\n",
      "  151 grams \tAmino acid or creatine powder\n",
      "  228 grams \tLolly, non-mint flavours, intense sweetened\n",
      "  296 grams \tMixed vegetables, Asian greens, boiled, microwaved or steamed, drained\n"
     ]
    }
   ],
   "source": [
    "m, diet = new_diet()\n",
    "basic_nutrient_requirements(m, diet);\n",
    "\n",
    "@constraint(m,\n",
    "    7_000 <=\n",
    "        total_intake(\"Energy, with dietary fibre (kJ)\", diet)\n",
    "    <= 15_000\n",
    "    )\n",
    "\n",
    "@objective(m, Max,  \n",
    "    total_intake(\"Protein (g)\", diet)\n",
    ")\n",
    "@show status = solve(m)\n",
    "show_diet(diet)"
   ]
  },
  {
   "cell_type": "markdown",
   "metadata": {},
   "source": [
    "## Diet 7: Minimize Weight\n",
    "\n",
    "What is the least weight of food we can be carrying while hiking?\n",
    "We'll up the minimum energy to take into account the high expenditure,\n",
    "and remove the cap on it (since weight alone can constrol our upper bound)"
   ]
  },
  {
   "cell_type": "code",
   "execution_count": 20,
   "metadata": {},
   "outputs": [
    {
     "name": "stdout",
     "output_type": "stream",
     "text": [
      "status = solve(m) = :Optimal\n",
      "    2 grams \tSalt substitute, potassium chloride\n",
      "    8 grams \tFibre\n",
      "   97 grams \tBiscuit, savoury, rice cracker, from brown rice, all flavours\n",
      "   98 grams \tBreakfast cereal, mixed grain (rice & wheat), flakes, added vitamins B1, B2, B3, B6 & folate, Ca, Fe & Zn\n",
      "    9 grams \tOil, safflower\n",
      "    3 grams \tShortening, commercial, vegetable fat (for coatings, creams, icings, confectionery & fillings)\n",
      "    1 grams \tNut, brazil, with or without skin, raw, unsalted\n",
      "   25 grams \tProtein powder, protein 45%, reduced sugars, fortified\n",
      "    2 grams \tProtein powder, protein 20%, fortified, caffeinated\n",
      "  157 grams \tPotato crisps or chips, plain, unsalted\n",
      "   37 grams \tIntense sweetener, containing aspartame/acesulfame-potassium, tablet\n",
      "   58 grams \tSugar, white, with added stevia, granulated\n",
      "    3 grams \tSeaweed, nori, dried\n",
      "Total: 501 grams\n"
     ]
    }
   ],
   "source": [
    "m, diet = new_diet()\n",
    "basic_nutrient_requirements(m, diet);\n",
    "\n",
    "@constraint(m,\n",
    "    10_000 <= total_intake(\"Energy, with dietary fibre (kJ)\", diet)\n",
    "    )\n",
    "\n",
    "#@constraint(m, total_intake(\"Moisture (g)\", diet) <= 0.70sum(diet)*100) # Less than 25% liquid\n",
    "\n",
    "@objective(m, Min,  sum(diet))\n",
    "@show status = solve(m)\n",
    "show_diet(diet)\n",
    "\n",
    "println(\"Total: $(round(Int, 100sum(getvalue(diet)))) grams\")"
   ]
  },
  {
   "cell_type": "markdown",
   "metadata": {},
   "source": [
    "This is actually fairly inline with the [kind of stuff intense hikers eat](http://blackwoodspress.com/blog/5521/10-ultralight-backpacking-foods/).\n",
    "Nuts (well nut, singular), crisps, protein powder, cereal.\n",
    "\n",
    "The trick in here seems to be the use of Breakfast serial, to hit most nutient requirements,\n",
    "the Seweed/ nori to cover a whole bunch more, \n",
    "and then abusing the actual contents of additives and subsitutes  like acesulfame-potassium and stevia, to hit the others."
   ]
  },
  {
   "cell_type": "markdown",
   "metadata": {},
   "source": [
    "## Conclusion\n",
    "One can go a long way with just linear programming.\n",
    "To go a bit further (e.g. mimize the number of things, or (if you had the data) require nonfactional amounts of fruit etc), you'ld need mixed integer programming.\n",
    "JuMP makes both easy; and with this number of variables even the NP-Hard mixed iteger programming can be solved in fairly reasonable time using the free solvers.\n",
    "\n",
    "I'll conclude with another disclaimer: please don't try using diets you've made up based on constraints you've found online, and solved using linear programming.\n",
    "I do not want to know what actually happens when someone eats 42Kg of powdered sweetener.\n",
    "\n",
    "Still I hope this has been illustrative of the power of constrained optimization.\n",
    "In general if  one can often transform problem into linear programming (Not technically, but effectively P),\n",
    "or mixed integer programming (NP-hard),\n",
    "that is a generally a short path to solving it.\n",
    "Unless you've screwed up, such a formulation will likely correspond to the algorithm of minimum known time complexity for your problem.\n"
   ]
  }
 ],
 "metadata": {
  "kernelspec": {
   "display_name": "Julia 0.6.2",
   "language": "julia",
   "name": "julia-0.6"
  },
  "language_info": {
   "file_extension": ".jl",
   "mimetype": "application/julia",
   "name": "julia",
   "version": "0.6.2"
  }
 },
 "nbformat": 4,
 "nbformat_minor": 2
}
