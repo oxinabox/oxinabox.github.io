{
 "cells": [
  {
   "cell_type": "markdown",
   "metadata": {},
   "source": [
    "These are some terms that get thrown around a lot by julia programmers.\n",
    "This is a brief writeup of a few of them.\n",
    "\n",
    "<!--more-->"
   ]
  },
  {
   "cell_type": "markdown",
   "metadata": {},
   "source": [
    "## Closures\n",
    "\n",
    "Closures are when a function is created (normally via returning from anotehr function)\n",
    "that references some variable in the enclosing scope.\n",
    "We say that it **closes over** those variables."
   ]
  },
  {
   "cell_type": "markdown",
   "metadata": {},
   "source": [
    "### Simple\n",
    "\n",
    "This closure closes over `count`"
   ]
  },
  {
   "cell_type": "code",
   "execution_count": 1,
   "metadata": {},
   "outputs": [
    {
     "data": {
      "text/plain": [
       "call_counter (generic function with 1 method)"
      ]
     },
     "execution_count": 1,
     "metadata": {},
     "output_type": "execute_result"
    }
   ],
   "source": [
    "function call_counter()\n",
    "    count = 0\n",
    "    return function()\n",
    "        count+=1\n",
    "        return count\n",
    "    end\n",
    "end"
   ]
  },
  {
   "cell_type": "code",
   "execution_count": 2,
   "metadata": {},
   "outputs": [
    {
     "data": {
      "text/plain": [
       "#7 (generic function with 1 method)"
      ]
     },
     "execution_count": 2,
     "metadata": {},
     "output_type": "execute_result"
    }
   ],
   "source": [
    "counter_1 = call_counter()"
   ]
  },
  {
   "cell_type": "code",
   "execution_count": 3,
   "metadata": {},
   "outputs": [
    {
     "data": {
      "text/plain": [
       "1"
      ]
     },
     "execution_count": 3,
     "metadata": {},
     "output_type": "execute_result"
    }
   ],
   "source": [
    "counter_1()"
   ]
  },
  {
   "cell_type": "code",
   "execution_count": 4,
   "metadata": {},
   "outputs": [
    {
     "data": {
      "text/plain": [
       "2"
      ]
     },
     "execution_count": 4,
     "metadata": {},
     "output_type": "execute_result"
    }
   ],
   "source": [
    "counter_1()"
   ]
  },
  {
   "cell_type": "code",
   "execution_count": 5,
   "metadata": {},
   "outputs": [
    {
     "data": {
      "text/plain": [
       "1"
      ]
     },
     "execution_count": 5,
     "metadata": {},
     "output_type": "execute_result"
    }
   ],
   "source": [
    "counter_2 = call_counter()\n",
    "counter_2()"
   ]
  },
  {
   "cell_type": "markdown",
   "metadata": {},
   "source": [
    "### Useful\n",
    "\n",
    "I use this to control early stopping when training neural networks.\n",
    "This closes over `best_loss` and `remaining_patience`"
   ]
  },
  {
   "cell_type": "code",
   "execution_count": 6,
   "metadata": {},
   "outputs": [
    {
     "data": {
      "text/plain": [
       "make_earlystopping (generic function with 2 methods)"
      ]
     },
     "execution_count": 6,
     "metadata": {},
     "output_type": "execute_result"
    }
   ],
   "source": [
    "function make_earlystopping(T=Float64; patience=0)\n",
    "    best_loss::T = typemax(T)\n",
    "    remaining_patience = patience\n",
    "    function should_stop!(latest_loss)\n",
    "        if latest_loss < best_loss\n",
    "            remaining_patience = patience\n",
    "            @info \"Improved\" remaining_patience\n",
    "\n",
    "            best_loss = latest_loss::T\n",
    "            return false\n",
    "        else\n",
    "            remaining_patience -= 1\n",
    "            @info \"Got worse\" remaining_patience\n",
    "            if remaining_patience < 0\n",
    "                @info \"!!Stopping!!\"\n",
    "                return true\n",
    "            else\n",
    "                return false\n",
    "            end\n",
    "        end\n",
    "    end\n",
    "    return should_stop!\n",
    "end"
   ]
  },
  {
   "cell_type": "code",
   "execution_count": 7,
   "metadata": {},
   "outputs": [
    {
     "data": {
      "text/plain": [
       "should_stop! (generic function with 1 method)"
      ]
     },
     "execution_count": 7,
     "metadata": {},
     "output_type": "execute_result"
    }
   ],
   "source": [
    "should_stop! = make_earlystopping(Int; patience=3)"
   ]
  },
  {
   "cell_type": "code",
   "execution_count": 8,
   "metadata": {},
   "outputs": [
    {
     "name": "stderr",
     "output_type": "stream",
     "text": [
      "┌ Info: Improved\n",
      "│   remaining_patience = 3\n",
      "└ @ Main In[6]:7\n",
      "┌ Info: Improved\n",
      "│   remaining_patience = 3\n",
      "└ @ Main In[6]:7\n",
      "┌ Info: Got worse\n",
      "│   remaining_patience = 2\n",
      "└ @ Main In[6]:13\n",
      "┌ Info: Got worse\n",
      "│   remaining_patience = 1\n",
      "└ @ Main In[6]:13\n",
      "┌ Info: Got worse\n",
      "│   remaining_patience = 0\n",
      "└ @ Main In[6]:13\n",
      "┌ Info: Got worse\n",
      "│   remaining_patience = -1\n",
      "└ @ Main In[6]:13\n",
      "┌ Info: !!Stopping!!\n",
      "└ @ Main In[6]:15\n"
     ]
    },
    {
     "data": {
      "text/plain": [
       "true"
      ]
     },
     "execution_count": 8,
     "metadata": {},
     "output_type": "execute_result"
    }
   ],
   "source": [
    "should_stop!(99)\n",
    "should_stop!(97)\n",
    "should_stop!(100)\n",
    "should_stop!(100)\n",
    "should_stop!(101)\n",
    "should_stop!(102)"
   ]
  },
  {
   "cell_type": "markdown",
   "metadata": {},
   "source": [
    "## you may be using closures without realising it\n",
    "\n",
    "e.g. the following closes over `model`\n",
    "\n",
    "```julia\n",
    "\n",
    "function runall(dates)\n",
    "    model = Model()\n",
    "    pmap(dates) do the_day\n",
    "        simulate(model, the_day) \n",
    "    end\n",
    "end\n",
    "```"
   ]
  },
  {
   "cell_type": "markdown",
   "metadata": {},
   "source": [
    "----\n",
    "# Parallelism\n",
    "\n",
    " 3 types:\n",
    " \n",
    "  - Multiprocessing / Distributed\n",
    "  - Multithreading / Shared Memory\n",
    "  - Asynchronous / Coroutines"
   ]
  },
  {
   "cell_type": "markdown",
   "metadata": {},
   "source": [
    "## Multiprocessing / Distributed\n",
    "  - this is `pmap`, `remotecall`, `@spawn`.\n",
    "  - Actually starts seperate julia process\n",
    "  - potentially on another machine\n",
    "  - Often has high communication overhead\n",
    "  "
   ]
  },
  {
   "cell_type": "markdown",
   "metadata": {},
   "source": [
    "## Multithreading / Shared Memory\n",
    " - this is `@threads`\n",
    " - Also in julia 1.2 is coming **PARTR**\n",
    " - Can be unsafe, care must always be taken to do things in a threadsafe way"
   ]
  },
  {
   "cell_type": "markdown",
   "metadata": {},
   "source": [
    "## Asynchronous / Coroutines\n",
    " - this is `@async`, and `@asyncmap`\n",
    " - Does not actually allow two things to run at once, but allows tasks to take turns running\n",
    " - Mostly safe\n",
    " - Does not lead to speedup unless the \"work\" is done elsewhere\n",
    "     - e.g. in `IO` the time is spent filling network buffers / spinning up disks\n",
    "     - e.g. if you are spawning extra process like with `run` time is spent in those processes.\n",
    " "
   ]
  },
  {
   "cell_type": "markdown",
   "metadata": {},
   "source": [
    "---\n",
    "\n",
    "# Dynamic Dispatch vs Static Dispatch\n",
    "\n",
    " - If which method to call needs to be dicided at **runtime** then it will be a **dynamic dispatch**\n",
    "     - i.e. if it nees to be is decided by the **values** of the input, or by **external** factors\n",
    " - If it can be decided at **compile time** it will be a **static dispatch**\n",
    "     - i.e. if it can be decided only by the **types** of the input"
   ]
  },
  {
   "cell_type": "code",
   "execution_count": 9,
   "metadata": {},
   "outputs": [
    {
     "data": {
      "text/plain": [
       "dynamic_dispatch (generic function with 1 method)"
      ]
     },
     "execution_count": 9,
     "metadata": {},
     "output_type": "execute_result"
    }
   ],
   "source": [
    "foo(x::Int) = x\n",
    "foo(x::Float64) = 2*x\n",
    "foo(x::Char) = 3*x\n",
    "\n",
    "function dynamic_dispatch()\n",
    "    total = 0 \n",
    "    for ii in 1:1000\n",
    "        x = rand() > 2.0 ?  1 : 1.0\n",
    "        total += foo(x)\n",
    "    end\n",
    "    total\n",
    "end"
   ]
  },
  {
   "cell_type": "code",
   "execution_count": 10,
   "metadata": {},
   "outputs": [
    {
     "name": "stdout",
     "output_type": "stream",
     "text": [
      "  2.377 μs (0 allocations: 0 bytes)\n"
     ]
    },
    {
     "data": {
      "text/plain": [
       "2000.0"
      ]
     },
     "execution_count": 10,
     "metadata": {},
     "output_type": "execute_result"
    }
   ],
   "source": [
    "using BenchmarkTools\n",
    "\n",
    "@btime dynamic_dispatch()\n"
   ]
  },
  {
   "cell_type": "code",
   "execution_count": 11,
   "metadata": {},
   "outputs": [
    {
     "name": "stdout",
     "output_type": "stream",
     "text": [
      "  1.716 μs (0 allocations: 0 bytes)\n"
     ]
    },
    {
     "data": {
      "text/plain": [
       "2000.0"
      ]
     },
     "execution_count": 11,
     "metadata": {},
     "output_type": "execute_result"
    }
   ],
   "source": [
    "function static_dispatch()\n",
    "    total = 0 \n",
    "    for ii in 1:1000\n",
    "        x = rand() > 10 ?  1 : 1.0\n",
    "        total += foo(1.0)\n",
    "    end\n",
    "    total\n",
    "end\n",
    "\n",
    "\n",
    "@btime static_dispatch()"
   ]
  },
  {
   "cell_type": "markdown",
   "metadata": {},
   "source": [
    "## Type Stability\n",
    "\n",
    "Closely related to Dynamic vs Static Dispatch\n",
    "\n",
    " - If the *return type* can decided at **compile time** then it will be a **type stable**\n",
    "     - i.e. if the **return type** is decided only by the **types** of the input\n",
    " - If the *return type* can't decided until **run time** then it will be a **type unstable**\n",
    "     - i.e. if the **return type** is decided by the **values** of the input, or by **external** factors\n",
    " "
   ]
  },
  {
   "cell_type": "code",
   "execution_count": 12,
   "metadata": {},
   "outputs": [
    {
     "data": {
      "text/plain": [
       "demo_type_unstable (generic function with 1 method)"
      ]
     },
     "execution_count": 12,
     "metadata": {},
     "output_type": "execute_result"
    }
   ],
   "source": [
    "function type_unstable(x)\n",
    "    if x < 50.0\n",
    "        return 1\n",
    "    else\n",
    "        return 2.0\n",
    "    end\n",
    "end\n",
    "\n",
    "function demo_type_unstable()\n",
    "    sum(type_unstable, 1.0:100.0)\n",
    "end"
   ]
  },
  {
   "cell_type": "code",
   "execution_count": 13,
   "metadata": {},
   "outputs": [
    {
     "name": "stdout",
     "output_type": "stream",
     "text": [
      "  334.707 ns (0 allocations: 0 bytes)\n"
     ]
    }
   ],
   "source": [
    "@btime demo_type_unstable();"
   ]
  },
  {
   "cell_type": "code",
   "execution_count": 14,
   "metadata": {},
   "outputs": [
    {
     "data": {
      "text/plain": [
       "demo_type_stable (generic function with 1 method)"
      ]
     },
     "execution_count": 14,
     "metadata": {},
     "output_type": "execute_result"
    }
   ],
   "source": [
    "function type_stable(x)\n",
    "    if x < 50.0\n",
    "        return 1.0\n",
    "    else\n",
    "        return 2.0\n",
    "    end\n",
    "end\n",
    "\n",
    "function demo_type_stable()\n",
    "    sum(type_stable, 1.0:100.0)\n",
    "end"
   ]
  },
  {
   "cell_type": "code",
   "execution_count": 15,
   "metadata": {},
   "outputs": [
    {
     "name": "stdout",
     "output_type": "stream",
     "text": [
      "  235.601 ns (0 allocations: 0 bytes)\n"
     ]
    }
   ],
   "source": [
    "@btime demo_type_stable();"
   ]
  },
  {
   "cell_type": "code",
   "execution_count": 16,
   "metadata": {},
   "outputs": [
    {
     "name": "stdout",
     "output_type": "stream",
     "text": [
      "Body\u001b[91m\u001b[1m::Union{Float64, Int64}\u001b[22m\u001b[39m\n",
      "\u001b[90m1 ─\u001b[39m %1 = (Base.sitofp)(Float64, x)\u001b[36m::Float64\u001b[39m\n",
      "\u001b[90m│  \u001b[39m %2 = (Base.lt_float)(%1, 50.0)\u001b[36m::Bool\u001b[39m\n",
      "\u001b[90m│  \u001b[39m %3 = (Base.eq_float)(%1, 50.0)\u001b[36m::Bool\u001b[39m\n",
      "\u001b[90m│  \u001b[39m %4 = (Base.eq_float)(%1, 9.223372036854776e18)\u001b[36m::Bool\u001b[39m\n",
      "\u001b[90m│  \u001b[39m %5 = (Base.fptosi)(Int64, %1)\u001b[36m::Int64\u001b[39m\n",
      "\u001b[90m│  \u001b[39m %6 = (Base.slt_int)(x, %5)\u001b[36m::Bool\u001b[39m\n",
      "\u001b[90m│  \u001b[39m %7 = (Base.or_int)(%4, %6)\u001b[36m::Bool\u001b[39m\n",
      "\u001b[90m│  \u001b[39m %8 = (Base.and_int)(%3, %7)\u001b[36m::Bool\u001b[39m\n",
      "\u001b[90m│  \u001b[39m %9 = (Base.or_int)(%2, %8)\u001b[36m::Bool\u001b[39m\n",
      "\u001b[90m└──\u001b[39m      goto #3 if not %9\n",
      "\u001b[90m2 ─\u001b[39m      return 1\n",
      "\u001b[90m3 ─\u001b[39m      return 2.0\n"
     ]
    }
   ],
   "source": [
    "@code_warntype type_unstable(1)"
   ]
  },
  {
   "cell_type": "code",
   "execution_count": 17,
   "metadata": {},
   "outputs": [
    {
     "name": "stdout",
     "output_type": "stream",
     "text": [
      "Body\u001b[36m::Float64\u001b[39m\n",
      "\u001b[90m1 ─\u001b[39m %1 = (Base.sitofp)(Float64, x)\u001b[36m::Float64\u001b[39m\n",
      "\u001b[90m│  \u001b[39m %2 = (Base.lt_float)(%1, 50.0)\u001b[36m::Bool\u001b[39m\n",
      "\u001b[90m│  \u001b[39m %3 = (Base.eq_float)(%1, 50.0)\u001b[36m::Bool\u001b[39m\n",
      "\u001b[90m│  \u001b[39m %4 = (Base.eq_float)(%1, 9.223372036854776e18)\u001b[36m::Bool\u001b[39m\n",
      "\u001b[90m│  \u001b[39m %5 = (Base.fptosi)(Int64, %1)\u001b[36m::Int64\u001b[39m\n",
      "\u001b[90m│  \u001b[39m %6 = (Base.slt_int)(x, %5)\u001b[36m::Bool\u001b[39m\n",
      "\u001b[90m│  \u001b[39m %7 = (Base.or_int)(%4, %6)\u001b[36m::Bool\u001b[39m\n",
      "\u001b[90m│  \u001b[39m %8 = (Base.and_int)(%3, %7)\u001b[36m::Bool\u001b[39m\n",
      "\u001b[90m│  \u001b[39m %9 = (Base.or_int)(%2, %8)\u001b[36m::Bool\u001b[39m\n",
      "\u001b[90m└──\u001b[39m      goto #3 if not %9\n",
      "\u001b[90m2 ─\u001b[39m      return 1.0\n",
      "\u001b[90m3 ─\u001b[39m      return 2.0\n"
     ]
    }
   ],
   "source": [
    "@code_warntype type_stable(1)"
   ]
  },
  {
   "cell_type": "markdown",
   "metadata": {},
   "source": [
    "---\n",
    "# Type Piracy"
   ]
  },
  {
   "cell_type": "markdown",
   "metadata": {},
   "source": [
    "If your package did not define the\n",
    " - **Function** (name); or\n",
    " - at least 1 of the argument **types**\n",
    "\n",
    "\n",
    "You are doing a **type piracy**, and this is a bad thing.  \n",
    "By doing type piracy you can break code in other models even if they don't import your definitions.\n"
   ]
  },
  {
   "cell_type": "code",
   "execution_count": 18,
   "metadata": {},
   "outputs": [
    {
     "data": {
      "text/html": [
       "4 methods for generic function <b>mapreduce</b>:<ul><li> mapreduce(f, op, a::<b>Number</b>) in Base at <a href=\"https://github.com/JuliaLang/julia/tree/80516ca20297a67b996caa08c38786332379b6a5/base/reduce.jl#L324\" target=\"_blank\">reduce.jl:324</a></li> <li> mapreduce(f, op, itr::<b>Base.SkipMissing{#s623} where #s623<:AbstractArray</b>) in Base at <a href=\"https://github.com/JuliaLang/julia/tree/80516ca20297a67b996caa08c38786332379b6a5/base/missing.jl#L202\" target=\"_blank\">missing.jl:202</a></li> <li> mapreduce(f, op, A::<b>AbstractArray</b>; <i>dims, kw...</i>) in Base at <a href=\"https://github.com/JuliaLang/julia/tree/80516ca20297a67b996caa08c38786332379b6a5/base/reducedim.jl#L304\" target=\"_blank\">reducedim.jl:304</a></li> <li> mapreduce(f, op, itr; <i>kw...</i>) in Base at <a href=\"https://github.com/JuliaLang/julia/tree/80516ca20297a67b996caa08c38786332379b6a5/base/reduce.jl#L205\" target=\"_blank\">reduce.jl:205</a></li> </ul>"
      ],
      "text/plain": [
       "# 4 methods for generic function \"mapreduce\":\n",
       "[1] mapreduce(f, op, a::Number) in Base at reduce.jl:324\n",
       "[2] mapreduce(f, op, itr::Base.SkipMissing{#s623} where #s623<:AbstractArray) in Base at missing.jl:202\n",
       "[3] mapreduce(f, op, A::AbstractArray; dims, kw...) in Base at reducedim.jl:304\n",
       "[4] mapreduce(f, op, itr; kw...) in Base at reduce.jl:205"
      ]
     },
     "execution_count": 18,
     "metadata": {},
     "output_type": "execute_result"
    }
   ],
   "source": [
    "methods(mapreduce)"
   ]
  },
  {
   "cell_type": "markdown",
   "metadata": {},
   "source": [
    "### Lets define a new method, to reduce the magnitude first element by the first argument and the second by the second\n",
    "\n",
    "we are going to call it `mapreduce` because is is kind of mapping this reduction in magnitude.\n",
    "And because this is a slightly forced example."
   ]
  },
  {
   "cell_type": "code",
   "execution_count": 19,
   "metadata": {},
   "outputs": [],
   "source": [
    "function Base.mapreduce(y1, y2, xs::Array)\n",
    "    ys = [y1, y2]\n",
    "    return sign.(xs) .* (abs.(xs) .- abs.(ys))\n",
    "end"
   ]
  },
  {
   "cell_type": "code",
   "execution_count": 20,
   "metadata": {},
   "outputs": [
    {
     "data": {
      "text/plain": [
       "2-element Array{Int64,1}:\n",
       "  5\n",
       " -2"
      ]
     },
     "execution_count": 20,
     "metadata": {},
     "output_type": "execute_result"
    }
   ],
   "source": [
    "mapreduce(5, 8, [10, -10])"
   ]
  },
  {
   "cell_type": "markdown",
   "metadata": {},
   "source": [
    "### Lets sum some numbers"
   ]
  },
  {
   "cell_type": "code",
   "execution_count": 21,
   "metadata": {},
   "outputs": [
    {
     "ename": "DimensionMismatch",
     "evalue": "DimensionMismatch(\"arrays could not be broadcast to a common size\")",
     "output_type": "error",
     "traceback": [
      "DimensionMismatch(\"arrays could not be broadcast to a common size\")",
      "",
      "Stacktrace:",
      " [1] _bcs1 at ./broadcast.jl:438 [inlined]",
      " [2] _bcs at ./broadcast.jl:432 [inlined]",
      " [3] broadcast_shape at ./broadcast.jl:426 [inlined]",
      " [4] combine_axes at ./broadcast.jl:421 [inlined]",
      " [5] _axes at ./broadcast.jl:208 [inlined]",
      " [6] axes at ./broadcast.jl:206 [inlined]",
      " [7] combine_axes at ./broadcast.jl:422 [inlined]",
      " [8] combine_axes at ./broadcast.jl:421 [inlined]",
      " [9] instantiate at ./broadcast.jl:255 [inlined]",
      " [10] materialize(::Base.Broadcast.Broadcasted{Base.Broadcast.DefaultArrayStyle{1},Nothing,typeof(*),Tuple{Base.Broadcast.Broadcasted{Base.Broadcast.DefaultArrayStyle{1},Nothing,typeof(sign),Tuple{Array{Int64,1}}},Base.Broadcast.Broadcasted{Base.Broadcast.DefaultArrayStyle{1},Nothing,typeof(-),Tuple{Base.Broadcast.Broadcasted{Base.Broadcast.DefaultArrayStyle{1},Nothing,typeof(abs),Tuple{Array{Int64,1}}},Base.Broadcast.Broadcasted{Base.Broadcast.DefaultArrayStyle{1},Nothing,typeof(abs),Tuple{Array{Function,1}}}}}}}) at ./broadcast.jl:753",
      " [11] mapreduce(::Function, ::Function, ::Array{Int64,1}) at ./In[19]:3",
      " [12] _sum at ./reducedim.jl:653 [inlined]",
      " [13] _sum at ./reducedim.jl:652 [inlined]",
      " [14] #sum#550 at ./reducedim.jl:648 [inlined]",
      " [15] sum(::Array{Int64,1}) at ./reducedim.jl:648",
      " [16] top-level scope at In[21]:1"
     ]
    }
   ],
   "source": [
    "sum([1,2,3])"
   ]
  },
  {
   "cell_type": "markdown",
   "metadata": {},
   "source": [
    "## Glue Packages\n",
    "\n",
    "Sometimes to make two packages work together,\n",
    "you have to make them aware of each others types.\n",
    "\n",
    "For example to implement\n",
    "\n",
    "```\n",
    "convert(::Type(DataFrame), axisarray::AxisArray)\n",
    "```\n",
    "\n",
    " where\n",
    " - `convert` is from *Base*\n",
    " - `DataFrame` is from *DataFrames.jl*\n",
    " - `AxisArray` is from *AxisArrays.jl*\n",
    "\n",
    "Then the only way to do this without **type piracy** is to do it either *DataFrames.jl* or *AxisArrays.jl*.\n",
    "But that isn't possible without adding a dependency which isn't great.\n",
    "\n",
    "So instead we have a **Glue Package**, eg, *DataFrameAxisArrayBuddies.jl*,\n",
    "that adds this method.\n",
    "It is piracy but it is fairly safe, since it is adding behavour to types that would normally be a method error as is. **Misdemenor type piracy.**\n"
   ]
  },
  {
   "cell_type": "markdown",
   "metadata": {},
   "source": [
    "## Wrapper Types and Delegation Pattern\n",
    "\n",
    "I would argue that this is a core part of [polymorphism via composition](https://en.wikipedia.org/wiki/Composition_over_inheritance).\n",
    "\n",
    "In the following example, we construct `SampledVector`,\n",
    "which is a vector-like type that has fast access to the total so that it can quickly calculate the mean.\n",
    "It is a **wrapper** of the Vector type,\n",
    " and it **delegates** several methods to it.\n",
    " \n",
    " \n",
    " Even though it overloads `Statistics.mean`, and `push!`, `size` and `getindex` from `Base`,\n",
    " we do not commit **type piracy**, as we alrways own one of the types -- the `SampleVector`."
   ]
  },
  {
   "cell_type": "code",
   "execution_count": 22,
   "metadata": {},
   "outputs": [
    {
     "data": {
      "text/plain": [
       "SamplesVector"
      ]
     },
     "execution_count": 22,
     "metadata": {},
     "output_type": "execute_result"
    }
   ],
   "source": [
    "using Statistics\n",
    "\n",
    "mutable struct SamplesVector{T} <: AbstractVector{T}\n",
    "    backing::Vector{T}\n",
    "    total::T\n",
    "end\n",
    "SamplesVector(xs) = SamplesVector(xs, +(xs...))  # can't use `sum` as we broke that"
   ]
  },
  {
   "cell_type": "code",
   "execution_count": 23,
   "metadata": {},
   "outputs": [],
   "source": [
    "Statistics.mean(sv::SamplesVector) = sv.total/length(sv.backing)"
   ]
  },
  {
   "cell_type": "code",
   "execution_count": 24,
   "metadata": {},
   "outputs": [],
   "source": [
    "function Base.push!(sv::SamplesVector, x)\n",
    "    sv.total += x\n",
    "    push!(sv.backing, x)\n",
    "    return sv\n",
    "end"
   ]
  },
  {
   "cell_type": "markdown",
   "metadata": {},
   "source": [
    "### delegate `size` and `getindex` "
   ]
  },
  {
   "cell_type": "code",
   "execution_count": 30,
   "metadata": {},
   "outputs": [],
   "source": [
    "Base.size(sv::SamplesVector) = size(sv.backing)\n",
    "Base.getindex(sv:: SamplesVector, ii) = getindex(sv.backing, ii)"
   ]
  },
  {
   "cell_type": "markdown",
   "metadata": {},
   "source": [
    "### Demo"
   ]
  },
  {
   "cell_type": "code",
   "execution_count": 31,
   "metadata": {},
   "outputs": [
    {
     "data": {
      "text/plain": [
       "3.5"
      ]
     },
     "execution_count": 31,
     "metadata": {},
     "output_type": "execute_result"
    }
   ],
   "source": [
    "samples = SamplesVector([1,2,3,4,5,6])\n",
    "mean(samples)"
   ]
  },
  {
   "cell_type": "code",
   "execution_count": 32,
   "metadata": {},
   "outputs": [
    {
     "data": {
      "text/plain": [
       "4.0"
      ]
     },
     "execution_count": 32,
     "metadata": {},
     "output_type": "execute_result"
    }
   ],
   "source": [
    "push!(samples,7)\n",
    "mean(samples)"
   ]
  },
  {
   "cell_type": "code",
   "execution_count": 33,
   "metadata": {},
   "outputs": [
    {
     "data": {
      "text/plain": [
       "1"
      ]
     },
     "execution_count": 33,
     "metadata": {},
     "output_type": "execute_result"
    }
   ],
   "source": [
    "samples[1]"
   ]
  },
  {
   "cell_type": "code",
   "execution_count": 34,
   "metadata": {},
   "outputs": [
    {
     "data": {
      "text/plain": [
       "5-element Array{Int64,1}:\n",
       " 3\n",
       " 4\n",
       " 5\n",
       " 6\n",
       " 7"
      ]
     },
     "execution_count": 34,
     "metadata": {},
     "output_type": "execute_result"
    }
   ],
   "source": [
    "samples[3:end]"
   ]
  },
  {
   "cell_type": "code",
   "execution_count": 36,
   "metadata": {},
   "outputs": [
    {
     "data": {
      "text/plain": [
       "4.375"
      ]
     },
     "execution_count": 36,
     "metadata": {},
     "output_type": "execute_result"
    }
   ],
   "source": [
    "push!(samples,7)\n",
    "mean(samples)"
   ]
  },
  {
   "cell_type": "code",
   "execution_count": 37,
   "metadata": {},
   "outputs": [
    {
     "data": {
      "text/plain": [
       "8-element SamplesVector{Int64}:\n",
       " 1\n",
       " 2\n",
       " 3\n",
       " 4\n",
       " 5\n",
       " 6\n",
       " 7\n",
       " 7"
      ]
     },
     "execution_count": 37,
     "metadata": {},
     "output_type": "execute_result"
    }
   ],
   "source": [
    "samples"
   ]
  },
  {
   "cell_type": "markdown",
   "metadata": {},
   "source": [
    "## Tim Holy Traits\n",
    "Traits as something that naturally falls out of functions that can be performed on types at compile time,\n",
    "and on having multiple dispatch.\n",
    "See [previous post for details.](https://white.ucc.asn.au/2018/10/03/Dispatch,-Traits-and-Metaprogramming-Over-Reflection.html#part-2-aslist-including-using-traits)."
   ]
  }
 ],
 "metadata": {
  "kernelspec": {
   "display_name": "Julia 1.1.0",
   "language": "julia",
   "name": "julia-1.1"
  },
  "language_info": {
   "file_extension": ".jl",
   "mimetype": "application/julia",
   "name": "julia",
   "version": "1.1.0"
  }
 },
 "nbformat": 4,
 "nbformat_minor": 2
}
