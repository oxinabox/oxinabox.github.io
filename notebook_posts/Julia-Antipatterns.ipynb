{
 "cells": [
  {
   "cell_type": "markdown",
   "metadata": {},
   "source": [
    "An Antipattern is a common solution to a problem that over-all makes things worse than they could have been.\n",
    "This blog post aims to highlight a few antipatterns common in Julia code.\n",
    "I suspect a lot of this is due to baggage brought from other languages, where these are not Antipatterns, but are infact good pattterns.\n",
    "This post is to clear things up.\n",
    "<!--more-->"
   ]
  },
  {
   "cell_type": "markdown",
   "metadata": {},
   "source": [
    "This post will not cover anything in the [Julia Performance Tips](https://docs.julialang.org/en/v1/manual/performance-tips/).\n",
    "\n",
    "Each section in this will decribe a different antipattern.\n",
    "It will discuss:\n",
    " - Examples, including highlighting this issues\n",
    " - What to do instead\n",
    " - Reasons people do this\n"
   ]
  },
  {
   "cell_type": "markdown",
   "metadata": {},
   "source": [
    "## NotImplementedErrors\n",
    "\n",
    "This shows up in packages defining APIs that others should implement.\n",
    "Where one wants to declare and document functions that implementors of the API should overload.\n",
    "In this antipattern, one declares an abstract type, and a function that takes that abstract type as an argument.\n",
    "Usually, as the the first abstract following something like fashion from Python etc, as taking the object as the first argument.\n",
    "This function would throw an error saying that the function was not implemented for this type.\n",
    "\n",
    "The logic being if someone only implements half the API, the user would get this \"Helpful\" error message."
   ]
  },
  {
   "cell_type": "code",
   "execution_count": 5,
   "metadata": {},
   "outputs": [
    {
     "data": {
      "text/plain": [
       "probability_estimate (generic function with 2 methods)"
      ]
     },
     "execution_count": 5,
     "metadata": {},
     "output_type": "execute_result"
    }
   ],
   "source": [
    "abstract type AbstractModel end\n",
    "\n",
    "\"\"\"\n",
    "    probability_estimate(model, observation::AbstractArray)::Real\n",
    "\n",
    "For a given `model`, returns the likelyhood of the `observation` occuring.\n",
    "\"\"\"\n",
    "function probability_estimate(model::AbstractModel, observation::AbstractArray)\n",
    "    error(\"`probability_estimate` has not been implemented for $(typeof(model))\")\n",
    "end\n",
    "\n",
    "\n",
    "## Now a type implementing this API:\n",
    "\"\"\"\n",
    "    GuessingModel <: AbstractModel\n",
    "\n",
    "A model that just guesses. Not even educated guesses. Just random guessing.\n",
    "\"\"\"\n",
    "struct GuessingModel <: AbstractModel\n",
    "end\n",
    "\n",
    "probability_estimate(guesser::GuessingModel, observation::AbstractMatrix) = rand()"
   ]
  },
  {
   "cell_type": "code",
   "execution_count": 2,
   "metadata": {},
   "outputs": [
    {
     "ename": "ErrorException",
     "evalue": "`probability_estimate` has not been implemented for GuessingModel",
     "output_type": "error",
     "traceback": [
      "`probability_estimate` has not been implemented for GuessingModel",
      "",
      "Stacktrace:",
      " [1] error(::String) at ./error.jl:33",
      " [2] probability_estimate(::GuessingModel, ::Array{Int64,1}) at ./In[1]:9",
      " [3] top-level scope at In[2]:1"
     ]
    }
   ],
   "source": [
    "probability_estimate(GuessingModel(), [1,2,3])"
   ]
  },
  {
   "cell_type": "markdown",
   "metadata": {},
   "source": [
    "**What happened?**  \n",
    "It sure looks like `GuessingModel` has implemented a `probability_estimate` method.\n",
    "The error does not at all help us see what is wrong.\n",
    "Astute eyed readers will see what is wrong:\n",
    "`GuessingModel()` was incorrectly implemented to only work for `AbstractMatrix`, but it was called with a `Vector`,\n",
    " so it fell back to the generic method for `AbstractModel`.\n",
    "But that error message what not informative, and if we hit that deep inside a program we would have no idea what is going on, because it doesn't print the types of all the arguments."
   ]
  },
  {
   "cell_type": "markdown",
   "metadata": {},
   "source": [
    "### What to do instead?\n",
    "Just don't implement the thing you don't want to implement.\n",
    "A `MethodError` indicates this quite well and as shown gives a more informative error message than you will write.\n",
    "\n",
    "A often missed feature is that you can declare a function without providing any methods.\n",
    "This is the ideal way to add documentation for a function that you expect to be overloaded.\n",
    "This is done via `function probability_estimate end`.\n",
    "As shown. (using `probability_estimate2` to show how it should be done correctly)"
   ]
  },
  {
   "cell_type": "code",
   "execution_count": 9,
   "metadata": {},
   "outputs": [
    {
     "data": {
      "text/plain": [
       "probability_estimate2 (generic function with 1 method)"
      ]
     },
     "execution_count": 9,
     "metadata": {},
     "output_type": "execute_result"
    }
   ],
   "source": [
    "\"\"\"\n",
    "    probability_estimate2(model, observation::Vector)::Real\n",
    "\n",
    "For a given `model`, returns the likelyhood of the `observation` occuring.\n",
    "\"\"\"\n",
    "function probability_estimate2 end\n",
    "\n",
    "probability_estimate2(guesser::GuessingModel, observation::AbstractMatrix) = rand()"
   ]
  },
  {
   "cell_type": "code",
   "execution_count": 10,
   "metadata": {},
   "outputs": [
    {
     "ename": "MethodError",
     "evalue": "MethodError: no method matching probability_estimate2(::GuessingModel, ::Array{Int64,1})\nClosest candidates are:\n  probability_estimate2(::GuessingModel, !Matched::Array{T,2} where T) at In[9]:8",
     "output_type": "error",
     "traceback": [
      "MethodError: no method matching probability_estimate2(::GuessingModel, ::Array{Int64,1})\nClosest candidates are:\n  probability_estimate2(::GuessingModel, !Matched::Array{T,2} where T) at In[9]:8",
      "",
      "Stacktrace:",
      " [1] top-level scope at In[10]:1"
     ]
    }
   ],
   "source": [
    "probability_estimate2(GuessingModel(), [1,2,3])"
   ]
  },
  {
   "cell_type": "markdown",
   "metadata": {},
   "source": [
    "### Aside: Test Suites, for interface testing.\n",
    "Not the topic of this blog post, but as an aside:\n",
    "When one is in this situtation, defining a interface that another package would implement, one can provide a test-suite for testing it was implemented correctly.\n",
    "This is a function they can call in their tests to at least check they have the basics right.\n",
    "This can take the place of a formal interface (which julia doesn't have), in ensuring that a contract is being met."
   ]
  },
  {
   "cell_type": "code",
   "execution_count": 11,
   "metadata": {},
   "outputs": [
    {
     "name": "stdout",
     "output_type": "stream",
     "text": [
      "\u001b[37mprobability_estimate: \u001b[39m\u001b[91m\u001b[1mError During Test\u001b[22m\u001b[39m at \u001b[39m\u001b[1mIn[11]:5\u001b[22m\n",
      "  Got exception outside of a @test\n",
      "  `probability_estimate` has not been implemented for GuessingModel\n",
      "  Stacktrace:\n",
      "   [1] error(::String) at ./error.jl:33\n",
      "   [2] probability_estimate(::GuessingModel, ::Array{Int64,1}) at ./In[5]:4\n",
      "   [3] macro expansion at ./In[11]:6 [inlined]\n",
      "   [4] macro expansion at /usr/local/src/julia/julia-1.4/usr/share/julia/stdlib/v1.4/Test/src/Test.jl:1113 [inlined]\n",
      "   [5] macro expansion at ./In[11]:6 [inlined]\n",
      "   [6] macro expansion at /usr/local/src/julia/julia-1.4/usr/share/julia/stdlib/v1.4/Test/src/Test.jl:1113 [inlined]\n",
      "   [7] model_testsuite(::GuessingModel) at ./In[11]:5\n",
      "   [8] top-level scope at In[11]:13\n",
      "   [9] eval at ./boot.jl:331 [inlined]\n",
      "   [10] softscope_include_string(::Module, ::String, ::String) at /Users/oxinabox/.julia/packages/SoftGlobalScope/cSbw5/src/SoftGlobalScope.jl:218\n",
      "   [11] execute_request(::ZMQ.Socket, ::IJulia.Msg) at /Users/oxinabox/.julia/packages/IJulia/yLI42/src/execute_request.jl:67\n",
      "   [12] #invokelatest#1 at ./essentials.jl:712 [inlined]\n",
      "   [13] invokelatest at ./essentials.jl:711 [inlined]\n",
      "   [14] eventloop(::ZMQ.Socket) at /Users/oxinabox/.julia/packages/IJulia/yLI42/src/eventloop.jl:8\n",
      "   [15] (::IJulia.var\"#15#18\")() at ./task.jl:358\n",
      "  \n",
      "\u001b[37m\u001b[1mTest Summary:                          | \u001b[22m\u001b[39m\u001b[91m\u001b[1mError  \u001b[22m\u001b[39m\u001b[36m\u001b[1mTotal\u001b[22m\u001b[39m\n",
      "Model API Test Suite for GuessingModel | \u001b[91m    1  \u001b[39m\u001b[36m    1\u001b[39m\n",
      "  probability_estimate                 | \u001b[91m    1  \u001b[39m\u001b[36m    1\u001b[39m\n"
     ]
    },
    {
     "ename": "TestSetException",
     "evalue": "Some tests did not pass: 0 passed, 0 failed, 1 errored, 0 broken.",
     "output_type": "error",
     "traceback": [
      "Some tests did not pass: 0 passed, 0 failed, 1 errored, 0 broken.",
      "",
      "Stacktrace:",
      " [1] finish(::Test.DefaultTestSet) at /usr/local/src/julia/julia-1.4/usr/share/julia/stdlib/v1.4/Test/src/Test.jl:879",
      " [2] macro expansion at /usr/local/src/julia/julia-1.4/usr/share/julia/stdlib/v1.4/Test/src/Test.jl:1123 [inlined]",
      " [3] model_testsuite(::GuessingModel) at ./In[11]:5",
      " [4] top-level scope at In[11]:13"
     ]
    }
   ],
   "source": [
    "using Test\n",
    "function model_testsuite(model)\n",
    "    @testset \"Model API Test Suite for $(typeof(model))\" begin\n",
    "        #...\n",
    "        @testset \"probability_estimate\" begin\n",
    "            p = probability_estimate(model, [1,2,3])\n",
    "            @test p isa Real\n",
    "            @test 0 <= p <= 1            \n",
    "        end\n",
    "        #...\n",
    "    end\n",
    "end\n",
    "\n",
    "model_testsuite(GuessingModel())"
   ]
  },
  {
   "cell_type": "markdown",
   "metadata": {},
   "source": [
    "## Over constraining argument types\n",
    "\n",
    "Type constraints in Julia are **only** for dispatch.\n",
    "If you don't have multiple methods for a function, you don't need any type-constraints.\n",
    "If you must add type-constraints (for dispatch) do so as losely as possible.\n",
    "\n",
    "\n",
    "### Reasons people do this:\n",
    "I think this comes from three main places.\n",
    "The belief it would make the code faster (false), safer (mostly false), or easier to understand (true)\n",
    "The first two come from different languages which do not act like Julia.\n",
    "The last point on ease of understanding is absolutely true, but not worth it most of the time.\n",
    "One other reason I can imagine is misunderstanding [this part of the documentation](https://docs.julialang.org/en/v1/manual/performance-tips/), which applies to `struct` fields, not arguments.\n",
    "I hope that misunderstanding is not a common reason.\n",
    "\n",
    "The belief that adding type constraints makes code faster, comes from not understanding how the JIT compiler works.\n",
    "Julia specializes every function on the types of all arguments.\n",
    "This means it generates different machine code that is more optimally suited to the particular types.\n",
    "This includes things like removing branches that can't be met by this type, static dispatches, as well as actually better CPU instructions than a normal dynmaic language might use.\n",
    "One can see this change by comparing `@code_typed ((x)->2x)(1.0)` vs `@code_typed ((x)->2x)(0x1)`.\n",
    "Some languages, for example [Cython](https://cython.readthedocs.io/en/latest/src/quickstart/cythonize.html#faster-code-via-static-typing), *do* become much faster with type-annotations, as they do not have a JIT specializing every function when it occurs.\n",
    "They do their code generation ahead of time so either have to handle all cases (if not specified) or can optimize for a particular (if specified).\n",
    "In Julia the code generated for a function will be just as fast with or without type constraints.\n",
    "\n",
    "The belief that adding type constraints makes code safer, comes from the idea of [type-safety](https://en.wikipedia.org/wiki/Type_safety).\n",
    "A great advantages of statically-typed ahead-of-time compiled languages is the ability at compile time to catch and report programmer errors using the type system and looking for violated constraint.\n",
    "Julia is not one of these languages, it is not statically typed so reasoning about types can only ever be partial, and Julia is not ahead to time compiled, so any errors could not be reported til the code is executing anyway.\n",
    "Julia also don't have the formal notion of an interface or contract assert in the first place.\n",
    "This lack does have a nice advantage in how duck-typing can allow for simpler compositionality -- by assuming it works and implementing only the parts that don't.\n",
    "See my earlier [post on this](https://white.ucc.asn.au/2020/02/09/whycompositionaljulia.html#multiple-dispatch--duck-typing).\n",
    "_Errors will be thrown eventually, when you do something unsupported.\n",
    "\n",
    "The reason one I do think holds some water, is for understandability.\n",
    "Putting in type-constraints on function arguments makes them easier to understand.\n",
    "This is true, it is much clear what: `apply_inner(f::Function, c::Vector{<:Vector})` does, vs `apply_inner(f, c)` does.\n",
    "But we have other tools to make this clear.\n",
    "For a start better names, e.g. `apply_inner(func, list_of_lists)`.\n",
    "As well as documentation: we can and should, put a docstring on most functions.\n",
    "But I do concede sometimes on this, especially when following the norms of a particular code-base.\n",
    "I will on occation add a type-constraint because I feel like it does clarify things a lot though."
   ]
  },
  {
   "cell_type": "markdown",
   "metadata": {},
   "source": [
    "### Examples\n",
    "\n",
    "There are many examples of this; and the problems it causes."
   ]
  },
  {
   "cell_type": "markdown",
   "metadata": {},
   "source": [
    "### Requiring `AbstractVector` when one just needs an iterator\n",
    "\n",
    "I think this one is common when people feel uncomfortable that nothing has asserted that their input was iterable, since Julia does not have a type to represent being iterable.\n",
    "But thats not actually a problem as the assertion will occur when you try to iterate it -- no need to pre-empt it."
   ]
  },
  {
   "cell_type": "code",
   "execution_count": 6,
   "metadata": {},
   "outputs": [
    {
     "data": {
      "text/plain": [
       "my_average (generic function with 1 method)"
      ]
     },
     "execution_count": 6,
     "metadata": {},
     "output_type": "execute_result"
    }
   ],
   "source": [
    "function my_average(xs::AbstractVector)\n",
    "    len=0\n",
    "    total = zero(eltype(xs))\n",
    "    for x in xs\n",
    "        len+=1\n",
    "        total += x\n",
    "    end\n",
    "    return total/len\n",
    "end"
   ]
  },
  {
   "cell_type": "markdown",
   "metadata": {},
   "source": [
    "What goes wrong? There are useful iterators that do not subtype `AbstractVector`.\n",
    "And converting them into `AbstractVector` via `collect(itr)` would allocate unnecessary memory, which we strive to avoid in high performance code."
   ]
  },
  {
   "cell_type": "code",
   "execution_count": 13,
   "metadata": {},
   "outputs": [
    {
     "ename": "MethodError",
     "evalue": "MethodError: no method matching my_average(::Tuple{Int64,Int64,Int64})\nClosest candidates are:\n  my_average(!Matched::AbstractArray{T,1} where T) at In[6]:2",
     "output_type": "error",
     "traceback": [
      "MethodError: no method matching my_average(::Tuple{Int64,Int64,Int64})\nClosest candidates are:\n  my_average(!Matched::AbstractArray{T,1} where T) at In[6]:2",
      "",
      "Stacktrace:",
      " [1] top-level scope at In[13]:1"
     ]
    }
   ],
   "source": [
    "my_average((1, 3, 4))"
   ]
  },
  {
   "cell_type": "code",
   "execution_count": 9,
   "metadata": {},
   "outputs": [
    {
     "ename": "MethodError",
     "evalue": "MethodError: no method matching my_average(::Base.SkipMissing{Array{Union{Missing, Int64},1}})\nClosest candidates are:\n  my_average(!Matched::AbstractArray{T,1} where T) at In[6]:2",
     "output_type": "error",
     "traceback": [
      "MethodError: no method matching my_average(::Base.SkipMissing{Array{Union{Missing, Int64},1}})\nClosest candidates are:\n  my_average(!Matched::AbstractArray{T,1} where T) at In[6]:2",
      "",
      "Stacktrace:",
      " [1] top-level scope at In[9]:2"
     ]
    }
   ],
   "source": [
    "data = [1, 2, 3, missing, 5, 4, 3, 2, 1]\n",
    "my_average(skipmissing(data))"
   ]
  },
  {
   "cell_type": "markdown",
   "metadata": {},
   "source": [
    "### Dispatching on  `AbstractVector{<:Real}` rather than `AbstractVector`\n",
    "\n",
    "*\\*old man here, sitting in a rocking chair\\**\n",
    "*Back in my day we didn't have none of this fancy triangular dispatch, and we were just fine.*\n",
    "\n",
    "But seriously, the ability to dispatch on the the fact that your type parameter was some subtype of an abstract type, was not introduced into the language until Julia 0.6; and before then people got on just fine.\n",
    "You actually need this very rarely, because if types are used only for dispatch, you must have both\n",
    "`AbstractVector{<:Real}` and some other alternative like `AbstractVector{<:AbstractString}` or plain `AbstractVector` also being dispatched on.\n",
    "And its is generally pretty weird to have the need for a different implementation depending on the element type.\n",
    "(It happens, but you basically need to be implementing performance optimizations)"
   ]
  },
  {
   "cell_type": "code",
   "execution_count": 36,
   "metadata": {},
   "outputs": [
    {
     "data": {
      "text/plain": [
       "terrible_norm (generic function with 1 method)"
      ]
     },
     "execution_count": 36,
     "metadata": {},
     "output_type": "execute_result"
    }
   ],
   "source": [
    "using BenchmarkTools\n",
    "terrible_norm(x::AbstractVector{<:Real}) = only(reshape(x, 1, :) * x)"
   ]
  },
  {
   "cell_type": "code",
   "execution_count": 39,
   "metadata": {},
   "outputs": [
    {
     "data": {
      "text/plain": [
       "385"
      ]
     },
     "execution_count": 39,
     "metadata": {},
     "output_type": "execute_result"
    }
   ],
   "source": [
    "terrible_norm(1:10)"
   ]
  },
  {
   "cell_type": "markdown",
   "metadata": {},
   "source": [
    "The thing that can go wrong here is that there are many kinds of element types that might only hold real numbers, but that do not have that as a type parameter.\n",
    "\n",
    "For example, the if the data ever contained `missing` values (common in data science),\n",
    "but you filtered them out somehow, the array will still be typed `Union{Missing, T}`"
   ]
  },
  {
   "cell_type": "code",
   "execution_count": 45,
   "metadata": {},
   "outputs": [
    {
     "ename": "MethodError",
     "evalue": "MethodError: no method matching terrible_norm(::SubArray{Union{Missing, Int64},1,Array{Union{Missing, Int64},1},Tuple{UnitRange{Int64}},true})\nClosest candidates are:\n  terrible_norm(!Matched::AbstractArray{#s6,1} where #s6<:Real) at In[36]:2",
     "output_type": "error",
     "traceback": [
      "MethodError: no method matching terrible_norm(::SubArray{Union{Missing, Int64},1,Array{Union{Missing, Int64},1},Tuple{UnitRange{Int64}},true})\nClosest candidates are:\n  terrible_norm(!Matched::AbstractArray{#s6,1} where #s6<:Real) at In[36]:2",
      "",
      "Stacktrace:",
      " [1] top-level scope at In[45]:2"
     ]
    }
   ],
   "source": [
    "data = [1, 2, 3, missing]\n",
    "terrible_norm(@view(data[1:3]))"
   ]
  },
  {
   "cell_type": "markdown",
   "metadata": {},
   "source": [
    "Or from source that *could* contrain non-Real values, but that actually doesn't"
   ]
  },
  {
   "cell_type": "markdown",
   "metadata": {},
   "source": [
    "let\n",
    "    x = []\n",
    "    for ii in 1:10\n",
    "        push!(x, ii)\n",
    "    end\n",
    "    \n",
    "    terrible_norm(x)\n",
    "end"
   ]
  },
  {
   "cell_type": "markdown",
   "metadata": {},
   "source": [
    "### Dispatching on  `Function`\n"
   ]
  },
  {
   "cell_type": "code",
   "execution_count": 74,
   "metadata": {},
   "outputs": [
    {
     "data": {
      "text/plain": [
       "apply_inner (generic function with 1 method)"
      ]
     },
     "execution_count": 74,
     "metadata": {},
     "output_type": "execute_result"
    }
   ],
   "source": [
    "apply_inner(func::Function, xss) = [[func(x) for x in xs] for xs in xss]"
   ]
  },
  {
   "cell_type": "code",
   "execution_count": 77,
   "metadata": {},
   "outputs": [
    {
     "data": {
      "text/plain": [
       "2-element Array{Array{Float64,1},1}:\n",
       " [0.0, 1.0]\n",
       " [1.0, 1.0, 2.0]"
      ]
     },
     "execution_count": 77,
     "metadata": {},
     "output_type": "execute_result"
    }
   ],
   "source": [
    "apply_inner(round, [[0.2, 0.9], [1.2, 1.3, 1.6]])"
   ]
  },
  {
   "cell_type": "markdown",
   "metadata": {},
   "source": [
    "But this doesn't work on callable objects that don't subtype `Function`.\n",
    "Which include constructors."
   ]
  },
  {
   "cell_type": "code",
   "execution_count": 82,
   "metadata": {},
   "outputs": [
    {
     "ename": "MethodError",
     "evalue": "MethodError: no method matching apply_inner(::Type{Float32}, ::Array{Array{Float64,1},1})\nClosest candidates are:\n  apply_inner(!Matched::Function, ::Any) at In[74]:1",
     "output_type": "error",
     "traceback": [
      "MethodError: no method matching apply_inner(::Type{Float32}, ::Array{Array{Float64,1},1})\nClosest candidates are:\n  apply_inner(!Matched::Function, ::Any) at In[74]:1",
      "",
      "Stacktrace:",
      " [1] top-level scope at In[82]:1"
     ]
    }
   ],
   "source": [
    "apply_inner(Float32, [[0.2, 0.9], [1.2, 1.3, 1.6]])"
   ]
  },
  {
   "cell_type": "markdown",
   "metadata": {},
   "source": [
    "A workaround to that is to use `Base.Callable` which is a `Union{Type, Function}` so does functions and constructors.\n",
    "However, this will still miss-out on other callable objects, like `DiffEqBase.ODESolution` and `Flux.Chain`.\n",
    "(As `Base.Callable` is not exported, it is also probably not part of the intended public API of Julia.)"
   ]
  },
  {
   "cell_type": "markdown",
   "metadata": {},
   "source": [
    "### Others\n",
    "There are a few others I have seen. I\n",
    "Generally one should not dispatch on:\n",
    " - `DenseArray` it is **not** the complement of sparse array. There are lots of subtypes of `AbstractArray`, most of which are not obviously sparse, nor are they subtypes of `DenseArray`. In particular wrapper array types that can wrap dense or sparse do not subtype it, e.g. `Symmetric`\n",
    " - `AbstractFloat`, can almost always be relaxed to `Real`\n",
    " - `DataType`: this will excude the type of `Union`s and `UnionAll`s, so use `Type` instead, unless that is the goal.\n"
   ]
  },
  {
   "cell_type": "code",
   "execution_count": null,
   "metadata": {},
   "outputs": [],
   "source": []
  }
 ],
 "metadata": {
  "@webio": {
   "lastCommId": null,
   "lastKernelId": null
  },
  "kernelspec": {
   "display_name": "Julia 1.4.0",
   "language": "julia",
   "name": "julia-1.4"
  },
  "language_info": {
   "file_extension": ".jl",
   "mimetype": "application/julia",
   "name": "julia",
   "version": "1.4.0"
  }
 },
 "nbformat": 4,
 "nbformat_minor": 2
}
