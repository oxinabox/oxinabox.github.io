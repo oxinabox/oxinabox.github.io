{
 "cells": [
  {
   "cell_type": "markdown",
   "metadata": {},
   "source": [
    "I wanted to talk about using Coroutines for lazy sequences in julia.\n",
    "Because I am rewriting CorpusLoaders.jl to do so in a nondeprecated way.\n",
    "\n",
    "This basically corresponds to C# and Python's `yield` return statements.\n",
    "(Many other languages also have this but I think they are the most well known).\n",
    "\n",
    "\n",
    "The goal of using lazy sequences  is to be able to iterate though something,\n",
    "without having to load it all into memory.\n",
    "Since you are only going to be processing it a single element at a time.\n",
    "Potentially for some kind of moving average, or for acausal language modelling,\n",
    "a single window of elements at a time.\n",
    "Point is, at no point do I ever want to load all 20Gb of wikipedia into my program,\n",
    "nor all 100Gb of Amazon product reviews.\n",
    "\n",
    "And I especially do not want to load $\\inf$ bytes of every prime number.\n",
    "\n",
    "<!--more-->"
   ]
  },
  {
   "cell_type": "markdown",
   "metadata": {},
   "source": [
    "First some definitions.\n",
    "\n",
    "####  Iterators\n",
    "An iterable is in essence something can processed sequentially.\n",
    "The iterator is the tool uses to do this.\n",
    "Sometimes the terms are uses casually and interchangably.\n",
    "They exact implementation varies from language to language a surprising amount.\n",
    "Though the core idea remains the same.\n",
    "\n",
    "In julia they are define by (perhaps the most formal of all) [informal interfaces](https://docs.julialang.org/en/stable/manual/interfaces/#man-interface-iteration-1).\n",
    "In short iterators in julia are defined by a `start` function which takes an iterable,\n",
    "and gives back the initial state for an iterator upon it.\n",
    "a `next` function that takes an iterable and state and gives back the next value, and a new state,\n",
    "and a `done` function that takes the same and returns a boolean sayign if there iteratator is complete.\n",
    "\n",
    "They also have Holy traits to define what eltype they return and how long they are.\n",
    "Not going to go in to this here, but I will note that specifying the `elype` is a feature  channels have that the 0.5 producer based code does not.\n",
    "and that 0.6 generators don't have either right now.\n",
    "\n",
    "Honestly if you are not familar with iterators the rest of this probably isn't going to make much sense.\n",
    "\n",
    "\n",
    "#### Coroutines.\n",
    "Coroutines are the generalisation of Functions (subroutines),\n",
    "to have have multiple entry and exit points.\n",
    "In julia they are called Task.\n",
    "They are most notable for being used in the implementation of `@async` etc.\n",
    "For our purposes,\n",
    "they have the ability to yield up control to another coroutine;\n",
    "and when they get control passed back to them, they resume where they left off.\n",
    "\n",
    "Its worth noting that they are not threads.\n",
    "They do not themselves ever cause more than 1 thing to happen at a time on a computer.\n",
    "Though there are similarities in how they operate.\n",
    "\n",
    "Coroutines can be uses to implement iterators as we will show below\n"
   ]
  },
  {
   "cell_type": "markdown",
   "metadata": {},
   "source": [
    "## Examples\n",
    "\n",
    "I think this is best explained by examples.\n",
    "So here are 3."
   ]
  },
  {
   "cell_type": "code",
   "execution_count": 1,
   "metadata": {
    "collapsed": false
   },
   "outputs": [],
   "source": [
    "using BenchmarkTools\n",
    "using ResumableFunctions\n",
    "using MacroTools"
   ]
  },
  {
   "cell_type": "markdown",
   "metadata": {},
   "source": [
    "## Fibonacci sequence\n",
    "\n",
    "We will start, just to explain the concepts with the fibonacci sequence.\n",
    "We are not going to touch the slow recussive definition (recall that julia does not have tail call recursion).\n",
    "That is not the point we want to illustrate here.\n"
   ]
  },
  {
   "cell_type": "markdown",
   "metadata": {},
   "source": [
    "### Fibonacci Array\n",
    "\n",
    "To begin with an array based methods.\n",
    "This of course does not actually satisfy our goal of being an infinite sequence.\n",
    "You must tell it how many to generate in advance.\n",
    "As we will see later it is absurdly fast compaired to any of the lazy methods.\n",
    "It does however use the full amount of RAM it ever needs all the time.\n",
    "Where as the lazy methods that follow only need at any point a fixed amount of RAM.\n",
    "This doesn't matter for Fibonacci, as it doesn't use much memory.\n",
    "It would however matter if you were loading hundreds of gigabytes of machine learning data.\n",
    "\n",
    "As a side note  fibonacci numbers very quickly overflow an `Int64` long before it can get to the 10_000. but that is ok for out demonstration purposes"
   ]
  },
  {
   "cell_type": "code",
   "execution_count": 2,
   "metadata": {
    "collapsed": false
   },
   "outputs": [
    {
     "data": {
      "text/plain": [
       "fib_array (generic function with 1 method)"
      ]
     },
     "execution_count": 2,
     "metadata": {},
     "output_type": "execute_result"
    }
   ],
   "source": [
    "function fib_array(n)\n",
    "    ret = Vector{Int}(n)\n",
    "    prev=0\n",
    "    cur=1\n",
    "    for ii in 1:n\n",
    "        @inbounds ret[ii] = cur\n",
    "        prev, cur = (cur, prev+cur) # nice little avoiding a temp here\n",
    "    end\n",
    "    ret\n",
    "end"
   ]
  },
  {
   "cell_type": "code",
   "execution_count": 3,
   "metadata": {
    "collapsed": false
   },
   "outputs": [
    {
     "name": "stdout",
     "output_type": "stream",
     "text": [
      "  139.434 μs"
     ]
    }
   ],
   "source": [
    "@btime collect(Iterators.take(fib_array(10_000), 10_000));"
   ]
  },
  {
   "cell_type": "markdown",
   "metadata": {},
   "source": [
    "### Fibonancii Producer Task (deprecated)\n",
    "\n",
    "Tasks in 0.5 used to have a kind of built in functionality similar to `Channel/put!`.\n",
    "(They still kind of do at a lower level, but it is no longer exposed as an iterable)\n",
    "This was depreated in 0.6 at [#19841](https://github.com/JuliaLang/julia/pull/19841),\n",
    "and is not in 0.7-dev.\n",
    "Here for reference is what it would look like."
   ]
  },
  {
   "cell_type": "code",
   "execution_count": 4,
   "metadata": {
    "collapsed": false
   },
   "outputs": [
    {
     "data": {
      "text/plain": [
       "fib_task (generic function with 1 method)"
      ]
     },
     "execution_count": 4,
     "metadata": {},
     "output_type": "execute_result"
    }
   ],
   "source": [
    "function fib_task()\n",
    "    prev=0\n",
    "    cur=1\n",
    "    Task() do\n",
    "        while(true)\n",
    "            produce(cur)\n",
    "            prev, cur = (cur, prev+cur) # nice little avoiding a temp here\n",
    "        end\n",
    "    end\n",
    "end"
   ]
  },
  {
   "cell_type": "markdown",
   "metadata": {},
   "source": [
    "It is actually easier to explain than the newer Channels way so I will explain it first.\n",
    "In the main task there is (will be) an iterator.\n",
    "When `next` is called on that iterator,\n",
    "the main task calls `consume`, which yields control to a Task which is running the code in the do block.\n",
    "When that code hits a `produce` it yields control back to the main iterator Task, returning the value from produce to the `consume` call, which results n `next` returning that value.\n",
    "When `next` is called again in the main task, it will again call `consume` which will result in the control being yielded back to the generating task, which will continue on from where it left, immediately after the `produce` call.\n",
    "This is how coroutines are used for generating data.\n",
    "As they can pause midway through a function return a result and contine after when asked to.\n",
    "\n",
    "\n",
    "I'm not displaying its timings here as it basically shoots a giant pile of deprecation warnings.\n",
    "It is about 5 seconds, though some of that slowness might be attributed to the deprecation warnings slowing things down."
   ]
  },
  {
   "cell_type": "markdown",
   "metadata": {},
   "source": [
    "### Fibonacci Channel\n",
    "This is what we are really talking about.\n",
    "From a pure logic standpoint on can think of this as functioning just like the task.\n",
    "Where `put!` triggers a yeild to the main iterator task, and `take!` (inside `next`) triggers a yield back down the the generating task.\n",
    "What is actually happening is similar, but with a buffer involved.\n",
    "\n",
    "\n",
    "The function passed to a channel runs its own Task until it tries to do a `put!` when the buffer is full.\n",
    "When that happens it yields control back to the main Task, and \"sleeps\" the generating task.\n",
    "Which durng iteration will `take!` an element off the buffer,\n",
    "which will rewake the Task that wants to put things on the buffer (it `@scheduals` it to act).\n",
    "But it will not nesciarily get it to run straight away,\n",
    "the main (iterator) Task does not yield until the buffer is empty and it can't do a `take!`.\n",
    "(though something else, like IO might triger a yield, but not in this code)."
   ]
  },
  {
   "cell_type": "code",
   "execution_count": 5,
   "metadata": {
    "collapsed": false
   },
   "outputs": [
    {
     "data": {
      "text/plain": [
       "fib_ch (generic function with 2 methods)"
      ]
     },
     "execution_count": 5,
     "metadata": {},
     "output_type": "execute_result"
    }
   ],
   "source": [
    "function fib_ch(buff=1)\n",
    "    prev=0\n",
    "    cur=1\n",
    "    Channel(ctype=Int, csize=buff) do c\n",
    "        while(true)\n",
    "            put!(c, cur)\n",
    "            prev, cur = (cur, prev+cur) # nice little avoiding a temp here\n",
    "        end\n",
    "    end\n",
    "end"
   ]
  },
  {
   "cell_type": "code",
   "execution_count": 6,
   "metadata": {
    "collapsed": false
   },
   "outputs": [
    {
     "name": "stdout",
     "output_type": "stream",
     "text": [
      "  34.581 ms (60016 allocations: 1.48 MiB)\n",
      "  6.640 ms (42037 allocations: 1.20 MiB)\n",
      "  3.554 ms (40613 allocations: 1.19 MiB)\n",
      "  5.671 ms (60030 allocations: 1.98 MiB)\n"
     ]
    }
   ],
   "source": [
    "@btime collect(Iterators.take(fib_ch(1), 10_000));\n",
    "@btime collect(Iterators.take(fib_ch(10), 10_000));\n",
    "@btime collect(Iterators.take(fib_ch(256), 10_000));\n",
    "@btime collect(Iterators.take(fib_ch(10_000), 10_000));"
   ]
  },
  {
   "cell_type": "markdown",
   "metadata": {},
   "source": [
    "It took me a little time to get my head around what the buffer was (because Task producer didn't use them).\n",
    "It retrospect is is obvious.\n",
    "It is a buffer.\n",
    "The point of the buffer from a practical point of view is that it means that there is less task switching.\n",
    "Modern CPU speeds work because the CPU is very efficient at running predictable code.\n",
    "Everything stays in cache, pipelining occurs, maybe even SIMD.\n",
    "Not to mention doing a task switch itself has an overhead.\n",
    "So the buffer lets that be avoided, while still avoiding doing all the (potentially infinite) amount of work that would be done in the array case.\n",
    "   \n",
    "The trade-off is in how big to make your buffer.\n",
    "Too small and you do task switching anyway, losing the advantages.\n",
    "Too large and you end up calculating more outputs than you will consume,\n",
    "and use a lot of memory at any point in time.\n",
    "\n",
    "I initially made the mistake of setting the buffer size to `typemax(Int64)`,\n",
    "which resulted in the code hanging, until I did an interupt with <kbd>Ctrl</kbd> + <kbd>C</kbd>.\n",
    "Which resulted it in completing normally with no errors.\n",
    "(because it killed the task, midway through filling the huge buffer, well after the points I needed were enqueued).\n",
    "\n",
    "For interest below is a plot of the timings with different buffer sizes."
   ]
  },
  {
   "cell_type": "code",
   "execution_count": 20,
   "metadata": {
    "collapsed": false
   },
   "outputs": [
    {
     "data": {
      "text/html": [
       "<?xml version=\"1.0\" encoding=\"utf-8\"?>\n",
       "<svg xmlns=\"http://www.w3.org/2000/svg\" xmlns:xlink=\"http://www.w3.org/1999/xlink\" width=\"600\" height=\"400\" viewBox=\"0 0 600 400\">\n",
       "<defs>\n",
       "  <clipPath id=\"clip00\">\n",
       "    <rect x=\"0\" y=\"0\" width=\"600\" height=\"400\"/>\n",
       "  </clipPath>\n",
       "</defs>\n",
       "<polygon clip-path=\"url(#clip3100)\" points=\"\n",
       "0,400 600,400 600,0 0,0 \n",
       "  \" fill=\"#ffffff\" fill-opacity=\"1\"/>\n",
       "<defs>\n",
       "  <clipPath id=\"clip01\">\n",
       "    <rect x=\"120\" y=\"0\" width=\"421\" height=\"400\"/>\n",
       "  </clipPath>\n",
       "</defs>\n",
       "<polygon clip-path=\"url(#clip3100)\" points=\"\n",
       "44.6753,360.065 580.315,360.065 580.315,31.4961 44.6753,31.4961 \n",
       "  \" fill=\"#ffffff\" fill-opacity=\"1\"/>\n",
       "<defs>\n",
       "  <clipPath id=\"clip02\">\n",
       "    <rect x=\"44\" y=\"31\" width=\"537\" height=\"330\"/>\n",
       "  </clipPath>\n",
       "</defs>\n",
       "<polyline clip-path=\"url(#clip3102)\" style=\"stroke:#000000; stroke-width:0.5; stroke-opacity:0.1; fill:none\" points=\"\n",
       "  44.6753,355.137 44.6753,36.4246 \n",
       "  \"/>\n",
       "<polyline clip-path=\"url(#clip3102)\" style=\"stroke:#000000; stroke-width:0.5; stroke-opacity:0.1; fill:none\" points=\"\n",
       "  163.299,355.137 163.299,36.4246 \n",
       "  \"/>\n",
       "<polyline clip-path=\"url(#clip3102)\" style=\"stroke:#000000; stroke-width:0.5; stroke-opacity:0.1; fill:none\" points=\"\n",
       "  281.923,355.137 281.923,36.4246 \n",
       "  \"/>\n",
       "<polyline clip-path=\"url(#clip3102)\" style=\"stroke:#000000; stroke-width:0.5; stroke-opacity:0.1; fill:none\" points=\"\n",
       "  400.547,355.137 400.547,36.4246 \n",
       "  \"/>\n",
       "<polyline clip-path=\"url(#clip3102)\" style=\"stroke:#000000; stroke-width:0.5; stroke-opacity:0.1; fill:none\" points=\"\n",
       "  519.17,355.137 519.17,36.4246 \n",
       "  \"/>\n",
       "<polyline clip-path=\"url(#clip3102)\" style=\"stroke:#000000; stroke-width:0.5; stroke-opacity:0.1; fill:none\" points=\"\n",
       "  52.7099,343.647 572.28,343.647 \n",
       "  \"/>\n",
       "<polyline clip-path=\"url(#clip3102)\" style=\"stroke:#000000; stroke-width:0.5; stroke-opacity:0.1; fill:none\" points=\"\n",
       "  52.7099,288.635 572.28,288.635 \n",
       "  \"/>\n",
       "<polyline clip-path=\"url(#clip3102)\" style=\"stroke:#000000; stroke-width:0.5; stroke-opacity:0.1; fill:none\" points=\"\n",
       "  52.7099,233.622 572.28,233.622 \n",
       "  \"/>\n",
       "<polyline clip-path=\"url(#clip3102)\" style=\"stroke:#000000; stroke-width:0.5; stroke-opacity:0.1; fill:none\" points=\"\n",
       "  52.7099,178.609 572.28,178.609 \n",
       "  \"/>\n",
       "<polyline clip-path=\"url(#clip3102)\" style=\"stroke:#000000; stroke-width:0.5; stroke-opacity:0.1; fill:none\" points=\"\n",
       "  52.7099,123.597 572.28,123.597 \n",
       "  \"/>\n",
       "<polyline clip-path=\"url(#clip3102)\" style=\"stroke:#000000; stroke-width:0.5; stroke-opacity:0.1; fill:none\" points=\"\n",
       "  52.7099,68.5839 572.28,68.5839 \n",
       "  \"/>\n",
       "<polyline clip-path=\"url(#clip3100)\" style=\"stroke:#000000; stroke-width:1; stroke-opacity:1; fill:none\" points=\"\n",
       "  44.6753,360.065 580.315,360.065 \n",
       "  \"/>\n",
       "<polyline clip-path=\"url(#clip3100)\" style=\"stroke:#000000; stroke-width:1; stroke-opacity:1; fill:none\" points=\"\n",
       "  44.6753,360.065 44.6753,31.4961 \n",
       "  \"/>\n",
       "<polyline clip-path=\"url(#clip3100)\" style=\"stroke:#000000; stroke-width:1; stroke-opacity:1; fill:none\" points=\"\n",
       "  44.6753,360.065 44.6753,355.137 \n",
       "  \"/>\n",
       "<polyline clip-path=\"url(#clip3100)\" style=\"stroke:#000000; stroke-width:1; stroke-opacity:1; fill:none\" points=\"\n",
       "  163.299,360.065 163.299,355.137 \n",
       "  \"/>\n",
       "<polyline clip-path=\"url(#clip3100)\" style=\"stroke:#000000; stroke-width:1; stroke-opacity:1; fill:none\" points=\"\n",
       "  281.923,360.065 281.923,355.137 \n",
       "  \"/>\n",
       "<polyline clip-path=\"url(#clip3100)\" style=\"stroke:#000000; stroke-width:1; stroke-opacity:1; fill:none\" points=\"\n",
       "  400.547,360.065 400.547,355.137 \n",
       "  \"/>\n",
       "<polyline clip-path=\"url(#clip3100)\" style=\"stroke:#000000; stroke-width:1; stroke-opacity:1; fill:none\" points=\"\n",
       "  519.17,360.065 519.17,355.137 \n",
       "  \"/>\n",
       "<polyline clip-path=\"url(#clip3100)\" style=\"stroke:#000000; stroke-width:1; stroke-opacity:1; fill:none\" points=\"\n",
       "  44.6753,343.647 52.7099,343.647 \n",
       "  \"/>\n",
       "<polyline clip-path=\"url(#clip3100)\" style=\"stroke:#000000; stroke-width:1; stroke-opacity:1; fill:none\" points=\"\n",
       "  44.6753,288.635 52.7099,288.635 \n",
       "  \"/>\n",
       "<polyline clip-path=\"url(#clip3100)\" style=\"stroke:#000000; stroke-width:1; stroke-opacity:1; fill:none\" points=\"\n",
       "  44.6753,233.622 52.7099,233.622 \n",
       "  \"/>\n",
       "<polyline clip-path=\"url(#clip3100)\" style=\"stroke:#000000; stroke-width:1; stroke-opacity:1; fill:none\" points=\"\n",
       "  44.6753,178.609 52.7099,178.609 \n",
       "  \"/>\n",
       "<polyline clip-path=\"url(#clip3100)\" style=\"stroke:#000000; stroke-width:1; stroke-opacity:1; fill:none\" points=\"\n",
       "  44.6753,123.597 52.7099,123.597 \n",
       "  \"/>\n",
       "<polyline clip-path=\"url(#clip3100)\" style=\"stroke:#000000; stroke-width:1; stroke-opacity:1; fill:none\" points=\"\n",
       "  44.6753,68.5839 52.7099,68.5839 \n",
       "  \"/>\n",
       "<g clip-path=\"url(#clip3100)\">\n",
       "<text style=\"fill:#000000; fill-opacity:1; font-family:Arial,Helvetica Neue,Helvetica,sans-serif; font-size:12; text-anchor:middle;\" transform=\"rotate(0, 44.6753, 373.865)\" x=\"44.6753\" y=\"373.865\">10^0</text>\n",
       "</g>\n",
       "<g clip-path=\"url(#clip3100)\">\n",
       "<text style=\"fill:#000000; fill-opacity:1; font-family:Arial,Helvetica Neue,Helvetica,sans-serif; font-size:12; text-anchor:middle;\" transform=\"rotate(0, 163.299, 373.865)\" x=\"163.299\" y=\"373.865\">10^1</text>\n",
       "</g>\n",
       "<g clip-path=\"url(#clip3100)\">\n",
       "<text style=\"fill:#000000; fill-opacity:1; font-family:Arial,Helvetica Neue,Helvetica,sans-serif; font-size:12; text-anchor:middle;\" transform=\"rotate(0, 281.923, 373.865)\" x=\"281.923\" y=\"373.865\">10^2</text>\n",
       "</g>\n",
       "<g clip-path=\"url(#clip3100)\">\n",
       "<text style=\"fill:#000000; fill-opacity:1; font-family:Arial,Helvetica Neue,Helvetica,sans-serif; font-size:12; text-anchor:middle;\" transform=\"rotate(0, 400.547, 373.865)\" x=\"400.547\" y=\"373.865\">10^3</text>\n",
       "</g>\n",
       "<g clip-path=\"url(#clip3100)\">\n",
       "<text style=\"fill:#000000; fill-opacity:1; font-family:Arial,Helvetica Neue,Helvetica,sans-serif; font-size:12; text-anchor:middle;\" transform=\"rotate(0, 519.17, 373.865)\" x=\"519.17\" y=\"373.865\">10^4</text>\n",
       "</g>\n",
       "<g clip-path=\"url(#clip3100)\">\n",
       "<text style=\"fill:#000000; fill-opacity:1; font-family:Arial,Helvetica Neue,Helvetica,sans-serif; font-size:12; text-anchor:end;\" transform=\"rotate(0, 38.6753, 348.147)\" x=\"38.6753\" y=\"348.147\">5</text>\n",
       "</g>\n",
       "<g clip-path=\"url(#clip3100)\">\n",
       "<text style=\"fill:#000000; fill-opacity:1; font-family:Arial,Helvetica Neue,Helvetica,sans-serif; font-size:12; text-anchor:end;\" transform=\"rotate(0, 38.6753, 293.135)\" x=\"38.6753\" y=\"293.135\">10</text>\n",
       "</g>\n",
       "<g clip-path=\"url(#clip3100)\">\n",
       "<text style=\"fill:#000000; fill-opacity:1; font-family:Arial,Helvetica Neue,Helvetica,sans-serif; font-size:12; text-anchor:end;\" transform=\"rotate(0, 38.6753, 238.122)\" x=\"38.6753\" y=\"238.122\">15</text>\n",
       "</g>\n",
       "<g clip-path=\"url(#clip3100)\">\n",
       "<text style=\"fill:#000000; fill-opacity:1; font-family:Arial,Helvetica Neue,Helvetica,sans-serif; font-size:12; text-anchor:end;\" transform=\"rotate(0, 38.6753, 183.109)\" x=\"38.6753\" y=\"183.109\">20</text>\n",
       "</g>\n",
       "<g clip-path=\"url(#clip3100)\">\n",
       "<text style=\"fill:#000000; fill-opacity:1; font-family:Arial,Helvetica Neue,Helvetica,sans-serif; font-size:12; text-anchor:end;\" transform=\"rotate(0, 38.6753, 128.097)\" x=\"38.6753\" y=\"128.097\">25</text>\n",
       "</g>\n",
       "<g clip-path=\"url(#clip3100)\">\n",
       "<text style=\"fill:#000000; fill-opacity:1; font-family:Arial,Helvetica Neue,Helvetica,sans-serif; font-size:12; text-anchor:end;\" transform=\"rotate(0, 38.6753, 73.0839)\" x=\"38.6753\" y=\"73.0839\">30</text>\n",
       "</g>\n",
       "<g clip-path=\"url(#clip3100)\">\n",
       "<text style=\"fill:#000000; fill-opacity:1; font-family:Arial,Helvetica Neue,Helvetica,sans-serif; font-size:21; text-anchor:middle;\" transform=\"rotate(0, 312.495, 18)\" x=\"312.495\" y=\"18\">Effect of varying channel buffer size for fib_ch</text>\n",
       "</g>\n",
       "<g clip-path=\"url(#clip3100)\">\n",
       "<text style=\"fill:#000000; fill-opacity:1; font-family:Arial,Helvetica Neue,Helvetica,sans-serif; font-size:16; text-anchor:middle;\" transform=\"rotate(0, 312.495, 397.6)\" x=\"312.495\" y=\"397.6\">Buffer Size</text>\n",
       "</g>\n",
       "<g clip-path=\"url(#clip3100)\">\n",
       "<text style=\"fill:#000000; fill-opacity:1; font-family:Arial,Helvetica Neue,Helvetica,sans-serif; font-size:16; text-anchor:middle;\" transform=\"rotate(-90, 14.4, 195.781)\" x=\"14.4\" y=\"195.781\">time (ms)</text>\n",
       "</g>\n",
       "<polyline clip-path=\"url(#clip3102)\" style=\"stroke:#009af9; stroke-width:1; stroke-opacity:1; fill:none\" points=\"\n",
       "  44.6753,31.4961 80.3846,195.87 \n",
       "  \"/>\n",
       "<polyline clip-path=\"url(#clip3102)\" style=\"stroke:#009af9; stroke-width:1; stroke-opacity:1; fill:none\" points=\"\n",
       "  80.3846,195.87 116.094,277.906 \n",
       "  \"/>\n",
       "<polyline clip-path=\"url(#clip3102)\" style=\"stroke:#009af9; stroke-width:1; stroke-opacity:1; fill:none\" points=\"\n",
       "  116.094,277.906 151.803,320.042 \n",
       "  \"/>\n",
       "<polyline clip-path=\"url(#clip3102)\" style=\"stroke:#009af9; stroke-width:1; stroke-opacity:1; fill:none\" points=\"\n",
       "  151.803,320.042 187.513,340.683 \n",
       "  \"/>\n",
       "<polyline clip-path=\"url(#clip3102)\" style=\"stroke:#009af9; stroke-width:1; stroke-opacity:1; fill:none\" points=\"\n",
       "  187.513,340.683 223.222,350.887 \n",
       "  \"/>\n",
       "<polyline clip-path=\"url(#clip3102)\" style=\"stroke:#009af9; stroke-width:1; stroke-opacity:1; fill:none\" points=\"\n",
       "  223.222,350.887 258.931,356.264 \n",
       "  \"/>\n",
       "<polyline clip-path=\"url(#clip3102)\" style=\"stroke:#009af9; stroke-width:1; stroke-opacity:1; fill:none\" points=\"\n",
       "  258.931,356.264 294.64,359.127 \n",
       "  \"/>\n",
       "<polyline clip-path=\"url(#clip3102)\" style=\"stroke:#009af9; stroke-width:1; stroke-opacity:1; fill:none\" points=\"\n",
       "  294.64,359.127 330.35,360.065 \n",
       "  \"/>\n",
       "<polyline clip-path=\"url(#clip3102)\" style=\"stroke:#009af9; stroke-width:1; stroke-opacity:1; fill:none\" points=\"\n",
       "  330.35,360.065 366.059,359.987 \n",
       "  \"/>\n",
       "<polyline clip-path=\"url(#clip3102)\" style=\"stroke:#009af9; stroke-width:1; stroke-opacity:1; fill:none\" points=\"\n",
       "  366.059,359.987 401.768,359.338 \n",
       "  \"/>\n",
       "<polyline clip-path=\"url(#clip3102)\" style=\"stroke:#009af9; stroke-width:1; stroke-opacity:1; fill:none\" points=\"\n",
       "  401.768,359.338 437.478,356.509 \n",
       "  \"/>\n",
       "<polyline clip-path=\"url(#clip3102)\" style=\"stroke:#009af9; stroke-width:1; stroke-opacity:1; fill:none\" points=\"\n",
       "  437.478,356.509 473.187,351.165 \n",
       "  \"/>\n",
       "<polyline clip-path=\"url(#clip3102)\" style=\"stroke:#009af9; stroke-width:1; stroke-opacity:1; fill:none\" points=\"\n",
       "  473.187,351.165 508.896,341.487 \n",
       "  \"/>\n",
       "<polyline clip-path=\"url(#clip3102)\" style=\"stroke:#009af9; stroke-width:1; stroke-opacity:1; fill:none\" points=\"\n",
       "  508.896,341.487 544.606,320.657 \n",
       "  \"/>\n",
       "<polyline clip-path=\"url(#clip3102)\" style=\"stroke:#009af9; stroke-width:1; stroke-opacity:1; fill:none\" points=\"\n",
       "  544.606,320.657 580.315,278.387 \n",
       "  \"/>\n",
       "<polygon clip-path=\"url(#clip3100)\" points=\"\n",
       "489.799,82.6161 562.315,82.6161 562.315,52.3761 489.799,52.3761 \n",
       "  \" fill=\"#ffffff\" fill-opacity=\"1\"/>\n",
       "<polyline clip-path=\"url(#clip3100)\" style=\"stroke:#000000; stroke-width:1; stroke-opacity:1; fill:none\" points=\"\n",
       "  489.799,82.6161 562.315,82.6161 562.315,52.3761 489.799,52.3761 489.799,82.6161 \n",
       "  \"/>\n",
       "<polyline clip-path=\"url(#clip3100)\" style=\"stroke:#009af9; stroke-width:1; stroke-opacity:1; fill:none\" points=\"\n",
       "  495.799,67.4961 531.799,67.4961 \n",
       "  \"/>\n",
       "<g clip-path=\"url(#clip3100)\">\n",
       "<text style=\"fill:#000000; fill-opacity:1; font-family:Arial,Helvetica Neue,Helvetica,sans-serif; font-size:12; text-anchor:start;\" transform=\"rotate(0, 537.799, 71.9961)\" x=\"537.799\" y=\"71.9961\">y1</text>\n",
       "</g>\n",
       "</svg>\n"
      ]
     },
     "execution_count": 20,
     "metadata": {},
     "output_type": "execute_result"
    }
   ],
   "source": [
    "times=Float64[]\n",
    "buff_sizes = 2.^(0:15)\n",
    "for buff in buff_sizes\n",
    "    time = @belapsed collect(Iterators.take(fib_ch($buff), 10_000));\n",
    "    push!(times, time)\n",
    "end\n",
    "\n",
    "using Plots; gr()\n",
    "plot(buff_sizes, times.*1000; xscale=:log10, title=\"Effect of varying channel buffer size for fib_ch\", ylabel=\"time (ms)\", xlabel=\"Buffer Size\")"
   ]
  },
  {
   "cell_type": "markdown",
   "metadata": {},
   "source": [
    "### Fibonacci ResumableFunction\n",
    "So channels are pretty great.\n",
    "Easy to write and nice.\n",
    "\n",
    "One problem is, as you can see compared to arrays they are very slow.\n",
    "Especially if you have a buffer that is too small or too large.\n",
    "They also allocate (and then free) a lot of memory.\n",
    "\n",
    "Enter [ResumableFunctions.jl](https://github.com/BenLauwens/ResumableFunctions.jl).\n",
    "\n",
    "ResumableFunctions lets you keep the same \"coroutines pausing after every output\" logical model.\n",
    "But in implementation, it is actually using macros to rewrite your code into a normal iterator,\n",
    "with a state machine (in the state) tracking where it is upto.\n",
    "The result of this is (normally) faster, more memory efficient code.\n",
    "\n",
    "It uses `@yield` instead of `put!` (or `produce`),\n",
    "and the whole function has to be wrapped in a `@resumable` macro, which does the rewrite.\n"
   ]
  },
  {
   "cell_type": "code",
   "execution_count": 8,
   "metadata": {
    "collapsed": false
   },
   "outputs": [
    {
     "data": {
      "text/plain": [
       "fib_rf (generic function with 1 method)"
      ]
     },
     "execution_count": 8,
     "metadata": {},
     "output_type": "execute_result"
    }
   ],
   "source": [
    "@resumable function fib_rf()\n",
    "    prev=0\n",
    "    cur=1\n",
    "    while(true)\n",
    "        @yield cur\n",
    "        prev, cur = (cur, prev+cur) # nice little avoiding a temp here\n",
    "    end\n",
    "end"
   ]
  },
  {
   "cell_type": "code",
   "execution_count": 9,
   "metadata": {
    "collapsed": false
   },
   "outputs": [
    {
     "name": "stdout",
     "output_type": "stream",
     "text": [
      "  989.016 μs (10003 allocations: 412.83 KiB)\n"
     ]
    }
   ],
   "source": [
    "@btime collect(Iterators.take(fib_rf(), 10_000));"
   ]
  },
  {
   "cell_type": "markdown",
   "metadata": {},
   "source": [
    "For interest this is what the code it is generating looks like:"
   ]
  },
  {
   "cell_type": "code",
   "execution_count": 10,
   "metadata": {
    "collapsed": false
   },
   "outputs": [
    {
     "data": {
      "text/plain": [
       "quote \n",
       "    begin \n",
       "        mutable struct ##835 <: ResumableFunctions.FiniteStateMachineIterator\n",
       "            _state::UInt8\n",
       "            prev::Int64\n",
       "            cur::Int64\n",
       "            function ##835(; )::##835\n",
       "                fsmi = new()\n",
       "                fsmi._state = 0x00\n",
       "                fsmi\n",
       "            end\n",
       "        end\n",
       "    end\n",
       "    function (_fsmi::##835)(_arg::Any=nothing; )::Any\n",
       "        _fsmi._state == 0x00 && $(Expr(:symbolicgoto, Symbol(\"#367#_STATE_0\")))\n",
       "        _fsmi._state == 0x01 && $(Expr(:symbolicgoto, Symbol(\"#366#_STATE_1\")))\n",
       "        error(\"@resumable function has stopped!\")\n",
       "        $(Expr(:symboliclabel, Symbol(\"#367#_STATE_0\")))\n",
       "        _fsmi._state = 0xff\n",
       "        _arg isa Exception && throw(_arg)\n",
       "        _fsmi.prev = 0\n",
       "        _fsmi.cur = 1\n",
       "        while true\n",
       "            _fsmi._state = 0x01\n",
       "            return _fsmi.cur\n",
       "            $(Expr(:symboliclabel, Symbol(\"#366#_STATE_1\")))\n",
       "            _fsmi._state = 0xff\n",
       "            _arg isa Exception && throw(_arg)\n",
       "            (_fsmi.prev, _fsmi.cur) = (_fsmi.cur, _fsmi.prev + _fsmi.cur)\n",
       "        end\n",
       "    end\n",
       "    function fib_rf(; )::##835\n",
       "        ##835()\n",
       "    end\n",
       "end"
      ]
     },
     "execution_count": 10,
     "metadata": {},
     "output_type": "execute_result"
    }
   ],
   "source": [
    "@macroexpand(\n",
    "        @resumable function fib_rf()\n",
    "            prev=0\n",
    "            cur=1\n",
    "            while(true)\n",
    "                @yield cur\n",
    "                prev, cur = (cur, prev+cur)\n",
    "            end\n",
    "        end\n",
    ")|> MacroTools.striplines\n"
   ]
  },
  {
   "cell_type": "markdown",
   "metadata": {},
   "source": [
    "Its pretty neat.\n",
    "those `$(Expr(:symbolicgoto...` are julia's good old fashion `@label` and `@goto` macros (just expanded because macroexpand).\n",
    "See there is no actual Task switching occuring in the expanded code.\n",
    "\n",
    "\n",
    "On difference compared to using Channels is that the final element returned from a ResumableFunction is the return value of the resumable function itself.\n",
    "In the case of infinite series (like `fib`) this doesnn't matter, since there is no late value.\n",
    "but for finite iterables it does.\n",
    "and it can make writing the resumable function difficult.\n",
    "(I'm not sure if it would be possible to modify `@resumable` in order to not do this.\n",
    "I think it would be nontrivial.)\n",
    "See [ResumableFunctions.jl/#2](https://github.com/BenLauwens/ResumableFunctions.jl/issues/2)."
   ]
  },
  {
   "cell_type": "markdown",
   "metadata": {},
   "source": [
    "### Generator Fibonacci\n",
    "\n",
    "Perhaps the most well known way of creating lazy sequences in julia are generator expressions.\n",
    "`(foo(x) for x in bar)`.\n",
    "They can also be written in do block functional form as shown below."
   ]
  },
  {
   "cell_type": "code",
   "execution_count": 11,
   "metadata": {
    "collapsed": false
   },
   "outputs": [
    {
     "data": {
      "text/plain": [
       "fib_gen (generic function with 1 method)"
      ]
     },
     "execution_count": 11,
     "metadata": {},
     "output_type": "execute_result"
    }
   ],
   "source": [
    "function fib_gen()\n",
    "    prev=0\n",
    "    cur=1\n",
    "    Base.Generator(Iterators.cycle(true)) do _\n",
    "        out = cur\n",
    "        prev, cur = (cur, prev+cur)\n",
    "        out\n",
    "    end\n",
    "end"
   ]
  },
  {
   "cell_type": "code",
   "execution_count": 22,
   "metadata": {
    "collapsed": false
   },
   "outputs": [
    {
     "name": "stdout",
     "output_type": "stream",
     "text": [
      "  6.339 ms (49983 allocations: 1.30 MiB)\n"
     ]
    }
   ],
   "source": [
    "@btime collect(Iterators.take(fib_gen(), 10_000));"
   ]
  },
  {
   "cell_type": "markdown",
   "metadata": {},
   "source": [
    "Generators are not as flexible as the coroutine technieques above.\n",
    "Because they can only have a single return statement.\n",
    "They are fine this time, because that is all you need for Fibonacci.\n",
    "The will not work for out next example though.\n",
    "(You can do it but it is complicated and I think kinda slow)"
   ]
  },
  {
   "cell_type": "markdown",
   "metadata": {},
   "source": [
    "## Interleave\n",
    "\n",
    "Interleave is a iterator operation.\n",
    "Interleave takes an set of iterables,\n",
    "and outputs one element from each in turn.\n",
    "It is basically the transpose of `IterTools.chain`.\n",
    "\n",
    "It is the basic of the logic programming language [Microkanren](http://webyrd.net/scheme-2013/papers/HemannMuKanren2013.pdf).\n",
    "It allows the language to have infinite pending parellel checks, but to terminate if any one branch find the answer.\n",
    "We are not going to implement microkanren today, though some people have made julia implementsions before.\n",
    "[MuKanren.jl](https://github.com/latticetower/MuKanren.jl), [LilKanren.jl](https://github.com/habemus-papadum/LilKanren.jl) (I've not tried these to see if they currently work. Today is not a day I need a logic programming language.).\n"
   ]
  },
  {
   "cell_type": "code",
   "execution_count": 13,
   "metadata": {
    "collapsed": false
   },
   "outputs": [
    {
     "data": {
      "text/plain": [
       "interleave_ch (generic function with 1 method)"
      ]
     },
     "execution_count": 13,
     "metadata": {},
     "output_type": "execute_result"
    }
   ],
   "source": [
    "function interleave_ch(xs...)\n",
    "    states = Base.start.(collect(xs))\n",
    "    Channel(csize=256, ctype=Union{eltype.(xs)...}) do c       \n",
    "        while true\n",
    "            alldone = true\n",
    "            for ii in eachindex(states)\n",
    "                if !Base.done(xs[ii], states[ii])\n",
    "                    alldone=false\n",
    "                    val, states[ii] = next(xs[ii], states[ii])\n",
    "                    put!(c, val)\n",
    "                end\n",
    "            end\n",
    "            alldone && break\n",
    "        end\n",
    "    end\n",
    "    \n",
    "end"
   ]
  },
  {
   "cell_type": "code",
   "execution_count": 23,
   "metadata": {
    "collapsed": false
   },
   "outputs": [
    {
     "name": "stdout",
     "output_type": "stream",
     "text": [
      "Union{Char, Int64}[1, 100, 'a', 1, 400, 'b', 2, 700, 'c', 3, 'd', 5, 'e', 8, 'f', 13, 'g', 21, 'h', 34]"
     ]
    }
   ],
   "source": [
    "collect(Iterators.take(interleave_ch(fib_ch(), 100:300:900, 'a':'z'), 20)) |> repr |>print"
   ]
  },
  {
   "cell_type": "markdown",
   "metadata": {},
   "source": [
    "The resumable function version of this is broken at time of the writing this blog post.\n",
    "See [ResumableFunctions.jl/#11](https://github.com/BenLauwens/ResumableFunctions.jl/issues/11)."
   ]
  },
  {
   "cell_type": "markdown",
   "metadata": {},
   "source": [
    "# Primes\n",
    "\n",
    "This example is not so good because even the iterator version has to keep all past outputs in memory.\n",
    "However, I'll show it off here,\n",
    "because its a kinda neat algorith for finding all primes.\n",
    "\n",
    "(The array version is also going to be faster, even faster in this case, because one can use the Prime Number Theorem to estimate how many primes are less than the number to check up to, and `sizehint!` the array the to be returned.)\n",
    "\n",
    "If a number is prime, then no prime (except the number itself), will divide it.\n",
    "Since if it has a divisor that is nonprime, then that divisor itself, will have a prime divisor that will divide the whole.\n",
    "So we only need to check primes as candidate divisors.\n",
    "Further: one does not need to check divisiability by all prior primes in order to check if a number $s$ is prime.\n",
    "One only needs to check divisibility by the primes less than or equal to $\\sqrt{x}$, since if $x=a \\times b$, for some $a>\\sqrt{x}$ that would imply that $b<\\sqrt{x}$, and so its composite nature would have been found when $b$ was checked as a divisor.\n",
    "\n"
   ]
  },
  {
   "cell_type": "markdown",
   "metadata": {},
   "source": [
    "### Primes Channel"
   ]
  },
  {
   "cell_type": "code",
   "execution_count": 15,
   "metadata": {
    "collapsed": false
   },
   "outputs": [
    {
     "data": {
      "text/plain": [
       "primes_ch (generic function with 1 method)"
      ]
     },
     "execution_count": 15,
     "metadata": {},
     "output_type": "execute_result"
    }
   ],
   "source": [
    "function primes_ch()\n",
    "    known_primes = BigInt[2]\n",
    "    Channel(csize=256, ctype=BigInt) do c\n",
    "        x = big\"3\"\n",
    "        put!(c, 2) # Output the first prime, as we already put int in the list of known primes\n",
    "        while true\n",
    "            for p in known_primes\n",
    "                if p > sqrt(x)\n",
    "                    # Must be prime as we have not found any divisor\n",
    "                    push!(known_primes, x)\n",
    "                    put!(c, x)\n",
    "                    break\n",
    "                end\n",
    "                if x % p == 0 # p divides\n",
    "                    # not prime\n",
    "                    break\n",
    "                end\n",
    "            end\n",
    "            x+=1            \n",
    "        end\n",
    "    end\n",
    "end"
   ]
  },
  {
   "cell_type": "code",
   "execution_count": 21,
   "metadata": {
    "collapsed": false
   },
   "outputs": [
    {
     "name": "stdout",
     "output_type": "stream",
     "text": [
      "BigInt[2, 3, 5, 7, 11, 13, 17, 19, 23, 29, 31, 37, 41, 43, 47, 53, 59, 61, 67, 71, 73, 79, 83, 89, 97, 101, 103, 107, 109, 113, 127, 131, 137, 139, 149, 151, 157, 163, 167, 173, 179, 181, 191, 193, 197, 199, 211, 223, 227, 229, 233, 239, 241, 251, 257, 263, 269, 271, 277, 281, 283, 293, 307, 311, 313, 317, 331, 337, 347, 349, 353, 359, 367, 373, 379, 383, 389, 397, 401, 409, 419, 421, 431, 433, 439, 443, 449, 457, 461, 463, 467, 479, 487, 491, 499, 503, 509, 521, 523, 541]"
     ]
    }
   ],
   "source": [
    "collect(Iterators.take(primes_ch(), 100)) |> repr |> print"
   ]
  },
  {
   "cell_type": "code",
   "execution_count": 17,
   "metadata": {
    "collapsed": false
   },
   "outputs": [
    {
     "name": "stdout",
     "output_type": "stream",
     "text": [
      "  56.644 ms (354943 allocations: 13.77 MiB)\n"
     ]
    }
   ],
   "source": [
    "@btime collect(Iterators.take(primes_ch(), 1000));"
   ]
  },
  {
   "cell_type": "markdown",
   "metadata": {},
   "source": [
    "### Primes Resumable Function"
   ]
  },
  {
   "cell_type": "code",
   "execution_count": 18,
   "metadata": {
    "collapsed": false
   },
   "outputs": [
    {
     "data": {
      "text/plain": [
       "primes_rf (generic function with 1 method)"
      ]
     },
     "execution_count": 18,
     "metadata": {},
     "output_type": "execute_result"
    }
   ],
   "source": [
    "@resumable function primes_rf()\n",
    "    known_primes = BigInt[2]\n",
    "    x = big\"3\"\n",
    "    @yield big\"2\" # Output the first prime, as we already put int in the list of known primes\n",
    "    while true\n",
    "        for p in known_primes\n",
    "            if p > sqrt(x)\n",
    "                # Must be prime as we have not found any divisor\n",
    "                push!(known_primes, x)\n",
    "                @yield x\n",
    "                break\n",
    "            end\n",
    "            if x % p == 0 # p divides\n",
    "                # not prime\n",
    "                break\n",
    "            end\n",
    "        end\n",
    "        x+=1            \n",
    "    end\n",
    "\n",
    "end"
   ]
  },
  {
   "cell_type": "code",
   "execution_count": 24,
   "metadata": {
    "collapsed": false
   },
   "outputs": [
    {
     "name": "stdout",
     "output_type": "stream",
     "text": [
      "  107.033 ms (365256 allocations: 13.28 MiB)\n"
     ]
    }
   ],
   "source": [
    "@btime collect(Iterators.take(primes_rf(), 1000));"
   ]
  },
  {
   "cell_type": "markdown",
   "metadata": {},
   "source": [
    "Interestingly, the channel version is 2x as fast as the ResumableFunctions version.\n",
    "I'm not sure why that is.\n",
    "Could be cache related.\n"
   ]
  },
  {
   "cell_type": "markdown",
   "metadata": {},
   "source": [
    "## Conclusions\n",
    "\n",
    "These coroutine based sequence generators are pretty great.\n",
    "They are much more flexible than generator expressions.\n",
    "They are much less annoying to write than custom iterators.\n",
    "They let you do things lazily to avoid using all your RAM.\n",
    "\n",
    "They'll probably get faster in future version of julia.\n",
    "[ResumableFunctions.jl](ResumableFunctions.jl) is a neat package to keep an eye on."
   ]
  }
 ],
 "metadata": {
  "kernelspec": {
   "display_name": "Julia 0.6.1",
   "language": "julia",
   "name": "julia-0.6"
  },
  "language_info": {
   "file_extension": ".jl",
   "mimetype": "application/julia",
   "name": "julia",
   "version": "0.6.1"
  }
 },
 "nbformat": 4,
 "nbformat_minor": 0
}
